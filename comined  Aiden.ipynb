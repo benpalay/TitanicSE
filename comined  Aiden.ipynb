{
 "cells": [
  {
   "cell_type": "markdown",
   "metadata": {},
   "source": [
    "# 1. Import libraries\n",
    "\n"
   ]
  },
  {
   "cell_type": "code",
   "execution_count": 1,
   "metadata": {},
   "outputs": [],
   "source": [
    "import pandas as pd\n",
    "import numpy as np\n",
    "import missingno\n",
    "from collections import Counter\n",
    "\n",
    "# Data visualisation\n",
    "import seaborn as sns\n",
    "import matplotlib.pyplot as plt\n",
    "\n",
    "# Machine learning models\n",
    "from sklearn.linear_model import LogisticRegression, Perceptron, SGDClassifier\n",
    "from sklearn.svm import SVC, LinearSVC\n",
    "from sklearn.ensemble import RandomForestClassifier\n",
    "from sklearn.neighbors import KNeighborsClassifier\n",
    "from sklearn.naive_bayes import GaussianNB\n",
    "from sklearn.tree import DecisionTreeClassifier\n",
    "from sklearn.neural_network import MLPClassifier\n",
    "from catboost import CatBoostClassifier\n",
    "\n",
    "from sklearn.ensemble import VotingClassifier\n",
    "\n",
    "# Model evaluation\n",
    "from sklearn.model_selection import cross_val_score\n",
    "\n",
    "# Hyperparameter tuning\n",
    "from sklearn.model_selection import GridSearchCV\n",
    "\n",
    "# Remove warnings\n",
    "import warnings\n",
    "warnings.filterwarnings('ignore')"
   ]
  },
  {
   "cell_type": "markdown",
   "metadata": {},
   "source": [
    "# 2. Import and read data\n",
    "\n",
    "Now import and read the 3 datasets as outlined in the introduction."
   ]
  },
  {
   "cell_type": "code",
   "execution_count": 2,
   "metadata": {},
   "outputs": [],
   "source": [
    "train = pd.read_csv(\"train.csv\")\n",
    "test = pd.read_csv(\"test.csv\")\n",
    "ss = pd.read_csv(\"gender_submission.csv\")\n",
    "\n",
    "train_copy = pd.read_csv(\"train.csv\")\n",
    "test_copy = pd.read_csv(\"test.csv\")\n"
   ]
  },
  {
   "cell_type": "markdown",
   "metadata": {},
   "source": [
    "Let's have a look at the datasets."
   ]
  },
  {
   "cell_type": "code",
   "execution_count": 3,
   "metadata": {
    "scrolled": true
   },
   "outputs": [
    {
     "data": {
      "text/html": [
       "<div>\n",
       "<style scoped>\n",
       "    .dataframe tbody tr th:only-of-type {\n",
       "        vertical-align: middle;\n",
       "    }\n",
       "\n",
       "    .dataframe tbody tr th {\n",
       "        vertical-align: top;\n",
       "    }\n",
       "\n",
       "    .dataframe thead th {\n",
       "        text-align: right;\n",
       "    }\n",
       "</style>\n",
       "<table border=\"1\" class=\"dataframe\">\n",
       "  <thead>\n",
       "    <tr style=\"text-align: right;\">\n",
       "      <th></th>\n",
       "      <th>PassengerId</th>\n",
       "      <th>Survived</th>\n",
       "      <th>Pclass</th>\n",
       "      <th>Name</th>\n",
       "      <th>Sex</th>\n",
       "      <th>Age</th>\n",
       "      <th>SibSp</th>\n",
       "      <th>Parch</th>\n",
       "      <th>Ticket</th>\n",
       "      <th>Fare</th>\n",
       "      <th>Cabin</th>\n",
       "      <th>Embarked</th>\n",
       "    </tr>\n",
       "  </thead>\n",
       "  <tbody>\n",
       "    <tr>\n",
       "      <th>0</th>\n",
       "      <td>1</td>\n",
       "      <td>0</td>\n",
       "      <td>3</td>\n",
       "      <td>Braund, Mr. Owen Harris</td>\n",
       "      <td>male</td>\n",
       "      <td>22.0</td>\n",
       "      <td>1</td>\n",
       "      <td>0</td>\n",
       "      <td>A/5 21171</td>\n",
       "      <td>7.2500</td>\n",
       "      <td>NaN</td>\n",
       "      <td>S</td>\n",
       "    </tr>\n",
       "    <tr>\n",
       "      <th>1</th>\n",
       "      <td>2</td>\n",
       "      <td>1</td>\n",
       "      <td>1</td>\n",
       "      <td>Cumings, Mrs. John Bradley (Florence Briggs Th...</td>\n",
       "      <td>female</td>\n",
       "      <td>38.0</td>\n",
       "      <td>1</td>\n",
       "      <td>0</td>\n",
       "      <td>PC 17599</td>\n",
       "      <td>71.2833</td>\n",
       "      <td>C85</td>\n",
       "      <td>C</td>\n",
       "    </tr>\n",
       "    <tr>\n",
       "      <th>2</th>\n",
       "      <td>3</td>\n",
       "      <td>1</td>\n",
       "      <td>3</td>\n",
       "      <td>Heikkinen, Miss. Laina</td>\n",
       "      <td>female</td>\n",
       "      <td>26.0</td>\n",
       "      <td>0</td>\n",
       "      <td>0</td>\n",
       "      <td>STON/O2. 3101282</td>\n",
       "      <td>7.9250</td>\n",
       "      <td>NaN</td>\n",
       "      <td>S</td>\n",
       "    </tr>\n",
       "    <tr>\n",
       "      <th>3</th>\n",
       "      <td>4</td>\n",
       "      <td>1</td>\n",
       "      <td>1</td>\n",
       "      <td>Futrelle, Mrs. Jacques Heath (Lily May Peel)</td>\n",
       "      <td>female</td>\n",
       "      <td>35.0</td>\n",
       "      <td>1</td>\n",
       "      <td>0</td>\n",
       "      <td>113803</td>\n",
       "      <td>53.1000</td>\n",
       "      <td>C123</td>\n",
       "      <td>S</td>\n",
       "    </tr>\n",
       "    <tr>\n",
       "      <th>4</th>\n",
       "      <td>5</td>\n",
       "      <td>0</td>\n",
       "      <td>3</td>\n",
       "      <td>Allen, Mr. William Henry</td>\n",
       "      <td>male</td>\n",
       "      <td>35.0</td>\n",
       "      <td>0</td>\n",
       "      <td>0</td>\n",
       "      <td>373450</td>\n",
       "      <td>8.0500</td>\n",
       "      <td>NaN</td>\n",
       "      <td>S</td>\n",
       "    </tr>\n",
       "  </tbody>\n",
       "</table>\n",
       "</div>"
      ],
      "text/plain": [
       "   PassengerId  Survived  Pclass  \\\n",
       "0            1         0       3   \n",
       "1            2         1       1   \n",
       "2            3         1       3   \n",
       "3            4         1       1   \n",
       "4            5         0       3   \n",
       "\n",
       "                                                Name     Sex   Age  SibSp  \\\n",
       "0                            Braund, Mr. Owen Harris    male  22.0      1   \n",
       "1  Cumings, Mrs. John Bradley (Florence Briggs Th...  female  38.0      1   \n",
       "2                             Heikkinen, Miss. Laina  female  26.0      0   \n",
       "3       Futrelle, Mrs. Jacques Heath (Lily May Peel)  female  35.0      1   \n",
       "4                           Allen, Mr. William Henry    male  35.0      0   \n",
       "\n",
       "   Parch            Ticket     Fare Cabin Embarked  \n",
       "0      0         A/5 21171   7.2500   NaN        S  \n",
       "1      0          PC 17599  71.2833   C85        C  \n",
       "2      0  STON/O2. 3101282   7.9250   NaN        S  \n",
       "3      0            113803  53.1000  C123        S  \n",
       "4      0            373450   8.0500   NaN        S  "
      ]
     },
     "execution_count": 3,
     "metadata": {},
     "output_type": "execute_result"
    }
   ],
   "source": [
    "train.head()"
   ]
  },
  {
   "cell_type": "code",
   "execution_count": 4,
   "metadata": {},
   "outputs": [
    {
     "data": {
      "text/html": [
       "<div>\n",
       "<style scoped>\n",
       "    .dataframe tbody tr th:only-of-type {\n",
       "        vertical-align: middle;\n",
       "    }\n",
       "\n",
       "    .dataframe tbody tr th {\n",
       "        vertical-align: top;\n",
       "    }\n",
       "\n",
       "    .dataframe thead th {\n",
       "        text-align: right;\n",
       "    }\n",
       "</style>\n",
       "<table border=\"1\" class=\"dataframe\">\n",
       "  <thead>\n",
       "    <tr style=\"text-align: right;\">\n",
       "      <th></th>\n",
       "      <th>PassengerId</th>\n",
       "      <th>Pclass</th>\n",
       "      <th>Name</th>\n",
       "      <th>Sex</th>\n",
       "      <th>Age</th>\n",
       "      <th>SibSp</th>\n",
       "      <th>Parch</th>\n",
       "      <th>Ticket</th>\n",
       "      <th>Fare</th>\n",
       "      <th>Cabin</th>\n",
       "      <th>Embarked</th>\n",
       "    </tr>\n",
       "  </thead>\n",
       "  <tbody>\n",
       "    <tr>\n",
       "      <th>0</th>\n",
       "      <td>892</td>\n",
       "      <td>3</td>\n",
       "      <td>Kelly, Mr. James</td>\n",
       "      <td>male</td>\n",
       "      <td>34.5</td>\n",
       "      <td>0</td>\n",
       "      <td>0</td>\n",
       "      <td>330911</td>\n",
       "      <td>7.8292</td>\n",
       "      <td>NaN</td>\n",
       "      <td>Q</td>\n",
       "    </tr>\n",
       "    <tr>\n",
       "      <th>1</th>\n",
       "      <td>893</td>\n",
       "      <td>3</td>\n",
       "      <td>Wilkes, Mrs. James (Ellen Needs)</td>\n",
       "      <td>female</td>\n",
       "      <td>47.0</td>\n",
       "      <td>1</td>\n",
       "      <td>0</td>\n",
       "      <td>363272</td>\n",
       "      <td>7.0000</td>\n",
       "      <td>NaN</td>\n",
       "      <td>S</td>\n",
       "    </tr>\n",
       "    <tr>\n",
       "      <th>2</th>\n",
       "      <td>894</td>\n",
       "      <td>2</td>\n",
       "      <td>Myles, Mr. Thomas Francis</td>\n",
       "      <td>male</td>\n",
       "      <td>62.0</td>\n",
       "      <td>0</td>\n",
       "      <td>0</td>\n",
       "      <td>240276</td>\n",
       "      <td>9.6875</td>\n",
       "      <td>NaN</td>\n",
       "      <td>Q</td>\n",
       "    </tr>\n",
       "    <tr>\n",
       "      <th>3</th>\n",
       "      <td>895</td>\n",
       "      <td>3</td>\n",
       "      <td>Wirz, Mr. Albert</td>\n",
       "      <td>male</td>\n",
       "      <td>27.0</td>\n",
       "      <td>0</td>\n",
       "      <td>0</td>\n",
       "      <td>315154</td>\n",
       "      <td>8.6625</td>\n",
       "      <td>NaN</td>\n",
       "      <td>S</td>\n",
       "    </tr>\n",
       "    <tr>\n",
       "      <th>4</th>\n",
       "      <td>896</td>\n",
       "      <td>3</td>\n",
       "      <td>Hirvonen, Mrs. Alexander (Helga E Lindqvist)</td>\n",
       "      <td>female</td>\n",
       "      <td>22.0</td>\n",
       "      <td>1</td>\n",
       "      <td>1</td>\n",
       "      <td>3101298</td>\n",
       "      <td>12.2875</td>\n",
       "      <td>NaN</td>\n",
       "      <td>S</td>\n",
       "    </tr>\n",
       "  </tbody>\n",
       "</table>\n",
       "</div>"
      ],
      "text/plain": [
       "   PassengerId  Pclass                                          Name     Sex  \\\n",
       "0          892       3                              Kelly, Mr. James    male   \n",
       "1          893       3              Wilkes, Mrs. James (Ellen Needs)  female   \n",
       "2          894       2                     Myles, Mr. Thomas Francis    male   \n",
       "3          895       3                              Wirz, Mr. Albert    male   \n",
       "4          896       3  Hirvonen, Mrs. Alexander (Helga E Lindqvist)  female   \n",
       "\n",
       "    Age  SibSp  Parch   Ticket     Fare Cabin Embarked  \n",
       "0  34.5      0      0   330911   7.8292   NaN        Q  \n",
       "1  47.0      1      0   363272   7.0000   NaN        S  \n",
       "2  62.0      0      0   240276   9.6875   NaN        Q  \n",
       "3  27.0      0      0   315154   8.6625   NaN        S  \n",
       "4  22.0      1      1  3101298  12.2875   NaN        S  "
      ]
     },
     "execution_count": 4,
     "metadata": {},
     "output_type": "execute_result"
    }
   ],
   "source": [
    "test.head()"
   ]
  },
  {
   "cell_type": "markdown",
   "metadata": {},
   "source": [
    "# 3. Data description"
   ]
  },
  {
   "cell_type": "markdown",
   "metadata": {},
   "source": [
    "Here I will outline the definitions of the columns in the titanic dataset. You can find this information under the [data](https://www.kaggle.com/c/titanic/data) tab of the competition page.\n",
    "\n",
    "- Survived: 0 = Did not survive, 1 = Survived\n",
    "\n",
    "- Pclass: Ticket class where 1 = First class, 2 = Second class, 3 = Third class. This can also be seen as a proxy for socio-economic status.\n",
    "\n",
    "- Sex: Male or female\n",
    "\n",
    "- Age: Age in years, fractional if less than 1\n",
    "\n",
    "- SibSp: Number of siblings or spouses aboard the titanic\n",
    "\n",
    "- Parch: Number of parents or children aboard the titanic\n",
    "\n",
    "- Ticket: Passenger ticket number\n",
    "\n",
    "- Fare: Passenger fare\n",
    "\n",
    "- Cabin: Cabin number\n",
    "\n",
    "- Embarked: Point of embarkation where C = Cherbourg, Q = Queenstown, S = Southampton\n",
    "\n",
    "\n",
    "The data has been split into two groups:\n",
    "- training set (train.csv)\n",
    "- test set (test.csv)\n",
    "\n",
    "The training set includes passengers survival status (also know as the ground truth from the titanic tragedy) which along with other features like gender, class, fare and pclass is used to create the machine learning model.\n",
    "\n",
    "The test set should be used to see how well the model performs on unseen data. The test set does not provide passengers survival status. We are going to use our model to predict passenger survival status.\n",
    "\n",
    "This is clearly a <font color='red'>__Classification problem__.</font> In predictive analytics, when the <font color='red'>__target__</font> is a categorical variable, we are in a category of tasks known as <font color='red'>__classification tasks.__</font>"
   ]
  },
  {
   "cell_type": "markdown",
   "metadata": {},
   "source": [
    "# 4. Exploratory Data Analysis (EDA)"
   ]
  },
  {
   "cell_type": "markdown",
   "metadata": {},
   "source": [
    "Exploratory data analysis is the process of visualising and analysing data to extract insights. In other words, we want to summarise important characteristics and trends in our data in order to gain a better understanding of our dataset.\n",
    "\n",
    "__Exploratory Data Analysis__ refers to the critical process of performing initial investigations on data so as to discover patterns, to spot anomalies, to test hypothesis and to check assumptions with the help of summary statistics and graphical representations.\n",
    "\n",
    "In summary, it's an approach to analyzing data sets to summarize their main characteristics, often with visual methods."
   ]
  },
  {
   "cell_type": "markdown",
   "metadata": {},
   "source": [
    "## 4.1 Data types,data shapes, missing data and summary statistics"
   ]
  },
  {
   "cell_type": "markdown",
   "metadata": {},
   "source": [
    "### 4.1.1.Data Types"
   ]
  },
  {
   "cell_type": "code",
   "execution_count": 5,
   "metadata": {},
   "outputs": [
    {
     "name": "stdout",
     "output_type": "stream",
     "text": [
      "<class 'pandas.core.frame.DataFrame'>\n",
      "RangeIndex: 891 entries, 0 to 890\n",
      "Data columns (total 12 columns):\n",
      " #   Column       Non-Null Count  Dtype  \n",
      "---  ------       --------------  -----  \n",
      " 0   PassengerId  891 non-null    int64  \n",
      " 1   Survived     891 non-null    int64  \n",
      " 2   Pclass       891 non-null    int64  \n",
      " 3   Name         891 non-null    object \n",
      " 4   Sex          891 non-null    object \n",
      " 5   Age          714 non-null    float64\n",
      " 6   SibSp        891 non-null    int64  \n",
      " 7   Parch        891 non-null    int64  \n",
      " 8   Ticket       891 non-null    object \n",
      " 9   Fare         891 non-null    float64\n",
      " 10  Cabin        204 non-null    object \n",
      " 11  Embarked     889 non-null    object \n",
      "dtypes: float64(2), int64(5), object(5)\n",
      "memory usage: 83.7+ KB\n"
     ]
    }
   ],
   "source": [
    "# Non-null count and data types of the training\n",
    "\n",
    "train.info()"
   ]
  },
  {
   "cell_type": "markdown",
   "metadata": {},
   "source": [
    "The training-set has 891 rows and 11 features + the __target variable (survived).__ 2 of the features are floats, 5 are integers and 5 are objects."
   ]
  },
  {
   "cell_type": "markdown",
   "metadata": {},
   "source": [
    "### 4.1.2.Data Shape"
   ]
  },
  {
   "cell_type": "code",
   "execution_count": 6,
   "metadata": {},
   "outputs": [
    {
     "name": "stdout",
     "output_type": "stream",
     "text": [
      "Training set shape:  (891, 12)\n",
      "Test set shape:  (418, 11)\n"
     ]
    }
   ],
   "source": [
    "print(\"Training set shape: \", train.shape)\n",
    "print(\"Test set shape: \", test.shape)"
   ]
  },
  {
   "cell_type": "markdown",
   "metadata": {},
   "source": [
    "Note that the test set has one column less than training set, the Survived column. This is because Survived is our response variable, or sometimes called a target variable. Our job is to analyse the data in the training set and predict the survival of the passengers in the test set.\n",
    "\n",
    "What about sample submission?"
   ]
  },
  {
   "cell_type": "markdown",
   "metadata": {},
   "source": [
    "### 4.1.3.Missing Values"
   ]
  },
  {
   "cell_type": "code",
   "execution_count": 7,
   "metadata": {},
   "outputs": [
    {
     "data": {
      "text/plain": [
       "Cabin          687\n",
       "Age            177\n",
       "Embarked         2\n",
       "PassengerId      0\n",
       "Survived         0\n",
       "Pclass           0\n",
       "Name             0\n",
       "Sex              0\n",
       "SibSp            0\n",
       "Parch            0\n",
       "Ticket           0\n",
       "Fare             0\n",
       "dtype: int64"
      ]
     },
     "execution_count": 7,
     "metadata": {},
     "output_type": "execute_result"
    }
   ],
   "source": [
    "# Missing data in training set by columns\n",
    "\n",
    "train.isnull().sum().sort_values(ascending = False)"
   ]
  },
  {
   "cell_type": "code",
   "execution_count": 8,
   "metadata": {},
   "outputs": [
    {
     "data": {
      "text/plain": [
       "Cabin          327\n",
       "Age             86\n",
       "Fare             1\n",
       "PassengerId      0\n",
       "Pclass           0\n",
       "Name             0\n",
       "Sex              0\n",
       "SibSp            0\n",
       "Parch            0\n",
       "Ticket           0\n",
       "Embarked         0\n",
       "dtype: int64"
      ]
     },
     "execution_count": 8,
     "metadata": {},
     "output_type": "execute_result"
    }
   ],
   "source": [
    "# Missing data in test set by columns \n",
    "\n",
    "test.isnull().sum().sort_values(ascending = False)"
   ]
  },
  {
   "cell_type": "code",
   "execution_count": 9,
   "metadata": {},
   "outputs": [
    {
     "data": {
      "text/html": [
       "<div>\n",
       "<style scoped>\n",
       "    .dataframe tbody tr th:only-of-type {\n",
       "        vertical-align: middle;\n",
       "    }\n",
       "\n",
       "    .dataframe tbody tr th {\n",
       "        vertical-align: top;\n",
       "    }\n",
       "\n",
       "    .dataframe thead th {\n",
       "        text-align: right;\n",
       "    }\n",
       "</style>\n",
       "<table border=\"1\" class=\"dataframe\">\n",
       "  <thead>\n",
       "    <tr style=\"text-align: right;\">\n",
       "      <th></th>\n",
       "      <th>Total</th>\n",
       "      <th>%</th>\n",
       "    </tr>\n",
       "  </thead>\n",
       "  <tbody>\n",
       "    <tr>\n",
       "      <th>Cabin</th>\n",
       "      <td>687</td>\n",
       "      <td>77.1</td>\n",
       "    </tr>\n",
       "    <tr>\n",
       "      <th>Age</th>\n",
       "      <td>177</td>\n",
       "      <td>19.9</td>\n",
       "    </tr>\n",
       "    <tr>\n",
       "      <th>Embarked</th>\n",
       "      <td>2</td>\n",
       "      <td>0.2</td>\n",
       "    </tr>\n",
       "    <tr>\n",
       "      <th>PassengerId</th>\n",
       "      <td>0</td>\n",
       "      <td>0.0</td>\n",
       "    </tr>\n",
       "    <tr>\n",
       "      <th>Survived</th>\n",
       "      <td>0</td>\n",
       "      <td>0.0</td>\n",
       "    </tr>\n",
       "    <tr>\n",
       "      <th>Pclass</th>\n",
       "      <td>0</td>\n",
       "      <td>0.0</td>\n",
       "    </tr>\n",
       "    <tr>\n",
       "      <th>Name</th>\n",
       "      <td>0</td>\n",
       "      <td>0.0</td>\n",
       "    </tr>\n",
       "    <tr>\n",
       "      <th>Sex</th>\n",
       "      <td>0</td>\n",
       "      <td>0.0</td>\n",
       "    </tr>\n",
       "    <tr>\n",
       "      <th>SibSp</th>\n",
       "      <td>0</td>\n",
       "      <td>0.0</td>\n",
       "    </tr>\n",
       "    <tr>\n",
       "      <th>Parch</th>\n",
       "      <td>0</td>\n",
       "      <td>0.0</td>\n",
       "    </tr>\n",
       "    <tr>\n",
       "      <th>Ticket</th>\n",
       "      <td>0</td>\n",
       "      <td>0.0</td>\n",
       "    </tr>\n",
       "    <tr>\n",
       "      <th>Fare</th>\n",
       "      <td>0</td>\n",
       "      <td>0.0</td>\n",
       "    </tr>\n",
       "  </tbody>\n",
       "</table>\n",
       "</div>"
      ],
      "text/plain": [
       "             Total     %\n",
       "Cabin          687  77.1\n",
       "Age            177  19.9\n",
       "Embarked         2   0.2\n",
       "PassengerId      0   0.0\n",
       "Survived         0   0.0\n",
       "Pclass           0   0.0\n",
       "Name             0   0.0\n",
       "Sex              0   0.0\n",
       "SibSp            0   0.0\n",
       "Parch            0   0.0\n",
       "Ticket           0   0.0\n",
       "Fare             0   0.0"
      ]
     },
     "execution_count": 9,
     "metadata": {},
     "output_type": "execute_result"
    }
   ],
   "source": [
    "#percentages of missing values in training data\n",
    "total = train.isnull().sum().sort_values(ascending=False)\n",
    "percent_1 = train.isnull().sum()/train.isnull().count()*100\n",
    "percent_2 = (round(percent_1, 1)).sort_values(ascending=False)\n",
    "missing_data = pd.concat([total, percent_2], axis=1, keys=['Total', '%'])\n",
    "missing_data.head(13)"
   ]
  },
  {
   "cell_type": "markdown",
   "metadata": {},
   "source": [
    "One can see that Age, Cabin and Embarked colummns in the training set have missing data, while Age, Fare and Cabin in the test set have missing data. \n",
    "\n",
    "In the training set:\n",
    "The __'Embarked'__ feature has only 2 missing values, which can easily be filled or dropped. It will be much more tricky to deal with the __‘Age’__ feature, which has 177 missing values. The __‘Cabin’__ feature needs further investigation, but it looks like we might want to drop it from the dataset since 77% is missing.\n",
    "\n",
    "(maybe talk about the extrapolation needed my cause issues)"
   ]
  },
  {
   "cell_type": "markdown",
   "metadata": {},
   "source": [
    "### 4.1.4.Statistics"
   ]
  },
  {
   "cell_type": "code",
   "execution_count": 10,
   "metadata": {},
   "outputs": [
    {
     "data": {
      "text/html": [
       "<div>\n",
       "<style scoped>\n",
       "    .dataframe tbody tr th:only-of-type {\n",
       "        vertical-align: middle;\n",
       "    }\n",
       "\n",
       "    .dataframe tbody tr th {\n",
       "        vertical-align: top;\n",
       "    }\n",
       "\n",
       "    .dataframe thead th {\n",
       "        text-align: right;\n",
       "    }\n",
       "</style>\n",
       "<table border=\"1\" class=\"dataframe\">\n",
       "  <thead>\n",
       "    <tr style=\"text-align: right;\">\n",
       "      <th></th>\n",
       "      <th>PassengerId</th>\n",
       "      <th>Survived</th>\n",
       "      <th>Pclass</th>\n",
       "      <th>Age</th>\n",
       "      <th>SibSp</th>\n",
       "      <th>Parch</th>\n",
       "      <th>Fare</th>\n",
       "    </tr>\n",
       "  </thead>\n",
       "  <tbody>\n",
       "    <tr>\n",
       "      <th>count</th>\n",
       "      <td>891.000000</td>\n",
       "      <td>891.000000</td>\n",
       "      <td>891.000000</td>\n",
       "      <td>714.000000</td>\n",
       "      <td>891.000000</td>\n",
       "      <td>891.000000</td>\n",
       "      <td>891.000000</td>\n",
       "    </tr>\n",
       "    <tr>\n",
       "      <th>mean</th>\n",
       "      <td>446.000000</td>\n",
       "      <td>0.383838</td>\n",
       "      <td>2.308642</td>\n",
       "      <td>29.699118</td>\n",
       "      <td>0.523008</td>\n",
       "      <td>0.381594</td>\n",
       "      <td>32.204208</td>\n",
       "    </tr>\n",
       "    <tr>\n",
       "      <th>std</th>\n",
       "      <td>257.353842</td>\n",
       "      <td>0.486592</td>\n",
       "      <td>0.836071</td>\n",
       "      <td>14.526497</td>\n",
       "      <td>1.102743</td>\n",
       "      <td>0.806057</td>\n",
       "      <td>49.693429</td>\n",
       "    </tr>\n",
       "    <tr>\n",
       "      <th>min</th>\n",
       "      <td>1.000000</td>\n",
       "      <td>0.000000</td>\n",
       "      <td>1.000000</td>\n",
       "      <td>0.420000</td>\n",
       "      <td>0.000000</td>\n",
       "      <td>0.000000</td>\n",
       "      <td>0.000000</td>\n",
       "    </tr>\n",
       "    <tr>\n",
       "      <th>25%</th>\n",
       "      <td>223.500000</td>\n",
       "      <td>0.000000</td>\n",
       "      <td>2.000000</td>\n",
       "      <td>20.125000</td>\n",
       "      <td>0.000000</td>\n",
       "      <td>0.000000</td>\n",
       "      <td>7.910400</td>\n",
       "    </tr>\n",
       "    <tr>\n",
       "      <th>50%</th>\n",
       "      <td>446.000000</td>\n",
       "      <td>0.000000</td>\n",
       "      <td>3.000000</td>\n",
       "      <td>28.000000</td>\n",
       "      <td>0.000000</td>\n",
       "      <td>0.000000</td>\n",
       "      <td>14.454200</td>\n",
       "    </tr>\n",
       "    <tr>\n",
       "      <th>75%</th>\n",
       "      <td>668.500000</td>\n",
       "      <td>1.000000</td>\n",
       "      <td>3.000000</td>\n",
       "      <td>38.000000</td>\n",
       "      <td>1.000000</td>\n",
       "      <td>0.000000</td>\n",
       "      <td>31.000000</td>\n",
       "    </tr>\n",
       "    <tr>\n",
       "      <th>max</th>\n",
       "      <td>891.000000</td>\n",
       "      <td>1.000000</td>\n",
       "      <td>3.000000</td>\n",
       "      <td>80.000000</td>\n",
       "      <td>8.000000</td>\n",
       "      <td>6.000000</td>\n",
       "      <td>512.329200</td>\n",
       "    </tr>\n",
       "  </tbody>\n",
       "</table>\n",
       "</div>"
      ],
      "text/plain": [
       "       PassengerId    Survived      Pclass         Age       SibSp  \\\n",
       "count   891.000000  891.000000  891.000000  714.000000  891.000000   \n",
       "mean    446.000000    0.383838    2.308642   29.699118    0.523008   \n",
       "std     257.353842    0.486592    0.836071   14.526497    1.102743   \n",
       "min       1.000000    0.000000    1.000000    0.420000    0.000000   \n",
       "25%     223.500000    0.000000    2.000000   20.125000    0.000000   \n",
       "50%     446.000000    0.000000    3.000000   28.000000    0.000000   \n",
       "75%     668.500000    1.000000    3.000000   38.000000    1.000000   \n",
       "max     891.000000    1.000000    3.000000   80.000000    8.000000   \n",
       "\n",
       "            Parch        Fare  \n",
       "count  891.000000  891.000000  \n",
       "mean     0.381594   32.204208  \n",
       "std      0.806057   49.693429  \n",
       "min      0.000000    0.000000  \n",
       "25%      0.000000    7.910400  \n",
       "50%      0.000000   14.454200  \n",
       "75%      0.000000   31.000000  \n",
       "max      6.000000  512.329200  "
      ]
     },
     "execution_count": 10,
     "metadata": {},
     "output_type": "execute_result"
    }
   ],
   "source": [
    "# Summary statistics for training set \n",
    "\n",
    "train.describe()"
   ]
  },
  {
   "cell_type": "markdown",
   "metadata": {},
   "source": [
    "__.describe()__ gives an understanding of the central tendencies of the numeric data.\n",
    "\n",
    "- Above we can see that __38% out of the training-set survived the Titanic.__ \n",
    "- We can also see that the passenger age range from __0.4 to 80 years old.__\n",
    "- We can already detect some features that contain __missing values__, like the ‘Age’ feature (714 out of 891 total).\n",
    "- There's an __outlier__ for the 'Fare' price because of the differences between the 75th percentile, standard deviation, and the max value (512). We might want to drop that value."
   ]
  },
  {
   "cell_type": "code",
   "execution_count": 11,
   "metadata": {},
   "outputs": [
    {
     "data": {
      "text/html": [
       "<div>\n",
       "<style scoped>\n",
       "    .dataframe tbody tr th:only-of-type {\n",
       "        vertical-align: middle;\n",
       "    }\n",
       "\n",
       "    .dataframe tbody tr th {\n",
       "        vertical-align: top;\n",
       "    }\n",
       "\n",
       "    .dataframe thead th {\n",
       "        text-align: right;\n",
       "    }\n",
       "</style>\n",
       "<table border=\"1\" class=\"dataframe\">\n",
       "  <thead>\n",
       "    <tr style=\"text-align: right;\">\n",
       "      <th></th>\n",
       "      <th>PassengerId</th>\n",
       "      <th>Pclass</th>\n",
       "      <th>Age</th>\n",
       "      <th>SibSp</th>\n",
       "      <th>Parch</th>\n",
       "      <th>Fare</th>\n",
       "    </tr>\n",
       "  </thead>\n",
       "  <tbody>\n",
       "    <tr>\n",
       "      <th>count</th>\n",
       "      <td>418.000000</td>\n",
       "      <td>418.000000</td>\n",
       "      <td>332.000000</td>\n",
       "      <td>418.000000</td>\n",
       "      <td>418.000000</td>\n",
       "      <td>417.000000</td>\n",
       "    </tr>\n",
       "    <tr>\n",
       "      <th>mean</th>\n",
       "      <td>1100.500000</td>\n",
       "      <td>2.265550</td>\n",
       "      <td>30.272590</td>\n",
       "      <td>0.447368</td>\n",
       "      <td>0.392344</td>\n",
       "      <td>35.627188</td>\n",
       "    </tr>\n",
       "    <tr>\n",
       "      <th>std</th>\n",
       "      <td>120.810458</td>\n",
       "      <td>0.841838</td>\n",
       "      <td>14.181209</td>\n",
       "      <td>0.896760</td>\n",
       "      <td>0.981429</td>\n",
       "      <td>55.907576</td>\n",
       "    </tr>\n",
       "    <tr>\n",
       "      <th>min</th>\n",
       "      <td>892.000000</td>\n",
       "      <td>1.000000</td>\n",
       "      <td>0.170000</td>\n",
       "      <td>0.000000</td>\n",
       "      <td>0.000000</td>\n",
       "      <td>0.000000</td>\n",
       "    </tr>\n",
       "    <tr>\n",
       "      <th>25%</th>\n",
       "      <td>996.250000</td>\n",
       "      <td>1.000000</td>\n",
       "      <td>21.000000</td>\n",
       "      <td>0.000000</td>\n",
       "      <td>0.000000</td>\n",
       "      <td>7.895800</td>\n",
       "    </tr>\n",
       "    <tr>\n",
       "      <th>50%</th>\n",
       "      <td>1100.500000</td>\n",
       "      <td>3.000000</td>\n",
       "      <td>27.000000</td>\n",
       "      <td>0.000000</td>\n",
       "      <td>0.000000</td>\n",
       "      <td>14.454200</td>\n",
       "    </tr>\n",
       "    <tr>\n",
       "      <th>75%</th>\n",
       "      <td>1204.750000</td>\n",
       "      <td>3.000000</td>\n",
       "      <td>39.000000</td>\n",
       "      <td>1.000000</td>\n",
       "      <td>0.000000</td>\n",
       "      <td>31.500000</td>\n",
       "    </tr>\n",
       "    <tr>\n",
       "      <th>max</th>\n",
       "      <td>1309.000000</td>\n",
       "      <td>3.000000</td>\n",
       "      <td>76.000000</td>\n",
       "      <td>8.000000</td>\n",
       "      <td>9.000000</td>\n",
       "      <td>512.329200</td>\n",
       "    </tr>\n",
       "  </tbody>\n",
       "</table>\n",
       "</div>"
      ],
      "text/plain": [
       "       PassengerId      Pclass         Age       SibSp       Parch        Fare\n",
       "count   418.000000  418.000000  332.000000  418.000000  418.000000  417.000000\n",
       "mean   1100.500000    2.265550   30.272590    0.447368    0.392344   35.627188\n",
       "std     120.810458    0.841838   14.181209    0.896760    0.981429   55.907576\n",
       "min     892.000000    1.000000    0.170000    0.000000    0.000000    0.000000\n",
       "25%     996.250000    1.000000   21.000000    0.000000    0.000000    7.895800\n",
       "50%    1100.500000    3.000000   27.000000    0.000000    0.000000   14.454200\n",
       "75%    1204.750000    3.000000   39.000000    1.000000    0.000000   31.500000\n",
       "max    1309.000000    3.000000   76.000000    8.000000    9.000000  512.329200"
      ]
     },
     "execution_count": 11,
     "metadata": {},
     "output_type": "execute_result"
    }
   ],
   "source": [
    "# Summary statistics for test set \n",
    "test.describe()"
   ]
  },
  {
   "cell_type": "markdown",
   "metadata": {},
   "source": [
    "## 4.2 Feature analysis"
   ]
  },
  {
   "cell_type": "markdown",
   "metadata": {},
   "source": [
    "A dataframe is made up of rows and columns. Number of rows correspond to the number of observations in our dataset whereas columns, sometimes called features, represent characteristics that help describe these observations. In our dataset, rows are the passengers on the titanic whereas columns are the features that describe the passengers like their age, gender etc.\n",
    "\n",
    "Before we move on, it is also important to note the difference between a categorical variable and a numerical variable. Categorical variables, as the name suggests, have values belonging to one of two or more categories and there is usually no intrinsic ordering to these categories. An example of this in our data is the Sex feature. Every passenger is distinctly classified as either male or female. Numerical variables, on the other hand, have a continuous distribution. Some examples of numerical variables are the Age and Fare features.\n",
    "\n",
    "Knowing if a feature is a numerical variable or categorical variable helps us structure our analysis more properly. For instance, it doesn't make sense to calculate the average of a categorical variable such as gender simply because gender is a binary classification and therefore has no intrinsic ordering to its values.\n",
    "\n",
    "In this next section of the notebook, we will analyse the features in our dataset individually and see how they correlate with survival probability."
   ]
  },
  {
   "cell_type": "markdown",
   "metadata": {},
   "source": [
    "### 4.2.1 Categorical variables\n",
    "\n",
    "Categorical variables in our dataset are Sex, Pclass and Embarked."
   ]
  },
  {
   "cell_type": "markdown",
   "metadata": {},
   "source": [
    "#### 4.2.1.1.Categorical variable: Sex"
   ]
  },
  {
   "cell_type": "code",
   "execution_count": 12,
   "metadata": {},
   "outputs": [
    {
     "data": {
      "text/plain": [
       "male      577\n",
       "female    314\n",
       "Name: Sex, dtype: int64"
      ]
     },
     "execution_count": 12,
     "metadata": {},
     "output_type": "execute_result"
    }
   ],
   "source": [
    "# Value counts of the sex column\n",
    "\n",
    "train['Sex'].value_counts(dropna = False)"
   ]
  },
  {
   "cell_type": "markdown",
   "metadata": {},
   "source": [
    "Observation: There are more male passengers than female passengers on titanic"
   ]
  },
  {
   "cell_type": "code",
   "execution_count": 13,
   "metadata": {},
   "outputs": [
    {
     "data": {
      "text/html": [
       "<div>\n",
       "<style scoped>\n",
       "    .dataframe tbody tr th:only-of-type {\n",
       "        vertical-align: middle;\n",
       "    }\n",
       "\n",
       "    .dataframe tbody tr th {\n",
       "        vertical-align: top;\n",
       "    }\n",
       "\n",
       "    .dataframe thead th {\n",
       "        text-align: right;\n",
       "    }\n",
       "</style>\n",
       "<table border=\"1\" class=\"dataframe\">\n",
       "  <thead>\n",
       "    <tr style=\"text-align: right;\">\n",
       "      <th></th>\n",
       "      <th>Sex</th>\n",
       "      <th>Survived</th>\n",
       "    </tr>\n",
       "  </thead>\n",
       "  <tbody>\n",
       "    <tr>\n",
       "      <th>0</th>\n",
       "      <td>female</td>\n",
       "      <td>0.742038</td>\n",
       "    </tr>\n",
       "    <tr>\n",
       "      <th>1</th>\n",
       "      <td>male</td>\n",
       "      <td>0.188908</td>\n",
       "    </tr>\n",
       "  </tbody>\n",
       "</table>\n",
       "</div>"
      ],
      "text/plain": [
       "      Sex  Survived\n",
       "0  female  0.742038\n",
       "1    male  0.188908"
      ]
     },
     "execution_count": 13,
     "metadata": {},
     "output_type": "execute_result"
    }
   ],
   "source": [
    "# Mean of survival by sex\n",
    "\n",
    "train[['Sex', 'Survived']].groupby('Sex', as_index = False).mean().sort_values(by = 'Survived', ascending = False)"
   ]
  },
  {
   "cell_type": "code",
   "execution_count": 14,
   "metadata": {
    "scrolled": true
   },
   "outputs": [
    {
     "data": {
      "text/plain": [
       "Text(0.5, 1.0, 'Survival Probability by Gender')"
      ]
     },
     "execution_count": 14,
     "metadata": {},
     "output_type": "execute_result"
    },
    {
     "data": {
      "image/png": "[encoded data removed]",
      "text/plain": [
       "<Figure size 432x288 with 1 Axes>"
      ]
     },
     "metadata": {
      "needs_background": "light"
     },
     "output_type": "display_data"
    }
   ],
   "source": [
    "sns.barplot(x = 'Sex', y ='Survived', data = train)\n",
    "plt.ylabel('Survival Probability')\n",
    "plt.title('Survival Probability by Gender')"
   ]
  },
  {
   "cell_type": "markdown",
   "metadata": {},
   "source": [
    "Observation: Female passengers are more likely to survive"
   ]
  },
  {
   "cell_type": "markdown",
   "metadata": {},
   "source": [
    "#### 4.2.1.2.Categorical variable: Pclass"
   ]
  },
  {
   "cell_type": "markdown",
   "metadata": {},
   "source": [
    "Pclass represents the class of the ticket. A class of 1 represents the highest socio-economic status whereas A class of 3 represents the lowest."
   ]
  },
  {
   "cell_type": "code",
   "execution_count": 15,
   "metadata": {},
   "outputs": [
    {
     "data": {
      "text/plain": [
       "3    491\n",
       "1    216\n",
       "2    184\n",
       "Name: Pclass, dtype: int64"
      ]
     },
     "execution_count": 15,
     "metadata": {},
     "output_type": "execute_result"
    }
   ],
   "source": [
    "# Value counts of the Pclass column \n",
    "\n",
    "train['Pclass'].value_counts(dropna = False)"
   ]
  },
  {
   "cell_type": "code",
   "execution_count": 16,
   "metadata": {},
   "outputs": [
    {
     "data": {
      "text/html": [
       "<div>\n",
       "<style scoped>\n",
       "    .dataframe tbody tr th:only-of-type {\n",
       "        vertical-align: middle;\n",
       "    }\n",
       "\n",
       "    .dataframe tbody tr th {\n",
       "        vertical-align: top;\n",
       "    }\n",
       "\n",
       "    .dataframe thead th {\n",
       "        text-align: right;\n",
       "    }\n",
       "</style>\n",
       "<table border=\"1\" class=\"dataframe\">\n",
       "  <thead>\n",
       "    <tr style=\"text-align: right;\">\n",
       "      <th></th>\n",
       "      <th>Pclass</th>\n",
       "      <th>Survived</th>\n",
       "    </tr>\n",
       "  </thead>\n",
       "  <tbody>\n",
       "    <tr>\n",
       "      <th>0</th>\n",
       "      <td>1</td>\n",
       "      <td>0.629630</td>\n",
       "    </tr>\n",
       "    <tr>\n",
       "      <th>1</th>\n",
       "      <td>2</td>\n",
       "      <td>0.472826</td>\n",
       "    </tr>\n",
       "    <tr>\n",
       "      <th>2</th>\n",
       "      <td>3</td>\n",
       "      <td>0.242363</td>\n",
       "    </tr>\n",
       "  </tbody>\n",
       "</table>\n",
       "</div>"
      ],
      "text/plain": [
       "   Pclass  Survived\n",
       "0       1  0.629630\n",
       "1       2  0.472826\n",
       "2       3  0.242363"
      ]
     },
     "execution_count": 16,
     "metadata": {},
     "output_type": "execute_result"
    }
   ],
   "source": [
    "# Mean of survival by passenger class\n",
    "\n",
    "train[['Pclass', 'Survived']].groupby(['Pclass'], as_index = False).mean().sort_values(by = 'Survived', ascending = False)"
   ]
  },
  {
   "cell_type": "code",
   "execution_count": 17,
   "metadata": {},
   "outputs": [
    {
     "data": {
      "image/png": "[encoded data removed]",
      "text/plain": [
       "<Figure size 720x576 with 1 Axes>"
      ]
     },
     "metadata": {
      "needs_background": "light"
     },
     "output_type": "display_data"
    }
   ],
   "source": [
    "plt.subplots(figsize=(10,8))\n",
    "ax=sns.kdeplot(train.loc[(train['Survived'] == 0),'Pclass'],shade=True,color='r',label='Not Survived')\n",
    "ax.legend()\n",
    "ax=sns.kdeplot(train.loc[(train['Survived'] == 1),'Pclass'],shade=True,color='b',label='Survived')\n",
    "ax.legend()\n",
    "\n",
    "plt.title(\"Passenger Class Distribution - Survived vs Non-Survived\", fontsize = 25)\n",
    "labels = ['First', 'Second', 'Third']\n",
    "plt.xticks(sorted(train.Pclass.unique()),labels);"
   ]
  },
  {
   "cell_type": "code",
   "execution_count": 18,
   "metadata": {
    "scrolled": true
   },
   "outputs": [
    {
     "data": {
      "text/plain": [
       "Text(0.5, 1.0, 'Survival Probability by Passenger Class')"
      ]
     },
     "execution_count": 18,
     "metadata": {},
     "output_type": "execute_result"
    },
    {
     "data": {
      "image/png": "[encoded data removed]",
      "text/plain": [
       "<Figure size 432x288 with 1 Axes>"
      ]
     },
     "metadata": {
      "needs_background": "light"
     },
     "output_type": "display_data"
    }
   ],
   "source": [
    "sns.barplot(x = 'Pclass', y ='Survived', data = train)\n",
    "plt.ylabel('Survival Probability')\n",
    "plt.title('Survival Probability by Passenger Class')\n",
    "\n",
    "# Comment: Survival probability decrease with passenger class, first class passengers are prioritised during evacuation"
   ]
  },
  {
   "cell_type": "markdown",
   "metadata": {},
   "source": [
    "notebook 5\n",
    "Observation: The graphs above clearly shows that economic status (Pclass) played an important role regarding the potential survival of the Titanic passengers. First class passengers had a much higher chance of survival than passengers in the 3rd class. We note that:\n",
    "\n",
    "63% of the 1st class passengers survived the Titanic wreck\n",
    "48% of the 2nd class passengers survived\n",
    "Only 24% of the 3rd class passengers survived"
   ]
  },
  {
   "cell_type": "markdown",
   "metadata": {},
   "source": [
    "#### 4.2.1.3.Categorical variables combined: Sex and Plass"
   ]
  },
  {
   "cell_type": "code",
   "execution_count": 19,
   "metadata": {},
   "outputs": [
    {
     "data": {
      "text/plain": [
       "Text(0.5, 1.0, 'Survival Probability by Sex and Passenger Class')"
      ]
     },
     "execution_count": 19,
     "metadata": {},
     "output_type": "execute_result"
    },
    {
     "data": {
      "image/png": "[encoded data removed]",
      "text/plain": [
       "<Figure size 430.5x360 with 1 Axes>"
      ]
     },
     "metadata": {
      "needs_background": "light"
     },
     "output_type": "display_data"
    }
   ],
   "source": [
    "# Survival by gender and passenger class\n",
    "\n",
    "g = sns.factorplot(x = 'Pclass', y = 'Survived', hue = 'Sex', data = train, kind = 'bar')\n",
    "g.despine(left = True)\n",
    "plt.ylabel('Survival Probability')\n",
    "plt.title('Survival Probability by Sex and Passenger Class')"
   ]
  },
  {
   "cell_type": "markdown",
   "metadata": {},
   "source": [
    "Observation: This indicates that in every class females where always more likely to survive. The higher the class the greater the chnace of survival of the men. "
   ]
  },
  {
   "cell_type": "markdown",
   "metadata": {},
   "source": [
    "#### 4.2.1.4.Categorical variable: Embarked"
   ]
  },
  {
   "cell_type": "code",
   "execution_count": 20,
   "metadata": {
    "scrolled": true
   },
   "outputs": [
    {
     "data": {
      "text/plain": [
       "S      644\n",
       "C      168\n",
       "Q       77\n",
       "NaN      2\n",
       "Name: Embarked, dtype: int64"
      ]
     },
     "execution_count": 20,
     "metadata": {},
     "output_type": "execute_result"
    }
   ],
   "source": [
    "# Value counts of the Embarked column \n",
    "#NAN is the missing values in Embarked\n",
    "\n",
    "train['Embarked'].value_counts(dropna = False)"
   ]
  },
  {
   "cell_type": "code",
   "execution_count": 21,
   "metadata": {},
   "outputs": [
    {
     "data": {
      "text/html": [
       "<div>\n",
       "<style scoped>\n",
       "    .dataframe tbody tr th:only-of-type {\n",
       "        vertical-align: middle;\n",
       "    }\n",
       "\n",
       "    .dataframe tbody tr th {\n",
       "        vertical-align: top;\n",
       "    }\n",
       "\n",
       "    .dataframe thead th {\n",
       "        text-align: right;\n",
       "    }\n",
       "</style>\n",
       "<table border=\"1\" class=\"dataframe\">\n",
       "  <thead>\n",
       "    <tr style=\"text-align: right;\">\n",
       "      <th></th>\n",
       "      <th>Embarked</th>\n",
       "      <th>Survived</th>\n",
       "    </tr>\n",
       "  </thead>\n",
       "  <tbody>\n",
       "    <tr>\n",
       "      <th>0</th>\n",
       "      <td>C</td>\n",
       "      <td>0.553571</td>\n",
       "    </tr>\n",
       "    <tr>\n",
       "      <th>1</th>\n",
       "      <td>Q</td>\n",
       "      <td>0.389610</td>\n",
       "    </tr>\n",
       "    <tr>\n",
       "      <th>2</th>\n",
       "      <td>S</td>\n",
       "      <td>0.336957</td>\n",
       "    </tr>\n",
       "  </tbody>\n",
       "</table>\n",
       "</div>"
      ],
      "text/plain": [
       "  Embarked  Survived\n",
       "0        C  0.553571\n",
       "1        Q  0.389610\n",
       "2        S  0.336957"
      ]
     },
     "execution_count": 21,
     "metadata": {},
     "output_type": "execute_result"
    }
   ],
   "source": [
    "# Mean of survival by point of embarkation\n",
    "\n",
    "train[['Embarked', 'Survived']].groupby(['Embarked'], as_index = False).mean().sort_values(by = 'Survived', ascending = False)"
   ]
  },
  {
   "cell_type": "code",
   "execution_count": 22,
   "metadata": {},
   "outputs": [
    {
     "data": {
      "text/plain": [
       "Text(0.5, 1.0, 'Survival Probability by Point of Embarkation')"
      ]
     },
     "execution_count": 22,
     "metadata": {},
     "output_type": "execute_result"
    },
    {
     "data": {
      "image/png": "[encoded data removed]",
      "text/plain": [
       "<Figure size 432x288 with 1 Axes>"
      ]
     },
     "metadata": {
      "needs_background": "light"
     },
     "output_type": "display_data"
    }
   ],
   "source": [
    "sns.barplot(x = 'Embarked', y ='Survived', data = train)\n",
    "plt.ylabel('Survival Probability')\n",
    "plt.title('Survival Probability by Point of Embarkation')"
   ]
  },
  {
   "cell_type": "markdown",
   "metadata": {},
   "source": [
    "Survival probability is highest for location C and lowest for location S.\n",
    "\n",
    "Is there a reason for this occurence? We can formulate a hypothesis whereby the majority of the first class passengers have embarked from location C and because they have a highest survival probability, this has resulted in location C having a highest survival probability. Alternatively, there could have been more third class passengers that embarked from location S and because they have the lowest survival probability, this has caused location S to have the lowest survival probability.\n",
    "\n",
    "Let us now test this hypothesis."
   ]
  },
  {
   "cell_type": "markdown",
   "metadata": {},
   "source": [
    "#### 4.2.1.5.Categorical variable combined: Embarked and Class"
   ]
  },
  {
   "cell_type": "code",
   "execution_count": 23,
   "metadata": {
    "scrolled": true
   },
   "outputs": [
    {
     "data": {
      "text/plain": [
       "<seaborn.axisgrid.FacetGrid at 0x7f81e0ab57f0>"
      ]
     },
     "execution_count": 23,
     "metadata": {},
     "output_type": "execute_result"
    },
    {
     "data": {
      "image/png": "[encoded data removed]",
      "text/plain": [
       "<Figure size 1080x360 with 3 Axes>"
      ]
     },
     "metadata": {
      "needs_background": "light"
     },
     "output_type": "display_data"
    }
   ],
   "source": [
    "sns.factorplot('Pclass', col = 'Embarked', data = train, kind = 'count')"
   ]
  },
  {
   "cell_type": "markdown",
   "metadata": {},
   "source": [
    "Our hypothesis appears to be true. Location S has the most third class passengers whereas location C has the most first class passengers. \n",
    "* whereas the largest proportion of people embarking from c were from 1st class"
   ]
  },
  {
   "cell_type": "markdown",
   "metadata": {},
   "source": [
    "### 4.2.2 Numerical variables\n",
    "\n",
    "Numerical variables in our dataset are SibSp, Parch, Age and Fare."
   ]
  },
  {
   "cell_type": "markdown",
   "metadata": {},
   "source": [
    "#### 4.2.2.1.Detect outliers in numerical variables"
   ]
  },
  {
   "cell_type": "markdown",
   "metadata": {},
   "source": [
    "Outliers are data points that have extreme values and they do not conform with the majority of the data. It is important to address this because outliers tend to skew our data towards extremes and can cause inaccurate model predictions. I will use the Tukey method to detect these outliers which will later be dropped under data processing"
   ]
  },
  {
   "cell_type": "code",
   "execution_count": 24,
   "metadata": {},
   "outputs": [],
   "source": [
    "# def detect_outliers(df, n, features):\n",
    "#     \"\"\"\"\n",
    "#     This function will loop through a list of features and detect outliers in each one of those features. In each\n",
    "#     loop, a data point is deemed an outlier if it is less than the first quartile minus the outlier step or exceeds\n",
    "#     third quartile plus the outlier step. The outlier step is defined as 1.5 times the interquartile range. Once the \n",
    "#     outliers have been determined for one feature, their indices will be stored in a list before proceeding to the next\n",
    "#     feature and the process repeats until the very last feature is completed. Finally, using the list with outlier \n",
    "#     indices, we will count the frequencies of the index numbers and return them if their frequency exceeds n times.    \n",
    "#     \"\"\"\n",
    "\n",
    "#     #can relace outliers with the mean/median (even grouped by title) and then add a column indicating if it was an outlier as the fact it was an outlier might be related to survival\n",
    "#     outlier_indices = [] \n",
    "#     for col in features: \n",
    "#         Q1 = np.percentile(df[col], 25)\n",
    "#         Q3 = np.percentile(df[col], 75)\n",
    "#         IQR = Q3 - Q1\n",
    "#         outlier_step = 1.5 * IQR \n",
    "#         outlier_list_col = df[(df[col] < Q1 - outlier_step) | (df[col] > Q3 + outlier_step)].index\n",
    "#         outlier_indices.extend(outlier_list_col) \n",
    "#     outlier_indices = Counter(outlier_indices)\n",
    "#     multiple_outliers = list(key for key, value in outlier_indices.items() if value > n) \n",
    "#     return multiple_outliers\n",
    "\n",
    "# outliers_to_drop = detect_outliers(train, 2, ['Age','SibSp', 'Parch', 'Fare'])#these are the four numerical variables discussed\n",
    "# print(\"We will drop these {} indices: \".format(len(outliers_to_drop)), outliers_to_drop) "
   ]
  },
  {
   "cell_type": "markdown",
   "metadata": {},
   "source": [
    "We have chosen to deem a row an outlier if it is an outlier in more than 1 category."
   ]
  },
  {
   "cell_type": "code",
   "execution_count": 25,
   "metadata": {},
   "outputs": [],
   "source": [
    "# Outliers in numerical variables\n",
    "#allows us to look at the 10 rows identified above as rows containing outliers\n",
    "# train.loc[outliers_to_drop, :]"
   ]
  },
  {
   "cell_type": "markdown",
   "metadata": {},
   "source": [
    "#### 4.2.2.2.Numerical variables correlation with survival"
   ]
  },
  {
   "cell_type": "code",
   "execution_count": 26,
   "metadata": {},
   "outputs": [
    {
     "data": {
      "image/png": "[encoded data removed]",
      "text/plain": [
       "<Figure size 864x432 with 2 Axes>"
      ]
     },
     "metadata": {
      "needs_background": "light"
     },
     "output_type": "display_data"
    }
   ],
   "source": [
    "df_num = train[['Age','SibSp','Parch','Fare']]\n",
    "plt.subplots(figsize = (12,6))\n",
    "sns.heatmap(df_num.corr(), annot=True,cmap=\"RdBu\")\n",
    "plt.title(\"Correlations Among Numeric Features\", fontsize = 18);"
   ]
  },
  {
   "cell_type": "markdown",
   "metadata": {},
   "source": [
    "We notice from the heatmap above that:\n",
    "- __Parents and sibling like to travel together <font color='blue'>(light blue squares)__</font> Therefore it will useful to create a isAlone and a family size feature\n",
    "- __Age has a high negative correlation with number of siblings__"
   ]
  },
  {
   "cell_type": "markdown",
   "metadata": {},
   "source": [
    "#### 4.2.2.3.Numerical variable: SibSp"
   ]
  },
  {
   "cell_type": "code",
   "execution_count": 27,
   "metadata": {},
   "outputs": [
    {
     "data": {
      "text/plain": [
       "0    608\n",
       "1    209\n",
       "2     28\n",
       "4     18\n",
       "3     16\n",
       "8      7\n",
       "5      5\n",
       "Name: SibSp, dtype: int64"
      ]
     },
     "execution_count": 27,
     "metadata": {},
     "output_type": "execute_result"
    }
   ],
   "source": [
    "# Value counts of the SibSp column \n",
    "#numbner of siblings\n",
    "train['SibSp'].value_counts(dropna = False)"
   ]
  },
  {
   "cell_type": "code",
   "execution_count": 28,
   "metadata": {},
   "outputs": [
    {
     "data": {
      "text/html": [
       "<div>\n",
       "<style scoped>\n",
       "    .dataframe tbody tr th:only-of-type {\n",
       "        vertical-align: middle;\n",
       "    }\n",
       "\n",
       "    .dataframe tbody tr th {\n",
       "        vertical-align: top;\n",
       "    }\n",
       "\n",
       "    .dataframe thead th {\n",
       "        text-align: right;\n",
       "    }\n",
       "</style>\n",
       "<table border=\"1\" class=\"dataframe\">\n",
       "  <thead>\n",
       "    <tr style=\"text-align: right;\">\n",
       "      <th></th>\n",
       "      <th>SibSp</th>\n",
       "      <th>Survived</th>\n",
       "    </tr>\n",
       "  </thead>\n",
       "  <tbody>\n",
       "    <tr>\n",
       "      <th>1</th>\n",
       "      <td>1</td>\n",
       "      <td>0.535885</td>\n",
       "    </tr>\n",
       "    <tr>\n",
       "      <th>2</th>\n",
       "      <td>2</td>\n",
       "      <td>0.464286</td>\n",
       "    </tr>\n",
       "    <tr>\n",
       "      <th>0</th>\n",
       "      <td>0</td>\n",
       "      <td>0.345395</td>\n",
       "    </tr>\n",
       "    <tr>\n",
       "      <th>3</th>\n",
       "      <td>3</td>\n",
       "      <td>0.250000</td>\n",
       "    </tr>\n",
       "    <tr>\n",
       "      <th>4</th>\n",
       "      <td>4</td>\n",
       "      <td>0.166667</td>\n",
       "    </tr>\n",
       "    <tr>\n",
       "      <th>5</th>\n",
       "      <td>5</td>\n",
       "      <td>0.000000</td>\n",
       "    </tr>\n",
       "    <tr>\n",
       "      <th>6</th>\n",
       "      <td>8</td>\n",
       "      <td>0.000000</td>\n",
       "    </tr>\n",
       "  </tbody>\n",
       "</table>\n",
       "</div>"
      ],
      "text/plain": [
       "   SibSp  Survived\n",
       "1      1  0.535885\n",
       "2      2  0.464286\n",
       "0      0  0.345395\n",
       "3      3  0.250000\n",
       "4      4  0.166667\n",
       "5      5  0.000000\n",
       "6      8  0.000000"
      ]
     },
     "execution_count": 28,
     "metadata": {},
     "output_type": "execute_result"
    }
   ],
   "source": [
    "# Mean of survival by SibSp\n",
    "\n",
    "train[['SibSp', 'Survived']].groupby('SibSp', as_index = False).mean().sort_values(by = 'Survived', ascending = False)"
   ]
  },
  {
   "cell_type": "code",
   "execution_count": 29,
   "metadata": {},
   "outputs": [
    {
     "data": {
      "text/plain": [
       "Text(0.5, 1.0, 'Survival Probability by SibSp')"
      ]
     },
     "execution_count": 29,
     "metadata": {},
     "output_type": "execute_result"
    },
    {
     "data": {
      "image/png": "[encoded data removed]",
      "text/plain": [
       "<Figure size 432x288 with 1 Axes>"
      ]
     },
     "metadata": {
      "needs_background": "light"
     },
     "output_type": "display_data"
    }
   ],
   "source": [
    "sns.barplot(x = 'SibSp', y ='Survived', data = train)\n",
    "plt.ylabel('Survival Probability')\n",
    "plt.title('Survival Probability by SibSp')"
   ]
  },
  {
   "cell_type": "markdown",
   "metadata": {},
   "source": [
    "#### Numerical variable: Parch"
   ]
  },
  {
   "cell_type": "code",
   "execution_count": 30,
   "metadata": {},
   "outputs": [
    {
     "data": {
      "text/plain": [
       "0    678\n",
       "1    118\n",
       "2     80\n",
       "5      5\n",
       "3      5\n",
       "4      4\n",
       "6      1\n",
       "Name: Parch, dtype: int64"
      ]
     },
     "execution_count": 30,
     "metadata": {},
     "output_type": "execute_result"
    }
   ],
   "source": [
    "# Value counts of the Parch column \n",
    "\n",
    "train['Parch'].value_counts(dropna = False)"
   ]
  },
  {
   "cell_type": "code",
   "execution_count": 31,
   "metadata": {},
   "outputs": [
    {
     "data": {
      "text/html": [
       "<div>\n",
       "<style scoped>\n",
       "    .dataframe tbody tr th:only-of-type {\n",
       "        vertical-align: middle;\n",
       "    }\n",
       "\n",
       "    .dataframe tbody tr th {\n",
       "        vertical-align: top;\n",
       "    }\n",
       "\n",
       "    .dataframe thead th {\n",
       "        text-align: right;\n",
       "    }\n",
       "</style>\n",
       "<table border=\"1\" class=\"dataframe\">\n",
       "  <thead>\n",
       "    <tr style=\"text-align: right;\">\n",
       "      <th></th>\n",
       "      <th>Parch</th>\n",
       "      <th>Survived</th>\n",
       "    </tr>\n",
       "  </thead>\n",
       "  <tbody>\n",
       "    <tr>\n",
       "      <th>3</th>\n",
       "      <td>3</td>\n",
       "      <td>0.600000</td>\n",
       "    </tr>\n",
       "    <tr>\n",
       "      <th>1</th>\n",
       "      <td>1</td>\n",
       "      <td>0.550847</td>\n",
       "    </tr>\n",
       "    <tr>\n",
       "      <th>2</th>\n",
       "      <td>2</td>\n",
       "      <td>0.500000</td>\n",
       "    </tr>\n",
       "    <tr>\n",
       "      <th>0</th>\n",
       "      <td>0</td>\n",
       "      <td>0.343658</td>\n",
       "    </tr>\n",
       "    <tr>\n",
       "      <th>5</th>\n",
       "      <td>5</td>\n",
       "      <td>0.200000</td>\n",
       "    </tr>\n",
       "    <tr>\n",
       "      <th>4</th>\n",
       "      <td>4</td>\n",
       "      <td>0.000000</td>\n",
       "    </tr>\n",
       "    <tr>\n",
       "      <th>6</th>\n",
       "      <td>6</td>\n",
       "      <td>0.000000</td>\n",
       "    </tr>\n",
       "  </tbody>\n",
       "</table>\n",
       "</div>"
      ],
      "text/plain": [
       "   Parch  Survived\n",
       "3      3  0.600000\n",
       "1      1  0.550847\n",
       "2      2  0.500000\n",
       "0      0  0.343658\n",
       "5      5  0.200000\n",
       "4      4  0.000000\n",
       "6      6  0.000000"
      ]
     },
     "execution_count": 31,
     "metadata": {},
     "output_type": "execute_result"
    }
   ],
   "source": [
    "# Mean of survival by Parch\n",
    "\n",
    "train[['Parch', 'Survived']].groupby('Parch', as_index = False).mean().sort_values(by = 'Survived', ascending = False)"
   ]
  },
  {
   "cell_type": "code",
   "execution_count": 32,
   "metadata": {},
   "outputs": [
    {
     "data": {
      "text/plain": [
       "Text(0.5, 1.0, 'Survival Probability by Parch')"
      ]
     },
     "execution_count": 32,
     "metadata": {},
     "output_type": "execute_result"
    },
    {
     "data": {
      "image/png": "[encoded data removed]",
      "text/plain": [
       "<Figure size 432x288 with 1 Axes>"
      ]
     },
     "metadata": {
      "needs_background": "light"
     },
     "output_type": "display_data"
    }
   ],
   "source": [
    "sns.barplot(x = 'Parch', y ='Survived', data = train)\n",
    "plt.ylabel('Survival Probability')\n",
    "plt.title('Survival Probability by Parch')"
   ]
  },
  {
   "cell_type": "markdown",
   "metadata": {},
   "source": [
    "#### Numerical variable: Age"
   ]
  },
  {
   "cell_type": "code",
   "execution_count": 33,
   "metadata": {},
   "outputs": [
    {
     "data": {
      "text/plain": [
       "177"
      ]
     },
     "execution_count": 33,
     "metadata": {},
     "output_type": "execute_result"
    }
   ],
   "source": [
    "# Null values in Age column \n",
    "\n",
    "train['Age'].isnull().sum()"
   ]
  },
  {
   "cell_type": "code",
   "execution_count": 34,
   "metadata": {},
   "outputs": [
    {
     "data": {
      "text/plain": [
       "Text(0.5, 1.0, 'Passenger Age Distribution')"
      ]
     },
     "execution_count": 34,
     "metadata": {},
     "output_type": "execute_result"
    },
    {
     "data": {
      "image/png": "[encoded data removed]",
      "text/plain": [
       "<Figure size 432x288 with 1 Axes>"
      ]
     },
     "metadata": {
      "needs_background": "light"
     },
     "output_type": "display_data"
    }
   ],
   "source": [
    "# Passenger age distribution\n",
    "\n",
    "sns.distplot(train['Age'], label = 'Skewness: %.2f'%(train['Age'].skew()))\n",
    "plt.legend(loc = 'best')\n",
    "plt.title('Passenger Age Distribution')"
   ]
  },
  {
   "cell_type": "code",
   "execution_count": 35,
   "metadata": {},
   "outputs": [
    {
     "data": {
      "text/plain": [
       "<seaborn.axisgrid.FacetGrid at 0x7f81e14240d0>"
      ]
     },
     "execution_count": 35,
     "metadata": {},
     "output_type": "execute_result"
    },
    {
     "data": {
      "image/png": "[encoded data removed]",
      "text/plain": [
       "<Figure size 432x216 with 2 Axes>"
      ]
     },
     "metadata": {
      "needs_background": "light"
     },
     "output_type": "display_data"
    }
   ],
   "source": [
    "# Age distribution by survival\n",
    "\n",
    "g = sns.FacetGrid(train, col = 'Survived')\n",
    "g.map(sns.distplot, 'Age')"
   ]
  },
  {
   "cell_type": "code",
   "execution_count": 36,
   "metadata": {
    "scrolled": true
   },
   "outputs": [
    {
     "data": {
      "text/plain": [
       "Text(0.5, 1.0, 'Passenger Age Distribution by Survival')"
      ]
     },
     "execution_count": 36,
     "metadata": {},
     "output_type": "execute_result"
    },
    {
     "data": {
      "image/png": "[encoded data removed]",
      "text/plain": [
       "<Figure size 432x288 with 1 Axes>"
      ]
     },
     "metadata": {
      "needs_background": "light"
     },
     "output_type": "display_data"
    }
   ],
   "source": [
    "sns.kdeplot(train['Age'][train['Survived'] == 0], label = 'Did not survive')\n",
    "sns.kdeplot(train['Age'][train['Survived'] == 1], label = 'Survived')\n",
    "plt.xlabel('Age')\n",
    "plt.title('Passenger Age Distribution by Survival')"
   ]
  },
  {
   "cell_type": "markdown",
   "metadata": {},
   "source": [
    "#### Numerical variable: Fare"
   ]
  },
  {
   "cell_type": "code",
   "execution_count": 37,
   "metadata": {},
   "outputs": [
    {
     "data": {
      "text/plain": [
       "Text(0, 0.5, 'Passenger Fare Distribution')"
      ]
     },
     "execution_count": 37,
     "metadata": {},
     "output_type": "execute_result"
    },
    {
     "data": {
      "image/png": "[encoded data removed]",
      "text/plain": [
       "<Figure size 432x288 with 1 Axes>"
      ]
     },
     "metadata": {
      "needs_background": "light"
     },
     "output_type": "display_data"
    }
   ],
   "source": [
    "# Passenger fare distribution\n",
    "\n",
    "sns.distplot(train['Fare'], label = 'Skewness: %.2f'%(train['Fare'].skew()))\n",
    "plt.legend(loc = 'best')\n",
    "plt.ylabel('Passenger Fare Distribution')"
   ]
  },
  {
   "cell_type": "markdown",
   "metadata": {},
   "source": [
    "Fare seems to have a high skewness. We will address this issue later on in the notebook via log transformation. "
   ]
  },
  {
   "cell_type": "markdown",
   "metadata": {},
   "source": [
    "### 4.2.3 Correlation between categorical and numerical"
   ]
  },
  {
   "cell_type": "markdown",
   "metadata": {},
   "source": [
    "#### All variables"
   ]
  },
  {
   "cell_type": "code",
   "execution_count": 38,
   "metadata": {},
   "outputs": [
    {
     "data": {
      "text/plain": [
       "<AxesSubplot:>"
      ]
     },
     "execution_count": 38,
     "metadata": {},
     "output_type": "execute_result"
    },
    {
     "data": {
      "image/png": "[encoded data removed]",
      "text/plain": [
       "<Figure size 432x288 with 2 Axes>"
      ]
     },
     "metadata": {
      "needs_background": "light"
     },
     "output_type": "display_data"
    }
   ],
   "source": [
    "sns.heatmap(train[['Survived', 'SibSp', 'Parch', 'Age', 'Fare','Pclass']].corr(), annot = True, fmt = '.2f', cmap = 'coolwarm')"
   ]
  },
  {
   "cell_type": "markdown",
   "metadata": {},
   "source": [
    "Observation: Fare seems to be the only feature that has a substantial correlation with survival"
   ]
  },
  {
   "cell_type": "markdown",
   "metadata": {},
   "source": [
    "#### Age and Sex"
   ]
  },
  {
   "cell_type": "code",
   "execution_count": 39,
   "metadata": {},
   "outputs": [
    {
     "data": {
      "image/png": "[encoded data removed]",
      "text/plain": [
       "<Figure size 1080x360 with 2 Axes>"
      ]
     },
     "metadata": {
      "needs_background": "light"
     },
     "output_type": "display_data"
    }
   ],
   "source": [
    "survived = 'survived'\n",
    "not_survived = 'not survived'\n",
    "\n",
    "fig, axes = plt.subplots(nrows=1, ncols=2, figsize=(15, 5))\n",
    "\n",
    "women = train[train['Sex']=='female']\n",
    "men = train[train['Sex']=='male']\n",
    "\n",
    "# Plot Female Survived vs Not-Survived distribution\n",
    "ax = sns.histplot(women[women['Survived']==1].Age.dropna(), bins=20, label = survived, ax = axes[0],color='b', kde=True)\n",
    "ax = sns.histplot(women[women['Survived']==0].Age.dropna(), bins=20, label = not_survived, ax = axes[0],color='r', kde=True)\n",
    "ax.legend()\n",
    "ax.set_title('Female')\n",
    "\n",
    "# Plot Male Survived vs Not-Survived distribution\n",
    "ax = sns.histplot(men[men['Survived']==1].Age.dropna(), bins=20, label = survived, ax = axes[1],color='b', kde=True)\n",
    "ax = sns.histplot(men[men['Survived']==0].Age.dropna(), bins=20, label = not_survived, ax = axes[1],color='r', kde=True)\n",
    "ax.legend()\n",
    "ax.set_title('Male');"
   ]
  },
  {
   "cell_type": "markdown",
   "metadata": {},
   "source": [
    "We can see that __men__ have a higher probability of survival when they are between __18 and 35 years old.__ For __women,__ the survival chances are higher between __15 and 40 years old.__\n",
    "\n",
    "For men the probability of survival is very low between the __ages of 5 and 18__, and __after 35__, but that isn’t true for women. Another thing to note is that __infants have a higher probability of survival.__"
   ]
  },
  {
   "cell_type": "markdown",
   "metadata": {},
   "source": []
  },
  {
   "cell_type": "markdown",
   "metadata": {},
   "source": [
    "# 5. Data preprocessing\n",
    "\n",
    "Data preprocessing is the process of getting our dataset ready for model training. In this section, we will perform the following preprocessing steps:\n",
    "\n",
    "- Drop and fill missing values\n",
    "- Data trasformation (log transformation)\n",
    "- Feature engineering\n",
    "- Feature encoding"
   ]
  },
  {
   "cell_type": "markdown",
   "metadata": {},
   "source": [
    "## 5.1 Remove Outliers"
   ]
  },
  {
   "cell_type": "code",
   "execution_count": 40,
   "metadata": {},
   "outputs": [],
   "source": [
    "# Drop outliers and reset index\n",
    "# he decides to Drop the 10 rows identified and visualised as outliers and reset index\n",
    "# he confirms he has done this right be printing out the rows before and after he has dropped it \n",
    "\n",
    "# print(\"Before: {} rows\".format(len(train)))\n",
    "# train = train.drop(outliers_to_drop, axis = 0).reset_index(drop = True)\n",
    "# print(\"After: {} rows\".format(len(train)))"
   ]
  },
  {
   "cell_type": "markdown",
   "metadata": {},
   "source": [
    "## 5.2 Drop and fill missing values"
   ]
  },
  {
   "cell_type": "code",
   "execution_count": 41,
   "metadata": {},
   "outputs": [],
   "source": [
    "# Drop ticket and cabin features from training and test set \n",
    "# we can extract some information from the ticket potentially before dropping it\n",
    "\n",
    "train = train.drop(['Ticket', 'Cabin'], axis = 1)\n",
    "test = test.drop(['Ticket', 'Cabin'], axis = 1)"
   ]
  },
  {
   "cell_type": "markdown",
   "metadata": {},
   "source": [
    "I have decided to drop both ticket and cabin for simplicity of this tutorial but if you have the time, I would recommend going through them and see if they can help improve your model."
   ]
  },
  {
   "cell_type": "code",
   "execution_count": 42,
   "metadata": {},
   "outputs": [
    {
     "data": {
      "text/plain": [
       "Age            177\n",
       "Embarked         2\n",
       "PassengerId      0\n",
       "Survived         0\n",
       "Pclass           0\n",
       "Name             0\n",
       "Sex              0\n",
       "SibSp            0\n",
       "Parch            0\n",
       "Fare             0\n",
       "dtype: int64"
      ]
     },
     "execution_count": 42,
     "metadata": {},
     "output_type": "execute_result"
    }
   ],
   "source": [
    "# Missing values in training set \n",
    "\n",
    "train.isnull().sum().sort_values(ascending = False)"
   ]
  },
  {
   "cell_type": "code",
   "execution_count": 43,
   "metadata": {
    "scrolled": true
   },
   "outputs": [
    {
     "data": {
      "text/plain": [
       "'S'"
      ]
     },
     "execution_count": 43,
     "metadata": {},
     "output_type": "execute_result"
    }
   ],
   "source": [
    "# Compute the most frequent value of Embarked in training set\n",
    "\n",
    "mode = train['Embarked'].dropna().mode()[0]\n",
    "mode"
   ]
  },
  {
   "cell_type": "code",
   "execution_count": 44,
   "metadata": {},
   "outputs": [],
   "source": [
    "# Fill missing value in Embarked with mode\n",
    "\n",
    "train['Embarked'].fillna(mode, inplace = True)"
   ]
  },
  {
   "cell_type": "code",
   "execution_count": 45,
   "metadata": {},
   "outputs": [
    {
     "data": {
      "text/plain": [
       "Age            86\n",
       "Fare            1\n",
       "PassengerId     0\n",
       "Pclass          0\n",
       "Name            0\n",
       "Sex             0\n",
       "SibSp           0\n",
       "Parch           0\n",
       "Embarked        0\n",
       "dtype: int64"
      ]
     },
     "execution_count": 45,
     "metadata": {},
     "output_type": "execute_result"
    }
   ],
   "source": [
    "# Missing values in test set\n",
    "\n",
    "test.isnull().sum().sort_values(ascending = False)"
   ]
  },
  {
   "cell_type": "code",
   "execution_count": 46,
   "metadata": {},
   "outputs": [
    {
     "data": {
      "text/plain": [
       "14.4542"
      ]
     },
     "execution_count": 46,
     "metadata": {},
     "output_type": "execute_result"
    }
   ],
   "source": [
    "# Compute median of Fare in test set \n",
    "\n",
    "median = test['Fare'].dropna().median()\n",
    "median"
   ]
  },
  {
   "cell_type": "code",
   "execution_count": 47,
   "metadata": {},
   "outputs": [],
   "source": [
    "# Fill missing value in Fare with median\n",
    "\n",
    "test['Fare'].fillna(median, inplace = True)"
   ]
  },
  {
   "cell_type": "code",
   "execution_count": 48,
   "metadata": {},
   "outputs": [],
   "source": [
    "# Combine training set and test set\n",
    "\n",
    "# combine = pd.concat([train, test], axis = 0).reset_index(drop = True)\n",
    "# combine.head()"
   ]
  },
  {
   "cell_type": "code",
   "execution_count": 49,
   "metadata": {},
   "outputs": [],
   "source": [
    "# Missing values in the combined dataset\n",
    "\n",
    "# combine.isnull().sum().sort_values(ascending = False)"
   ]
  },
  {
   "cell_type": "markdown",
   "metadata": {},
   "source": [
    "We can ignore missing values in the Survived column because all of them are from the test set. Now we need to fill missing values in the Age column.\n",
    "\n",
    "The goal is to use features that are most correlated with Age to predict the values for Age. But first, we need to convert Sex into numerical values where 0 = male and 1 = female. This process is known as encoding and we will further explore this later in the notebook."
   ]
  },
  {
   "cell_type": "code",
   "execution_count": 50,
   "metadata": {},
   "outputs": [],
   "source": [
    "# Convert Sex into numerical values where 0 = male and 1 = female\n",
    "#combine['Sex'] = combine['Sex'].map({'male': 0, 'female': 1})\n",
    "train['Sex'] = train['Sex'].map({'male': 0, 'female': 1})\n",
    "test['Sex'] = test['Sex'].map({'male': 0, 'female': 1})"
   ]
  },
  {
   "cell_type": "code",
   "execution_count": 51,
   "metadata": {},
   "outputs": [
    {
     "data": {
      "text/plain": [
       "<seaborn.axisgrid.FacetGrid at 0x7f81e1c0b250>"
      ]
     },
     "execution_count": 51,
     "metadata": {},
     "output_type": "execute_result"
    },
    {
     "data": {
      "image/png": "[encoded data removed]",
      "text/plain": [
       "<Figure size 402.375x360 with 1 Axes>"
      ]
     },
     "metadata": {
      "needs_background": "light"
     },
     "output_type": "display_data"
    },
    {
     "data": {
      "image/png": "[encoded data removed]",
      "text/plain": [
       "<Figure size 360x360 with 1 Axes>"
      ]
     },
     "metadata": {
      "needs_background": "light"
     },
     "output_type": "display_data"
    },
    {
     "data": {
      "image/png": "[encoded data removed]",
      "text/plain": [
       "<Figure size 360x360 with 1 Axes>"
      ]
     },
     "metadata": {
      "needs_background": "light"
     },
     "output_type": "display_data"
    },
    {
     "data": {
      "image/png": "[encoded data removed]",
      "text/plain": [
       "<Figure size 402.375x360 with 1 Axes>"
      ]
     },
     "metadata": {
      "needs_background": "light"
     },
     "output_type": "display_data"
    },
    {
     "data": {
      "image/png": "[encoded data removed]",
      "text/plain": [
       "<Figure size 360x360 with 1 Axes>"
      ]
     },
     "metadata": {
      "needs_background": "light"
     },
     "output_type": "display_data"
    },
    {
     "data": {
      "image/png": "[encoded data removed]",
      "text/plain": [
       "<Figure size 360x360 with 1 Axes>"
      ]
     },
     "metadata": {
      "needs_background": "light"
     },
     "output_type": "display_data"
    }
   ],
   "source": [
    "# sns.factorplot(y = 'Age', x = 'Sex', hue = 'Pclass', kind = 'box', data = combine)\n",
    "# sns.factorplot(y = 'Age', x = 'Parch', kind = 'box', data = combine)\n",
    "# sns.factorplot(y = 'Age', x = 'SibSp', kind = 'box', data = combine)\n",
    "sns.factorplot(y = 'Age', x = 'Sex', hue = 'Pclass', kind = 'box', data = train)\n",
    "sns.factorplot(y = 'Age', x = 'Parch', kind = 'box', data = train)\n",
    "sns.factorplot(y = 'Age', x = 'SibSp', kind = 'box', data = train)\n",
    "sns.factorplot(y = 'Age', x = 'Sex', hue = 'Pclass', kind = 'box', data = test)\n",
    "sns.factorplot(y = 'Age', x = 'Parch', kind = 'box', data = test)\n",
    "sns.factorplot(y = 'Age', x = 'SibSp', kind = 'box', data = test)"
   ]
  },
  {
   "cell_type": "code",
   "execution_count": 52,
   "metadata": {},
   "outputs": [
    {
     "data": {
      "text/plain": [
       "<AxesSubplot:>"
      ]
     },
     "execution_count": 52,
     "metadata": {},
     "output_type": "execute_result"
    },
    {
     "data": {
      "image/png": "[encoded data removed]",
      "text/plain": [
       "<Figure size 432x288 with 2 Axes>"
      ]
     },
     "metadata": {
      "needs_background": "light"
     },
     "output_type": "display_data"
    }
   ],
   "source": [
    "#sns.heatmap(combine.drop(['Survived', 'Name', 'PassengerId', 'Fare'], axis = 1).corr(), annot = True, cmap = 'coolwarm')\n",
    "sns.heatmap(train.drop(['Survived', 'Name', 'PassengerId', 'Fare'], axis = 1).corr(), annot = True, cmap = 'coolwarm')"
   ]
  },
  {
   "cell_type": "markdown",
   "metadata": {},
   "source": [
    "Age is not correlated with Sex but is negatively correlated with SibSp, Parch and Pclass. "
   ]
  },
  {
   "cell_type": "code",
   "execution_count": 53,
   "metadata": {
    "scrolled": true
   },
   "outputs": [],
   "source": [
    "# Check number of missing ages \n",
    "\n",
    "# age_nan_indices = list(combine[combine['Age'].isnull()].index)\n",
    "# len(age_nan_indices)\n",
    "\n",
    "age_nan_indices_train = list(train[train['Age'].isnull()].index)\n",
    "len(age_nan_indices_train)\n",
    "age_nan_indices_test = list(test[test['Age'].isnull()].index)\n"
   ]
  },
  {
   "cell_type": "markdown",
   "metadata": {},
   "source": [
    "Loop through each missing age in the list to locate the rows that have the same SibSp, Parch and PClass values and fill the missing age with the median of those rows. If rows are not found, simply fill the missing age with the median of the entire Age column."
   ]
  },
  {
   "cell_type": "code",
   "execution_count": 54,
   "metadata": {},
   "outputs": [],
   "source": [
    "# Loop through list and impute missing ages\n",
    "\n",
    "# for index in age_nan_indices:\n",
    "#     median_age = combine['Age'].median()\n",
    "#     predict_age = combine['Age'][(combine['SibSp'] == combine.iloc[index]['SibSp']) \n",
    "#                                  & (combine['Parch'] == combine.iloc[index]['Parch'])\n",
    "#                                  & (combine['Pclass'] == combine.iloc[index][\"Pclass\"])].median()\n",
    "#     if np.isnan(predict_age):\n",
    "#         combine['Age'].iloc[index] = median_age\n",
    "#     else:\n",
    "#         combine['Age'].iloc[index] = predict_age\n",
    "\n",
    "for index in age_nan_indices_train:\n",
    "    median_age = train['Age'].median()\n",
    "    predict_age = train['Age'][(train['SibSp'] == train.iloc[index]['SibSp']) \n",
    "                                 & (train['Parch'] == train.iloc[index]['Parch'])\n",
    "                                 & (train['Pclass'] == train.iloc[index][\"Pclass\"])].median()\n",
    "    if np.isnan(predict_age):\n",
    "        train['Age'].iloc[index] = median_age\n",
    "    else:\n",
    "        train['Age'].iloc[index] = predict_age\n",
    "combine = pd.concat([train, test], axis = 0).reset_index(drop = True)\n",
    "meidan_age = combine['Age'].median()\n",
    "for index in age_nan_indices_test:\n",
    "    #use larger sample to fill test data \n",
    "    test['Age'].iloc[index] = median_age  "
   ]
  },
  {
   "cell_type": "code",
   "execution_count": 55,
   "metadata": {},
   "outputs": [
    {
     "name": "stdout",
     "output_type": "stream",
     "text": [
      "0\n"
     ]
    },
    {
     "data": {
      "text/plain": [
       "0"
      ]
     },
     "execution_count": 55,
     "metadata": {},
     "output_type": "execute_result"
    }
   ],
   "source": [
    "# Make sure there is no more missing ages \n",
    "\n",
    "#combine['Age'].isnull().sum()\n",
    "print(train['Age'].isnull().sum())\n",
    "test['Age'].isnull().sum()"
   ]
  },
  {
   "cell_type": "markdown",
   "metadata": {},
   "source": [
    "## 5.3 Data transformation\n",
    "\n",
    "Recall that our passenger fare column has a very high positive skewness. Therefore, we will apply a log transformation to address this issue."
   ]
  },
  {
   "cell_type": "code",
   "execution_count": 56,
   "metadata": {},
   "outputs": [],
   "source": [
    "# Passenger fare distribution\n",
    "\n",
    "# sns.distplot(combine['Fare'], label = 'Skewness: %.2f'%(combine['Fare'].skew()))\n",
    "# plt.legend(loc = 'best')\n",
    "# plt.title('Passenger Fare Distribution')"
   ]
  },
  {
   "cell_type": "code",
   "execution_count": 57,
   "metadata": {},
   "outputs": [],
   "source": [
    "# Apply log transformation to Fare column to reduce skewness\n",
    "\n",
    "#combine['Fare'] = combine['Fare'].map(lambda x: np.log(x) if x > 0 else 0)"
   ]
  },
  {
   "cell_type": "code",
   "execution_count": 58,
   "metadata": {},
   "outputs": [],
   "source": [
    "# Passenger fare distribution after log transformation\n",
    "\n",
    "# sns.distplot(combine['Fare'], label = 'Skewness: %.2f'%(combine['Fare'].skew()))\n",
    "# plt.legend(loc = 'best')\n",
    "# plt.title('Passenger Fare Distribution After Log Transformation')"
   ]
  },
  {
   "cell_type": "markdown",
   "metadata": {},
   "source": [
    "## 5.4 Feature engineering\n",
    "\n",
    "Feature engineering is arguably the most important art in machine learning. It is the process of creating new features from existing features to better represent the underlying problem to the predictive models resulting in improved model accuracy on unseen data.\n",
    "\n",
    "In this section, I will construct 3 new features:\n",
    "- Title\n",
    "- IsAlone\n",
    "- Age*Class"
   ]
  },
  {
   "cell_type": "markdown",
   "metadata": {},
   "source": [
    "### 5.4.1 Title"
   ]
  },
  {
   "cell_type": "code",
   "execution_count": 59,
   "metadata": {},
   "outputs": [
    {
     "data": {
      "text/html": [
       "<div>\n",
       "<style scoped>\n",
       "    .dataframe tbody tr th:only-of-type {\n",
       "        vertical-align: middle;\n",
       "    }\n",
       "\n",
       "    .dataframe tbody tr th {\n",
       "        vertical-align: top;\n",
       "    }\n",
       "\n",
       "    .dataframe thead th {\n",
       "        text-align: right;\n",
       "    }\n",
       "</style>\n",
       "<table border=\"1\" class=\"dataframe\">\n",
       "  <thead>\n",
       "    <tr style=\"text-align: right;\">\n",
       "      <th></th>\n",
       "      <th>PassengerId</th>\n",
       "      <th>Survived</th>\n",
       "      <th>Pclass</th>\n",
       "      <th>Name</th>\n",
       "      <th>Sex</th>\n",
       "      <th>Age</th>\n",
       "      <th>SibSp</th>\n",
       "      <th>Parch</th>\n",
       "      <th>Fare</th>\n",
       "      <th>Embarked</th>\n",
       "    </tr>\n",
       "  </thead>\n",
       "  <tbody>\n",
       "    <tr>\n",
       "      <th>0</th>\n",
       "      <td>1</td>\n",
       "      <td>0</td>\n",
       "      <td>3</td>\n",
       "      <td>Braund, Mr. Owen Harris</td>\n",
       "      <td>0</td>\n",
       "      <td>22.0</td>\n",
       "      <td>1</td>\n",
       "      <td>0</td>\n",
       "      <td>7.2500</td>\n",
       "      <td>S</td>\n",
       "    </tr>\n",
       "    <tr>\n",
       "      <th>1</th>\n",
       "      <td>2</td>\n",
       "      <td>1</td>\n",
       "      <td>1</td>\n",
       "      <td>Cumings, Mrs. John Bradley (Florence Briggs Th...</td>\n",
       "      <td>1</td>\n",
       "      <td>38.0</td>\n",
       "      <td>1</td>\n",
       "      <td>0</td>\n",
       "      <td>71.2833</td>\n",
       "      <td>C</td>\n",
       "    </tr>\n",
       "    <tr>\n",
       "      <th>2</th>\n",
       "      <td>3</td>\n",
       "      <td>1</td>\n",
       "      <td>3</td>\n",
       "      <td>Heikkinen, Miss. Laina</td>\n",
       "      <td>1</td>\n",
       "      <td>26.0</td>\n",
       "      <td>0</td>\n",
       "      <td>0</td>\n",
       "      <td>7.9250</td>\n",
       "      <td>S</td>\n",
       "    </tr>\n",
       "    <tr>\n",
       "      <th>3</th>\n",
       "      <td>4</td>\n",
       "      <td>1</td>\n",
       "      <td>1</td>\n",
       "      <td>Futrelle, Mrs. Jacques Heath (Lily May Peel)</td>\n",
       "      <td>1</td>\n",
       "      <td>35.0</td>\n",
       "      <td>1</td>\n",
       "      <td>0</td>\n",
       "      <td>53.1000</td>\n",
       "      <td>S</td>\n",
       "    </tr>\n",
       "    <tr>\n",
       "      <th>4</th>\n",
       "      <td>5</td>\n",
       "      <td>0</td>\n",
       "      <td>3</td>\n",
       "      <td>Allen, Mr. William Henry</td>\n",
       "      <td>0</td>\n",
       "      <td>35.0</td>\n",
       "      <td>0</td>\n",
       "      <td>0</td>\n",
       "      <td>8.0500</td>\n",
       "      <td>S</td>\n",
       "    </tr>\n",
       "  </tbody>\n",
       "</table>\n",
       "</div>"
      ],
      "text/plain": [
       "   PassengerId  Survived  Pclass  \\\n",
       "0            1         0       3   \n",
       "1            2         1       1   \n",
       "2            3         1       3   \n",
       "3            4         1       1   \n",
       "4            5         0       3   \n",
       "\n",
       "                                                Name  Sex   Age  SibSp  Parch  \\\n",
       "0                            Braund, Mr. Owen Harris    0  22.0      1      0   \n",
       "1  Cumings, Mrs. John Bradley (Florence Briggs Th...    1  38.0      1      0   \n",
       "2                             Heikkinen, Miss. Laina    1  26.0      0      0   \n",
       "3       Futrelle, Mrs. Jacques Heath (Lily May Peel)    1  35.0      1      0   \n",
       "4                           Allen, Mr. William Henry    0  35.0      0      0   \n",
       "\n",
       "      Fare Embarked  \n",
       "0   7.2500        S  \n",
       "1  71.2833        C  \n",
       "2   7.9250        S  \n",
       "3  53.1000        S  \n",
       "4   8.0500        S  "
      ]
     },
     "execution_count": 59,
     "metadata": {},
     "output_type": "execute_result"
    }
   ],
   "source": [
    "#combine.head()\n",
    "train.head()"
   ]
  },
  {
   "cell_type": "code",
   "execution_count": 60,
   "metadata": {},
   "outputs": [
    {
     "data": {
      "text/html": [
       "<div>\n",
       "<style scoped>\n",
       "    .dataframe tbody tr th:only-of-type {\n",
       "        vertical-align: middle;\n",
       "    }\n",
       "\n",
       "    .dataframe tbody tr th {\n",
       "        vertical-align: top;\n",
       "    }\n",
       "\n",
       "    .dataframe thead th {\n",
       "        text-align: right;\n",
       "    }\n",
       "</style>\n",
       "<table border=\"1\" class=\"dataframe\">\n",
       "  <thead>\n",
       "    <tr style=\"text-align: right;\">\n",
       "      <th></th>\n",
       "      <th>Name</th>\n",
       "      <th>Title</th>\n",
       "    </tr>\n",
       "  </thead>\n",
       "  <tbody>\n",
       "    <tr>\n",
       "      <th>0</th>\n",
       "      <td>Kelly, Mr. James</td>\n",
       "      <td>Mr</td>\n",
       "    </tr>\n",
       "    <tr>\n",
       "      <th>1</th>\n",
       "      <td>Wilkes, Mrs. James (Ellen Needs)</td>\n",
       "      <td>Mrs</td>\n",
       "    </tr>\n",
       "    <tr>\n",
       "      <th>2</th>\n",
       "      <td>Myles, Mr. Thomas Francis</td>\n",
       "      <td>Mr</td>\n",
       "    </tr>\n",
       "    <tr>\n",
       "      <th>3</th>\n",
       "      <td>Wirz, Mr. Albert</td>\n",
       "      <td>Mr</td>\n",
       "    </tr>\n",
       "    <tr>\n",
       "      <th>4</th>\n",
       "      <td>Hirvonen, Mrs. Alexander (Helga E Lindqvist)</td>\n",
       "      <td>Mrs</td>\n",
       "    </tr>\n",
       "  </tbody>\n",
       "</table>\n",
       "</div>"
      ],
      "text/plain": [
       "                                           Name Title\n",
       "0                              Kelly, Mr. James    Mr\n",
       "1              Wilkes, Mrs. James (Ellen Needs)   Mrs\n",
       "2                     Myles, Mr. Thomas Francis    Mr\n",
       "3                              Wirz, Mr. Albert    Mr\n",
       "4  Hirvonen, Mrs. Alexander (Helga E Lindqvist)   Mrs"
      ]
     },
     "execution_count": 60,
     "metadata": {},
     "output_type": "execute_result"
    }
   ],
   "source": [
    "# Get title from name\n",
    "\n",
    "# combine['Title'] = [name.split(',')[1].split('.')[0].strip() for name in combine['Name']]\n",
    "# combine[['Name', 'Title']].head()\n",
    "\n",
    "train['Title'] = [name.split(',')[1].split('.')[0].strip() for name in train['Name']]\n",
    "train[['Name', 'Title']].head()\n",
    "test['Title'] = [name.split(',')[1].split('.')[0].strip() for name in test['Name']]\n",
    "test[['Name', 'Title']].head()"
   ]
  },
  {
   "cell_type": "code",
   "execution_count": 61,
   "metadata": {},
   "outputs": [
    {
     "data": {
      "text/plain": [
       "Mr              517\n",
       "Miss            182\n",
       "Mrs             125\n",
       "Master           40\n",
       "Dr                7\n",
       "Rev               6\n",
       "Mlle              2\n",
       "Major             2\n",
       "Col               2\n",
       "the Countess      1\n",
       "Capt              1\n",
       "Ms                1\n",
       "Sir               1\n",
       "Lady              1\n",
       "Mme               1\n",
       "Don               1\n",
       "Jonkheer          1\n",
       "Name: Title, dtype: int64"
      ]
     },
     "execution_count": 61,
     "metadata": {},
     "output_type": "execute_result"
    }
   ],
   "source": [
    "# Value counts of Title\n",
    "\n",
    "#combine['Title'].value_counts()\n",
    "train['Title'].value_counts()"
   ]
  },
  {
   "cell_type": "code",
   "execution_count": 62,
   "metadata": {
    "scrolled": true
   },
   "outputs": [
    {
     "data": {
      "text/plain": [
       "17"
      ]
     },
     "execution_count": 62,
     "metadata": {},
     "output_type": "execute_result"
    }
   ],
   "source": [
    "# Number of unique Title\n",
    "\n",
    "#combine['Title'].nunique()\n",
    "train['Title'].nunique()"
   ]
  },
  {
   "cell_type": "code",
   "execution_count": 63,
   "metadata": {},
   "outputs": [
    {
     "data": {
      "text/plain": [
       "Mr        240\n",
       "Miss       78\n",
       "Mrs        72\n",
       "Master     21\n",
       "Col         2\n",
       "Rev         2\n",
       "Ms          1\n",
       "Dr          1\n",
       "Dona        1\n",
       "Name: Title, dtype: int64"
      ]
     },
     "execution_count": 63,
     "metadata": {},
     "output_type": "execute_result"
    }
   ],
   "source": [
    "# visualise the testing titles\n",
    "test['Title'].value_counts()"
   ]
  },
  {
   "cell_type": "code",
   "execution_count": 64,
   "metadata": {},
   "outputs": [],
   "source": [
    "# Simplify title\n",
    "\n",
    "# combine['Title'] = combine['Title'].replace(['Dr', 'Rev', 'Col', 'Major', 'Lady', 'Jonkheer', 'Don', 'Capt', 'the Countess',\n",
    "#                                              'Sir', 'Dona'], 'Rare')\n",
    "# combine['Title'] = combine['Title'].replace(['Mlle', 'Ms'], 'Miss')\n",
    "# combine['Title'] = combine['Title'].replace('Mme', 'Mrs')\n",
    "\n",
    "train['Title'] = train['Title'].replace(['Dr', 'Rev', 'Col', 'Major', 'Lady', 'Jonkheer', 'Don', 'Capt', 'the Countess',\n",
    "                                             'Sir'], 'Rare')\n",
    "train['Title'] = train['Title'].replace(['Mlle', 'Ms'], 'Miss')\n",
    "train['Title'] = train['Title'].replace('Mme', 'Mrs')\n",
    "\n",
    "test['Title'] = test['Title'].replace(['Dr', 'Rev', 'Col',  'Capt', 'Dona'], 'Rare')\n",
    "test['Title'] = test['Title'].replace(['Ms'], 'Miss')\n"
   ]
  },
  {
   "cell_type": "code",
   "execution_count": 65,
   "metadata": {},
   "outputs": [
    {
     "data": {
      "text/plain": [
       "<AxesSubplot:xlabel='Title', ylabel='count'>"
      ]
     },
     "execution_count": 65,
     "metadata": {},
     "output_type": "execute_result"
    },
    {
     "data": {
      "image/png": "[encoded data removed]",
      "text/plain": [
       "<Figure size 432x288 with 1 Axes>"
      ]
     },
     "metadata": {
      "needs_background": "light"
     },
     "output_type": "display_data"
    }
   ],
   "source": [
    "# sns.countplot(combine['Title'])\n",
    "sns.countplot(train['Title'])\n",
    "sns.countplot(test['Title'])"
   ]
  },
  {
   "cell_type": "code",
   "execution_count": 66,
   "metadata": {},
   "outputs": [
    {
     "data": {
      "text/html": [
       "<div>\n",
       "<style scoped>\n",
       "    .dataframe tbody tr th:only-of-type {\n",
       "        vertical-align: middle;\n",
       "    }\n",
       "\n",
       "    .dataframe tbody tr th {\n",
       "        vertical-align: top;\n",
       "    }\n",
       "\n",
       "    .dataframe thead th {\n",
       "        text-align: right;\n",
       "    }\n",
       "</style>\n",
       "<table border=\"1\" class=\"dataframe\">\n",
       "  <thead>\n",
       "    <tr style=\"text-align: right;\">\n",
       "      <th></th>\n",
       "      <th>Title</th>\n",
       "      <th>Survived</th>\n",
       "    </tr>\n",
       "  </thead>\n",
       "  <tbody>\n",
       "    <tr>\n",
       "      <th>3</th>\n",
       "      <td>Mrs</td>\n",
       "      <td>0.793651</td>\n",
       "    </tr>\n",
       "    <tr>\n",
       "      <th>1</th>\n",
       "      <td>Miss</td>\n",
       "      <td>0.702703</td>\n",
       "    </tr>\n",
       "    <tr>\n",
       "      <th>0</th>\n",
       "      <td>Master</td>\n",
       "      <td>0.575000</td>\n",
       "    </tr>\n",
       "    <tr>\n",
       "      <th>4</th>\n",
       "      <td>Rare</td>\n",
       "      <td>0.347826</td>\n",
       "    </tr>\n",
       "    <tr>\n",
       "      <th>2</th>\n",
       "      <td>Mr</td>\n",
       "      <td>0.156673</td>\n",
       "    </tr>\n",
       "  </tbody>\n",
       "</table>\n",
       "</div>"
      ],
      "text/plain": [
       "    Title  Survived\n",
       "3     Mrs  0.793651\n",
       "1    Miss  0.702703\n",
       "0  Master  0.575000\n",
       "4    Rare  0.347826\n",
       "2      Mr  0.156673"
      ]
     },
     "execution_count": 66,
     "metadata": {},
     "output_type": "execute_result"
    }
   ],
   "source": [
    "# Mean of survival by name title\n",
    "\n",
    "#combine[['Title', 'Survived']].groupby(['Title'], as_index = False).mean().sort_values(by = 'Survived', ascending = False)\n",
    "train[['Title', 'Survived']].groupby(['Title'], as_index = False).mean().sort_values(by = 'Survived', ascending = False)"
   ]
  },
  {
   "cell_type": "code",
   "execution_count": 67,
   "metadata": {},
   "outputs": [
    {
     "data": {
      "text/plain": [
       "Text(0.5, 1.0, 'Mean of survival by Title')"
      ]
     },
     "execution_count": 67,
     "metadata": {},
     "output_type": "execute_result"
    },
    {
     "data": {
      "image/png": "[encoded data removed]",
      "text/plain": [
       "<Figure size 360x360 with 1 Axes>"
      ]
     },
     "metadata": {
      "needs_background": "light"
     },
     "output_type": "display_data"
    }
   ],
   "source": [
    "# sns.factorplot(x = 'Title', y = 'Survived', data = combine, kind = 'bar')\n",
    "# plt.ylabel('Survival Probability')\n",
    "# plt.title('Mean of survival by Title')\n",
    "\n",
    "sns.factorplot(x = 'Title', y = 'Survived', data = train, kind = 'bar')\n",
    "plt.ylabel('Survival Probability')\n",
    "plt.title('Mean of survival by Title')\n"
   ]
  },
  {
   "cell_type": "code",
   "execution_count": 68,
   "metadata": {},
   "outputs": [
    {
     "data": {
      "text/html": [
       "<div>\n",
       "<style scoped>\n",
       "    .dataframe tbody tr th:only-of-type {\n",
       "        vertical-align: middle;\n",
       "    }\n",
       "\n",
       "    .dataframe tbody tr th {\n",
       "        vertical-align: top;\n",
       "    }\n",
       "\n",
       "    .dataframe thead th {\n",
       "        text-align: right;\n",
       "    }\n",
       "</style>\n",
       "<table border=\"1\" class=\"dataframe\">\n",
       "  <thead>\n",
       "    <tr style=\"text-align: right;\">\n",
       "      <th></th>\n",
       "      <th>PassengerId</th>\n",
       "      <th>Pclass</th>\n",
       "      <th>Sex</th>\n",
       "      <th>Age</th>\n",
       "      <th>SibSp</th>\n",
       "      <th>Parch</th>\n",
       "      <th>Fare</th>\n",
       "      <th>Embarked</th>\n",
       "      <th>Title</th>\n",
       "    </tr>\n",
       "  </thead>\n",
       "  <tbody>\n",
       "    <tr>\n",
       "      <th>0</th>\n",
       "      <td>892</td>\n",
       "      <td>3</td>\n",
       "      <td>0</td>\n",
       "      <td>34.5</td>\n",
       "      <td>0</td>\n",
       "      <td>0</td>\n",
       "      <td>7.8292</td>\n",
       "      <td>Q</td>\n",
       "      <td>Mr</td>\n",
       "    </tr>\n",
       "    <tr>\n",
       "      <th>1</th>\n",
       "      <td>893</td>\n",
       "      <td>3</td>\n",
       "      <td>1</td>\n",
       "      <td>47.0</td>\n",
       "      <td>1</td>\n",
       "      <td>0</td>\n",
       "      <td>7.0000</td>\n",
       "      <td>S</td>\n",
       "      <td>Mrs</td>\n",
       "    </tr>\n",
       "    <tr>\n",
       "      <th>2</th>\n",
       "      <td>894</td>\n",
       "      <td>2</td>\n",
       "      <td>0</td>\n",
       "      <td>62.0</td>\n",
       "      <td>0</td>\n",
       "      <td>0</td>\n",
       "      <td>9.6875</td>\n",
       "      <td>Q</td>\n",
       "      <td>Mr</td>\n",
       "    </tr>\n",
       "    <tr>\n",
       "      <th>3</th>\n",
       "      <td>895</td>\n",
       "      <td>3</td>\n",
       "      <td>0</td>\n",
       "      <td>27.0</td>\n",
       "      <td>0</td>\n",
       "      <td>0</td>\n",
       "      <td>8.6625</td>\n",
       "      <td>S</td>\n",
       "      <td>Mr</td>\n",
       "    </tr>\n",
       "    <tr>\n",
       "      <th>4</th>\n",
       "      <td>896</td>\n",
       "      <td>3</td>\n",
       "      <td>1</td>\n",
       "      <td>22.0</td>\n",
       "      <td>1</td>\n",
       "      <td>1</td>\n",
       "      <td>12.2875</td>\n",
       "      <td>S</td>\n",
       "      <td>Mrs</td>\n",
       "    </tr>\n",
       "  </tbody>\n",
       "</table>\n",
       "</div>"
      ],
      "text/plain": [
       "   PassengerId  Pclass  Sex   Age  SibSp  Parch     Fare Embarked Title\n",
       "0          892       3    0  34.5      0      0   7.8292        Q    Mr\n",
       "1          893       3    1  47.0      1      0   7.0000        S   Mrs\n",
       "2          894       2    0  62.0      0      0   9.6875        Q    Mr\n",
       "3          895       3    0  27.0      0      0   8.6625        S    Mr\n",
       "4          896       3    1  22.0      1      1  12.2875        S   Mrs"
      ]
     },
     "execution_count": 68,
     "metadata": {},
     "output_type": "execute_result"
    }
   ],
   "source": [
    "# Drop name column\n",
    "\n",
    "# combine = combine.drop('Name', axis = 1)\n",
    "# combine.head()\n",
    "\n",
    "train = train.drop('Name', axis = 1)\n",
    "train.head()\n",
    "\n",
    "test = test.drop('Name', axis = 1)\n",
    "test.head()"
   ]
  },
  {
   "cell_type": "markdown",
   "metadata": {},
   "source": [
    "### 5.4.2 IsAlone"
   ]
  },
  {
   "cell_type": "code",
   "execution_count": 69,
   "metadata": {},
   "outputs": [
    {
     "data": {
      "text/html": [
       "<div>\n",
       "<style scoped>\n",
       "    .dataframe tbody tr th:only-of-type {\n",
       "        vertical-align: middle;\n",
       "    }\n",
       "\n",
       "    .dataframe tbody tr th {\n",
       "        vertical-align: top;\n",
       "    }\n",
       "\n",
       "    .dataframe thead th {\n",
       "        text-align: right;\n",
       "    }\n",
       "</style>\n",
       "<table border=\"1\" class=\"dataframe\">\n",
       "  <thead>\n",
       "    <tr style=\"text-align: right;\">\n",
       "      <th></th>\n",
       "      <th>SibSp</th>\n",
       "      <th>Parch</th>\n",
       "      <th>FamilySize</th>\n",
       "    </tr>\n",
       "  </thead>\n",
       "  <tbody>\n",
       "    <tr>\n",
       "      <th>0</th>\n",
       "      <td>0</td>\n",
       "      <td>0</td>\n",
       "      <td>1</td>\n",
       "    </tr>\n",
       "    <tr>\n",
       "      <th>1</th>\n",
       "      <td>1</td>\n",
       "      <td>0</td>\n",
       "      <td>2</td>\n",
       "    </tr>\n",
       "    <tr>\n",
       "      <th>2</th>\n",
       "      <td>0</td>\n",
       "      <td>0</td>\n",
       "      <td>1</td>\n",
       "    </tr>\n",
       "    <tr>\n",
       "      <th>3</th>\n",
       "      <td>0</td>\n",
       "      <td>0</td>\n",
       "      <td>1</td>\n",
       "    </tr>\n",
       "    <tr>\n",
       "      <th>4</th>\n",
       "      <td>1</td>\n",
       "      <td>1</td>\n",
       "      <td>3</td>\n",
       "    </tr>\n",
       "    <tr>\n",
       "      <th>5</th>\n",
       "      <td>0</td>\n",
       "      <td>0</td>\n",
       "      <td>1</td>\n",
       "    </tr>\n",
       "    <tr>\n",
       "      <th>6</th>\n",
       "      <td>0</td>\n",
       "      <td>0</td>\n",
       "      <td>1</td>\n",
       "    </tr>\n",
       "    <tr>\n",
       "      <th>7</th>\n",
       "      <td>1</td>\n",
       "      <td>1</td>\n",
       "      <td>3</td>\n",
       "    </tr>\n",
       "    <tr>\n",
       "      <th>8</th>\n",
       "      <td>0</td>\n",
       "      <td>0</td>\n",
       "      <td>1</td>\n",
       "    </tr>\n",
       "    <tr>\n",
       "      <th>9</th>\n",
       "      <td>2</td>\n",
       "      <td>0</td>\n",
       "      <td>3</td>\n",
       "    </tr>\n",
       "  </tbody>\n",
       "</table>\n",
       "</div>"
      ],
      "text/plain": [
       "   SibSp  Parch  FamilySize\n",
       "0      0      0           1\n",
       "1      1      0           2\n",
       "2      0      0           1\n",
       "3      0      0           1\n",
       "4      1      1           3\n",
       "5      0      0           1\n",
       "6      0      0           1\n",
       "7      1      1           3\n",
       "8      0      0           1\n",
       "9      2      0           3"
      ]
     },
     "execution_count": 69,
     "metadata": {},
     "output_type": "execute_result"
    }
   ],
   "source": [
    "# Calculate family size from SibSp and Parch\n",
    "\n",
    "# combine['FamilySize'] = combine['SibSp'] + combine['Parch'] + 1\n",
    "# combine[['SibSp', 'Parch', 'FamilySize']].head(10)\n",
    "train['FamilySize'] = train['SibSp'] + train['Parch'] + 1\n",
    "train[['SibSp', 'Parch', 'FamilySize']].head(10)\n",
    "\n",
    "test['FamilySize'] = test['SibSp'] + test['Parch'] + 1\n",
    "test[['SibSp', 'Parch', 'FamilySize']].head(10)"
   ]
  },
  {
   "cell_type": "code",
   "execution_count": 70,
   "metadata": {},
   "outputs": [
    {
     "data": {
      "text/html": [
       "<div>\n",
       "<style scoped>\n",
       "    .dataframe tbody tr th:only-of-type {\n",
       "        vertical-align: middle;\n",
       "    }\n",
       "\n",
       "    .dataframe tbody tr th {\n",
       "        vertical-align: top;\n",
       "    }\n",
       "\n",
       "    .dataframe thead th {\n",
       "        text-align: right;\n",
       "    }\n",
       "</style>\n",
       "<table border=\"1\" class=\"dataframe\">\n",
       "  <thead>\n",
       "    <tr style=\"text-align: right;\">\n",
       "      <th></th>\n",
       "      <th>FamilySize</th>\n",
       "      <th>Survived</th>\n",
       "    </tr>\n",
       "  </thead>\n",
       "  <tbody>\n",
       "    <tr>\n",
       "      <th>3</th>\n",
       "      <td>4</td>\n",
       "      <td>0.724138</td>\n",
       "    </tr>\n",
       "    <tr>\n",
       "      <th>2</th>\n",
       "      <td>3</td>\n",
       "      <td>0.578431</td>\n",
       "    </tr>\n",
       "    <tr>\n",
       "      <th>1</th>\n",
       "      <td>2</td>\n",
       "      <td>0.552795</td>\n",
       "    </tr>\n",
       "    <tr>\n",
       "      <th>6</th>\n",
       "      <td>7</td>\n",
       "      <td>0.333333</td>\n",
       "    </tr>\n",
       "    <tr>\n",
       "      <th>0</th>\n",
       "      <td>1</td>\n",
       "      <td>0.303538</td>\n",
       "    </tr>\n",
       "    <tr>\n",
       "      <th>4</th>\n",
       "      <td>5</td>\n",
       "      <td>0.200000</td>\n",
       "    </tr>\n",
       "    <tr>\n",
       "      <th>5</th>\n",
       "      <td>6</td>\n",
       "      <td>0.136364</td>\n",
       "    </tr>\n",
       "    <tr>\n",
       "      <th>7</th>\n",
       "      <td>8</td>\n",
       "      <td>0.000000</td>\n",
       "    </tr>\n",
       "    <tr>\n",
       "      <th>8</th>\n",
       "      <td>11</td>\n",
       "      <td>0.000000</td>\n",
       "    </tr>\n",
       "  </tbody>\n",
       "</table>\n",
       "</div>"
      ],
      "text/plain": [
       "   FamilySize  Survived\n",
       "3           4  0.724138\n",
       "2           3  0.578431\n",
       "1           2  0.552795\n",
       "6           7  0.333333\n",
       "0           1  0.303538\n",
       "4           5  0.200000\n",
       "5           6  0.136364\n",
       "7           8  0.000000\n",
       "8          11  0.000000"
      ]
     },
     "execution_count": 70,
     "metadata": {},
     "output_type": "execute_result"
    }
   ],
   "source": [
    "# Mean of survival by family size\n",
    "\n",
    "#combine[['FamilySize', 'Survived']].groupby('FamilySize', as_index = False).mean().sort_values(by = 'Survived', ascending = False)\n",
    "train[['FamilySize', 'Survived']].groupby('FamilySize', as_index = False).mean().sort_values(by = 'Survived', ascending = False)"
   ]
  },
  {
   "cell_type": "code",
   "execution_count": 71,
   "metadata": {},
   "outputs": [],
   "source": [
    "# Create IsAlone feature\n",
    "\n",
    "# combine['IsAlone'] = 0\n",
    "# combine.loc[combine['FamilySize'] == 1, 'IsAlone'] = 1\n",
    "\n",
    "train['IsAlone'] = 0\n",
    "train.loc[train['FamilySize'] == 1, 'IsAlone'] = 1\n",
    "\n",
    "test['IsAlone'] = 0\n",
    "test.loc[test['FamilySize'] == 1, 'IsAlone'] = 1"
   ]
  },
  {
   "cell_type": "code",
   "execution_count": 72,
   "metadata": {},
   "outputs": [
    {
     "data": {
      "text/html": [
       "<div>\n",
       "<style scoped>\n",
       "    .dataframe tbody tr th:only-of-type {\n",
       "        vertical-align: middle;\n",
       "    }\n",
       "\n",
       "    .dataframe tbody tr th {\n",
       "        vertical-align: top;\n",
       "    }\n",
       "\n",
       "    .dataframe thead th {\n",
       "        text-align: right;\n",
       "    }\n",
       "</style>\n",
       "<table border=\"1\" class=\"dataframe\">\n",
       "  <thead>\n",
       "    <tr style=\"text-align: right;\">\n",
       "      <th></th>\n",
       "      <th>IsAlone</th>\n",
       "      <th>FamilySize</th>\n",
       "      <th>Survived</th>\n",
       "    </tr>\n",
       "  </thead>\n",
       "  <tbody>\n",
       "    <tr>\n",
       "      <th>0</th>\n",
       "      <td>0</td>\n",
       "      <td>3.276836</td>\n",
       "      <td>0.505650</td>\n",
       "    </tr>\n",
       "    <tr>\n",
       "      <th>1</th>\n",
       "      <td>1</td>\n",
       "      <td>1.000000</td>\n",
       "      <td>0.303538</td>\n",
       "    </tr>\n",
       "  </tbody>\n",
       "</table>\n",
       "</div>"
      ],
      "text/plain": [
       "   IsAlone  FamilySize  Survived\n",
       "0        0    3.276836  0.505650\n",
       "1        1    1.000000  0.303538"
      ]
     },
     "execution_count": 72,
     "metadata": {},
     "output_type": "execute_result"
    }
   ],
   "source": [
    "# Mean of survival by IsAlone\n",
    "\n",
    "#combine[['IsAlone', 'Survived']].groupby('IsAlone', as_index = False).mean().sort_values(by = 'Survived', ascending = False)\n",
    "train[['IsAlone', 'FamilySize', 'Survived']].groupby('IsAlone', as_index = False).mean().sort_values(by = 'Survived', ascending = False)"
   ]
  },
  {
   "cell_type": "code",
   "execution_count": 73,
   "metadata": {
    "scrolled": true
   },
   "outputs": [
    {
     "data": {
      "text/html": [
       "<div>\n",
       "<style scoped>\n",
       "    .dataframe tbody tr th:only-of-type {\n",
       "        vertical-align: middle;\n",
       "    }\n",
       "\n",
       "    .dataframe tbody tr th {\n",
       "        vertical-align: top;\n",
       "    }\n",
       "\n",
       "    .dataframe thead th {\n",
       "        text-align: right;\n",
       "    }\n",
       "</style>\n",
       "<table border=\"1\" class=\"dataframe\">\n",
       "  <thead>\n",
       "    <tr style=\"text-align: right;\">\n",
       "      <th></th>\n",
       "      <th>PassengerId</th>\n",
       "      <th>Survived</th>\n",
       "      <th>Pclass</th>\n",
       "      <th>Sex</th>\n",
       "      <th>Age</th>\n",
       "      <th>Fare</th>\n",
       "      <th>Embarked</th>\n",
       "      <th>Title</th>\n",
       "      <th>IsAlone</th>\n",
       "    </tr>\n",
       "  </thead>\n",
       "  <tbody>\n",
       "    <tr>\n",
       "      <th>0</th>\n",
       "      <td>1</td>\n",
       "      <td>0</td>\n",
       "      <td>3</td>\n",
       "      <td>0</td>\n",
       "      <td>22.0</td>\n",
       "      <td>7.2500</td>\n",
       "      <td>S</td>\n",
       "      <td>Mr</td>\n",
       "      <td>0</td>\n",
       "    </tr>\n",
       "    <tr>\n",
       "      <th>1</th>\n",
       "      <td>2</td>\n",
       "      <td>1</td>\n",
       "      <td>1</td>\n",
       "      <td>1</td>\n",
       "      <td>38.0</td>\n",
       "      <td>71.2833</td>\n",
       "      <td>C</td>\n",
       "      <td>Mrs</td>\n",
       "      <td>0</td>\n",
       "    </tr>\n",
       "    <tr>\n",
       "      <th>2</th>\n",
       "      <td>3</td>\n",
       "      <td>1</td>\n",
       "      <td>3</td>\n",
       "      <td>1</td>\n",
       "      <td>26.0</td>\n",
       "      <td>7.9250</td>\n",
       "      <td>S</td>\n",
       "      <td>Miss</td>\n",
       "      <td>1</td>\n",
       "    </tr>\n",
       "    <tr>\n",
       "      <th>3</th>\n",
       "      <td>4</td>\n",
       "      <td>1</td>\n",
       "      <td>1</td>\n",
       "      <td>1</td>\n",
       "      <td>35.0</td>\n",
       "      <td>53.1000</td>\n",
       "      <td>S</td>\n",
       "      <td>Mrs</td>\n",
       "      <td>0</td>\n",
       "    </tr>\n",
       "    <tr>\n",
       "      <th>4</th>\n",
       "      <td>5</td>\n",
       "      <td>0</td>\n",
       "      <td>3</td>\n",
       "      <td>0</td>\n",
       "      <td>35.0</td>\n",
       "      <td>8.0500</td>\n",
       "      <td>S</td>\n",
       "      <td>Mr</td>\n",
       "      <td>1</td>\n",
       "    </tr>\n",
       "  </tbody>\n",
       "</table>\n",
       "</div>"
      ],
      "text/plain": [
       "   PassengerId  Survived  Pclass  Sex   Age     Fare Embarked Title  IsAlone\n",
       "0            1         0       3    0  22.0   7.2500        S    Mr        0\n",
       "1            2         1       1    1  38.0  71.2833        C   Mrs        0\n",
       "2            3         1       3    1  26.0   7.9250        S  Miss        1\n",
       "3            4         1       1    1  35.0  53.1000        S   Mrs        0\n",
       "4            5         0       3    0  35.0   8.0500        S    Mr        1"
      ]
     },
     "execution_count": 73,
     "metadata": {},
     "output_type": "execute_result"
    }
   ],
   "source": [
    "# Drop SibSp, Parch and FamilySize features from combine dataframe\n",
    "\n",
    "# combine = combine.drop(['SibSp', 'Parch','FamilySize'], axis = 1)\n",
    "# combine.head()\n",
    "\n",
    "train = train.drop(['SibSp', 'Parch','FamilySize'], axis = 1)\n",
    "test = test.drop(['SibSp', 'Parch','FamilySize'], axis = 1)\n",
    "train.head()"
   ]
  },
  {
   "cell_type": "markdown",
   "metadata": {},
   "source": [
    "### 5.4.3 Age*Class"
   ]
  },
  {
   "cell_type": "markdown",
   "metadata": {},
   "source": [
    "To create our new Age*Class feature, we need to first transform Age into an ordinal variable. Ordinal variable is much like a categorical variable but with intrisinc ordering in their values. \n",
    "\n",
    "We will group Ages into 5 separate age bands and assign a number to each age band."
   ]
  },
  {
   "cell_type": "code",
   "execution_count": 74,
   "metadata": {},
   "outputs": [
    {
     "data": {
      "text/html": [
       "<div>\n",
       "<style scoped>\n",
       "    .dataframe tbody tr th:only-of-type {\n",
       "        vertical-align: middle;\n",
       "    }\n",
       "\n",
       "    .dataframe tbody tr th {\n",
       "        vertical-align: top;\n",
       "    }\n",
       "\n",
       "    .dataframe thead th {\n",
       "        text-align: right;\n",
       "    }\n",
       "</style>\n",
       "<table border=\"1\" class=\"dataframe\">\n",
       "  <thead>\n",
       "    <tr style=\"text-align: right;\">\n",
       "      <th></th>\n",
       "      <th>AgeBand</th>\n",
       "      <th>Survived</th>\n",
       "    </tr>\n",
       "  </thead>\n",
       "  <tbody>\n",
       "    <tr>\n",
       "      <th>0</th>\n",
       "      <td>(0.34, 16.336]</td>\n",
       "      <td>0.518868</td>\n",
       "    </tr>\n",
       "    <tr>\n",
       "      <th>1</th>\n",
       "      <td>(16.336, 32.252]</td>\n",
       "      <td>0.340862</td>\n",
       "    </tr>\n",
       "    <tr>\n",
       "      <th>2</th>\n",
       "      <td>(32.252, 48.168]</td>\n",
       "      <td>0.412844</td>\n",
       "    </tr>\n",
       "    <tr>\n",
       "      <th>3</th>\n",
       "      <td>(48.168, 64.084]</td>\n",
       "      <td>0.434783</td>\n",
       "    </tr>\n",
       "    <tr>\n",
       "      <th>4</th>\n",
       "      <td>(64.084, 80.0]</td>\n",
       "      <td>0.090909</td>\n",
       "    </tr>\n",
       "  </tbody>\n",
       "</table>\n",
       "</div>"
      ],
      "text/plain": [
       "            AgeBand  Survived\n",
       "0    (0.34, 16.336]  0.518868\n",
       "1  (16.336, 32.252]  0.340862\n",
       "2  (32.252, 48.168]  0.412844\n",
       "3  (48.168, 64.084]  0.434783\n",
       "4    (64.084, 80.0]  0.090909"
      ]
     },
     "execution_count": 74,
     "metadata": {},
     "output_type": "execute_result"
    }
   ],
   "source": [
    "# Create age bands and compute mean of survival by age bands\n",
    "\n",
    "# combine['AgeBand'] = pd.cut(combine['Age'], 5)\n",
    "# combine[['AgeBand', 'Survived']].groupby('AgeBand', as_index=False).mean().sort_values(by = 'AgeBand')\n",
    "\n",
    "train['AgeBand'] = pd.cut(train['Age'], 5)\n",
    "test['AgeBand'] = pd.cut(test['Age'], 5)\n",
    "train[['AgeBand', 'Survived']].groupby('AgeBand', as_index=False).mean().sort_values(by = 'AgeBand')"
   ]
  },
  {
   "cell_type": "code",
   "execution_count": 75,
   "metadata": {},
   "outputs": [],
   "source": [
    "# Assign ordinals to each age band \n",
    "\n",
    "# combine.loc[combine['Age'] <= 16.136, 'Age'] = 0\n",
    "# combine.loc[(combine['Age'] > 16.136) & (combine['Age'] <= 32.102), 'Age'] = 1\n",
    "# combine.loc[(combine['Age'] > 32.102) & (combine['Age'] <= 48.068), 'Age'] = 2\n",
    "# combine.loc[(combine['Age'] > 48.068) & (combine['Age'] <= 64.034), 'Age'] = 3\n",
    "# combine.loc[combine['Age'] > 64.034 , 'Age'] = 4\n",
    "\n",
    "train.loc[train['Age'] <= 16.136, 'Age'] = 0\n",
    "train.loc[(train['Age'] > 16.136) & (train['Age'] <= 32.102), 'Age'] = 1\n",
    "train.loc[(train['Age'] > 32.102) & (train['Age'] <= 48.068), 'Age'] = 2\n",
    "train.loc[(train['Age'] > 48.068) & (train['Age'] <= 64.034), 'Age'] = 3\n",
    "train.loc[train['Age'] > 64.034 , 'Age'] = 4\n",
    "\n",
    "test.loc[test['Age'] <= 16.136, 'Age'] = 0\n",
    "test.loc[(test['Age'] > 16.136) & (test['Age'] <= 32.102), 'Age'] = 1\n",
    "test.loc[(test['Age'] > 32.102) & (test['Age'] <= 48.068), 'Age'] = 2\n",
    "test.loc[(test['Age'] > 48.068) & (test['Age'] <= 64.034), 'Age'] = 3\n",
    "test.loc[test['Age'] > 64.034 , 'Age'] = 4"
   ]
  },
  {
   "cell_type": "code",
   "execution_count": 76,
   "metadata": {
    "scrolled": true
   },
   "outputs": [],
   "source": [
    "# Drop age band feature\n",
    "\n",
    "#combine = combine.drop('AgeBand', axis = 1)\n",
    "\n",
    "train = train.drop('AgeBand', axis = 1)\n",
    "test = test.drop('AgeBand', axis = 1)"
   ]
  },
  {
   "cell_type": "code",
   "execution_count": 77,
   "metadata": {},
   "outputs": [],
   "source": [
    "# Age and Pclass data types \n",
    "\n",
    "#combine[['Age', 'Pclass']].dtypes"
   ]
  },
  {
   "cell_type": "code",
   "execution_count": 78,
   "metadata": {},
   "outputs": [
    {
     "data": {
      "text/plain": [
       "dtype('int64')"
      ]
     },
     "execution_count": 78,
     "metadata": {},
     "output_type": "execute_result"
    }
   ],
   "source": [
    "# Convert ordinal Age into integer\n",
    "\n",
    "# combine['Age'] = combine['Age'].astype('int')\n",
    "# combine['Age'].dtype\n",
    "\n",
    "train['Age'] = train['Age'].astype('int')\n",
    "test['Age'] = test['Age'].astype('int')\n",
    "train['Age'].dtype"
   ]
  },
  {
   "cell_type": "code",
   "execution_count": 79,
   "metadata": {},
   "outputs": [
    {
     "data": {
      "text/html": [
       "<div>\n",
       "<style scoped>\n",
       "    .dataframe tbody tr th:only-of-type {\n",
       "        vertical-align: middle;\n",
       "    }\n",
       "\n",
       "    .dataframe tbody tr th {\n",
       "        vertical-align: top;\n",
       "    }\n",
       "\n",
       "    .dataframe thead th {\n",
       "        text-align: right;\n",
       "    }\n",
       "</style>\n",
       "<table border=\"1\" class=\"dataframe\">\n",
       "  <thead>\n",
       "    <tr style=\"text-align: right;\">\n",
       "      <th></th>\n",
       "      <th>Age</th>\n",
       "      <th>Pclass</th>\n",
       "      <th>Age*Class</th>\n",
       "    </tr>\n",
       "  </thead>\n",
       "  <tbody>\n",
       "    <tr>\n",
       "      <th>0</th>\n",
       "      <td>1</td>\n",
       "      <td>3</td>\n",
       "      <td>3</td>\n",
       "    </tr>\n",
       "    <tr>\n",
       "      <th>1</th>\n",
       "      <td>2</td>\n",
       "      <td>1</td>\n",
       "      <td>2</td>\n",
       "    </tr>\n",
       "    <tr>\n",
       "      <th>2</th>\n",
       "      <td>1</td>\n",
       "      <td>3</td>\n",
       "      <td>3</td>\n",
       "    </tr>\n",
       "    <tr>\n",
       "      <th>3</th>\n",
       "      <td>2</td>\n",
       "      <td>1</td>\n",
       "      <td>2</td>\n",
       "    </tr>\n",
       "    <tr>\n",
       "      <th>4</th>\n",
       "      <td>2</td>\n",
       "      <td>3</td>\n",
       "      <td>6</td>\n",
       "    </tr>\n",
       "  </tbody>\n",
       "</table>\n",
       "</div>"
      ],
      "text/plain": [
       "   Age  Pclass  Age*Class\n",
       "0    1       3          3\n",
       "1    2       1          2\n",
       "2    1       3          3\n",
       "3    2       1          2\n",
       "4    2       3          6"
      ]
     },
     "execution_count": 79,
     "metadata": {},
     "output_type": "execute_result"
    }
   ],
   "source": [
    "# Create Age*Class feature\n",
    "\n",
    "# combine['Age*Class'] = combine['Age'] * combine['Pclass']\n",
    "# combine[['Age', 'Pclass', 'Age*Class']].head()\n",
    "\n",
    "train['Age*Class'] = train['Age'] * train['Pclass']\n",
    "test['Age*Class'] = test['Age'] * test['Pclass']\n",
    "train[['Age', 'Pclass', 'Age*Class']].head()"
   ]
  },
  {
   "cell_type": "code",
   "execution_count": 80,
   "metadata": {},
   "outputs": [],
   "source": [
    "# Bin Fare \n",
    "train['FareBand'] = pd.qcut(train['Fare'], 4)\n",
    "test['FareBand'] = pd.qcut(test['Fare'], 4)\n"
   ]
  },
  {
   "cell_type": "code",
   "execution_count": 81,
   "metadata": {},
   "outputs": [],
   "source": [
    "train = train.drop([ 'Fare'], axis = 1)\n",
    "test = test.drop(['Fare'], axis = 1)"
   ]
  },
  {
   "cell_type": "code",
   "execution_count": 82,
   "metadata": {},
   "outputs": [],
   "source": [
    "# Assign ordinal to each fare band\n",
    "\n",
    "# combine.loc[combine['Fare'] <= 1.56, 'Fare'] = 0\n",
    "# combine.loc[(combine['Fare'] > 1.56) & (combine['Fare'] <= 3.119), 'Fare'] = 1\n",
    "# combine.loc[(combine['Fare'] > 3.119) & (combine['Fare'] <= 4.679), 'Fare'] = 2\n",
    "# combine.loc[combine['Fare'] > 4.679, 'Fare'] = 3"
   ]
  },
  {
   "cell_type": "code",
   "execution_count": 83,
   "metadata": {},
   "outputs": [],
   "source": [
    "# Convert Fare into integer\n",
    "\n",
    "# combine['Fare'] = combine['Fare'].astype('int')"
   ]
  },
  {
   "cell_type": "code",
   "execution_count": 84,
   "metadata": {
    "scrolled": true
   },
   "outputs": [],
   "source": [
    "# Drop FareBand feature\n",
    "\n",
    "# combine = combine.drop('FareBand', axis = 1)"
   ]
  },
  {
   "cell_type": "markdown",
   "metadata": {},
   "source": [
    "## 5.5 Feature encoding \n",
    "\n",
    "Machine learning models require all input and output variables to be numeric. Therefore, we need to encode all of our categorical data before we can fit the models to our data.\n",
    "\n",
    "Previously, we have encoded the sex column such that 0 = male and 1 = female. We need to repeat this process for Title and Embarked. In addition, similar to the age column, I will also transform Fare into an ordinal variable rather than a continuous variable."
   ]
  },
  {
   "cell_type": "code",
   "execution_count": 85,
   "metadata": {
    "scrolled": true
   },
   "outputs": [
    {
     "data": {
      "text/html": [
       "<div>\n",
       "<style scoped>\n",
       "    .dataframe tbody tr th:only-of-type {\n",
       "        vertical-align: middle;\n",
       "    }\n",
       "\n",
       "    .dataframe tbody tr th {\n",
       "        vertical-align: top;\n",
       "    }\n",
       "\n",
       "    .dataframe thead th {\n",
       "        text-align: right;\n",
       "    }\n",
       "</style>\n",
       "<table border=\"1\" class=\"dataframe\">\n",
       "  <thead>\n",
       "    <tr style=\"text-align: right;\">\n",
       "      <th></th>\n",
       "      <th>PassengerId</th>\n",
       "      <th>Survived</th>\n",
       "      <th>Pclass</th>\n",
       "      <th>Sex</th>\n",
       "      <th>Age</th>\n",
       "      <th>Embarked</th>\n",
       "      <th>Title</th>\n",
       "      <th>IsAlone</th>\n",
       "      <th>Age*Class</th>\n",
       "      <th>FareBand</th>\n",
       "    </tr>\n",
       "  </thead>\n",
       "  <tbody>\n",
       "    <tr>\n",
       "      <th>0</th>\n",
       "      <td>1</td>\n",
       "      <td>0</td>\n",
       "      <td>3</td>\n",
       "      <td>0</td>\n",
       "      <td>1</td>\n",
       "      <td>S</td>\n",
       "      <td>Mr</td>\n",
       "      <td>0</td>\n",
       "      <td>3</td>\n",
       "      <td>(-0.001, 7.91]</td>\n",
       "    </tr>\n",
       "    <tr>\n",
       "      <th>1</th>\n",
       "      <td>2</td>\n",
       "      <td>1</td>\n",
       "      <td>1</td>\n",
       "      <td>1</td>\n",
       "      <td>2</td>\n",
       "      <td>C</td>\n",
       "      <td>Mrs</td>\n",
       "      <td>0</td>\n",
       "      <td>2</td>\n",
       "      <td>(31.0, 512.329]</td>\n",
       "    </tr>\n",
       "    <tr>\n",
       "      <th>2</th>\n",
       "      <td>3</td>\n",
       "      <td>1</td>\n",
       "      <td>3</td>\n",
       "      <td>1</td>\n",
       "      <td>1</td>\n",
       "      <td>S</td>\n",
       "      <td>Miss</td>\n",
       "      <td>1</td>\n",
       "      <td>3</td>\n",
       "      <td>(7.91, 14.454]</td>\n",
       "    </tr>\n",
       "    <tr>\n",
       "      <th>3</th>\n",
       "      <td>4</td>\n",
       "      <td>1</td>\n",
       "      <td>1</td>\n",
       "      <td>1</td>\n",
       "      <td>2</td>\n",
       "      <td>S</td>\n",
       "      <td>Mrs</td>\n",
       "      <td>0</td>\n",
       "      <td>2</td>\n",
       "      <td>(31.0, 512.329]</td>\n",
       "    </tr>\n",
       "    <tr>\n",
       "      <th>4</th>\n",
       "      <td>5</td>\n",
       "      <td>0</td>\n",
       "      <td>3</td>\n",
       "      <td>0</td>\n",
       "      <td>2</td>\n",
       "      <td>S</td>\n",
       "      <td>Mr</td>\n",
       "      <td>1</td>\n",
       "      <td>6</td>\n",
       "      <td>(7.91, 14.454]</td>\n",
       "    </tr>\n",
       "  </tbody>\n",
       "</table>\n",
       "</div>"
      ],
      "text/plain": [
       "   PassengerId  Survived  Pclass  Sex  Age Embarked Title  IsAlone  Age*Class  \\\n",
       "0            1         0       3    0    1        S    Mr        0          3   \n",
       "1            2         1       1    1    2        C   Mrs        0          2   \n",
       "2            3         1       3    1    1        S  Miss        1          3   \n",
       "3            4         1       1    1    2        S   Mrs        0          2   \n",
       "4            5         0       3    0    2        S    Mr        1          6   \n",
       "\n",
       "          FareBand  \n",
       "0   (-0.001, 7.91]  \n",
       "1  (31.0, 512.329]  \n",
       "2   (7.91, 14.454]  \n",
       "3  (31.0, 512.329]  \n",
       "4   (7.91, 14.454]  "
      ]
     },
     "execution_count": 85,
     "metadata": {},
     "output_type": "execute_result"
    }
   ],
   "source": [
    "#combine.head()\n",
    "\n",
    "train.head()"
   ]
  },
  {
   "cell_type": "code",
   "execution_count": 86,
   "metadata": {
    "scrolled": false
   },
   "outputs": [
    {
     "data": {
      "text/html": [
       "<div>\n",
       "<style scoped>\n",
       "    .dataframe tbody tr th:only-of-type {\n",
       "        vertical-align: middle;\n",
       "    }\n",
       "\n",
       "    .dataframe tbody tr th {\n",
       "        vertical-align: top;\n",
       "    }\n",
       "\n",
       "    .dataframe thead th {\n",
       "        text-align: right;\n",
       "    }\n",
       "</style>\n",
       "<table border=\"1\" class=\"dataframe\">\n",
       "  <thead>\n",
       "    <tr style=\"text-align: right;\">\n",
       "      <th></th>\n",
       "      <th>PassengerId</th>\n",
       "      <th>Survived</th>\n",
       "      <th>Pclass</th>\n",
       "      <th>Sex</th>\n",
       "      <th>Age</th>\n",
       "      <th>Embarked</th>\n",
       "      <th>Title</th>\n",
       "      <th>IsAlone</th>\n",
       "      <th>Age*Class</th>\n",
       "      <th>FareBand</th>\n",
       "    </tr>\n",
       "  </thead>\n",
       "  <tbody>\n",
       "    <tr>\n",
       "      <th>0</th>\n",
       "      <td>1</td>\n",
       "      <td>0</td>\n",
       "      <td>3</td>\n",
       "      <td>0</td>\n",
       "      <td>1</td>\n",
       "      <td>2</td>\n",
       "      <td>2</td>\n",
       "      <td>0</td>\n",
       "      <td>3</td>\n",
       "      <td>0</td>\n",
       "    </tr>\n",
       "    <tr>\n",
       "      <th>1</th>\n",
       "      <td>2</td>\n",
       "      <td>1</td>\n",
       "      <td>1</td>\n",
       "      <td>1</td>\n",
       "      <td>2</td>\n",
       "      <td>0</td>\n",
       "      <td>3</td>\n",
       "      <td>0</td>\n",
       "      <td>2</td>\n",
       "      <td>3</td>\n",
       "    </tr>\n",
       "    <tr>\n",
       "      <th>2</th>\n",
       "      <td>3</td>\n",
       "      <td>1</td>\n",
       "      <td>3</td>\n",
       "      <td>1</td>\n",
       "      <td>1</td>\n",
       "      <td>2</td>\n",
       "      <td>1</td>\n",
       "      <td>1</td>\n",
       "      <td>3</td>\n",
       "      <td>1</td>\n",
       "    </tr>\n",
       "    <tr>\n",
       "      <th>3</th>\n",
       "      <td>4</td>\n",
       "      <td>1</td>\n",
       "      <td>1</td>\n",
       "      <td>1</td>\n",
       "      <td>2</td>\n",
       "      <td>2</td>\n",
       "      <td>3</td>\n",
       "      <td>0</td>\n",
       "      <td>2</td>\n",
       "      <td>3</td>\n",
       "    </tr>\n",
       "    <tr>\n",
       "      <th>4</th>\n",
       "      <td>5</td>\n",
       "      <td>0</td>\n",
       "      <td>3</td>\n",
       "      <td>0</td>\n",
       "      <td>2</td>\n",
       "      <td>2</td>\n",
       "      <td>2</td>\n",
       "      <td>1</td>\n",
       "      <td>6</td>\n",
       "      <td>1</td>\n",
       "    </tr>\n",
       "  </tbody>\n",
       "</table>\n",
       "</div>"
      ],
      "text/plain": [
       "   PassengerId  Survived  Pclass  Sex  Age  Embarked  Title  IsAlone  \\\n",
       "0            1         0       3    0    1         2      2        0   \n",
       "1            2         1       1    1    2         0      3        0   \n",
       "2            3         1       3    1    1         2      1        1   \n",
       "3            4         1       1    1    2         2      3        0   \n",
       "4            5         0       3    0    2         2      2        1   \n",
       "\n",
       "   Age*Class  FareBand  \n",
       "0          3         0  \n",
       "1          2         3  \n",
       "2          3         1  \n",
       "3          2         3  \n",
       "4          6         1  "
      ]
     },
     "execution_count": 86,
     "metadata": {},
     "output_type": "execute_result"
    }
   ],
   "source": [
    "# Encode Title and Embarked feature\n",
    "# from sklearn.preprocessing import OneHotEncoder, LabelEncoder\n",
    "# label = LabelEncoder() \n",
    "# combine['Embarked'] = label.fit_transform(combine['Embarked'])\n",
    "# combine['Title'] = label.fit_transform(combine['Title'])\n",
    "# #combine['AgeBin_Code'] = label.fit_transform(combine['AgeBin'])\n",
    "\n",
    "# combine['Fare'] = pd.qcut(combine['Fare'], 4)\n",
    "# combine['Fare'] = label.fit_transform(combine['Fare'])\n",
    "# #combine = pd.get_dummies(combine, columns = ['Title'])\n",
    "# #combine = pd.get_dummies(combine, columns = ['Embarked'], prefix = 'Em')\n",
    "# combine.head()\n",
    "from sklearn.preprocessing import OneHotEncoder, LabelEncoder\n",
    "label = LabelEncoder() \n",
    "train['Embarked'] = label.fit_transform(train['Embarked'])\n",
    "train['Title'] = label.fit_transform(train['Title'])\n",
    "#train['AgeBand'] = label.fit_transform(train['AgeBand'])\n",
    "train['FareBand'] = label.fit_transform(train['FareBand'])\n",
    "test['Embarked'] = label.fit_transform(test['Embarked'])\n",
    "test['Title'] = label.fit_transform(test['Title'])\n",
    "#test['AgeBand'] = label.fit_transform(test['AgeBand'])\n",
    "test['FareBand'] = label.fit_transform(test['FareBand'])\n",
    "#test = pd.get_dummies(combine, columns = ['Title'])\n",
    "#combine = pd.get_dummies(combine, columns = ['Embarked'], prefix = 'Em')\n",
    "# Create Age*Class feature\n",
    "\n",
    "# train['AgeBand*Class'] = train['AgeBand'] * train['Pclass']\n",
    "# test['AgeBand*Class'] = test['AgeBand'] * test['Pclass']\n",
    "# train[['AgeBand', 'Pclass', 'AgeBand*Class']].head()\n",
    "train.head()"
   ]
  },
  {
   "cell_type": "code",
   "execution_count": 87,
   "metadata": {},
   "outputs": [],
   "source": [
    "# # Separate training and test set from the combined dataframe\n",
    "\n",
    "# train = combine[:len(train)]\n",
    "# test = combine[len(train):]"
   ]
  },
  {
   "cell_type": "code",
   "execution_count": 88,
   "metadata": {
    "scrolled": true
   },
   "outputs": [
    {
     "data": {
      "text/html": [
       "<div>\n",
       "<style scoped>\n",
       "    .dataframe tbody tr th:only-of-type {\n",
       "        vertical-align: middle;\n",
       "    }\n",
       "\n",
       "    .dataframe tbody tr th {\n",
       "        vertical-align: top;\n",
       "    }\n",
       "\n",
       "    .dataframe thead th {\n",
       "        text-align: right;\n",
       "    }\n",
       "</style>\n",
       "<table border=\"1\" class=\"dataframe\">\n",
       "  <thead>\n",
       "    <tr style=\"text-align: right;\">\n",
       "      <th></th>\n",
       "      <th>Survived</th>\n",
       "      <th>Pclass</th>\n",
       "      <th>Sex</th>\n",
       "      <th>Age</th>\n",
       "      <th>Embarked</th>\n",
       "      <th>Title</th>\n",
       "      <th>IsAlone</th>\n",
       "      <th>Age*Class</th>\n",
       "      <th>FareBand</th>\n",
       "    </tr>\n",
       "  </thead>\n",
       "  <tbody>\n",
       "    <tr>\n",
       "      <th>0</th>\n",
       "      <td>0</td>\n",
       "      <td>3</td>\n",
       "      <td>0</td>\n",
       "      <td>1</td>\n",
       "      <td>2</td>\n",
       "      <td>2</td>\n",
       "      <td>0</td>\n",
       "      <td>3</td>\n",
       "      <td>0</td>\n",
       "    </tr>\n",
       "    <tr>\n",
       "      <th>1</th>\n",
       "      <td>1</td>\n",
       "      <td>1</td>\n",
       "      <td>1</td>\n",
       "      <td>2</td>\n",
       "      <td>0</td>\n",
       "      <td>3</td>\n",
       "      <td>0</td>\n",
       "      <td>2</td>\n",
       "      <td>3</td>\n",
       "    </tr>\n",
       "    <tr>\n",
       "      <th>2</th>\n",
       "      <td>1</td>\n",
       "      <td>3</td>\n",
       "      <td>1</td>\n",
       "      <td>1</td>\n",
       "      <td>2</td>\n",
       "      <td>1</td>\n",
       "      <td>1</td>\n",
       "      <td>3</td>\n",
       "      <td>1</td>\n",
       "    </tr>\n",
       "    <tr>\n",
       "      <th>3</th>\n",
       "      <td>1</td>\n",
       "      <td>1</td>\n",
       "      <td>1</td>\n",
       "      <td>2</td>\n",
       "      <td>2</td>\n",
       "      <td>3</td>\n",
       "      <td>0</td>\n",
       "      <td>2</td>\n",
       "      <td>3</td>\n",
       "    </tr>\n",
       "    <tr>\n",
       "      <th>4</th>\n",
       "      <td>0</td>\n",
       "      <td>3</td>\n",
       "      <td>0</td>\n",
       "      <td>2</td>\n",
       "      <td>2</td>\n",
       "      <td>2</td>\n",
       "      <td>1</td>\n",
       "      <td>6</td>\n",
       "      <td>1</td>\n",
       "    </tr>\n",
       "  </tbody>\n",
       "</table>\n",
       "</div>"
      ],
      "text/plain": [
       "   Survived  Pclass  Sex  Age  Embarked  Title  IsAlone  Age*Class  FareBand\n",
       "0         0       3    0    1         2      2        0          3         0\n",
       "1         1       1    1    2         0      3        0          2         3\n",
       "2         1       3    1    1         2      1        1          3         1\n",
       "3         1       1    1    2         2      3        0          2         3\n",
       "4         0       3    0    2         2      2        1          6         1"
      ]
     },
     "execution_count": 88,
     "metadata": {},
     "output_type": "execute_result"
    }
   ],
   "source": [
    "# Drop passenger ID column from and training set\n",
    "\n",
    "train = train.drop('PassengerId', axis = 1)\n",
    "train.head()"
   ]
  },
  {
   "cell_type": "code",
   "execution_count": 89,
   "metadata": {},
   "outputs": [
    {
     "data": {
      "text/html": [
       "<div>\n",
       "<style scoped>\n",
       "    .dataframe tbody tr th:only-of-type {\n",
       "        vertical-align: middle;\n",
       "    }\n",
       "\n",
       "    .dataframe tbody tr th {\n",
       "        vertical-align: top;\n",
       "    }\n",
       "\n",
       "    .dataframe thead th {\n",
       "        text-align: right;\n",
       "    }\n",
       "</style>\n",
       "<table border=\"1\" class=\"dataframe\">\n",
       "  <thead>\n",
       "    <tr style=\"text-align: right;\">\n",
       "      <th></th>\n",
       "      <th>Survived</th>\n",
       "      <th>Pclass</th>\n",
       "      <th>Sex</th>\n",
       "      <th>Age</th>\n",
       "      <th>Embarked</th>\n",
       "      <th>Title</th>\n",
       "      <th>IsAlone</th>\n",
       "      <th>Age*Class</th>\n",
       "      <th>FareBand</th>\n",
       "    </tr>\n",
       "  </thead>\n",
       "  <tbody>\n",
       "    <tr>\n",
       "      <th>0</th>\n",
       "      <td>0</td>\n",
       "      <td>3</td>\n",
       "      <td>0</td>\n",
       "      <td>1</td>\n",
       "      <td>2</td>\n",
       "      <td>2</td>\n",
       "      <td>0</td>\n",
       "      <td>3</td>\n",
       "      <td>0</td>\n",
       "    </tr>\n",
       "    <tr>\n",
       "      <th>1</th>\n",
       "      <td>1</td>\n",
       "      <td>1</td>\n",
       "      <td>1</td>\n",
       "      <td>2</td>\n",
       "      <td>0</td>\n",
       "      <td>3</td>\n",
       "      <td>0</td>\n",
       "      <td>2</td>\n",
       "      <td>3</td>\n",
       "    </tr>\n",
       "    <tr>\n",
       "      <th>2</th>\n",
       "      <td>1</td>\n",
       "      <td>3</td>\n",
       "      <td>1</td>\n",
       "      <td>1</td>\n",
       "      <td>2</td>\n",
       "      <td>1</td>\n",
       "      <td>1</td>\n",
       "      <td>3</td>\n",
       "      <td>1</td>\n",
       "    </tr>\n",
       "    <tr>\n",
       "      <th>3</th>\n",
       "      <td>1</td>\n",
       "      <td>1</td>\n",
       "      <td>1</td>\n",
       "      <td>2</td>\n",
       "      <td>2</td>\n",
       "      <td>3</td>\n",
       "      <td>0</td>\n",
       "      <td>2</td>\n",
       "      <td>3</td>\n",
       "    </tr>\n",
       "    <tr>\n",
       "      <th>4</th>\n",
       "      <td>0</td>\n",
       "      <td>3</td>\n",
       "      <td>0</td>\n",
       "      <td>2</td>\n",
       "      <td>2</td>\n",
       "      <td>2</td>\n",
       "      <td>1</td>\n",
       "      <td>6</td>\n",
       "      <td>1</td>\n",
       "    </tr>\n",
       "  </tbody>\n",
       "</table>\n",
       "</div>"
      ],
      "text/plain": [
       "   Survived  Pclass  Sex  Age  Embarked  Title  IsAlone  Age*Class  FareBand\n",
       "0         0       3    0    1         2      2        0          3         0\n",
       "1         1       1    1    2         0      3        0          2         3\n",
       "2         1       3    1    1         2      1        1          3         1\n",
       "3         1       1    1    2         2      3        0          2         3\n",
       "4         0       3    0    2         2      2        1          6         1"
      ]
     },
     "execution_count": 89,
     "metadata": {},
     "output_type": "execute_result"
    }
   ],
   "source": [
    "# Convert survived back to integer in the training set\n",
    "\n",
    "train['Survived'] = train['Survived'].astype('int')\n",
    "train.head()"
   ]
  },
  {
   "cell_type": "code",
   "execution_count": 90,
   "metadata": {
    "scrolled": true
   },
   "outputs": [
    {
     "data": {
      "text/html": [
       "<div>\n",
       "<style scoped>\n",
       "    .dataframe tbody tr th:only-of-type {\n",
       "        vertical-align: middle;\n",
       "    }\n",
       "\n",
       "    .dataframe tbody tr th {\n",
       "        vertical-align: top;\n",
       "    }\n",
       "\n",
       "    .dataframe thead th {\n",
       "        text-align: right;\n",
       "    }\n",
       "</style>\n",
       "<table border=\"1\" class=\"dataframe\">\n",
       "  <thead>\n",
       "    <tr style=\"text-align: right;\">\n",
       "      <th></th>\n",
       "      <th>PassengerId</th>\n",
       "      <th>Pclass</th>\n",
       "      <th>Sex</th>\n",
       "      <th>Age</th>\n",
       "      <th>Embarked</th>\n",
       "      <th>Title</th>\n",
       "      <th>IsAlone</th>\n",
       "      <th>Age*Class</th>\n",
       "      <th>FareBand</th>\n",
       "    </tr>\n",
       "  </thead>\n",
       "  <tbody>\n",
       "    <tr>\n",
       "      <th>0</th>\n",
       "      <td>892</td>\n",
       "      <td>3</td>\n",
       "      <td>0</td>\n",
       "      <td>2</td>\n",
       "      <td>1</td>\n",
       "      <td>2</td>\n",
       "      <td>1</td>\n",
       "      <td>6</td>\n",
       "      <td>0</td>\n",
       "    </tr>\n",
       "    <tr>\n",
       "      <th>1</th>\n",
       "      <td>893</td>\n",
       "      <td>3</td>\n",
       "      <td>1</td>\n",
       "      <td>2</td>\n",
       "      <td>2</td>\n",
       "      <td>3</td>\n",
       "      <td>0</td>\n",
       "      <td>6</td>\n",
       "      <td>0</td>\n",
       "    </tr>\n",
       "    <tr>\n",
       "      <th>2</th>\n",
       "      <td>894</td>\n",
       "      <td>2</td>\n",
       "      <td>0</td>\n",
       "      <td>3</td>\n",
       "      <td>1</td>\n",
       "      <td>2</td>\n",
       "      <td>1</td>\n",
       "      <td>6</td>\n",
       "      <td>1</td>\n",
       "    </tr>\n",
       "    <tr>\n",
       "      <th>3</th>\n",
       "      <td>895</td>\n",
       "      <td>3</td>\n",
       "      <td>0</td>\n",
       "      <td>1</td>\n",
       "      <td>2</td>\n",
       "      <td>2</td>\n",
       "      <td>1</td>\n",
       "      <td>3</td>\n",
       "      <td>1</td>\n",
       "    </tr>\n",
       "    <tr>\n",
       "      <th>4</th>\n",
       "      <td>896</td>\n",
       "      <td>3</td>\n",
       "      <td>1</td>\n",
       "      <td>1</td>\n",
       "      <td>2</td>\n",
       "      <td>3</td>\n",
       "      <td>0</td>\n",
       "      <td>3</td>\n",
       "      <td>1</td>\n",
       "    </tr>\n",
       "  </tbody>\n",
       "</table>\n",
       "</div>"
      ],
      "text/plain": [
       "   PassengerId  Pclass  Sex  Age  Embarked  Title  IsAlone  Age*Class  \\\n",
       "0          892       3    0    2         1      2        1          6   \n",
       "1          893       3    1    2         2      3        0          6   \n",
       "2          894       2    0    3         1      2        1          6   \n",
       "3          895       3    0    1         2      2        1          3   \n",
       "4          896       3    1    1         2      3        0          3   \n",
       "\n",
       "   FareBand  \n",
       "0         0  \n",
       "1         0  \n",
       "2         1  \n",
       "3         1  \n",
       "4         1  "
      ]
     },
     "execution_count": 90,
     "metadata": {},
     "output_type": "execute_result"
    }
   ],
   "source": [
    "test.head()"
   ]
  },
  {
   "cell_type": "code",
   "execution_count": 91,
   "metadata": {},
   "outputs": [],
   "source": [
    "# Drop passenger survived column from test set\n",
    "\n",
    "# test = test.drop('Survived', axis = 1)\n",
    "# test.head()"
   ]
  },
  {
   "cell_type": "markdown",
   "metadata": {},
   "source": [
    "Our dataframes are ready for modelling!"
   ]
  },
  {
   "cell_type": "markdown",
   "metadata": {},
   "source": [
    "# 6. Modelling\n",
    "\n",
    "Scikit-learn is one of the most popular libraries for machine learning in Python and that is what we will use in the modelling part of this project. \n",
    "\n",
    "Since Titanic is a classfication problem, we will need to use classfication models, also known as classifiers, to train on our model to make predictions. I highly recommend checking out this scikit-learn [documentation](https://scikit-learn.org/stable/index.html) for more information on the different machine learning models available in their library. I have chosen the following classifiers for the job:\n",
    "\n",
    "- Logistic regression\n",
    "- Support vector machines\n",
    "- K-nearest neighbours\n",
    "- Gaussian naive bayes\n",
    "- Perceptron\n",
    "- Linear SVC\n",
    "- Stochastic gradient descent\n",
    "- Decision tree\n",
    "- Random forest\n",
    "- CatBoost\n",
    "\n",
    "In this section of the notebook, I will fit the models to the training set as outlined above and evaluate their accuracy at making predictions. Once the best model is determined, I will also do hyperparameter tuning to further boost the performance of the best model."
   ]
  },
  {
   "cell_type": "markdown",
   "metadata": {},
   "source": [
    "## 6.1 Split training data\n",
    "\n",
    "We need to first split our training data into independent variables or predictor variables, represented by X as well as  dependent variable or response variable, represented by Y.\n",
    "\n",
    "Y_train is the survived column in our training set and X_train is the other columns in the training set excluding the Survived column. Our models will learn to classify survival, Y_train based on all X_train and make predictions on X_test."
   ]
  },
  {
   "cell_type": "code",
   "execution_count": 92,
   "metadata": {},
   "outputs": [
    {
     "name": "stdout",
     "output_type": "stream",
     "text": [
      "X_train shape:  (891, 8)\n",
      "Y_train shape:  (891,)\n",
      "X_test shape:  (418, 8)\n"
     ]
    }
   ],
   "source": [
    "X_train = train.drop('Survived', axis = 1)\n",
    "Y_train = train['Survived']\n",
    "X_test = test.drop('PassengerId', axis = 1).copy()#why only drop now\n",
    "print(\"X_train shape: \", X_train.shape)\n",
    "print(\"Y_train shape: \", Y_train.shape)\n",
    "print(\"X_test shape: \", X_test.shape)"
   ]
  },
  {
   "cell_type": "markdown",
   "metadata": {},
   "source": [
    "## 6.2 Fit model to data and make predictions\n",
    "\n",
    "This requires 3 simple steps: instantiate the model, fit the model to the training set and predict the data in test set. "
   ]
  },
  {
   "cell_type": "markdown",
   "metadata": {},
   "source": [
    "### 6.2.1 Logistic regression"
   ]
  },
  {
   "cell_type": "markdown",
   "metadata": {},
   "source": [
    " Explanation (not to be included in final submision): In section 6.2, we are training our models using the ENTIRE training set (every row that has a survive column). The models are UNTUNED.. We then calculate the accuracy of each model for the TRAINING set data. In other words we  determine how accurate each model is when it is asked to predict the outcome  (survival)  for the passengers on which it was trained. High scores might be an inidcation of which algorithms are likely to work well for predicting survival for passenges in the test set(this is the ultimate goal), although high scores could also indicate overfitting which is bad . These scores are summarised in the next section"
   ]
  },
  {
   "cell_type": "code",
   "execution_count": 93,
   "metadata": {},
   "outputs": [],
   "source": [
    "#rael\n",
    "logreg = LogisticRegression()\n",
    "LGtrained=logreg.fit(X_train, Y_train)\n",
    "acc_log = round(logreg.score(X_train, Y_train) * 100, 2)\n"
   ]
  },
  {
   "cell_type": "markdown",
   "metadata": {},
   "source": [
    "### 6.2.2 Support vector machines"
   ]
  },
  {
   "cell_type": "code",
   "execution_count": 94,
   "metadata": {},
   "outputs": [],
   "source": [
    "#rael\n",
    "svc = SVC()\n",
    "svc.fit(X_train, Y_train)\n",
    "acc_svc = round(svc.score(X_train, Y_train) * 100, 2)\n"
   ]
  },
  {
   "cell_type": "markdown",
   "metadata": {},
   "source": [
    "### 6.2.3 K-nearest neighbours (KNN)"
   ]
  },
  {
   "cell_type": "code",
   "execution_count": 95,
   "metadata": {},
   "outputs": [],
   "source": [
    "#rael\n",
    "\n",
    "knn = KNeighborsClassifier(n_neighbors = 5)\n",
    "KNNtrained=knn.fit(X_train, Y_train)\n",
    "acc_knn = round(knn.score(X_train, Y_train) * 100, 2)"
   ]
  },
  {
   "cell_type": "markdown",
   "metadata": {},
   "source": [
    "### 6.2.4 Gaussian naive bayes"
   ]
  },
  {
   "cell_type": "code",
   "execution_count": 96,
   "metadata": {},
   "outputs": [],
   "source": [
    "#rael\n",
    "gaussian = GaussianNB()\n",
    "gaussian.fit(X_train, Y_train)\n",
    "acc_gaussian = round(gaussian.score(X_train, Y_train) * 100, 2)"
   ]
  },
  {
   "cell_type": "markdown",
   "metadata": {},
   "source": [
    "### 6.2.5 Perceptron"
   ]
  },
  {
   "cell_type": "code",
   "execution_count": 97,
   "metadata": {},
   "outputs": [],
   "source": [
    "#rael\n",
    "perceptron = Perceptron()\n",
    "perceptron.fit(X_train, Y_train)\n",
    "acc_perceptron = round(perceptron.score(X_train, Y_train) * 100, 2)"
   ]
  },
  {
   "cell_type": "markdown",
   "metadata": {},
   "source": [
    "### 6.2.6 Linear SVC"
   ]
  },
  {
   "cell_type": "code",
   "execution_count": 98,
   "metadata": {},
   "outputs": [],
   "source": [
    "#rael\n",
    "linear_svc = LinearSVC()\n",
    "linear_svc.fit(X_train, Y_train)\n",
    "acc_linear_svc = round(linear_svc.score(X_train, Y_train) * 100, 2)"
   ]
  },
  {
   "cell_type": "markdown",
   "metadata": {},
   "source": [
    "### 6.2.7 Stochastic gradient descent"
   ]
  },
  {
   "cell_type": "code",
   "execution_count": 99,
   "metadata": {},
   "outputs": [],
   "source": [
    "#rael\n",
    "sgd = SGDClassifier()\n",
    "sgd.fit(X_train, Y_train)\n",
    "acc_sgd = round(sgd.score(X_train, Y_train) * 100, 2)"
   ]
  },
  {
   "cell_type": "markdown",
   "metadata": {},
   "source": [
    "### 6.2.8 Decision tree"
   ]
  },
  {
   "cell_type": "code",
   "execution_count": 100,
   "metadata": {},
   "outputs": [],
   "source": [
    "#rael\n",
    "decision_tree = DecisionTreeClassifier()\n",
    "decision_tree.fit(X_train, Y_train)\n",
    "acc_decision_tree = round(decision_tree.score(X_train, Y_train) * 100, 2)"
   ]
  },
  {
   "cell_type": "markdown",
   "metadata": {},
   "source": [
    "### 6.2.9 Random forest"
   ]
  },
  {
   "cell_type": "code",
   "execution_count": 101,
   "metadata": {},
   "outputs": [],
   "source": [
    "#rael\n",
    "random_forest = RandomForestClassifier(n_estimators = 100)\n",
    "random_forest.fit(X_train, Y_train)\n",
    "acc_random_forest = round(random_forest.score(X_train, Y_train) * 100, 2)"
   ]
  },
  {
   "cell_type": "markdown",
   "metadata": {},
   "source": [
    "### 6.2.10 CatBoost"
   ]
  },
  {
   "cell_type": "code",
   "execution_count": 102,
   "metadata": {},
   "outputs": [
    {
     "name": "stdout",
     "output_type": "stream",
     "text": [
      "Learning rate set to 0.009807\n",
      "0:\tlearn: 0.6866336\ttotal: 52.1ms\tremaining: 52s\n",
      "1:\tlearn: 0.6806980\ttotal: 52.7ms\tremaining: 26.3s\n",
      "2:\tlearn: 0.6740613\ttotal: 53.3ms\tremaining: 17.7s\n",
      "3:\tlearn: 0.6681035\ttotal: 53.9ms\tremaining: 13.4s\n",
      "4:\tlearn: 0.6639050\ttotal: 55ms\tremaining: 10.9s\n",
      "5:\tlearn: 0.6581337\ttotal: 56.7ms\tremaining: 9.39s\n",
      "6:\tlearn: 0.6517573\ttotal: 59.3ms\tremaining: 8.41s\n",
      "7:\tlearn: 0.6458873\ttotal: 60.7ms\tremaining: 7.53s\n",
      "8:\tlearn: 0.6400728\ttotal: 61.7ms\tremaining: 6.79s\n",
      "9:\tlearn: 0.6342494\ttotal: 62.4ms\tremaining: 6.18s\n",
      "10:\tlearn: 0.6289190\ttotal: 62.9ms\tremaining: 5.66s\n",
      "11:\tlearn: 0.6235852\ttotal: 63.3ms\tremaining: 5.21s\n",
      "12:\tlearn: 0.6183011\ttotal: 63.9ms\tremaining: 4.85s\n",
      "13:\tlearn: 0.6132321\ttotal: 64.5ms\tremaining: 4.54s\n",
      "14:\tlearn: 0.6081057\ttotal: 64.9ms\tremaining: 4.26s\n",
      "15:\tlearn: 0.6038961\ttotal: 65.3ms\tremaining: 4.02s\n",
      "16:\tlearn: 0.5991089\ttotal: 66.9ms\tremaining: 3.87s\n",
      "17:\tlearn: 0.5943852\ttotal: 67.7ms\tremaining: 3.69s\n",
      "18:\tlearn: 0.5910107\ttotal: 71ms\tremaining: 3.67s\n",
      "19:\tlearn: 0.5863782\ttotal: 71.4ms\tremaining: 3.5s\n",
      "20:\tlearn: 0.5826258\ttotal: 71.9ms\tremaining: 3.35s\n",
      "21:\tlearn: 0.5782757\ttotal: 72.3ms\tremaining: 3.21s\n",
      "22:\tlearn: 0.5743629\ttotal: 72.8ms\tremaining: 3.09s\n",
      "23:\tlearn: 0.5701598\ttotal: 73.3ms\tremaining: 2.98s\n",
      "24:\tlearn: 0.5666827\ttotal: 73.8ms\tremaining: 2.88s\n",
      "25:\tlearn: 0.5647131\ttotal: 74ms\tremaining: 2.77s\n",
      "26:\tlearn: 0.5607876\ttotal: 74.5ms\tremaining: 2.68s\n",
      "27:\tlearn: 0.5569949\ttotal: 75ms\tremaining: 2.6s\n",
      "28:\tlearn: 0.5535343\ttotal: 76.1ms\tremaining: 2.55s\n",
      "29:\tlearn: 0.5499826\ttotal: 76.9ms\tremaining: 2.49s\n",
      "30:\tlearn: 0.5466722\ttotal: 77.7ms\tremaining: 2.43s\n",
      "31:\tlearn: 0.5430615\ttotal: 78.7ms\tremaining: 2.38s\n",
      "32:\tlearn: 0.5403260\ttotal: 79ms\tremaining: 2.32s\n",
      "33:\tlearn: 0.5387114\ttotal: 79.4ms\tremaining: 2.26s\n",
      "34:\tlearn: 0.5355770\ttotal: 80ms\tremaining: 2.21s\n",
      "35:\tlearn: 0.5325665\ttotal: 80.8ms\tremaining: 2.16s\n",
      "36:\tlearn: 0.5294459\ttotal: 81.2ms\tremaining: 2.11s\n",
      "37:\tlearn: 0.5270265\ttotal: 81.6ms\tremaining: 2.07s\n",
      "38:\tlearn: 0.5254378\ttotal: 82.4ms\tremaining: 2.03s\n",
      "39:\tlearn: 0.5223608\ttotal: 83.3ms\tremaining: 2s\n",
      "40:\tlearn: 0.5194982\ttotal: 84.1ms\tremaining: 1.97s\n",
      "41:\tlearn: 0.5166094\ttotal: 84.5ms\tremaining: 1.93s\n",
      "42:\tlearn: 0.5141034\ttotal: 85ms\tremaining: 1.89s\n",
      "43:\tlearn: 0.5119313\ttotal: 85.4ms\tremaining: 1.85s\n",
      "44:\tlearn: 0.5091201\ttotal: 85.8ms\tremaining: 1.82s\n",
      "45:\tlearn: 0.5079194\ttotal: 87ms\tremaining: 1.8s\n",
      "46:\tlearn: 0.5054040\ttotal: 88.3ms\tremaining: 1.79s\n",
      "47:\tlearn: 0.5042575\ttotal: 88.7ms\tremaining: 1.76s\n",
      "48:\tlearn: 0.5024889\ttotal: 89ms\tremaining: 1.73s\n",
      "49:\tlearn: 0.5007982\ttotal: 89.9ms\tremaining: 1.71s\n",
      "50:\tlearn: 0.4983408\ttotal: 90.3ms\tremaining: 1.68s\n",
      "51:\tlearn: 0.4957686\ttotal: 90.7ms\tremaining: 1.65s\n",
      "52:\tlearn: 0.4937737\ttotal: 91.3ms\tremaining: 1.63s\n",
      "53:\tlearn: 0.4922188\ttotal: 92.7ms\tremaining: 1.62s\n",
      "54:\tlearn: 0.4901084\ttotal: 93.3ms\tremaining: 1.6s\n",
      "55:\tlearn: 0.4881755\ttotal: 93.8ms\tremaining: 1.58s\n",
      "56:\tlearn: 0.4860657\ttotal: 94.2ms\tremaining: 1.56s\n",
      "57:\tlearn: 0.4839503\ttotal: 94.7ms\tremaining: 1.54s\n",
      "58:\tlearn: 0.4819489\ttotal: 95.1ms\tremaining: 1.52s\n",
      "59:\tlearn: 0.4798154\ttotal: 95.6ms\tremaining: 1.5s\n",
      "60:\tlearn: 0.4785783\ttotal: 96.1ms\tremaining: 1.48s\n",
      "61:\tlearn: 0.4766486\ttotal: 96.6ms\tremaining: 1.46s\n",
      "62:\tlearn: 0.4746761\ttotal: 97.1ms\tremaining: 1.44s\n",
      "63:\tlearn: 0.4736970\ttotal: 97.3ms\tremaining: 1.42s\n",
      "64:\tlearn: 0.4719391\ttotal: 98.2ms\tremaining: 1.41s\n",
      "65:\tlearn: 0.4702287\ttotal: 98.8ms\tremaining: 1.4s\n",
      "66:\tlearn: 0.4687074\ttotal: 99.4ms\tremaining: 1.38s\n",
      "67:\tlearn: 0.4669600\ttotal: 101ms\tremaining: 1.38s\n",
      "68:\tlearn: 0.4652600\ttotal: 101ms\tremaining: 1.37s\n",
      "69:\tlearn: 0.4634179\ttotal: 102ms\tremaining: 1.35s\n",
      "70:\tlearn: 0.4618475\ttotal: 103ms\tremaining: 1.34s\n",
      "71:\tlearn: 0.4610488\ttotal: 103ms\tremaining: 1.33s\n",
      "72:\tlearn: 0.4595610\ttotal: 104ms\tremaining: 1.32s\n",
      "73:\tlearn: 0.4582251\ttotal: 105ms\tremaining: 1.31s\n",
      "74:\tlearn: 0.4574602\ttotal: 105ms\tremaining: 1.3s\n",
      "75:\tlearn: 0.4567096\ttotal: 106ms\tremaining: 1.28s\n",
      "76:\tlearn: 0.4554309\ttotal: 106ms\tremaining: 1.27s\n",
      "77:\tlearn: 0.4540302\ttotal: 107ms\tremaining: 1.26s\n",
      "78:\tlearn: 0.4527730\ttotal: 107ms\tremaining: 1.25s\n",
      "79:\tlearn: 0.4511755\ttotal: 108ms\tremaining: 1.24s\n",
      "80:\tlearn: 0.4504029\ttotal: 108ms\tremaining: 1.23s\n",
      "81:\tlearn: 0.4490849\ttotal: 109ms\tremaining: 1.22s\n",
      "82:\tlearn: 0.4479981\ttotal: 109ms\tremaining: 1.21s\n",
      "83:\tlearn: 0.4470846\ttotal: 110ms\tremaining: 1.2s\n",
      "84:\tlearn: 0.4458864\ttotal: 112ms\tremaining: 1.2s\n",
      "85:\tlearn: 0.4446356\ttotal: 112ms\tremaining: 1.19s\n",
      "86:\tlearn: 0.4438811\ttotal: 113ms\tremaining: 1.19s\n",
      "87:\tlearn: 0.4427116\ttotal: 114ms\tremaining: 1.18s\n",
      "88:\tlearn: 0.4414337\ttotal: 114ms\tremaining: 1.17s\n",
      "89:\tlearn: 0.4402000\ttotal: 115ms\tremaining: 1.16s\n",
      "90:\tlearn: 0.4397942\ttotal: 115ms\tremaining: 1.15s\n",
      "91:\tlearn: 0.4384509\ttotal: 116ms\tremaining: 1.14s\n",
      "92:\tlearn: 0.4377940\ttotal: 116ms\tremaining: 1.13s\n",
      "93:\tlearn: 0.4368666\ttotal: 117ms\tremaining: 1.13s\n",
      "94:\tlearn: 0.4358886\ttotal: 117ms\tremaining: 1.12s\n",
      "95:\tlearn: 0.4351006\ttotal: 118ms\tremaining: 1.11s\n",
      "96:\tlearn: 0.4345203\ttotal: 119ms\tremaining: 1.11s\n",
      "97:\tlearn: 0.4335704\ttotal: 120ms\tremaining: 1.1s\n",
      "98:\tlearn: 0.4325262\ttotal: 120ms\tremaining: 1.09s\n",
      "99:\tlearn: 0.4318580\ttotal: 121ms\tremaining: 1.08s\n",
      "100:\tlearn: 0.4307855\ttotal: 121ms\tremaining: 1.08s\n",
      "101:\tlearn: 0.4297216\ttotal: 124ms\tremaining: 1.09s\n",
      "102:\tlearn: 0.4286924\ttotal: 124ms\tremaining: 1.08s\n",
      "103:\tlearn: 0.4279012\ttotal: 125ms\tremaining: 1.07s\n",
      "104:\tlearn: 0.4271627\ttotal: 127ms\tremaining: 1.08s\n",
      "105:\tlearn: 0.4261340\ttotal: 128ms\tremaining: 1.08s\n",
      "106:\tlearn: 0.4252965\ttotal: 130ms\tremaining: 1.09s\n",
      "107:\tlearn: 0.4247106\ttotal: 131ms\tremaining: 1.09s\n",
      "108:\tlearn: 0.4239865\ttotal: 133ms\tremaining: 1.08s\n",
      "109:\tlearn: 0.4231073\ttotal: 133ms\tremaining: 1.08s\n",
      "110:\tlearn: 0.4224488\ttotal: 134ms\tremaining: 1.07s\n",
      "111:\tlearn: 0.4216109\ttotal: 135ms\tremaining: 1.07s\n",
      "112:\tlearn: 0.4213700\ttotal: 136ms\tremaining: 1.07s\n",
      "113:\tlearn: 0.4208143\ttotal: 137ms\tremaining: 1.06s\n",
      "114:\tlearn: 0.4199894\ttotal: 137ms\tremaining: 1.05s\n",
      "115:\tlearn: 0.4190733\ttotal: 138ms\tremaining: 1.05s\n",
      "116:\tlearn: 0.4186195\ttotal: 139ms\tremaining: 1.05s\n",
      "117:\tlearn: 0.4176108\ttotal: 139ms\tremaining: 1.04s\n",
      "118:\tlearn: 0.4169516\ttotal: 140ms\tremaining: 1.03s\n",
      "119:\tlearn: 0.4161515\ttotal: 140ms\tremaining: 1.03s\n",
      "120:\tlearn: 0.4155219\ttotal: 141ms\tremaining: 1.02s\n",
      "121:\tlearn: 0.4151545\ttotal: 141ms\tremaining: 1.01s\n",
      "122:\tlearn: 0.4148084\ttotal: 142ms\tremaining: 1.01s\n",
      "123:\tlearn: 0.4143358\ttotal: 142ms\tremaining: 1s\n",
      "124:\tlearn: 0.4137886\ttotal: 143ms\tremaining: 1s\n",
      "125:\tlearn: 0.4133908\ttotal: 144ms\tremaining: 998ms\n",
      "126:\tlearn: 0.4127218\ttotal: 144ms\tremaining: 992ms\n",
      "127:\tlearn: 0.4120473\ttotal: 145ms\tremaining: 987ms\n",
      "128:\tlearn: 0.4114118\ttotal: 148ms\tremaining: 1s\n",
      "129:\tlearn: 0.4106740\ttotal: 149ms\tremaining: 996ms\n",
      "130:\tlearn: 0.4100828\ttotal: 149ms\tremaining: 991ms\n",
      "131:\tlearn: 0.4095369\ttotal: 150ms\tremaining: 985ms\n",
      "132:\tlearn: 0.4088658\ttotal: 150ms\tremaining: 980ms\n",
      "133:\tlearn: 0.4084274\ttotal: 151ms\tremaining: 974ms\n",
      "134:\tlearn: 0.4077708\ttotal: 151ms\tremaining: 969ms\n",
      "135:\tlearn: 0.4071028\ttotal: 152ms\tremaining: 968ms\n",
      "136:\tlearn: 0.4065346\ttotal: 154ms\tremaining: 968ms\n",
      "137:\tlearn: 0.4060552\ttotal: 154ms\tremaining: 963ms\n",
      "138:\tlearn: 0.4054741\ttotal: 155ms\tremaining: 958ms\n",
      "139:\tlearn: 0.4048700\ttotal: 155ms\tremaining: 955ms\n",
      "140:\tlearn: 0.4043071\ttotal: 156ms\tremaining: 950ms\n",
      "141:\tlearn: 0.4041295\ttotal: 157ms\tremaining: 947ms\n",
      "142:\tlearn: 0.4036887\ttotal: 157ms\tremaining: 942ms\n",
      "143:\tlearn: 0.4031272\ttotal: 158ms\tremaining: 937ms\n",
      "144:\tlearn: 0.4027686\ttotal: 162ms\tremaining: 954ms\n",
      "145:\tlearn: 0.4026025\ttotal: 162ms\tremaining: 950ms\n",
      "146:\tlearn: 0.4022832\ttotal: 164ms\tremaining: 950ms\n",
      "147:\tlearn: 0.4016780\ttotal: 166ms\tremaining: 955ms\n",
      "148:\tlearn: 0.4012771\ttotal: 167ms\tremaining: 952ms\n",
      "149:\tlearn: 0.4007023\ttotal: 168ms\tremaining: 950ms\n",
      "150:\tlearn: 0.4002732\ttotal: 168ms\tremaining: 946ms\n",
      "151:\tlearn: 0.3998953\ttotal: 172ms\tremaining: 958ms\n",
      "152:\tlearn: 0.3994647\ttotal: 172ms\tremaining: 953ms\n",
      "153:\tlearn: 0.3990286\ttotal: 176ms\tremaining: 964ms\n",
      "154:\tlearn: 0.3985470\ttotal: 176ms\tremaining: 960ms\n",
      "155:\tlearn: 0.3982493\ttotal: 176ms\tremaining: 955ms\n",
      "156:\tlearn: 0.3981725\ttotal: 177ms\tremaining: 950ms\n",
      "157:\tlearn: 0.3976485\ttotal: 177ms\tremaining: 946ms\n",
      "158:\tlearn: 0.3975653\ttotal: 178ms\tremaining: 940ms\n",
      "159:\tlearn: 0.3972454\ttotal: 179ms\tremaining: 942ms\n",
      "160:\tlearn: 0.3969453\ttotal: 180ms\tremaining: 940ms\n",
      "161:\tlearn: 0.3965871\ttotal: 181ms\tremaining: 938ms\n",
      "162:\tlearn: 0.3965038\ttotal: 182ms\tremaining: 934ms\n",
      "163:\tlearn: 0.3964432\ttotal: 182ms\tremaining: 929ms\n",
      "164:\tlearn: 0.3961067\ttotal: 184ms\tremaining: 929ms\n",
      "165:\tlearn: 0.3958654\ttotal: 184ms\tremaining: 926ms\n",
      "166:\tlearn: 0.3954985\ttotal: 185ms\tremaining: 925ms\n",
      "167:\tlearn: 0.3952625\ttotal: 187ms\tremaining: 927ms\n",
      "168:\tlearn: 0.3951104\ttotal: 188ms\tremaining: 927ms\n",
      "169:\tlearn: 0.3948053\ttotal: 189ms\tremaining: 925ms\n",
      "170:\tlearn: 0.3942884\ttotal: 191ms\tremaining: 924ms\n",
      "171:\tlearn: 0.3938548\ttotal: 191ms\tremaining: 921ms\n",
      "172:\tlearn: 0.3936361\ttotal: 192ms\tremaining: 917ms\n",
      "173:\tlearn: 0.3931591\ttotal: 193ms\tremaining: 918ms\n",
      "174:\tlearn: 0.3930388\ttotal: 195ms\tremaining: 917ms\n",
      "175:\tlearn: 0.3929013\ttotal: 195ms\tremaining: 913ms\n",
      "176:\tlearn: 0.3924425\ttotal: 196ms\tremaining: 910ms\n",
      "177:\tlearn: 0.3923622\ttotal: 196ms\tremaining: 907ms\n",
      "178:\tlearn: 0.3920767\ttotal: 197ms\tremaining: 904ms\n",
      "179:\tlearn: 0.3920283\ttotal: 200ms\tremaining: 909ms\n",
      "180:\tlearn: 0.3916051\ttotal: 200ms\tremaining: 907ms\n",
      "181:\tlearn: 0.3912129\ttotal: 201ms\tremaining: 904ms\n",
      "182:\tlearn: 0.3907677\ttotal: 201ms\tremaining: 899ms\n",
      "183:\tlearn: 0.3907121\ttotal: 202ms\tremaining: 895ms\n",
      "184:\tlearn: 0.3904597\ttotal: 202ms\tremaining: 892ms\n",
      "185:\tlearn: 0.3901507\ttotal: 203ms\tremaining: 888ms\n",
      "186:\tlearn: 0.3899896\ttotal: 204ms\tremaining: 885ms\n",
      "187:\tlearn: 0.3897575\ttotal: 204ms\tremaining: 881ms\n",
      "188:\tlearn: 0.3894613\ttotal: 205ms\tremaining: 878ms\n",
      "189:\tlearn: 0.3891940\ttotal: 206ms\tremaining: 877ms\n",
      "190:\tlearn: 0.3891446\ttotal: 206ms\tremaining: 873ms\n",
      "191:\tlearn: 0.3890962\ttotal: 207ms\tremaining: 871ms\n",
      "192:\tlearn: 0.3887854\ttotal: 208ms\tremaining: 868ms\n",
      "193:\tlearn: 0.3884902\ttotal: 211ms\tremaining: 875ms\n",
      "194:\tlearn: 0.3883573\ttotal: 212ms\tremaining: 874ms\n",
      "195:\tlearn: 0.3883049\ttotal: 212ms\tremaining: 870ms\n",
      "196:\tlearn: 0.3880146\ttotal: 213ms\tremaining: 869ms\n",
      "197:\tlearn: 0.3878692\ttotal: 214ms\tremaining: 865ms\n",
      "198:\tlearn: 0.3875149\ttotal: 214ms\tremaining: 863ms\n",
      "199:\tlearn: 0.3871687\ttotal: 216ms\tremaining: 863ms\n",
      "200:\tlearn: 0.3868854\ttotal: 216ms\tremaining: 860ms\n",
      "201:\tlearn: 0.3866343\ttotal: 217ms\tremaining: 857ms\n",
      "202:\tlearn: 0.3862626\ttotal: 218ms\tremaining: 854ms\n",
      "203:\tlearn: 0.3858677\ttotal: 218ms\tremaining: 851ms\n",
      "204:\tlearn: 0.3856449\ttotal: 219ms\tremaining: 848ms\n",
      "205:\tlearn: 0.3852642\ttotal: 219ms\tremaining: 845ms\n",
      "206:\tlearn: 0.3850356\ttotal: 220ms\tremaining: 843ms\n",
      "207:\tlearn: 0.3846646\ttotal: 221ms\tremaining: 840ms\n",
      "208:\tlearn: 0.3843411\ttotal: 221ms\tremaining: 837ms\n",
      "209:\tlearn: 0.3841411\ttotal: 222ms\tremaining: 834ms\n",
      "210:\tlearn: 0.3838894\ttotal: 222ms\tremaining: 832ms\n",
      "211:\tlearn: 0.3836851\ttotal: 223ms\tremaining: 830ms\n",
      "212:\tlearn: 0.3835225\ttotal: 224ms\tremaining: 828ms\n",
      "213:\tlearn: 0.3834746\ttotal: 225ms\tremaining: 826ms\n",
      "214:\tlearn: 0.3832847\ttotal: 225ms\tremaining: 823ms\n",
      "215:\tlearn: 0.3830488\ttotal: 226ms\tremaining: 820ms\n",
      "216:\tlearn: 0.3827267\ttotal: 227ms\tremaining: 818ms\n",
      "217:\tlearn: 0.3825579\ttotal: 228ms\tremaining: 818ms\n",
      "218:\tlearn: 0.3822649\ttotal: 229ms\tremaining: 815ms\n",
      "219:\tlearn: 0.3819288\ttotal: 229ms\tremaining: 814ms\n",
      "220:\tlearn: 0.3815996\ttotal: 233ms\tremaining: 821ms\n",
      "221:\tlearn: 0.3812660\ttotal: 234ms\tremaining: 819ms\n",
      "222:\tlearn: 0.3810268\ttotal: 235ms\tremaining: 818ms\n",
      "223:\tlearn: 0.3808075\ttotal: 236ms\tremaining: 816ms\n",
      "224:\tlearn: 0.3805601\ttotal: 236ms\tremaining: 814ms\n",
      "225:\tlearn: 0.3804023\ttotal: 237ms\tremaining: 811ms\n",
      "226:\tlearn: 0.3800394\ttotal: 237ms\tremaining: 808ms\n",
      "227:\tlearn: 0.3798782\ttotal: 238ms\tremaining: 806ms\n",
      "228:\tlearn: 0.3795780\ttotal: 239ms\tremaining: 806ms\n",
      "229:\tlearn: 0.3791473\ttotal: 240ms\tremaining: 803ms\n",
      "230:\tlearn: 0.3789950\ttotal: 241ms\tremaining: 801ms\n",
      "231:\tlearn: 0.3789827\ttotal: 241ms\tremaining: 798ms\n",
      "232:\tlearn: 0.3786510\ttotal: 242ms\tremaining: 796ms\n",
      "233:\tlearn: 0.3783337\ttotal: 242ms\tremaining: 794ms\n",
      "234:\tlearn: 0.3781317\ttotal: 243ms\tremaining: 792ms\n",
      "235:\tlearn: 0.3778827\ttotal: 244ms\tremaining: 789ms\n",
      "236:\tlearn: 0.3776679\ttotal: 244ms\tremaining: 786ms\n",
      "237:\tlearn: 0.3773580\ttotal: 245ms\tremaining: 784ms\n",
      "238:\tlearn: 0.3771818\ttotal: 245ms\tremaining: 781ms\n",
      "239:\tlearn: 0.3770392\ttotal: 246ms\tremaining: 779ms\n",
      "240:\tlearn: 0.3767339\ttotal: 246ms\tremaining: 776ms\n",
      "241:\tlearn: 0.3767033\ttotal: 247ms\tremaining: 774ms\n",
      "242:\tlearn: 0.3766762\ttotal: 247ms\tremaining: 771ms\n",
      "243:\tlearn: 0.3765290\ttotal: 248ms\tremaining: 769ms\n",
      "244:\tlearn: 0.3761846\ttotal: 249ms\tremaining: 767ms\n",
      "245:\tlearn: 0.3758937\ttotal: 250ms\tremaining: 768ms\n",
      "246:\tlearn: 0.3756988\ttotal: 251ms\tremaining: 765ms\n",
      "247:\tlearn: 0.3755257\ttotal: 251ms\tremaining: 762ms\n",
      "248:\tlearn: 0.3752698\ttotal: 252ms\tremaining: 760ms\n",
      "249:\tlearn: 0.3750320\ttotal: 253ms\tremaining: 758ms\n",
      "250:\tlearn: 0.3750226\ttotal: 253ms\tremaining: 755ms\n",
      "251:\tlearn: 0.3748435\ttotal: 254ms\tremaining: 755ms\n",
      "252:\tlearn: 0.3746449\ttotal: 256ms\tremaining: 757ms\n",
      "253:\tlearn: 0.3745115\ttotal: 258ms\tremaining: 757ms\n",
      "254:\tlearn: 0.3743408\ttotal: 259ms\tremaining: 757ms\n",
      "255:\tlearn: 0.3742169\ttotal: 259ms\tremaining: 754ms\n",
      "256:\tlearn: 0.3740774\ttotal: 260ms\tremaining: 752ms\n",
      "257:\tlearn: 0.3738612\ttotal: 261ms\tremaining: 751ms\n",
      "258:\tlearn: 0.3736758\ttotal: 262ms\tremaining: 749ms\n",
      "259:\tlearn: 0.3734566\ttotal: 263ms\tremaining: 748ms\n",
      "260:\tlearn: 0.3733260\ttotal: 263ms\tremaining: 745ms\n",
      "261:\tlearn: 0.3729544\ttotal: 265ms\tremaining: 747ms\n",
      "262:\tlearn: 0.3728914\ttotal: 266ms\tremaining: 745ms\n",
      "263:\tlearn: 0.3728773\ttotal: 266ms\tremaining: 743ms\n",
      "264:\tlearn: 0.3725848\ttotal: 267ms\tremaining: 741ms\n",
      "265:\tlearn: 0.3724264\ttotal: 269ms\tremaining: 742ms\n",
      "266:\tlearn: 0.3721206\ttotal: 271ms\tremaining: 743ms\n",
      "267:\tlearn: 0.3720147\ttotal: 272ms\tremaining: 742ms\n",
      "268:\tlearn: 0.3718615\ttotal: 273ms\tremaining: 743ms\n",
      "269:\tlearn: 0.3717200\ttotal: 275ms\tremaining: 742ms\n",
      "270:\tlearn: 0.3714926\ttotal: 275ms\tremaining: 741ms\n",
      "271:\tlearn: 0.3712426\ttotal: 277ms\tremaining: 742ms\n",
      "272:\tlearn: 0.3710711\ttotal: 278ms\tremaining: 739ms\n",
      "273:\tlearn: 0.3708298\ttotal: 279ms\tremaining: 739ms\n",
      "274:\tlearn: 0.3706357\ttotal: 281ms\tremaining: 740ms\n",
      "275:\tlearn: 0.3704581\ttotal: 282ms\tremaining: 739ms\n",
      "276:\tlearn: 0.3702873\ttotal: 283ms\tremaining: 737ms\n",
      "277:\tlearn: 0.3700541\ttotal: 283ms\tremaining: 735ms\n",
      "278:\tlearn: 0.3699324\ttotal: 284ms\tremaining: 733ms\n",
      "279:\tlearn: 0.3699261\ttotal: 284ms\tremaining: 731ms\n",
      "280:\tlearn: 0.3697828\ttotal: 285ms\tremaining: 729ms\n",
      "281:\tlearn: 0.3695592\ttotal: 285ms\tremaining: 727ms\n",
      "282:\tlearn: 0.3694607\ttotal: 286ms\tremaining: 724ms\n",
      "283:\tlearn: 0.3693724\ttotal: 286ms\tremaining: 722ms\n",
      "284:\tlearn: 0.3692018\ttotal: 287ms\tremaining: 720ms\n",
      "285:\tlearn: 0.3690325\ttotal: 288ms\tremaining: 719ms\n",
      "286:\tlearn: 0.3689086\ttotal: 289ms\tremaining: 718ms\n",
      "287:\tlearn: 0.3689005\ttotal: 289ms\tremaining: 716ms\n",
      "288:\tlearn: 0.3688043\ttotal: 290ms\tremaining: 713ms\n",
      "289:\tlearn: 0.3687438\ttotal: 290ms\tremaining: 711ms\n",
      "290:\tlearn: 0.3686407\ttotal: 292ms\tremaining: 712ms\n",
      "291:\tlearn: 0.3684805\ttotal: 293ms\tremaining: 710ms\n",
      "292:\tlearn: 0.3682536\ttotal: 294ms\tremaining: 709ms\n",
      "293:\tlearn: 0.3680642\ttotal: 295ms\tremaining: 707ms\n",
      "294:\tlearn: 0.3678812\ttotal: 299ms\tremaining: 714ms\n",
      "295:\tlearn: 0.3677203\ttotal: 300ms\tremaining: 715ms\n",
      "296:\tlearn: 0.3676624\ttotal: 301ms\tremaining: 713ms\n",
      "297:\tlearn: 0.3675494\ttotal: 302ms\tremaining: 712ms\n",
      "298:\tlearn: 0.3672528\ttotal: 304ms\tremaining: 713ms\n",
      "299:\tlearn: 0.3671152\ttotal: 305ms\tremaining: 712ms\n",
      "300:\tlearn: 0.3668149\ttotal: 306ms\tremaining: 711ms\n",
      "301:\tlearn: 0.3665984\ttotal: 307ms\tremaining: 710ms\n",
      "302:\tlearn: 0.3664036\ttotal: 308ms\tremaining: 709ms\n",
      "303:\tlearn: 0.3662731\ttotal: 309ms\tremaining: 707ms\n",
      "304:\tlearn: 0.3661823\ttotal: 309ms\tremaining: 705ms\n",
      "305:\tlearn: 0.3660849\ttotal: 311ms\tremaining: 706ms\n",
      "306:\tlearn: 0.3658105\ttotal: 312ms\tremaining: 704ms\n",
      "307:\tlearn: 0.3656693\ttotal: 312ms\tremaining: 702ms\n",
      "308:\tlearn: 0.3656067\ttotal: 313ms\tremaining: 700ms\n",
      "309:\tlearn: 0.3654725\ttotal: 314ms\tremaining: 698ms\n",
      "310:\tlearn: 0.3653394\ttotal: 315ms\tremaining: 699ms\n",
      "311:\tlearn: 0.3652161\ttotal: 317ms\tremaining: 700ms\n",
      "312:\tlearn: 0.3651867\ttotal: 319ms\tremaining: 700ms\n",
      "313:\tlearn: 0.3650863\ttotal: 321ms\tremaining: 700ms\n",
      "314:\tlearn: 0.3649856\ttotal: 332ms\tremaining: 722ms\n",
      "315:\tlearn: 0.3648164\ttotal: 333ms\tremaining: 721ms\n",
      "316:\tlearn: 0.3646200\ttotal: 334ms\tremaining: 720ms\n",
      "317:\tlearn: 0.3644994\ttotal: 335ms\tremaining: 719ms\n",
      "318:\tlearn: 0.3642938\ttotal: 340ms\tremaining: 726ms\n",
      "319:\tlearn: 0.3641379\ttotal: 341ms\tremaining: 724ms\n",
      "320:\tlearn: 0.3640057\ttotal: 341ms\tremaining: 722ms\n",
      "321:\tlearn: 0.3639142\ttotal: 348ms\tremaining: 732ms\n",
      "322:\tlearn: 0.3638629\ttotal: 352ms\tremaining: 739ms\n",
      "323:\tlearn: 0.3637532\ttotal: 353ms\tremaining: 737ms\n",
      "324:\tlearn: 0.3635360\ttotal: 354ms\tremaining: 734ms\n",
      "325:\tlearn: 0.3634369\ttotal: 354ms\tremaining: 733ms\n",
      "326:\tlearn: 0.3633309\ttotal: 355ms\tremaining: 730ms\n",
      "327:\tlearn: 0.3631922\ttotal: 355ms\tremaining: 728ms\n",
      "328:\tlearn: 0.3630810\ttotal: 356ms\tremaining: 725ms\n",
      "329:\tlearn: 0.3630030\ttotal: 356ms\tremaining: 723ms\n",
      "330:\tlearn: 0.3628980\ttotal: 357ms\tremaining: 721ms\n",
      "331:\tlearn: 0.3628363\ttotal: 357ms\tremaining: 718ms\n",
      "332:\tlearn: 0.3628218\ttotal: 357ms\tremaining: 716ms\n",
      "333:\tlearn: 0.3626326\ttotal: 358ms\tremaining: 714ms\n",
      "334:\tlearn: 0.3624437\ttotal: 359ms\tremaining: 712ms\n",
      "335:\tlearn: 0.3623182\ttotal: 360ms\tremaining: 712ms\n",
      "336:\tlearn: 0.3622246\ttotal: 361ms\tremaining: 710ms\n",
      "337:\tlearn: 0.3621828\ttotal: 362ms\tremaining: 709ms\n",
      "338:\tlearn: 0.3619565\ttotal: 363ms\tremaining: 707ms\n",
      "339:\tlearn: 0.3617698\ttotal: 368ms\tremaining: 714ms\n",
      "340:\tlearn: 0.3616638\ttotal: 370ms\tremaining: 715ms\n",
      "341:\tlearn: 0.3615140\ttotal: 372ms\tremaining: 715ms\n",
      "342:\tlearn: 0.3613334\ttotal: 375ms\tremaining: 718ms\n",
      "343:\tlearn: 0.3612623\ttotal: 378ms\tremaining: 720ms\n",
      "344:\tlearn: 0.3611589\ttotal: 380ms\tremaining: 721ms\n",
      "345:\tlearn: 0.3611384\ttotal: 381ms\tremaining: 720ms\n",
      "346:\tlearn: 0.3610692\ttotal: 381ms\tremaining: 718ms\n",
      "347:\tlearn: 0.3609999\ttotal: 382ms\tremaining: 716ms\n",
      "348:\tlearn: 0.3609104\ttotal: 383ms\tremaining: 715ms\n",
      "349:\tlearn: 0.3608935\ttotal: 384ms\tremaining: 714ms\n",
      "350:\tlearn: 0.3607475\ttotal: 385ms\tremaining: 713ms\n",
      "351:\tlearn: 0.3606718\ttotal: 386ms\tremaining: 710ms\n",
      "352:\tlearn: 0.3606482\ttotal: 387ms\tremaining: 708ms\n",
      "353:\tlearn: 0.3604824\ttotal: 387ms\tremaining: 707ms\n",
      "354:\tlearn: 0.3603837\ttotal: 388ms\tremaining: 706ms\n",
      "355:\tlearn: 0.3602552\ttotal: 389ms\tremaining: 704ms\n",
      "356:\tlearn: 0.3602255\ttotal: 390ms\tremaining: 702ms\n",
      "357:\tlearn: 0.3600785\ttotal: 390ms\tremaining: 700ms\n",
      "358:\tlearn: 0.3599191\ttotal: 391ms\tremaining: 698ms\n",
      "359:\tlearn: 0.3597808\ttotal: 392ms\tremaining: 697ms\n",
      "360:\tlearn: 0.3596770\ttotal: 396ms\tremaining: 702ms\n",
      "361:\tlearn: 0.3595650\ttotal: 398ms\tremaining: 702ms\n",
      "362:\tlearn: 0.3594171\ttotal: 400ms\tremaining: 702ms\n",
      "363:\tlearn: 0.3593451\ttotal: 401ms\tremaining: 700ms\n",
      "364:\tlearn: 0.3592247\ttotal: 402ms\tremaining: 700ms\n",
      "365:\tlearn: 0.3589817\ttotal: 403ms\tremaining: 698ms\n",
      "366:\tlearn: 0.3587670\ttotal: 406ms\tremaining: 700ms\n",
      "367:\tlearn: 0.3586648\ttotal: 408ms\tremaining: 700ms\n",
      "368:\tlearn: 0.3586014\ttotal: 409ms\tremaining: 699ms\n",
      "369:\tlearn: 0.3585329\ttotal: 410ms\tremaining: 699ms\n",
      "370:\tlearn: 0.3584758\ttotal: 411ms\tremaining: 697ms\n",
      "371:\tlearn: 0.3583312\ttotal: 411ms\tremaining: 695ms\n",
      "372:\tlearn: 0.3581674\ttotal: 413ms\tremaining: 694ms\n",
      "373:\tlearn: 0.3580502\ttotal: 414ms\tremaining: 693ms\n",
      "374:\tlearn: 0.3579824\ttotal: 414ms\tremaining: 691ms\n",
      "375:\tlearn: 0.3578677\ttotal: 415ms\tremaining: 689ms\n",
      "376:\tlearn: 0.3575414\ttotal: 416ms\tremaining: 688ms\n",
      "377:\tlearn: 0.3574335\ttotal: 417ms\tremaining: 686ms\n",
      "378:\tlearn: 0.3573247\ttotal: 418ms\tremaining: 685ms\n",
      "379:\tlearn: 0.3572495\ttotal: 420ms\tremaining: 685ms\n",
      "380:\tlearn: 0.3571163\ttotal: 425ms\tremaining: 690ms\n",
      "381:\tlearn: 0.3569685\ttotal: 426ms\tremaining: 690ms\n",
      "382:\tlearn: 0.3569161\ttotal: 427ms\tremaining: 689ms\n",
      "383:\tlearn: 0.3568255\ttotal: 430ms\tremaining: 690ms\n",
      "384:\tlearn: 0.3567515\ttotal: 433ms\tremaining: 692ms\n",
      "385:\tlearn: 0.3565653\ttotal: 435ms\tremaining: 692ms\n",
      "386:\tlearn: 0.3565436\ttotal: 436ms\tremaining: 690ms\n",
      "387:\tlearn: 0.3563987\ttotal: 437ms\tremaining: 689ms\n",
      "388:\tlearn: 0.3563181\ttotal: 438ms\tremaining: 688ms\n",
      "389:\tlearn: 0.3560921\ttotal: 439ms\tremaining: 687ms\n",
      "390:\tlearn: 0.3559704\ttotal: 440ms\tremaining: 686ms\n",
      "391:\tlearn: 0.3559529\ttotal: 443ms\tremaining: 686ms\n",
      "392:\tlearn: 0.3558231\ttotal: 443ms\tremaining: 685ms\n",
      "393:\tlearn: 0.3557383\ttotal: 445ms\tremaining: 685ms\n",
      "394:\tlearn: 0.3557260\ttotal: 446ms\tremaining: 683ms\n",
      "395:\tlearn: 0.3556019\ttotal: 447ms\tremaining: 682ms\n",
      "396:\tlearn: 0.3554325\ttotal: 448ms\tremaining: 680ms\n",
      "397:\tlearn: 0.3554040\ttotal: 449ms\tremaining: 679ms\n",
      "398:\tlearn: 0.3552326\ttotal: 449ms\tremaining: 677ms\n",
      "399:\tlearn: 0.3551904\ttotal: 450ms\tremaining: 675ms\n",
      "400:\tlearn: 0.3550891\ttotal: 458ms\tremaining: 685ms\n",
      "401:\tlearn: 0.3549567\ttotal: 461ms\tremaining: 686ms\n",
      "402:\tlearn: 0.3548164\ttotal: 462ms\tremaining: 684ms\n",
      "403:\tlearn: 0.3547903\ttotal: 462ms\tremaining: 682ms\n",
      "404:\tlearn: 0.3547849\ttotal: 464ms\tremaining: 681ms\n",
      "405:\tlearn: 0.3546788\ttotal: 472ms\tremaining: 690ms\n",
      "406:\tlearn: 0.3546155\ttotal: 473ms\tremaining: 689ms\n",
      "407:\tlearn: 0.3544399\ttotal: 475ms\tremaining: 690ms\n",
      "408:\tlearn: 0.3542720\ttotal: 478ms\tremaining: 690ms\n",
      "409:\tlearn: 0.3541962\ttotal: 478ms\tremaining: 688ms\n",
      "410:\tlearn: 0.3541850\ttotal: 479ms\tremaining: 687ms\n",
      "411:\tlearn: 0.3540813\ttotal: 481ms\tremaining: 686ms\n",
      "412:\tlearn: 0.3539628\ttotal: 482ms\tremaining: 685ms\n",
      "413:\tlearn: 0.3539554\ttotal: 483ms\tremaining: 683ms\n",
      "414:\tlearn: 0.3538584\ttotal: 484ms\tremaining: 682ms\n",
      "415:\tlearn: 0.3538439\ttotal: 484ms\tremaining: 680ms\n",
      "416:\tlearn: 0.3538197\ttotal: 485ms\tremaining: 678ms\n",
      "417:\tlearn: 0.3537274\ttotal: 486ms\tremaining: 676ms\n",
      "418:\tlearn: 0.3535957\ttotal: 486ms\tremaining: 674ms\n",
      "419:\tlearn: 0.3534575\ttotal: 487ms\tremaining: 672ms\n",
      "420:\tlearn: 0.3534549\ttotal: 487ms\tremaining: 670ms\n",
      "421:\tlearn: 0.3533863\ttotal: 488ms\tremaining: 668ms\n",
      "422:\tlearn: 0.3532679\ttotal: 489ms\tremaining: 667ms\n",
      "423:\tlearn: 0.3531648\ttotal: 490ms\tremaining: 665ms\n",
      "424:\tlearn: 0.3529890\ttotal: 491ms\tremaining: 664ms\n",
      "425:\tlearn: 0.3529607\ttotal: 491ms\tremaining: 661ms\n",
      "426:\tlearn: 0.3528944\ttotal: 492ms\tremaining: 660ms\n",
      "427:\tlearn: 0.3528843\ttotal: 492ms\tremaining: 658ms\n",
      "428:\tlearn: 0.3527883\ttotal: 493ms\tremaining: 656ms\n",
      "429:\tlearn: 0.3527082\ttotal: 494ms\tremaining: 654ms\n",
      "430:\tlearn: 0.3526887\ttotal: 495ms\tremaining: 653ms\n",
      "431:\tlearn: 0.3526362\ttotal: 496ms\tremaining: 652ms\n",
      "432:\tlearn: 0.3524450\ttotal: 497ms\tremaining: 651ms\n",
      "433:\tlearn: 0.3522877\ttotal: 498ms\tremaining: 649ms\n",
      "434:\tlearn: 0.3521456\ttotal: 499ms\tremaining: 647ms\n",
      "435:\tlearn: 0.3520546\ttotal: 500ms\tremaining: 647ms\n",
      "436:\tlearn: 0.3520525\ttotal: 501ms\tremaining: 645ms\n",
      "437:\tlearn: 0.3520105\ttotal: 502ms\tremaining: 644ms\n",
      "438:\tlearn: 0.3519441\ttotal: 503ms\tremaining: 642ms\n",
      "439:\tlearn: 0.3518996\ttotal: 503ms\tremaining: 640ms\n",
      "440:\tlearn: 0.3518047\ttotal: 504ms\tremaining: 639ms\n",
      "441:\tlearn: 0.3516826\ttotal: 505ms\tremaining: 637ms\n",
      "442:\tlearn: 0.3516027\ttotal: 506ms\tremaining: 636ms\n",
      "443:\tlearn: 0.3515002\ttotal: 506ms\tremaining: 634ms\n",
      "444:\tlearn: 0.3513897\ttotal: 507ms\tremaining: 633ms\n",
      "445:\tlearn: 0.3511092\ttotal: 508ms\tremaining: 631ms\n",
      "446:\tlearn: 0.3510248\ttotal: 509ms\tremaining: 630ms\n",
      "447:\tlearn: 0.3509961\ttotal: 510ms\tremaining: 628ms\n",
      "448:\tlearn: 0.3508819\ttotal: 510ms\tremaining: 626ms\n",
      "449:\tlearn: 0.3508044\ttotal: 511ms\tremaining: 625ms\n",
      "450:\tlearn: 0.3507522\ttotal: 512ms\tremaining: 623ms\n",
      "451:\tlearn: 0.3506201\ttotal: 513ms\tremaining: 622ms\n",
      "452:\tlearn: 0.3505675\ttotal: 514ms\tremaining: 620ms\n",
      "453:\tlearn: 0.3504617\ttotal: 515ms\tremaining: 619ms\n",
      "454:\tlearn: 0.3503777\ttotal: 515ms\tremaining: 617ms\n",
      "455:\tlearn: 0.3502632\ttotal: 516ms\tremaining: 615ms\n",
      "456:\tlearn: 0.3502621\ttotal: 516ms\tremaining: 613ms\n",
      "457:\tlearn: 0.3501734\ttotal: 517ms\tremaining: 611ms\n",
      "458:\tlearn: 0.3500905\ttotal: 517ms\tremaining: 610ms\n",
      "459:\tlearn: 0.3500056\ttotal: 518ms\tremaining: 608ms\n",
      "460:\tlearn: 0.3498967\ttotal: 518ms\tremaining: 606ms\n",
      "461:\tlearn: 0.3497824\ttotal: 519ms\tremaining: 605ms\n",
      "462:\tlearn: 0.3497150\ttotal: 520ms\tremaining: 603ms\n",
      "463:\tlearn: 0.3496580\ttotal: 520ms\tremaining: 601ms\n",
      "464:\tlearn: 0.3495474\ttotal: 521ms\tremaining: 599ms\n",
      "465:\tlearn: 0.3494868\ttotal: 522ms\tremaining: 598ms\n",
      "466:\tlearn: 0.3493345\ttotal: 522ms\tremaining: 596ms\n",
      "467:\tlearn: 0.3492732\ttotal: 523ms\tremaining: 594ms\n",
      "468:\tlearn: 0.3491734\ttotal: 523ms\tremaining: 593ms\n",
      "469:\tlearn: 0.3491734\ttotal: 524ms\tremaining: 590ms\n",
      "470:\tlearn: 0.3490750\ttotal: 524ms\tremaining: 588ms\n",
      "471:\tlearn: 0.3490095\ttotal: 525ms\tremaining: 587ms\n",
      "472:\tlearn: 0.3489677\ttotal: 525ms\tremaining: 585ms\n",
      "473:\tlearn: 0.3488402\ttotal: 526ms\tremaining: 584ms\n",
      "474:\tlearn: 0.3487286\ttotal: 527ms\tremaining: 582ms\n",
      "475:\tlearn: 0.3486850\ttotal: 527ms\tremaining: 581ms\n",
      "476:\tlearn: 0.3486171\ttotal: 528ms\tremaining: 579ms\n",
      "477:\tlearn: 0.3485903\ttotal: 529ms\tremaining: 577ms\n",
      "478:\tlearn: 0.3484611\ttotal: 529ms\tremaining: 576ms\n",
      "479:\tlearn: 0.3483548\ttotal: 530ms\tremaining: 575ms\n",
      "480:\tlearn: 0.3483503\ttotal: 532ms\tremaining: 574ms\n",
      "481:\tlearn: 0.3482621\ttotal: 534ms\tremaining: 573ms\n",
      "482:\tlearn: 0.3482168\ttotal: 535ms\tremaining: 572ms\n",
      "483:\tlearn: 0.3481764\ttotal: 535ms\tremaining: 571ms\n",
      "484:\tlearn: 0.3481127\ttotal: 536ms\tremaining: 570ms\n",
      "485:\tlearn: 0.3480084\ttotal: 539ms\tremaining: 570ms\n",
      "486:\tlearn: 0.3480013\ttotal: 540ms\tremaining: 568ms\n",
      "487:\tlearn: 0.3478071\ttotal: 540ms\tremaining: 567ms\n",
      "488:\tlearn: 0.3477441\ttotal: 541ms\tremaining: 565ms\n",
      "489:\tlearn: 0.3475973\ttotal: 542ms\tremaining: 564ms\n",
      "490:\tlearn: 0.3475360\ttotal: 551ms\tremaining: 571ms\n",
      "491:\tlearn: 0.3473627\ttotal: 554ms\tremaining: 572ms\n",
      "492:\tlearn: 0.3472829\ttotal: 555ms\tremaining: 571ms\n",
      "493:\tlearn: 0.3472235\ttotal: 556ms\tremaining: 569ms\n",
      "494:\tlearn: 0.3471547\ttotal: 556ms\tremaining: 567ms\n",
      "495:\tlearn: 0.3470907\ttotal: 558ms\tremaining: 567ms\n",
      "496:\tlearn: 0.3469508\ttotal: 558ms\tremaining: 565ms\n",
      "497:\tlearn: 0.3468352\ttotal: 560ms\tremaining: 565ms\n",
      "498:\tlearn: 0.3467537\ttotal: 561ms\tremaining: 563ms\n",
      "499:\tlearn: 0.3466583\ttotal: 563ms\tremaining: 563ms\n",
      "500:\tlearn: 0.3465887\ttotal: 565ms\tremaining: 562ms\n",
      "501:\tlearn: 0.3464838\ttotal: 566ms\tremaining: 562ms\n",
      "502:\tlearn: 0.3464388\ttotal: 567ms\tremaining: 560ms\n",
      "503:\tlearn: 0.3464122\ttotal: 568ms\tremaining: 559ms\n",
      "504:\tlearn: 0.3462828\ttotal: 569ms\tremaining: 557ms\n",
      "505:\tlearn: 0.3462276\ttotal: 570ms\tremaining: 556ms\n",
      "506:\tlearn: 0.3461493\ttotal: 571ms\tremaining: 555ms\n",
      "507:\tlearn: 0.3460145\ttotal: 572ms\tremaining: 554ms\n",
      "508:\tlearn: 0.3459341\ttotal: 572ms\tremaining: 552ms\n",
      "509:\tlearn: 0.3459339\ttotal: 574ms\tremaining: 551ms\n",
      "510:\tlearn: 0.3458749\ttotal: 575ms\tremaining: 550ms\n",
      "511:\tlearn: 0.3458129\ttotal: 577ms\tremaining: 550ms\n",
      "512:\tlearn: 0.3457506\ttotal: 577ms\tremaining: 548ms\n",
      "513:\tlearn: 0.3457469\ttotal: 578ms\tremaining: 547ms\n",
      "514:\tlearn: 0.3456334\ttotal: 579ms\tremaining: 545ms\n",
      "515:\tlearn: 0.3455482\ttotal: 580ms\tremaining: 544ms\n",
      "516:\tlearn: 0.3454761\ttotal: 580ms\tremaining: 542ms\n",
      "517:\tlearn: 0.3453767\ttotal: 581ms\tremaining: 541ms\n",
      "518:\tlearn: 0.3452818\ttotal: 582ms\tremaining: 539ms\n",
      "519:\tlearn: 0.3452594\ttotal: 582ms\tremaining: 537ms\n",
      "520:\tlearn: 0.3452575\ttotal: 583ms\tremaining: 536ms\n",
      "521:\tlearn: 0.3451396\ttotal: 583ms\tremaining: 534ms\n",
      "522:\tlearn: 0.3451366\ttotal: 583ms\tremaining: 532ms\n",
      "523:\tlearn: 0.3450852\ttotal: 584ms\tremaining: 531ms\n",
      "524:\tlearn: 0.3450564\ttotal: 585ms\tremaining: 529ms\n",
      "525:\tlearn: 0.3448324\ttotal: 585ms\tremaining: 528ms\n",
      "526:\tlearn: 0.3447746\ttotal: 586ms\tremaining: 526ms\n",
      "527:\tlearn: 0.3447300\ttotal: 589ms\tremaining: 527ms\n",
      "528:\tlearn: 0.3446922\ttotal: 590ms\tremaining: 525ms\n",
      "529:\tlearn: 0.3446363\ttotal: 591ms\tremaining: 524ms\n",
      "530:\tlearn: 0.3445914\ttotal: 592ms\tremaining: 523ms\n",
      "531:\tlearn: 0.3445531\ttotal: 593ms\tremaining: 522ms\n",
      "532:\tlearn: 0.3444982\ttotal: 594ms\tremaining: 520ms\n",
      "533:\tlearn: 0.3443485\ttotal: 595ms\tremaining: 519ms\n",
      "534:\tlearn: 0.3442632\ttotal: 596ms\tremaining: 518ms\n",
      "535:\tlearn: 0.3442208\ttotal: 596ms\tremaining: 516ms\n",
      "536:\tlearn: 0.3442204\ttotal: 597ms\tremaining: 515ms\n",
      "537:\tlearn: 0.3441499\ttotal: 598ms\tremaining: 513ms\n",
      "538:\tlearn: 0.3440839\ttotal: 599ms\tremaining: 512ms\n",
      "539:\tlearn: 0.3440667\ttotal: 599ms\tremaining: 510ms\n",
      "540:\tlearn: 0.3439861\ttotal: 599ms\tremaining: 508ms\n",
      "541:\tlearn: 0.3439257\ttotal: 600ms\tremaining: 507ms\n",
      "542:\tlearn: 0.3438461\ttotal: 601ms\tremaining: 506ms\n",
      "543:\tlearn: 0.3438199\ttotal: 602ms\tremaining: 504ms\n",
      "544:\tlearn: 0.3437260\ttotal: 602ms\tremaining: 503ms\n",
      "545:\tlearn: 0.3437162\ttotal: 603ms\tremaining: 501ms\n",
      "546:\tlearn: 0.3436559\ttotal: 603ms\tremaining: 499ms\n",
      "547:\tlearn: 0.3435872\ttotal: 604ms\tremaining: 498ms\n",
      "548:\tlearn: 0.3435133\ttotal: 605ms\tremaining: 497ms\n",
      "549:\tlearn: 0.3435100\ttotal: 606ms\tremaining: 496ms\n",
      "550:\tlearn: 0.3434497\ttotal: 607ms\tremaining: 494ms\n",
      "551:\tlearn: 0.3433842\ttotal: 609ms\tremaining: 494ms\n",
      "552:\tlearn: 0.3433204\ttotal: 611ms\tremaining: 494ms\n",
      "553:\tlearn: 0.3432796\ttotal: 612ms\tremaining: 493ms\n",
      "554:\tlearn: 0.3432213\ttotal: 612ms\tremaining: 491ms\n",
      "555:\tlearn: 0.3431773\ttotal: 613ms\tremaining: 489ms\n",
      "556:\tlearn: 0.3430964\ttotal: 613ms\tremaining: 488ms\n",
      "557:\tlearn: 0.3430416\ttotal: 614ms\tremaining: 486ms\n",
      "558:\tlearn: 0.3430367\ttotal: 614ms\tremaining: 484ms\n",
      "559:\tlearn: 0.3429914\ttotal: 614ms\tremaining: 483ms\n",
      "560:\tlearn: 0.3429291\ttotal: 615ms\tremaining: 481ms\n",
      "561:\tlearn: 0.3429276\ttotal: 616ms\tremaining: 480ms\n",
      "562:\tlearn: 0.3428982\ttotal: 616ms\tremaining: 478ms\n",
      "563:\tlearn: 0.3428613\ttotal: 617ms\tremaining: 477ms\n",
      "564:\tlearn: 0.3428605\ttotal: 618ms\tremaining: 476ms\n",
      "565:\tlearn: 0.3428597\ttotal: 618ms\tremaining: 474ms\n",
      "566:\tlearn: 0.3428036\ttotal: 619ms\tremaining: 473ms\n",
      "567:\tlearn: 0.3427315\ttotal: 619ms\tremaining: 471ms\n",
      "568:\tlearn: 0.3426897\ttotal: 620ms\tremaining: 470ms\n",
      "569:\tlearn: 0.3426612\ttotal: 620ms\tremaining: 468ms\n",
      "570:\tlearn: 0.3426222\ttotal: 622ms\tremaining: 467ms\n",
      "571:\tlearn: 0.3425188\ttotal: 622ms\tremaining: 466ms\n",
      "572:\tlearn: 0.3425169\ttotal: 623ms\tremaining: 464ms\n",
      "573:\tlearn: 0.3424808\ttotal: 623ms\tremaining: 462ms\n",
      "574:\tlearn: 0.3424107\ttotal: 624ms\tremaining: 461ms\n",
      "575:\tlearn: 0.3423560\ttotal: 624ms\tremaining: 460ms\n",
      "576:\tlearn: 0.3422715\ttotal: 625ms\tremaining: 458ms\n",
      "577:\tlearn: 0.3421943\ttotal: 625ms\tremaining: 457ms\n",
      "578:\tlearn: 0.3421919\ttotal: 626ms\tremaining: 455ms\n",
      "579:\tlearn: 0.3421905\ttotal: 626ms\tremaining: 453ms\n",
      "580:\tlearn: 0.3421267\ttotal: 627ms\tremaining: 452ms\n",
      "581:\tlearn: 0.3420320\ttotal: 628ms\tremaining: 451ms\n",
      "582:\tlearn: 0.3419923\ttotal: 629ms\tremaining: 450ms\n",
      "583:\tlearn: 0.3419037\ttotal: 630ms\tremaining: 449ms\n",
      "584:\tlearn: 0.3419000\ttotal: 631ms\tremaining: 448ms\n",
      "585:\tlearn: 0.3418342\ttotal: 631ms\tremaining: 446ms\n",
      "586:\tlearn: 0.3417600\ttotal: 632ms\tremaining: 445ms\n",
      "587:\tlearn: 0.3417188\ttotal: 633ms\tremaining: 443ms\n",
      "588:\tlearn: 0.3417179\ttotal: 633ms\tremaining: 442ms\n",
      "589:\tlearn: 0.3416384\ttotal: 633ms\tremaining: 440ms\n",
      "590:\tlearn: 0.3415641\ttotal: 635ms\tremaining: 439ms\n",
      "591:\tlearn: 0.3415113\ttotal: 636ms\tremaining: 439ms\n",
      "592:\tlearn: 0.3414245\ttotal: 637ms\tremaining: 437ms\n",
      "593:\tlearn: 0.3413126\ttotal: 638ms\tremaining: 436ms\n",
      "594:\tlearn: 0.3413094\ttotal: 639ms\tremaining: 435ms\n",
      "595:\tlearn: 0.3411913\ttotal: 639ms\tremaining: 433ms\n",
      "596:\tlearn: 0.3410610\ttotal: 640ms\tremaining: 432ms\n",
      "597:\tlearn: 0.3410023\ttotal: 640ms\tremaining: 431ms\n",
      "598:\tlearn: 0.3409569\ttotal: 641ms\tremaining: 429ms\n",
      "599:\tlearn: 0.3408969\ttotal: 642ms\tremaining: 428ms\n",
      "600:\tlearn: 0.3408710\ttotal: 642ms\tremaining: 426ms\n",
      "601:\tlearn: 0.3408047\ttotal: 643ms\tremaining: 425ms\n",
      "602:\tlearn: 0.3407660\ttotal: 644ms\tremaining: 424ms\n",
      "603:\tlearn: 0.3407234\ttotal: 644ms\tremaining: 422ms\n",
      "604:\tlearn: 0.3406713\ttotal: 645ms\tremaining: 421ms\n",
      "605:\tlearn: 0.3406700\ttotal: 646ms\tremaining: 420ms\n",
      "606:\tlearn: 0.3406606\ttotal: 646ms\tremaining: 419ms\n",
      "607:\tlearn: 0.3406129\ttotal: 647ms\tremaining: 417ms\n",
      "608:\tlearn: 0.3404939\ttotal: 648ms\tremaining: 416ms\n",
      "609:\tlearn: 0.3404334\ttotal: 648ms\tremaining: 415ms\n",
      "610:\tlearn: 0.3403910\ttotal: 653ms\tremaining: 416ms\n",
      "611:\tlearn: 0.3403820\ttotal: 653ms\tremaining: 414ms\n",
      "612:\tlearn: 0.3403404\ttotal: 654ms\tremaining: 413ms\n",
      "613:\tlearn: 0.3403174\ttotal: 656ms\tremaining: 412ms\n",
      "614:\tlearn: 0.3402905\ttotal: 657ms\tremaining: 411ms\n",
      "615:\tlearn: 0.3402699\ttotal: 658ms\tremaining: 410ms\n",
      "616:\tlearn: 0.3401745\ttotal: 658ms\tremaining: 409ms\n",
      "617:\tlearn: 0.3400426\ttotal: 659ms\tremaining: 408ms\n",
      "618:\tlearn: 0.3400277\ttotal: 660ms\tremaining: 406ms\n",
      "619:\tlearn: 0.3399034\ttotal: 661ms\tremaining: 405ms\n",
      "620:\tlearn: 0.3398062\ttotal: 661ms\tremaining: 404ms\n",
      "621:\tlearn: 0.3397413\ttotal: 662ms\tremaining: 402ms\n",
      "622:\tlearn: 0.3396090\ttotal: 662ms\tremaining: 401ms\n",
      "623:\tlearn: 0.3395408\ttotal: 663ms\tremaining: 399ms\n",
      "624:\tlearn: 0.3395337\ttotal: 663ms\tremaining: 398ms\n",
      "625:\tlearn: 0.3395324\ttotal: 664ms\tremaining: 396ms\n",
      "626:\tlearn: 0.3394587\ttotal: 664ms\tremaining: 395ms\n",
      "627:\tlearn: 0.3393327\ttotal: 665ms\tremaining: 394ms\n",
      "628:\tlearn: 0.3392455\ttotal: 665ms\tremaining: 392ms\n",
      "629:\tlearn: 0.3391748\ttotal: 666ms\tremaining: 391ms\n",
      "630:\tlearn: 0.3391012\ttotal: 667ms\tremaining: 390ms\n",
      "631:\tlearn: 0.3390841\ttotal: 668ms\tremaining: 389ms\n",
      "632:\tlearn: 0.3390834\ttotal: 669ms\tremaining: 388ms\n",
      "633:\tlearn: 0.3390172\ttotal: 671ms\tremaining: 387ms\n",
      "634:\tlearn: 0.3389485\ttotal: 671ms\tremaining: 386ms\n",
      "635:\tlearn: 0.3389062\ttotal: 673ms\tremaining: 385ms\n",
      "636:\tlearn: 0.3388925\ttotal: 673ms\tremaining: 384ms\n",
      "637:\tlearn: 0.3388416\ttotal: 674ms\tremaining: 382ms\n",
      "638:\tlearn: 0.3387891\ttotal: 674ms\tremaining: 381ms\n",
      "639:\tlearn: 0.3387827\ttotal: 675ms\tremaining: 380ms\n",
      "640:\tlearn: 0.3387572\ttotal: 675ms\tremaining: 378ms\n",
      "641:\tlearn: 0.3387217\ttotal: 676ms\tremaining: 377ms\n",
      "642:\tlearn: 0.3385877\ttotal: 677ms\tremaining: 376ms\n",
      "643:\tlearn: 0.3384723\ttotal: 677ms\tremaining: 374ms\n",
      "644:\tlearn: 0.3383461\ttotal: 678ms\tremaining: 373ms\n",
      "645:\tlearn: 0.3383217\ttotal: 679ms\tremaining: 372ms\n",
      "646:\tlearn: 0.3382839\ttotal: 679ms\tremaining: 371ms\n",
      "647:\tlearn: 0.3382818\ttotal: 680ms\tremaining: 369ms\n",
      "648:\tlearn: 0.3382405\ttotal: 680ms\tremaining: 368ms\n",
      "649:\tlearn: 0.3381651\ttotal: 681ms\tremaining: 367ms\n",
      "650:\tlearn: 0.3380385\ttotal: 681ms\tremaining: 365ms\n",
      "651:\tlearn: 0.3379704\ttotal: 682ms\tremaining: 364ms\n",
      "652:\tlearn: 0.3379667\ttotal: 682ms\tremaining: 363ms\n",
      "653:\tlearn: 0.3378509\ttotal: 683ms\tremaining: 361ms\n",
      "654:\tlearn: 0.3377307\ttotal: 683ms\tremaining: 360ms\n",
      "655:\tlearn: 0.3376615\ttotal: 684ms\tremaining: 359ms\n",
      "656:\tlearn: 0.3376111\ttotal: 685ms\tremaining: 357ms\n",
      "657:\tlearn: 0.3375586\ttotal: 687ms\tremaining: 357ms\n",
      "658:\tlearn: 0.3374692\ttotal: 689ms\tremaining: 356ms\n",
      "659:\tlearn: 0.3373633\ttotal: 690ms\tremaining: 355ms\n",
      "660:\tlearn: 0.3373503\ttotal: 690ms\tremaining: 354ms\n",
      "661:\tlearn: 0.3372869\ttotal: 691ms\tremaining: 353ms\n",
      "662:\tlearn: 0.3372430\ttotal: 692ms\tremaining: 352ms\n",
      "663:\tlearn: 0.3371421\ttotal: 692ms\tremaining: 350ms\n",
      "664:\tlearn: 0.3371157\ttotal: 693ms\tremaining: 349ms\n",
      "665:\tlearn: 0.3370460\ttotal: 693ms\tremaining: 348ms\n",
      "666:\tlearn: 0.3370329\ttotal: 694ms\tremaining: 346ms\n",
      "667:\tlearn: 0.3369599\ttotal: 694ms\tremaining: 345ms\n",
      "668:\tlearn: 0.3369077\ttotal: 696ms\tremaining: 344ms\n",
      "669:\tlearn: 0.3369012\ttotal: 697ms\tremaining: 343ms\n",
      "670:\tlearn: 0.3368114\ttotal: 698ms\tremaining: 342ms\n",
      "671:\tlearn: 0.3368056\ttotal: 698ms\tremaining: 341ms\n",
      "672:\tlearn: 0.3367467\ttotal: 699ms\tremaining: 339ms\n",
      "673:\tlearn: 0.3367420\ttotal: 699ms\tremaining: 338ms\n",
      "674:\tlearn: 0.3366463\ttotal: 700ms\tremaining: 337ms\n",
      "675:\tlearn: 0.3365504\ttotal: 700ms\tremaining: 336ms\n",
      "676:\tlearn: 0.3364699\ttotal: 701ms\tremaining: 334ms\n",
      "677:\tlearn: 0.3364135\ttotal: 701ms\tremaining: 333ms\n",
      "678:\tlearn: 0.3363273\ttotal: 702ms\tremaining: 332ms\n",
      "679:\tlearn: 0.3362582\ttotal: 702ms\tremaining: 330ms\n",
      "680:\tlearn: 0.3361902\ttotal: 703ms\tremaining: 329ms\n",
      "681:\tlearn: 0.3361585\ttotal: 703ms\tremaining: 328ms\n",
      "682:\tlearn: 0.3360504\ttotal: 704ms\tremaining: 327ms\n",
      "683:\tlearn: 0.3360093\ttotal: 707ms\tremaining: 327ms\n",
      "684:\tlearn: 0.3359791\ttotal: 709ms\tremaining: 326ms\n",
      "685:\tlearn: 0.3359789\ttotal: 710ms\tremaining: 325ms\n",
      "686:\tlearn: 0.3359088\ttotal: 712ms\tremaining: 324ms\n",
      "687:\tlearn: 0.3358718\ttotal: 712ms\tremaining: 323ms\n",
      "688:\tlearn: 0.3358444\ttotal: 713ms\tremaining: 322ms\n",
      "689:\tlearn: 0.3357816\ttotal: 714ms\tremaining: 321ms\n",
      "690:\tlearn: 0.3357639\ttotal: 714ms\tremaining: 319ms\n",
      "691:\tlearn: 0.3357223\ttotal: 715ms\tremaining: 318ms\n",
      "692:\tlearn: 0.3356842\ttotal: 716ms\tremaining: 317ms\n",
      "693:\tlearn: 0.3356245\ttotal: 717ms\tremaining: 316ms\n",
      "694:\tlearn: 0.3355661\ttotal: 717ms\tremaining: 315ms\n",
      "695:\tlearn: 0.3355588\ttotal: 718ms\tremaining: 314ms\n",
      "696:\tlearn: 0.3355380\ttotal: 718ms\tremaining: 312ms\n",
      "697:\tlearn: 0.3354879\ttotal: 719ms\tremaining: 311ms\n",
      "698:\tlearn: 0.3354699\ttotal: 720ms\tremaining: 310ms\n",
      "699:\tlearn: 0.3353958\ttotal: 720ms\tremaining: 309ms\n",
      "700:\tlearn: 0.3353395\ttotal: 721ms\tremaining: 307ms\n",
      "701:\tlearn: 0.3353226\ttotal: 721ms\tremaining: 306ms\n",
      "702:\tlearn: 0.3352740\ttotal: 724ms\tremaining: 306ms\n",
      "703:\tlearn: 0.3351885\ttotal: 725ms\tremaining: 305ms\n",
      "704:\tlearn: 0.3351513\ttotal: 727ms\tremaining: 304ms\n",
      "705:\tlearn: 0.3350608\ttotal: 728ms\tremaining: 303ms\n",
      "706:\tlearn: 0.3350081\ttotal: 729ms\tremaining: 302ms\n",
      "707:\tlearn: 0.3350040\ttotal: 730ms\tremaining: 301ms\n",
      "708:\tlearn: 0.3349386\ttotal: 731ms\tremaining: 300ms\n",
      "709:\tlearn: 0.3348942\ttotal: 732ms\tremaining: 299ms\n",
      "710:\tlearn: 0.3348333\ttotal: 733ms\tremaining: 298ms\n",
      "711:\tlearn: 0.3347914\ttotal: 733ms\tremaining: 297ms\n",
      "712:\tlearn: 0.3347479\ttotal: 734ms\tremaining: 295ms\n",
      "713:\tlearn: 0.3346487\ttotal: 734ms\tremaining: 294ms\n",
      "714:\tlearn: 0.3346480\ttotal: 735ms\tremaining: 293ms\n",
      "715:\tlearn: 0.3345694\ttotal: 736ms\tremaining: 292ms\n",
      "716:\tlearn: 0.3345055\ttotal: 736ms\tremaining: 291ms\n",
      "717:\tlearn: 0.3344939\ttotal: 737ms\tremaining: 289ms\n",
      "718:\tlearn: 0.3344198\ttotal: 737ms\tremaining: 288ms\n",
      "719:\tlearn: 0.3343979\ttotal: 737ms\tremaining: 287ms\n",
      "720:\tlearn: 0.3343558\ttotal: 739ms\tremaining: 286ms\n",
      "721:\tlearn: 0.3342963\ttotal: 739ms\tremaining: 285ms\n",
      "722:\tlearn: 0.3342539\ttotal: 740ms\tremaining: 284ms\n",
      "723:\tlearn: 0.3342199\ttotal: 741ms\tremaining: 282ms\n",
      "724:\tlearn: 0.3341397\ttotal: 742ms\tremaining: 281ms\n",
      "725:\tlearn: 0.3341207\ttotal: 743ms\tremaining: 280ms\n",
      "726:\tlearn: 0.3340667\ttotal: 743ms\tremaining: 279ms\n",
      "727:\tlearn: 0.3340121\ttotal: 746ms\tremaining: 279ms\n",
      "728:\tlearn: 0.3339956\ttotal: 748ms\tremaining: 278ms\n",
      "729:\tlearn: 0.3339119\ttotal: 751ms\tremaining: 278ms\n",
      "730:\tlearn: 0.3338700\ttotal: 751ms\tremaining: 276ms\n",
      "731:\tlearn: 0.3337789\ttotal: 753ms\tremaining: 276ms\n",
      "732:\tlearn: 0.3337558\ttotal: 754ms\tremaining: 274ms\n",
      "733:\tlearn: 0.3337161\ttotal: 754ms\tremaining: 273ms\n",
      "734:\tlearn: 0.3336701\ttotal: 755ms\tremaining: 272ms\n",
      "735:\tlearn: 0.3335708\ttotal: 756ms\tremaining: 271ms\n",
      "736:\tlearn: 0.3335509\ttotal: 756ms\tremaining: 270ms\n",
      "737:\tlearn: 0.3335132\ttotal: 757ms\tremaining: 269ms\n",
      "738:\tlearn: 0.3334482\ttotal: 757ms\tremaining: 268ms\n",
      "739:\tlearn: 0.3333779\ttotal: 760ms\tremaining: 267ms\n",
      "740:\tlearn: 0.3333703\ttotal: 760ms\tremaining: 266ms\n",
      "741:\tlearn: 0.3332961\ttotal: 764ms\tremaining: 266ms\n",
      "742:\tlearn: 0.3332459\ttotal: 765ms\tremaining: 265ms\n",
      "743:\tlearn: 0.3331987\ttotal: 766ms\tremaining: 264ms\n",
      "744:\tlearn: 0.3331490\ttotal: 767ms\tremaining: 263ms\n",
      "745:\tlearn: 0.3331123\ttotal: 768ms\tremaining: 261ms\n",
      "746:\tlearn: 0.3330677\ttotal: 768ms\tremaining: 260ms\n",
      "747:\tlearn: 0.3330103\ttotal: 770ms\tremaining: 259ms\n",
      "748:\tlearn: 0.3329734\ttotal: 770ms\tremaining: 258ms\n",
      "749:\tlearn: 0.3329319\ttotal: 771ms\tremaining: 257ms\n",
      "750:\tlearn: 0.3328645\ttotal: 772ms\tremaining: 256ms\n",
      "751:\tlearn: 0.3327391\ttotal: 772ms\tremaining: 255ms\n",
      "752:\tlearn: 0.3326506\ttotal: 773ms\tremaining: 254ms\n",
      "753:\tlearn: 0.3326004\ttotal: 774ms\tremaining: 253ms\n",
      "754:\tlearn: 0.3325082\ttotal: 775ms\tremaining: 251ms\n",
      "755:\tlearn: 0.3323992\ttotal: 776ms\tremaining: 250ms\n",
      "756:\tlearn: 0.3323700\ttotal: 777ms\tremaining: 249ms\n",
      "757:\tlearn: 0.3323096\ttotal: 778ms\tremaining: 248ms\n",
      "758:\tlearn: 0.3322615\ttotal: 778ms\tremaining: 247ms\n",
      "759:\tlearn: 0.3322363\ttotal: 779ms\tremaining: 246ms\n",
      "760:\tlearn: 0.3321985\ttotal: 780ms\tremaining: 245ms\n",
      "761:\tlearn: 0.3321424\ttotal: 781ms\tremaining: 244ms\n",
      "762:\tlearn: 0.3321039\ttotal: 783ms\tremaining: 243ms\n",
      "763:\tlearn: 0.3320230\ttotal: 785ms\tremaining: 242ms\n",
      "764:\tlearn: 0.3319864\ttotal: 792ms\tremaining: 243ms\n",
      "765:\tlearn: 0.3319727\ttotal: 792ms\tremaining: 242ms\n",
      "766:\tlearn: 0.3319107\ttotal: 793ms\tremaining: 241ms\n",
      "767:\tlearn: 0.3318568\ttotal: 794ms\tremaining: 240ms\n",
      "768:\tlearn: 0.3318493\ttotal: 794ms\tremaining: 239ms\n",
      "769:\tlearn: 0.3318344\ttotal: 795ms\tremaining: 237ms\n",
      "770:\tlearn: 0.3318339\ttotal: 795ms\tremaining: 236ms\n",
      "771:\tlearn: 0.3317746\ttotal: 795ms\tremaining: 235ms\n",
      "772:\tlearn: 0.3317240\ttotal: 796ms\tremaining: 234ms\n",
      "773:\tlearn: 0.3316770\ttotal: 797ms\tremaining: 233ms\n",
      "774:\tlearn: 0.3315884\ttotal: 799ms\tremaining: 232ms\n",
      "775:\tlearn: 0.3315361\ttotal: 800ms\tremaining: 231ms\n",
      "776:\tlearn: 0.3314850\ttotal: 802ms\tremaining: 230ms\n",
      "777:\tlearn: 0.3314455\ttotal: 803ms\tremaining: 229ms\n",
      "778:\tlearn: 0.3313810\ttotal: 804ms\tremaining: 228ms\n",
      "779:\tlearn: 0.3313296\ttotal: 805ms\tremaining: 227ms\n",
      "780:\tlearn: 0.3313249\ttotal: 806ms\tremaining: 226ms\n",
      "781:\tlearn: 0.3312796\ttotal: 807ms\tremaining: 225ms\n",
      "782:\tlearn: 0.3312460\ttotal: 808ms\tremaining: 224ms\n",
      "783:\tlearn: 0.3312000\ttotal: 808ms\tremaining: 223ms\n",
      "784:\tlearn: 0.3311563\ttotal: 810ms\tremaining: 222ms\n",
      "785:\tlearn: 0.3311032\ttotal: 811ms\tremaining: 221ms\n",
      "786:\tlearn: 0.3310806\ttotal: 811ms\tremaining: 220ms\n",
      "787:\tlearn: 0.3310353\ttotal: 812ms\tremaining: 218ms\n",
      "788:\tlearn: 0.3309597\ttotal: 812ms\tremaining: 217ms\n",
      "789:\tlearn: 0.3309179\ttotal: 812ms\tremaining: 216ms\n",
      "790:\tlearn: 0.3308711\ttotal: 813ms\tremaining: 215ms\n",
      "791:\tlearn: 0.3308293\ttotal: 813ms\tremaining: 214ms\n",
      "792:\tlearn: 0.3307903\ttotal: 814ms\tremaining: 212ms\n",
      "793:\tlearn: 0.3307270\ttotal: 815ms\tremaining: 212ms\n",
      "794:\tlearn: 0.3306845\ttotal: 817ms\tremaining: 211ms\n",
      "795:\tlearn: 0.3306642\ttotal: 818ms\tremaining: 210ms\n",
      "796:\tlearn: 0.3306357\ttotal: 818ms\tremaining: 208ms\n",
      "797:\tlearn: 0.3306002\ttotal: 821ms\tremaining: 208ms\n",
      "798:\tlearn: 0.3305187\ttotal: 823ms\tremaining: 207ms\n",
      "799:\tlearn: 0.3304890\ttotal: 825ms\tremaining: 206ms\n",
      "800:\tlearn: 0.3304370\ttotal: 826ms\tremaining: 205ms\n",
      "801:\tlearn: 0.3304186\ttotal: 826ms\tremaining: 204ms\n",
      "802:\tlearn: 0.3303386\ttotal: 827ms\tremaining: 203ms\n",
      "803:\tlearn: 0.3302801\ttotal: 829ms\tremaining: 202ms\n",
      "804:\tlearn: 0.3302720\ttotal: 830ms\tremaining: 201ms\n",
      "805:\tlearn: 0.3302059\ttotal: 830ms\tremaining: 200ms\n",
      "806:\tlearn: 0.3301528\ttotal: 835ms\tremaining: 200ms\n",
      "807:\tlearn: 0.3300938\ttotal: 836ms\tremaining: 199ms\n",
      "808:\tlearn: 0.3300610\ttotal: 837ms\tremaining: 198ms\n",
      "809:\tlearn: 0.3300328\ttotal: 838ms\tremaining: 197ms\n",
      "810:\tlearn: 0.3299842\ttotal: 839ms\tremaining: 195ms\n",
      "811:\tlearn: 0.3299531\ttotal: 840ms\tremaining: 194ms\n",
      "812:\tlearn: 0.3299309\ttotal: 841ms\tremaining: 193ms\n",
      "813:\tlearn: 0.3298670\ttotal: 841ms\tremaining: 192ms\n",
      "814:\tlearn: 0.3297898\ttotal: 842ms\tremaining: 191ms\n",
      "815:\tlearn: 0.3297869\ttotal: 843ms\tremaining: 190ms\n",
      "816:\tlearn: 0.3297577\ttotal: 844ms\tremaining: 189ms\n",
      "817:\tlearn: 0.3297042\ttotal: 846ms\tremaining: 188ms\n",
      "818:\tlearn: 0.3296683\ttotal: 846ms\tremaining: 187ms\n",
      "819:\tlearn: 0.3296247\ttotal: 847ms\tremaining: 186ms\n",
      "820:\tlearn: 0.3295565\ttotal: 847ms\tremaining: 185ms\n",
      "821:\tlearn: 0.3295299\ttotal: 847ms\tremaining: 184ms\n",
      "822:\tlearn: 0.3294849\ttotal: 848ms\tremaining: 182ms\n",
      "823:\tlearn: 0.3294281\ttotal: 848ms\tremaining: 181ms\n",
      "824:\tlearn: 0.3293833\ttotal: 849ms\tremaining: 180ms\n",
      "825:\tlearn: 0.3292824\ttotal: 849ms\tremaining: 179ms\n",
      "826:\tlearn: 0.3291928\ttotal: 850ms\tremaining: 178ms\n",
      "827:\tlearn: 0.3291286\ttotal: 851ms\tremaining: 177ms\n",
      "828:\tlearn: 0.3290962\ttotal: 851ms\tremaining: 176ms\n",
      "829:\tlearn: 0.3290318\ttotal: 853ms\tremaining: 175ms\n",
      "830:\tlearn: 0.3289740\ttotal: 853ms\tremaining: 174ms\n",
      "831:\tlearn: 0.3288987\ttotal: 854ms\tremaining: 172ms\n",
      "832:\tlearn: 0.3288534\ttotal: 855ms\tremaining: 171ms\n",
      "833:\tlearn: 0.3287998\ttotal: 858ms\tremaining: 171ms\n",
      "834:\tlearn: 0.3287897\ttotal: 858ms\tremaining: 170ms\n",
      "835:\tlearn: 0.3287341\ttotal: 859ms\tremaining: 169ms\n",
      "836:\tlearn: 0.3286994\ttotal: 860ms\tremaining: 168ms\n",
      "837:\tlearn: 0.3286181\ttotal: 862ms\tremaining: 167ms\n",
      "838:\tlearn: 0.3285809\ttotal: 863ms\tremaining: 166ms\n",
      "839:\tlearn: 0.3285374\ttotal: 863ms\tremaining: 164ms\n",
      "840:\tlearn: 0.3285101\ttotal: 864ms\tremaining: 163ms\n",
      "841:\tlearn: 0.3284701\ttotal: 866ms\tremaining: 163ms\n",
      "842:\tlearn: 0.3284171\ttotal: 867ms\tremaining: 161ms\n",
      "843:\tlearn: 0.3283791\ttotal: 868ms\tremaining: 160ms\n",
      "844:\tlearn: 0.3283370\ttotal: 869ms\tremaining: 159ms\n",
      "845:\tlearn: 0.3282983\ttotal: 869ms\tremaining: 158ms\n",
      "846:\tlearn: 0.3282646\ttotal: 871ms\tremaining: 157ms\n",
      "847:\tlearn: 0.3281712\ttotal: 872ms\tremaining: 156ms\n",
      "848:\tlearn: 0.3280972\ttotal: 873ms\tremaining: 155ms\n",
      "849:\tlearn: 0.3280701\ttotal: 874ms\tremaining: 154ms\n",
      "850:\tlearn: 0.3280275\ttotal: 875ms\tremaining: 153ms\n",
      "851:\tlearn: 0.3279629\ttotal: 876ms\tremaining: 152ms\n",
      "852:\tlearn: 0.3279309\ttotal: 876ms\tremaining: 151ms\n",
      "853:\tlearn: 0.3278698\ttotal: 877ms\tremaining: 150ms\n",
      "854:\tlearn: 0.3277985\ttotal: 877ms\tremaining: 149ms\n",
      "855:\tlearn: 0.3277674\ttotal: 878ms\tremaining: 148ms\n",
      "856:\tlearn: 0.3277370\ttotal: 878ms\tremaining: 147ms\n",
      "857:\tlearn: 0.3276671\ttotal: 878ms\tremaining: 145ms\n",
      "858:\tlearn: 0.3276640\ttotal: 880ms\tremaining: 144ms\n",
      "859:\tlearn: 0.3276067\ttotal: 880ms\tremaining: 143ms\n",
      "860:\tlearn: 0.3275641\ttotal: 881ms\tremaining: 142ms\n",
      "861:\tlearn: 0.3275028\ttotal: 882ms\tremaining: 141ms\n",
      "862:\tlearn: 0.3274703\ttotal: 883ms\tremaining: 140ms\n",
      "863:\tlearn: 0.3274187\ttotal: 887ms\tremaining: 140ms\n",
      "864:\tlearn: 0.3274146\ttotal: 888ms\tremaining: 139ms\n",
      "865:\tlearn: 0.3273591\ttotal: 889ms\tremaining: 138ms\n",
      "866:\tlearn: 0.3273323\ttotal: 890ms\tremaining: 137ms\n",
      "867:\tlearn: 0.3272590\ttotal: 892ms\tremaining: 136ms\n",
      "868:\tlearn: 0.3272137\ttotal: 892ms\tremaining: 135ms\n",
      "869:\tlearn: 0.3271895\ttotal: 893ms\tremaining: 133ms\n",
      "870:\tlearn: 0.3271542\ttotal: 894ms\tremaining: 132ms\n",
      "871:\tlearn: 0.3270956\ttotal: 897ms\tremaining: 132ms\n",
      "872:\tlearn: 0.3270583\ttotal: 900ms\tremaining: 131ms\n",
      "873:\tlearn: 0.3269067\ttotal: 901ms\tremaining: 130ms\n",
      "874:\tlearn: 0.3268706\ttotal: 902ms\tremaining: 129ms\n",
      "875:\tlearn: 0.3268323\ttotal: 903ms\tremaining: 128ms\n",
      "876:\tlearn: 0.3267066\ttotal: 904ms\tremaining: 127ms\n",
      "877:\tlearn: 0.3266702\ttotal: 906ms\tremaining: 126ms\n",
      "878:\tlearn: 0.3266256\ttotal: 912ms\tremaining: 126ms\n",
      "879:\tlearn: 0.3266231\ttotal: 913ms\tremaining: 125ms\n",
      "880:\tlearn: 0.3265404\ttotal: 916ms\tremaining: 124ms\n",
      "881:\tlearn: 0.3265006\ttotal: 918ms\tremaining: 123ms\n",
      "882:\tlearn: 0.3264901\ttotal: 919ms\tremaining: 122ms\n",
      "883:\tlearn: 0.3264437\ttotal: 919ms\tremaining: 121ms\n",
      "884:\tlearn: 0.3264155\ttotal: 920ms\tremaining: 120ms\n",
      "885:\tlearn: 0.3263946\ttotal: 922ms\tremaining: 119ms\n",
      "886:\tlearn: 0.3263476\ttotal: 923ms\tremaining: 118ms\n",
      "887:\tlearn: 0.3263123\ttotal: 925ms\tremaining: 117ms\n",
      "888:\tlearn: 0.3262676\ttotal: 926ms\tremaining: 116ms\n",
      "889:\tlearn: 0.3261895\ttotal: 927ms\tremaining: 115ms\n",
      "890:\tlearn: 0.3261232\ttotal: 928ms\tremaining: 114ms\n",
      "891:\tlearn: 0.3260731\ttotal: 929ms\tremaining: 113ms\n",
      "892:\tlearn: 0.3260082\ttotal: 930ms\tremaining: 111ms\n",
      "893:\tlearn: 0.3259799\ttotal: 931ms\tremaining: 110ms\n",
      "894:\tlearn: 0.3259435\ttotal: 932ms\tremaining: 109ms\n",
      "895:\tlearn: 0.3258943\ttotal: 935ms\tremaining: 108ms\n",
      "896:\tlearn: 0.3258500\ttotal: 935ms\tremaining: 107ms\n",
      "897:\tlearn: 0.3258293\ttotal: 936ms\tremaining: 106ms\n",
      "898:\tlearn: 0.3257846\ttotal: 937ms\tremaining: 105ms\n",
      "899:\tlearn: 0.3257188\ttotal: 938ms\tremaining: 104ms\n",
      "900:\tlearn: 0.3256656\ttotal: 939ms\tremaining: 103ms\n",
      "901:\tlearn: 0.3256193\ttotal: 939ms\tremaining: 102ms\n",
      "902:\tlearn: 0.3255697\ttotal: 939ms\tremaining: 101ms\n",
      "903:\tlearn: 0.3255319\ttotal: 939ms\tremaining: 99.8ms\n",
      "904:\tlearn: 0.3254987\ttotal: 940ms\tremaining: 98.7ms\n",
      "905:\tlearn: 0.3254232\ttotal: 941ms\tremaining: 97.6ms\n",
      "906:\tlearn: 0.3254043\ttotal: 941ms\tremaining: 96.5ms\n",
      "907:\tlearn: 0.3253895\ttotal: 941ms\tremaining: 95.4ms\n",
      "908:\tlearn: 0.3253328\ttotal: 942ms\tremaining: 94.3ms\n",
      "909:\tlearn: 0.3252881\ttotal: 942ms\tremaining: 93.2ms\n",
      "910:\tlearn: 0.3252498\ttotal: 943ms\tremaining: 92.1ms\n",
      "911:\tlearn: 0.3252110\ttotal: 943ms\tremaining: 91ms\n",
      "912:\tlearn: 0.3251702\ttotal: 944ms\tremaining: 89.9ms\n",
      "913:\tlearn: 0.3251360\ttotal: 945ms\tremaining: 88.9ms\n",
      "914:\tlearn: 0.3250913\ttotal: 946ms\tremaining: 87.9ms\n",
      "915:\tlearn: 0.3250127\ttotal: 947ms\tremaining: 86.8ms\n",
      "916:\tlearn: 0.3249805\ttotal: 948ms\tremaining: 85.8ms\n",
      "917:\tlearn: 0.3249268\ttotal: 948ms\tremaining: 84.7ms\n",
      "918:\tlearn: 0.3248825\ttotal: 949ms\tremaining: 83.7ms\n",
      "919:\tlearn: 0.3248504\ttotal: 951ms\tremaining: 82.7ms\n",
      "920:\tlearn: 0.3247350\ttotal: 951ms\tremaining: 81.6ms\n",
      "921:\tlearn: 0.3246950\ttotal: 952ms\tremaining: 80.6ms\n",
      "922:\tlearn: 0.3246693\ttotal: 953ms\tremaining: 79.5ms\n",
      "923:\tlearn: 0.3246261\ttotal: 954ms\tremaining: 78.5ms\n",
      "924:\tlearn: 0.3245971\ttotal: 955ms\tremaining: 77.4ms\n",
      "925:\tlearn: 0.3245660\ttotal: 956ms\tremaining: 76.4ms\n",
      "926:\tlearn: 0.3245627\ttotal: 956ms\tremaining: 75.3ms\n",
      "927:\tlearn: 0.3245160\ttotal: 958ms\tremaining: 74.3ms\n",
      "928:\tlearn: 0.3244812\ttotal: 958ms\tremaining: 73.2ms\n",
      "929:\tlearn: 0.3244277\ttotal: 959ms\tremaining: 72.2ms\n",
      "930:\tlearn: 0.3243754\ttotal: 961ms\tremaining: 71.2ms\n",
      "931:\tlearn: 0.3243603\ttotal: 962ms\tremaining: 70.2ms\n",
      "932:\tlearn: 0.3242972\ttotal: 963ms\tremaining: 69.1ms\n",
      "933:\tlearn: 0.3242611\ttotal: 965ms\tremaining: 68.2ms\n",
      "934:\tlearn: 0.3241829\ttotal: 966ms\tremaining: 67.2ms\n",
      "935:\tlearn: 0.3241418\ttotal: 969ms\tremaining: 66.2ms\n",
      "936:\tlearn: 0.3240948\ttotal: 970ms\tremaining: 65.2ms\n",
      "937:\tlearn: 0.3240721\ttotal: 971ms\tremaining: 64.2ms\n",
      "938:\tlearn: 0.3240208\ttotal: 972ms\tremaining: 63.1ms\n",
      "939:\tlearn: 0.3239793\ttotal: 973ms\tremaining: 62.1ms\n",
      "940:\tlearn: 0.3239486\ttotal: 977ms\tremaining: 61.2ms\n",
      "941:\tlearn: 0.3239040\ttotal: 977ms\tremaining: 60.2ms\n",
      "942:\tlearn: 0.3238615\ttotal: 978ms\tremaining: 59.1ms\n",
      "943:\tlearn: 0.3238226\ttotal: 979ms\tremaining: 58.1ms\n",
      "944:\tlearn: 0.3238040\ttotal: 980ms\tremaining: 57ms\n",
      "945:\tlearn: 0.3237583\ttotal: 981ms\tremaining: 56ms\n",
      "946:\tlearn: 0.3237270\ttotal: 982ms\tremaining: 55ms\n",
      "947:\tlearn: 0.3237266\ttotal: 983ms\tremaining: 53.9ms\n",
      "948:\tlearn: 0.3236973\ttotal: 985ms\tremaining: 52.9ms\n",
      "949:\tlearn: 0.3236331\ttotal: 985ms\tremaining: 51.9ms\n",
      "950:\tlearn: 0.3235574\ttotal: 986ms\tremaining: 50.8ms\n",
      "951:\tlearn: 0.3235188\ttotal: 987ms\tremaining: 49.8ms\n",
      "952:\tlearn: 0.3234799\ttotal: 988ms\tremaining: 48.7ms\n",
      "953:\tlearn: 0.3234372\ttotal: 988ms\tremaining: 47.7ms\n",
      "954:\tlearn: 0.3233974\ttotal: 990ms\tremaining: 46.6ms\n",
      "955:\tlearn: 0.3233676\ttotal: 992ms\tremaining: 45.6ms\n",
      "956:\tlearn: 0.3233337\ttotal: 994ms\tremaining: 44.6ms\n",
      "957:\tlearn: 0.3232954\ttotal: 995ms\tremaining: 43.6ms\n",
      "958:\tlearn: 0.3232454\ttotal: 997ms\tremaining: 42.6ms\n",
      "959:\tlearn: 0.3231927\ttotal: 998ms\tremaining: 41.6ms\n",
      "960:\tlearn: 0.3231441\ttotal: 999ms\tremaining: 40.6ms\n",
      "961:\tlearn: 0.3230985\ttotal: 1s\tremaining: 39.5ms\n",
      "962:\tlearn: 0.3230556\ttotal: 1s\tremaining: 38.5ms\n",
      "963:\tlearn: 0.3230063\ttotal: 1s\tremaining: 37.5ms\n",
      "964:\tlearn: 0.3229543\ttotal: 1s\tremaining: 36.4ms\n",
      "965:\tlearn: 0.3229040\ttotal: 1s\tremaining: 35.4ms\n",
      "966:\tlearn: 0.3228647\ttotal: 1.01s\tremaining: 34.4ms\n",
      "967:\tlearn: 0.3228359\ttotal: 1.01s\tremaining: 33.4ms\n",
      "968:\tlearn: 0.3228102\ttotal: 1.01s\tremaining: 32.4ms\n",
      "969:\tlearn: 0.3228018\ttotal: 1.01s\tremaining: 31.3ms\n",
      "970:\tlearn: 0.3227692\ttotal: 1.01s\tremaining: 30.3ms\n",
      "971:\tlearn: 0.3227403\ttotal: 1.01s\tremaining: 29.2ms\n",
      "972:\tlearn: 0.3226815\ttotal: 1.01s\tremaining: 28.2ms\n",
      "973:\tlearn: 0.3226440\ttotal: 1.02s\tremaining: 27.2ms\n",
      "974:\tlearn: 0.3226033\ttotal: 1.02s\tremaining: 26.1ms\n",
      "975:\tlearn: 0.3225656\ttotal: 1.02s\tremaining: 25.1ms\n",
      "976:\tlearn: 0.3225040\ttotal: 1.02s\tremaining: 24ms\n",
      "977:\tlearn: 0.3224781\ttotal: 1.02s\tremaining: 23ms\n",
      "978:\tlearn: 0.3224750\ttotal: 1.02s\tremaining: 21.9ms\n",
      "979:\tlearn: 0.3224621\ttotal: 1.02s\tremaining: 20.9ms\n",
      "980:\tlearn: 0.3224263\ttotal: 1.02s\tremaining: 19.8ms\n",
      "981:\tlearn: 0.3223904\ttotal: 1.02s\tremaining: 18.8ms\n",
      "982:\tlearn: 0.3223566\ttotal: 1.02s\tremaining: 17.7ms\n",
      "983:\tlearn: 0.3223286\ttotal: 1.03s\tremaining: 16.7ms\n",
      "984:\tlearn: 0.3223038\ttotal: 1.03s\tremaining: 15.6ms\n",
      "985:\tlearn: 0.3222748\ttotal: 1.03s\tremaining: 14.6ms\n",
      "986:\tlearn: 0.3222488\ttotal: 1.03s\tremaining: 13.6ms\n",
      "987:\tlearn: 0.3222200\ttotal: 1.03s\tremaining: 12.5ms\n",
      "988:\tlearn: 0.3221972\ttotal: 1.03s\tremaining: 11.5ms\n",
      "989:\tlearn: 0.3221651\ttotal: 1.03s\tremaining: 10.4ms\n",
      "990:\tlearn: 0.3221310\ttotal: 1.03s\tremaining: 9.38ms\n",
      "991:\tlearn: 0.3221046\ttotal: 1.03s\tremaining: 8.33ms\n",
      "992:\tlearn: 0.3220417\ttotal: 1.03s\tremaining: 7.29ms\n",
      "993:\tlearn: 0.3220017\ttotal: 1.03s\tremaining: 6.24ms\n",
      "994:\tlearn: 0.3219831\ttotal: 1.04s\tremaining: 5.21ms\n",
      "995:\tlearn: 0.3219563\ttotal: 1.04s\tremaining: 4.16ms\n",
      "996:\tlearn: 0.3219236\ttotal: 1.04s\tremaining: 3.12ms\n",
      "997:\tlearn: 0.3218732\ttotal: 1.04s\tremaining: 2.08ms\n",
      "998:\tlearn: 0.3218311\ttotal: 1.04s\tremaining: 1.04ms\n",
      "999:\tlearn: 0.3217745\ttotal: 1.04s\tremaining: 0us\n"
     ]
    }
   ],
   "source": [
    "#rael\n",
    "catboost = CatBoostClassifier()\n",
    "catboost.fit(X_train, Y_train)\n",
    "acc_catboost = round(catboost.score(X_train, Y_train) * 100, 2)"
   ]
  },
  {
   "cell_type": "code",
   "execution_count": 103,
   "metadata": {},
   "outputs": [],
   "source": [
    "#rael\n",
    "#MLP\n",
    "mlp = MLPClassifier()\n",
    "mlp.fit(X_train, Y_train)\n",
    "acc_mlp = round(catboost.score(X_train, Y_train) * 100, 2)"
   ]
  },
  {
   "cell_type": "code",
   "execution_count": 104,
   "metadata": {},
   "outputs": [],
   "source": [
    "#rael\n",
    "#acc_catboost"
   ]
  },
  {
   "cell_type": "markdown",
   "metadata": {},
   "source": [
    "## 6.3 Model evaluation and hyperparameter tuning\n",
    "\n",
    "Once all our models have been trained, the next step is to assess the performance of these models and select the one which has the highest prediction accuracy. "
   ]
  },
  {
   "cell_type": "markdown",
   "metadata": {},
   "source": [
    "### 6.3.1 Training accuracy\n",
    "\n",
    "Training accuracy shows how well our model has learned from the training set. "
   ]
  },
  {
   "cell_type": "markdown",
   "metadata": {},
   "source": [
    "Internal comment: Viewing and summarising the scores calcualted above for each algorithm. These models have have not yet been tuned"
   ]
  },
  {
   "cell_type": "code",
   "execution_count": 105,
   "metadata": {},
   "outputs": [
    {
     "ename": "NameError",
     "evalue": "name 'acc_sgd' is not defined",
     "output_type": "error",
     "traceback": [
      "\u001b[0;31m---------------------------------------------------------------------------\u001b[0m",
      "\u001b[0;31mNameError\u001b[0m                                 Traceback (most recent call last)",
      "\u001b[0;32m/var/folders/bb/x3yqxdw96c13cnflkbkrr5380000gn/T/ipykernel_32095/1675095095.py\u001b[0m in \u001b[0;36m<module>\u001b[0;34m\u001b[0m\n\u001b[1;32m      3\u001b[0m                                  'Linear SVC', 'Decision Tree', 'CatBoost','MLP'],\n\u001b[1;32m      4\u001b[0m                        'Score': [acc_svc, acc_knn, acc_log, acc_random_forest, acc_gaussian, acc_perceptron,\n\u001b[0;32m----> 5\u001b[0;31m                                  acc_sgd, acc_linear_svc, acc_decision_tree, acc_catboost, acc_mlp]})\n\u001b[0m\u001b[1;32m      6\u001b[0m \u001b[0;34m\u001b[0m\u001b[0m\n\u001b[1;32m      7\u001b[0m \u001b[0mmodels\u001b[0m\u001b[0;34m.\u001b[0m\u001b[0msort_values\u001b[0m\u001b[0;34m(\u001b[0m\u001b[0mby\u001b[0m \u001b[0;34m=\u001b[0m \u001b[0;34m'Score'\u001b[0m\u001b[0;34m,\u001b[0m \u001b[0mascending\u001b[0m \u001b[0;34m=\u001b[0m \u001b[0;32mFalse\u001b[0m\u001b[0;34m,\u001b[0m \u001b[0mignore_index\u001b[0m \u001b[0;34m=\u001b[0m \u001b[0;32mTrue\u001b[0m\u001b[0;34m)\u001b[0m\u001b[0;34m\u001b[0m\u001b[0;34m\u001b[0m\u001b[0m\n",
      "\u001b[0;31mNameError\u001b[0m: name 'acc_sgd' is not defined"
     ]
    }
   ],
   "source": [
    "models = pd.DataFrame({'Model': ['Support Vector Machines', 'KNN', 'Logistic Regression', \n",
    "                                 'Random Forest', 'Naive Bayes', 'Perceptron', 'Stochastic Gradient Decent', \n",
    "                                 'Linear SVC', 'Decision Tree', 'CatBoost','MLP'],\n",
    "                       'Score': [acc_svc, acc_knn, acc_log, acc_random_forest, acc_gaussian, acc_perceptron,\n",
    "                                 acc_sgd, acc_linear_svc, acc_decision_tree, acc_catboost, acc_mlp]})\n",
    "\n",
    "models.sort_values(by = 'Score', ascending = False, ignore_index = True)"
   ]
  },
  {
   "cell_type": "markdown",
   "metadata": {},
   "source": [
    "### 6.3.2 K-fold cross validation\n",
    "\n",
    "It is important to not get too carried away with models with impressive training accuracy as what we should focus on instead is the model's ability to predict out-of-samples data, in other words, data our model has not seen before.\n",
    "\n",
    "This is where k-fold cross validation comes in. K-fold cross validation is a technique whereby a subset of our training set is kept aside and will act as holdout set for testing purposes. Here is a great [video](https://www.youtube.com/watch?v=fSytzGwwBVw) explaining the concept in more detail. "
   ]
  },
  {
   "cell_type": "code",
   "execution_count": null,
   "metadata": {},
   "outputs": [],
   "source": [
    "# Create a list which contains classifiers \n",
    "\n",
    "classifiers = []\n",
    "classifiers.append(LogisticRegression())\n",
    "classifiers.append(SVC())\n",
    "classifiers.append(KNeighborsClassifier(n_neighbors = 5))\n",
    "classifiers.append(GaussianNB())\n",
    "classifiers.append(Perceptron())\n",
    "classifiers.append(LinearSVC())\n",
    "classifiers.append(SGDClassifier())\n",
    "classifiers.append(DecisionTreeClassifier())\n",
    "classifiers.append(RandomForestClassifier())\n",
    "classifiers.append(CatBoostClassifier())\n",
    "classifiers.append(MLPClassifier())\n",
    "\n",
    "\n",
    "len(classifiers)"
   ]
  },
  {
   "cell_type": "code",
   "execution_count": null,
   "metadata": {},
   "outputs": [],
   "source": [
    "# Create a list which contains cross validation results for each classifier\n",
    "\n",
    "cv_results = []\n",
    "for classifier in classifiers:#each result has 10 subcompoents for each section of the data that was made test if cv equals 10\n",
    "    cv_results.append(cross_val_score(classifier, X_train, Y_train, scoring = 'accuracy', cv = 10))#try other cv's"
   ]
  },
  {
   "cell_type": "code",
   "execution_count": null,
   "metadata": {},
   "outputs": [],
   "source": [
    "# Mean and standard deviation of cross validation results for each classifier  \n",
    "\n",
    "cv_mean = []\n",
    "cv_std = []\n",
    "for cv_result in cv_results:\n",
    "    cv_mean.append(cv_result.mean())\n",
    "    cv_std.append(cv_result.std())"
   ]
  },
  {
   "cell_type": "code",
   "execution_count": null,
   "metadata": {},
   "outputs": [],
   "source": [
    "cv_res = pd.DataFrame({'Cross Validation Mean': cv_mean, 'Cross Validation Std': cv_std, 'Algorithm': ['Logistic Regression', 'Support Vector Machines', 'KNN', 'Gausian Naive Bayes', 'Perceptron', 'Linear SVC', 'Stochastic Gradient Descent', 'Decision Tree', 'Random Forest', 'CatBoost','MLP']})\n",
    "cv_res.sort_values(by = 'Cross Validation Mean', ascending = False, ignore_index = True)"
   ]
  },
  {
   "cell_type": "code",
   "execution_count": null,
   "metadata": {},
   "outputs": [],
   "source": [
    "sns.barplot('Cross Validation Mean', 'Algorithm', data = cv_res, order = cv_res.sort_values(by = 'Cross Validation Mean', ascending = False)['Algorithm'], palette = 'Set3', **{'xerr': cv_std})\n",
    "plt.ylabel('Algorithm')\n",
    "plt.title('Cross Validation Scores')"
   ]
  },
  {
   "cell_type": "markdown",
   "metadata": {},
   "source": [
    "As we can see, support vector machines has the highest cross validation mean and thus we will proceed with this model."
   ]
  },
  {
   "cell_type": "markdown",
   "metadata": {},
   "source": [
    "### 6.3.3 Hyperparameter tuning for SVM\n",
    "\n",
    "Hyperparameter tuning is the process of tuning the parameters of a model. Here I will tune the parameters of support vector classifier using GridSearchCV."
   ]
  },
  {
   "cell_type": "code",
   "execution_count": null,
   "metadata": {
    "scrolled": true
   },
   "outputs": [],
   "source": [
    "# param_grid = {'n_neighbors': [1,2,3,4,5,6],  \n",
    "#              # 'gamma': [1, 0.1, 0.01, 0.001, 0.0001], \n",
    "#              # 'kernel': ['rbf']}  \n",
    "# }\n",
    "# grid = GridSearchCV(KNeighborsClassifier(), param_grid, refit = True, verbose = 3) \n",
    "\n",
    "# grid.fit(X_train, Y_train) "
   ]
  },
  {
   "cell_type": "code",
   "execution_count": null,
   "metadata": {},
   "outputs": [],
   "source": [
    "param_grid = {'alpha': [0,1e-5,1e-4,1e-3,1e-2,1e-1,1],  \n",
    "             # 'gamma': [1, 0.1, 0.01, 0.001, 0.0001], \n",
    "             # 'kernel': ['rbf']}  \n",
    "}\n",
    "grid = GridSearchCV(MLPClassifier(), param_grid, refit = True, verbose = 3) \n",
    "\n",
    "grid.fit(X_train, Y_train) "
   ]
  },
  {
   "cell_type": "code",
   "execution_count": null,
   "metadata": {
    "scrolled": true
   },
   "outputs": [],
   "source": [
    "print(\"Best parameters: \", grid.best_params_) \n",
    "print(\"Best estimator: \", grid.best_estimator_)# what is this"
   ]
  },
  {
   "cell_type": "code",
   "execution_count": null,
   "metadata": {},
   "outputs": [],
   "source": [
    "# Training accuracy\n",
    "\n",
    "# #svc = KNeighborsClassifier(C = 100, gamma = 0.01, kernel = 'rbf')\n",
    "# knn = KNeighborsClassifier(n_neighbors=6)\n",
    "# knn.fit(X_train,Y_train)\n",
    "# #svc.fit(X_train, Y_train)\n",
    "# Y_pred = knn.predict(X_test)\n",
    "# acc_svc = round(knn.score(X_train, Y_train) * 100, 2)\n",
    "# acc_svc"
   ]
  },
  {
   "cell_type": "code",
   "execution_count": null,
   "metadata": {},
   "outputs": [],
   "source": [
    "#svc = KNeighborsClassifier(C = 100, gamma = 0.01, kernel = 'rbf')\n",
    "mlp = grid.best_estimator_\n",
    "trainedAndTunedlMLP=mlp.fit(X_train,Y_train)\n",
    "#svc.fit(X_train, Y_train)\n",
    "Y_pred = mlp.predict(X_test)\n",
    "acc_svc = round(mlp.score(X_train, Y_train) * 100, 2)\n",
    "acc_svc"
   ]
  },
  {
   "cell_type": "code",
   "execution_count": null,
   "metadata": {
    "scrolled": true
   },
   "outputs": [],
   "source": [
    "# Mean cross validation score\n",
    "\n",
    "cross_val_score(mlp, X_train, Y_train, scoring = 'accuracy', cv = 5).mean()"
   ]
  },
  {
   "cell_type": "markdown",
   "metadata": {},
   "source": [
    "Our mean cross validation score improved slightly."
   ]
  },
  {
   "cell_type": "code",
   "execution_count": null,
   "metadata": {},
   "outputs": [],
   "source": [
    "# Survival predictions by support vector classifier\n",
    "\n",
    "Y_pred"
   ]
  },
  {
   "cell_type": "code",
   "execution_count": null,
   "metadata": {},
   "outputs": [],
   "source": [
    "len(Y_pred)"
   ]
  },
  {
   "cell_type": "markdown",
   "metadata": {},
   "source": [
    "### 6.3.4 Ensembles"
   ]
  },
  {
   "cell_type": "code",
   "execution_count": null,
   "metadata": {},
   "outputs": [],
   "source": [
    "best_trained_MLP =trainedAndTunedlMLP #still not sure what this estimator is\n",
    "trained_knn = KNNtrained\n",
    "trained_lg = LGtrained\n",
    "\n",
    "\n",
    "voting_clf_soft = VotingClassifier(estimators = [('mlp',best_trained_MLP),('knn',trained_knn),('lg',trained_lg)], voting = 'soft') \n",
    "\n",
    "\n",
    "\n",
    "print('voting_clf_soft :',cross_val_score(voting_clf_soft,X_train,Y_train,cv=5))\n",
    "print('voting_clf_soft mean :',cross_val_score(voting_clf_soft,X_train,Y_train,cv=5).mean())\n",
    "\n",
    "params = {'weights' : [[1,1,1],[1,2,1],[1,1,2],[2,1,1],[2,2,1],[1,2,2],[2,1,2]]}\n",
    "\n",
    "vote_weight = GridSearchCV(voting_clf_soft, param_grid = params, cv = 5, verbose = True, n_jobs = -1)\n",
    "best_clf_weight = vote_weight.fit(X_train, Y_train)\n",
    "voting_clf_sub = best_clf_weight.best_estimator_.predict(X_test)\n",
    "\n",
    "voting_clf_soft.fit(X_train, Y_train)\n",
    "Y_pred =  voting_clf_soft.predict(X_test).astype(int)"
   ]
  },
  {
   "cell_type": "markdown",
   "metadata": {},
   "source": [
    "# 7. Preparing data for submission"
   ]
  },
  {
   "cell_type": "code",
   "execution_count": null,
   "metadata": {
    "scrolled": true
   },
   "outputs": [],
   "source": [
    "ss.head()"
   ]
  },
  {
   "cell_type": "code",
   "execution_count": null,
   "metadata": {
    "scrolled": true
   },
   "outputs": [],
   "source": [
    "ss.shape"
   ]
  },
  {
   "cell_type": "markdown",
   "metadata": {},
   "source": [
    "We want our submission dataframe to have 418 rows and 2 columns, PassengerId and Survived. "
   ]
  },
  {
   "cell_type": "code",
   "execution_count": null,
   "metadata": {
    "scrolled": true
   },
   "outputs": [],
   "source": [
    "# Create submission dataframe\n",
    "\n",
    "submit = pd.DataFrame({'PassengerId': test['PassengerId'], 'Survived': Y_pred})\n",
    "submit.head()"
   ]
  },
  {
   "cell_type": "code",
   "execution_count": null,
   "metadata": {
    "scrolled": true
   },
   "outputs": [],
   "source": [
    "submit.shape"
   ]
  },
  {
   "cell_type": "markdown",
   "metadata": {},
   "source": [
    "Our dataframe is ready for submission!"
   ]
  },
  {
   "cell_type": "code",
   "execution_count": null,
   "metadata": {},
   "outputs": [],
   "source": [
    "# Create and save csv file \n",
    "\n",
    "submit.to_csv(\"submission.csv\", index = False)"
   ]
  },
  {
   "cell_type": "markdown",
   "metadata": {},
   "source": [
    "# 8. Possible extensions to improve model accuracy\n",
    "\n",
    "1. Analyse ticket and cabin features\n",
    "    - Do these features help predict passenger survival?\n",
    "    - If yes, consider including them in the training set instead of dropping\n",
    "2. Come up with alternative features in feature engineering\n",
    "    - Is there any other features you can potentially create from existing features in the dataset\n",
    "3. Remove features that are less important\n",
    "    - Does removing features help reduce overfitting in the model?\n",
    "4. Ensemble modelling\n",
    "    - This is a more advanced technique whereby you combine prediction results from multiple machine learning models"
   ]
  },
  {
   "cell_type": "markdown",
   "metadata": {},
   "source": [
    "# 9. Conclusion\n",
    "\n",
    "You should achieve a submission score of 0.77511 if you follow exactly what I have done in this notebook. In other words, I have correctly predicted 77.5% of the test set. I highly encourage you to work through this project again and see if you can improve on this result.\n",
    "\n",
    "If you found any mistakes in the notebook or places where I can potentially improve on, feel free to reach out to me. Let's help each other get better - happy learning!\n",
    "\n",
    "My platforms: \n",
    "- [Facebook](https://www.facebook.com/chongjason914)\n",
    "- [Instagram](https://www.instagram.com/chongjason914)\n",
    "- [Twitter](https://www.twitter.com/chongjason914)\n",
    "- [LinkedIn](https://www.linkedin.com/in/chongjason914)\n",
    "- [YouTube](https://www.youtube.com/channel/UCQXiCnjatxiAKgWjoUlM-Xg?view_as=subscriber)\n",
    "- [Medium](https://www.medium.com/@chongjason)"
   ]
  },
  {
   "cell_type": "markdown",
   "metadata": {},
   "source": [
    "## References\n",
    "https://github.com/chongjason914/kaggle-titanic \n",
    "\n",
    "https://www.kaggle.com/code/ldfreeman3/a-data-science-framework-to-achieve-99-accuracy\n",
    "\n",
    "https://github.com/murilogustineli/Titanic-Classification\n",
    "\n",
    "https://www.kaggle.com/code/kenjee/titanic-project-example/notebook\n",
    "\n"
   ]
  }
 ],
 "metadata": {
  "interpreter": {
   "hash": "0c4cbab053beb305785e3799de3018b7bc6d53a5a4bcefbea60448436f7d7da5"
  },
  "kernelspec": {
   "display_name": "Python 3.9.7 ('base')",
   "language": "python",
   "name": "python3"
  },
  "language_info": {
   "codemirror_mode": {
    "name": "ipython",
    "version": 3
   },
   "file_extension": ".py",
   "mimetype": "text/x-python",
   "name": "python",
   "nbconvert_exporter": "python",
   "pygments_lexer": "ipython3",
   "version": "3.9.7"
  }
 },
 "nbformat": 4,
 "nbformat_minor": 4
}
