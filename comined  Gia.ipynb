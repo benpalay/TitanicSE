{
 "cells": [
  {
   "cell_type": "markdown",
   "metadata": {},
   "source": [
    "# 1. Import libraries\n",
    "\n"
   ]
  },
  {
   "cell_type": "code",
   "execution_count": 134,
   "metadata": {},
   "outputs": [],
   "source": [
    "import pandas as pd\n",
    "import numpy as np\n",
    "import missingno\n",
    "from collections import Counter\n",
    "\n",
    "# Data visualisation\n",
    "import seaborn as sns\n",
    "import matplotlib.pyplot as plt\n",
    "\n",
    "# Machine learning models\n",
    "from sklearn.linear_model import LogisticRegression, Perceptron, SGDClassifier\n",
    "from sklearn.svm import SVC, LinearSVC\n",
    "from sklearn.ensemble import RandomForestClassifier\n",
    "from sklearn.neighbors import KNeighborsClassifier\n",
    "from sklearn.naive_bayes import GaussianNB\n",
    "from sklearn.tree import DecisionTreeClassifier\n",
    "from sklearn.neural_network import MLPClassifier\n",
    "from catboost import CatBoostClassifier\n",
    "\n",
    "from sklearn.ensemble import VotingClassifier\n",
    "\n",
    "# Model evaluation\n",
    "from sklearn.model_selection import cross_val_score\n",
    "\n",
    "# Hyperparameter tuning\n",
    "from sklearn.model_selection import GridSearchCV\n",
    "\n",
    "# Remove warnings\n",
    "import warnings\n",
    "warnings.filterwarnings('ignore')"
   ]
  },
  {
   "cell_type": "markdown",
   "metadata": {},
   "source": [
    "# 2. Import data"
   ]
  },
  {
   "cell_type": "code",
   "execution_count": 135,
   "metadata": {},
   "outputs": [],
   "source": [
    "#Gia\n",
    "train = pd.read_csv(\"train.csv\")\n",
    "test = pd.read_csv(\"test.csv\")"
   ]
  },
  {
   "cell_type": "code",
   "execution_count": 136,
   "metadata": {
    "scrolled": true
   },
   "outputs": [
    {
     "data": {
      "text/html": [
       "<div>\n",
       "<style scoped>\n",
       "    .dataframe tbody tr th:only-of-type {\n",
       "        vertical-align: middle;\n",
       "    }\n",
       "\n",
       "    .dataframe tbody tr th {\n",
       "        vertical-align: top;\n",
       "    }\n",
       "\n",
       "    .dataframe thead th {\n",
       "        text-align: right;\n",
       "    }\n",
       "</style>\n",
       "<table border=\"1\" class=\"dataframe\">\n",
       "  <thead>\n",
       "    <tr style=\"text-align: right;\">\n",
       "      <th></th>\n",
       "      <th>PassengerId</th>\n",
       "      <th>Survived</th>\n",
       "      <th>Pclass</th>\n",
       "      <th>Name</th>\n",
       "      <th>Sex</th>\n",
       "      <th>Age</th>\n",
       "      <th>SibSp</th>\n",
       "      <th>Parch</th>\n",
       "      <th>Ticket</th>\n",
       "      <th>Fare</th>\n",
       "      <th>Cabin</th>\n",
       "      <th>Embarked</th>\n",
       "    </tr>\n",
       "  </thead>\n",
       "  <tbody>\n",
       "    <tr>\n",
       "      <th>0</th>\n",
       "      <td>1</td>\n",
       "      <td>0</td>\n",
       "      <td>3</td>\n",
       "      <td>Braund, Mr. Owen Harris</td>\n",
       "      <td>male</td>\n",
       "      <td>22.0</td>\n",
       "      <td>1</td>\n",
       "      <td>0</td>\n",
       "      <td>A/5 21171</td>\n",
       "      <td>7.2500</td>\n",
       "      <td>NaN</td>\n",
       "      <td>S</td>\n",
       "    </tr>\n",
       "    <tr>\n",
       "      <th>1</th>\n",
       "      <td>2</td>\n",
       "      <td>1</td>\n",
       "      <td>1</td>\n",
       "      <td>Cumings, Mrs. John Bradley (Florence Briggs Th...</td>\n",
       "      <td>female</td>\n",
       "      <td>38.0</td>\n",
       "      <td>1</td>\n",
       "      <td>0</td>\n",
       "      <td>PC 17599</td>\n",
       "      <td>71.2833</td>\n",
       "      <td>C85</td>\n",
       "      <td>C</td>\n",
       "    </tr>\n",
       "    <tr>\n",
       "      <th>2</th>\n",
       "      <td>3</td>\n",
       "      <td>1</td>\n",
       "      <td>3</td>\n",
       "      <td>Heikkinen, Miss. Laina</td>\n",
       "      <td>female</td>\n",
       "      <td>26.0</td>\n",
       "      <td>0</td>\n",
       "      <td>0</td>\n",
       "      <td>STON/O2. 3101282</td>\n",
       "      <td>7.9250</td>\n",
       "      <td>NaN</td>\n",
       "      <td>S</td>\n",
       "    </tr>\n",
       "    <tr>\n",
       "      <th>3</th>\n",
       "      <td>4</td>\n",
       "      <td>1</td>\n",
       "      <td>1</td>\n",
       "      <td>Futrelle, Mrs. Jacques Heath (Lily May Peel)</td>\n",
       "      <td>female</td>\n",
       "      <td>35.0</td>\n",
       "      <td>1</td>\n",
       "      <td>0</td>\n",
       "      <td>113803</td>\n",
       "      <td>53.1000</td>\n",
       "      <td>C123</td>\n",
       "      <td>S</td>\n",
       "    </tr>\n",
       "    <tr>\n",
       "      <th>4</th>\n",
       "      <td>5</td>\n",
       "      <td>0</td>\n",
       "      <td>3</td>\n",
       "      <td>Allen, Mr. William Henry</td>\n",
       "      <td>male</td>\n",
       "      <td>35.0</td>\n",
       "      <td>0</td>\n",
       "      <td>0</td>\n",
       "      <td>373450</td>\n",
       "      <td>8.0500</td>\n",
       "      <td>NaN</td>\n",
       "      <td>S</td>\n",
       "    </tr>\n",
       "  </tbody>\n",
       "</table>\n",
       "</div>"
      ],
      "text/plain": [
       "   PassengerId  Survived  Pclass  \\\n",
       "0            1         0       3   \n",
       "1            2         1       1   \n",
       "2            3         1       3   \n",
       "3            4         1       1   \n",
       "4            5         0       3   \n",
       "\n",
       "                                                Name     Sex   Age  SibSp  \\\n",
       "0                            Braund, Mr. Owen Harris    male  22.0      1   \n",
       "1  Cumings, Mrs. John Bradley (Florence Briggs Th...  female  38.0      1   \n",
       "2                             Heikkinen, Miss. Laina  female  26.0      0   \n",
       "3       Futrelle, Mrs. Jacques Heath (Lily May Peel)  female  35.0      1   \n",
       "4                           Allen, Mr. William Henry    male  35.0      0   \n",
       "\n",
       "   Parch            Ticket     Fare Cabin Embarked  \n",
       "0      0         A/5 21171   7.2500   NaN        S  \n",
       "1      0          PC 17599  71.2833   C85        C  \n",
       "2      0  STON/O2. 3101282   7.9250   NaN        S  \n",
       "3      0            113803  53.1000  C123        S  \n",
       "4      0            373450   8.0500   NaN        S  "
      ]
     },
     "execution_count": 136,
     "metadata": {},
     "output_type": "execute_result"
    }
   ],
   "source": [
    "train.head()"
   ]
  },
  {
   "cell_type": "code",
   "execution_count": 137,
   "metadata": {},
   "outputs": [
    {
     "data": {
      "text/html": [
       "<div>\n",
       "<style scoped>\n",
       "    .dataframe tbody tr th:only-of-type {\n",
       "        vertical-align: middle;\n",
       "    }\n",
       "\n",
       "    .dataframe tbody tr th {\n",
       "        vertical-align: top;\n",
       "    }\n",
       "\n",
       "    .dataframe thead th {\n",
       "        text-align: right;\n",
       "    }\n",
       "</style>\n",
       "<table border=\"1\" class=\"dataframe\">\n",
       "  <thead>\n",
       "    <tr style=\"text-align: right;\">\n",
       "      <th></th>\n",
       "      <th>PassengerId</th>\n",
       "      <th>Pclass</th>\n",
       "      <th>Name</th>\n",
       "      <th>Sex</th>\n",
       "      <th>Age</th>\n",
       "      <th>SibSp</th>\n",
       "      <th>Parch</th>\n",
       "      <th>Ticket</th>\n",
       "      <th>Fare</th>\n",
       "      <th>Cabin</th>\n",
       "      <th>Embarked</th>\n",
       "    </tr>\n",
       "  </thead>\n",
       "  <tbody>\n",
       "    <tr>\n",
       "      <th>0</th>\n",
       "      <td>892</td>\n",
       "      <td>3</td>\n",
       "      <td>Kelly, Mr. James</td>\n",
       "      <td>male</td>\n",
       "      <td>34.5</td>\n",
       "      <td>0</td>\n",
       "      <td>0</td>\n",
       "      <td>330911</td>\n",
       "      <td>7.8292</td>\n",
       "      <td>NaN</td>\n",
       "      <td>Q</td>\n",
       "    </tr>\n",
       "    <tr>\n",
       "      <th>1</th>\n",
       "      <td>893</td>\n",
       "      <td>3</td>\n",
       "      <td>Wilkes, Mrs. James (Ellen Needs)</td>\n",
       "      <td>female</td>\n",
       "      <td>47.0</td>\n",
       "      <td>1</td>\n",
       "      <td>0</td>\n",
       "      <td>363272</td>\n",
       "      <td>7.0000</td>\n",
       "      <td>NaN</td>\n",
       "      <td>S</td>\n",
       "    </tr>\n",
       "    <tr>\n",
       "      <th>2</th>\n",
       "      <td>894</td>\n",
       "      <td>2</td>\n",
       "      <td>Myles, Mr. Thomas Francis</td>\n",
       "      <td>male</td>\n",
       "      <td>62.0</td>\n",
       "      <td>0</td>\n",
       "      <td>0</td>\n",
       "      <td>240276</td>\n",
       "      <td>9.6875</td>\n",
       "      <td>NaN</td>\n",
       "      <td>Q</td>\n",
       "    </tr>\n",
       "    <tr>\n",
       "      <th>3</th>\n",
       "      <td>895</td>\n",
       "      <td>3</td>\n",
       "      <td>Wirz, Mr. Albert</td>\n",
       "      <td>male</td>\n",
       "      <td>27.0</td>\n",
       "      <td>0</td>\n",
       "      <td>0</td>\n",
       "      <td>315154</td>\n",
       "      <td>8.6625</td>\n",
       "      <td>NaN</td>\n",
       "      <td>S</td>\n",
       "    </tr>\n",
       "    <tr>\n",
       "      <th>4</th>\n",
       "      <td>896</td>\n",
       "      <td>3</td>\n",
       "      <td>Hirvonen, Mrs. Alexander (Helga E Lindqvist)</td>\n",
       "      <td>female</td>\n",
       "      <td>22.0</td>\n",
       "      <td>1</td>\n",
       "      <td>1</td>\n",
       "      <td>3101298</td>\n",
       "      <td>12.2875</td>\n",
       "      <td>NaN</td>\n",
       "      <td>S</td>\n",
       "    </tr>\n",
       "  </tbody>\n",
       "</table>\n",
       "</div>"
      ],
      "text/plain": [
       "   PassengerId  Pclass                                          Name     Sex  \\\n",
       "0          892       3                              Kelly, Mr. James    male   \n",
       "1          893       3              Wilkes, Mrs. James (Ellen Needs)  female   \n",
       "2          894       2                     Myles, Mr. Thomas Francis    male   \n",
       "3          895       3                              Wirz, Mr. Albert    male   \n",
       "4          896       3  Hirvonen, Mrs. Alexander (Helga E Lindqvist)  female   \n",
       "\n",
       "    Age  SibSp  Parch   Ticket     Fare Cabin Embarked  \n",
       "0  34.5      0      0   330911   7.8292   NaN        Q  \n",
       "1  47.0      1      0   363272   7.0000   NaN        S  \n",
       "2  62.0      0      0   240276   9.6875   NaN        Q  \n",
       "3  27.0      0      0   315154   8.6625   NaN        S  \n",
       "4  22.0      1      1  3101298  12.2875   NaN        S  "
      ]
     },
     "execution_count": 137,
     "metadata": {},
     "output_type": "execute_result"
    }
   ],
   "source": [
    "test.head()"
   ]
  },
  {
   "cell_type": "markdown",
   "metadata": {},
   "source": [
    "# 3. Data description"
   ]
  },
  {
   "cell_type": "markdown",
   "metadata": {},
   "source": [
    "Gia\n",
    "The data provided is split into two groups:\n",
    "1) The training set (train.csv)\n",
    "2) The testing set (test.csv)\n",
    "\n",
    "The training set includes a survival column which indicates whether or not the passenger survived. This data set is used to create the machine learning model.\n",
    "The testing set is used to determine how well the model (generated from the training data set) performs on new unseen data. The testing data set does not provide the passengers' survival status. The model generated predicts the passengers' survival status.\n",
    "\n",
    "The table below provides all the relevant information about the columns in the data sets:\n",
    "\n",
    "| Column Name          | Description                                                | Key                    |\n",
    "| ---------------------| ---------------------------------------------------------- | ---------------------- |\n",
    "| __PassengerId__      | Passenger Identity                                         |                        | \n",
    "| __Survived__         | Passenger survival status                                  | 0 = No, 1 = Yes        | \n",
    "| __Pclass__           | Ticket class, a representation of socio-economic status (SES)| 1 = 1st class, 2 = 2nd class, 3 = 3rd class | \n",
    "| __Name__             | Passenger's name                                           |                        | \n",
    "| __Sex__              | Passenger's sex                                            |                        |\n",
    "| __Age__              | Passengers age (in years)                                  |                        |\n",
    "| __SibSp__            | Number of sibling and/or spouse travelling with passenger  |                        |\n",
    "| __Parch__            | Number of parent and/or children travelling with passenger |                        |\n",
    "| __Ticket__           | Ticket number                                              |                        |\n",
    "| __Fare__             | Price of the ticket                                        |                        |\n",
    "| __Cabin__            | Cabin number                                               |                        |\n",
    "| __Embarked__         | Point of embarkation                                       | C = Cherbourg, Q = Queenstown, S = Southampton |\n",
    "\n",
    "More information can be found under the [data](https://www.kaggle.com/c/titanic/data) tab of the competition page."
   ]
  },
  {
   "cell_type": "markdown",
   "metadata": {},
   "source": [
    "# 4. Exploratory Data Analysis (EDA)"
   ]
  },
  {
   "cell_type": "markdown",
   "metadata": {},
   "source": [
    "Gia\n",
    "Exploratory data analysis is used to gain insight on the data provided. This is achieved by using visualisation tools such as graphs and tables. It will allow us to understand the data and derive preliminary conclusions. Furthermore, it will summerise important trends, characteristics, and abnormalities in the dataset which will ultimately aid in training the model.\n",
    "\n",
    "The following is explored and analysed:\n",
    "- Data Types\n",
    "- The shape of the data\n",
    "- Missing values in the data\n",
    "- Statistics derived from the data"
   ]
  },
  {
   "cell_type": "markdown",
   "metadata": {},
   "source": [
    "## 4.1 Data types,data shapes, missing data and summary statistics"
   ]
  },
  {
   "cell_type": "markdown",
   "metadata": {},
   "source": [
    "### 4.1.1 Data Types"
   ]
  },
  {
   "cell_type": "code",
   "execution_count": 138,
   "metadata": {},
   "outputs": [
    {
     "name": "stdout",
     "output_type": "stream",
     "text": [
      "<class 'pandas.core.frame.DataFrame'>\n",
      "RangeIndex: 891 entries, 0 to 890\n",
      "Data columns (total 12 columns):\n",
      " #   Column       Non-Null Count  Dtype  \n",
      "---  ------       --------------  -----  \n",
      " 0   PassengerId  891 non-null    int64  \n",
      " 1   Survived     891 non-null    int64  \n",
      " 2   Pclass       891 non-null    int64  \n",
      " 3   Name         891 non-null    object \n",
      " 4   Sex          891 non-null    object \n",
      " 5   Age          714 non-null    float64\n",
      " 6   SibSp        891 non-null    int64  \n",
      " 7   Parch        891 non-null    int64  \n",
      " 8   Ticket       891 non-null    object \n",
      " 9   Fare         891 non-null    float64\n",
      " 10  Cabin        204 non-null    object \n",
      " 11  Embarked     889 non-null    object \n",
      "dtypes: float64(2), int64(5), object(5)\n",
      "memory usage: 83.7+ KB\n"
     ]
    }
   ],
   "source": [
    "# Non-null count and data types of the training data set\n",
    "train.info()"
   ]
  },
  {
   "cell_type": "markdown",
   "metadata": {},
   "source": [
    "Gia <font color='pink'>Observation:</font>  The training-set has 891 rows and 11 features + the __target variable (survived).__ 2 of the features are floats, 5 are integers and 5 are objects."
   ]
  },
  {
   "cell_type": "markdown",
   "metadata": {},
   "source": [
    "### 4.1.2 Data Shape"
   ]
  },
  {
   "cell_type": "code",
   "execution_count": 139,
   "metadata": {},
   "outputs": [
    {
     "name": "stdout",
     "output_type": "stream",
     "text": [
      "The shape of the training data set:  (891, 12)\n",
      "The shape of the testing data set:  (418, 11)\n"
     ]
    }
   ],
   "source": [
    "#Gia\n",
    "print(\"The shape of the training data set: \", train.shape)\n",
    "print(\"The shape of the testing data set: \", test.shape)"
   ]
  },
  {
   "cell_type": "markdown",
   "metadata": {},
   "source": [
    "Gia <font color='pink'>Observation:</font> The testing data set has one column less column than the training data set (the Survived column). As discussed above in section 3, survived is our response/target variable and will therefore be determined from the model derived from the training data."
   ]
  },
  {
   "cell_type": "markdown",
   "metadata": {},
   "source": [
    "### 4.1.3 Missing Values"
   ]
  },
  {
   "cell_type": "code",
   "execution_count": 140,
   "metadata": {},
   "outputs": [
    {
     "data": {
      "text/html": [
       "<div>\n",
       "<style scoped>\n",
       "    .dataframe tbody tr th:only-of-type {\n",
       "        vertical-align: middle;\n",
       "    }\n",
       "\n",
       "    .dataframe tbody tr th {\n",
       "        vertical-align: top;\n",
       "    }\n",
       "\n",
       "    .dataframe thead th {\n",
       "        text-align: right;\n",
       "    }\n",
       "</style>\n",
       "<table border=\"1\" class=\"dataframe\">\n",
       "  <thead>\n",
       "    <tr style=\"text-align: right;\">\n",
       "      <th></th>\n",
       "      <th>Total missing</th>\n",
       "      <th>%</th>\n",
       "    </tr>\n",
       "  </thead>\n",
       "  <tbody>\n",
       "    <tr>\n",
       "      <th>Cabin</th>\n",
       "      <td>687</td>\n",
       "      <td>77.1</td>\n",
       "    </tr>\n",
       "    <tr>\n",
       "      <th>Age</th>\n",
       "      <td>177</td>\n",
       "      <td>19.9</td>\n",
       "    </tr>\n",
       "    <tr>\n",
       "      <th>Embarked</th>\n",
       "      <td>2</td>\n",
       "      <td>0.2</td>\n",
       "    </tr>\n",
       "    <tr>\n",
       "      <th>PassengerId</th>\n",
       "      <td>0</td>\n",
       "      <td>0.0</td>\n",
       "    </tr>\n",
       "    <tr>\n",
       "      <th>Survived</th>\n",
       "      <td>0</td>\n",
       "      <td>0.0</td>\n",
       "    </tr>\n",
       "    <tr>\n",
       "      <th>Pclass</th>\n",
       "      <td>0</td>\n",
       "      <td>0.0</td>\n",
       "    </tr>\n",
       "    <tr>\n",
       "      <th>Name</th>\n",
       "      <td>0</td>\n",
       "      <td>0.0</td>\n",
       "    </tr>\n",
       "    <tr>\n",
       "      <th>Sex</th>\n",
       "      <td>0</td>\n",
       "      <td>0.0</td>\n",
       "    </tr>\n",
       "    <tr>\n",
       "      <th>SibSp</th>\n",
       "      <td>0</td>\n",
       "      <td>0.0</td>\n",
       "    </tr>\n",
       "    <tr>\n",
       "      <th>Parch</th>\n",
       "      <td>0</td>\n",
       "      <td>0.0</td>\n",
       "    </tr>\n",
       "    <tr>\n",
       "      <th>Ticket</th>\n",
       "      <td>0</td>\n",
       "      <td>0.0</td>\n",
       "    </tr>\n",
       "    <tr>\n",
       "      <th>Fare</th>\n",
       "      <td>0</td>\n",
       "      <td>0.0</td>\n",
       "    </tr>\n",
       "  </tbody>\n",
       "</table>\n",
       "</div>"
      ],
      "text/plain": [
       "             Total missing     %\n",
       "Cabin                  687  77.1\n",
       "Age                    177  19.9\n",
       "Embarked                 2   0.2\n",
       "PassengerId              0   0.0\n",
       "Survived                 0   0.0\n",
       "Pclass                   0   0.0\n",
       "Name                     0   0.0\n",
       "Sex                      0   0.0\n",
       "SibSp                    0   0.0\n",
       "Parch                    0   0.0\n",
       "Ticket                   0   0.0\n",
       "Fare                     0   0.0"
      ]
     },
     "execution_count": 140,
     "metadata": {},
     "output_type": "execute_result"
    }
   ],
   "source": [
    "#Gia\n",
    "#Determine what percentage of data is missing values in each column of the training dataset\n",
    "totalNumberOfDataPoints = train.isnull().sum().sort_values(ascending=False)\n",
    "percentMissing = train.isnull().sum()/train.isnull().count()*100\n",
    "percentMissingRounded = (round(percentMissing, 1)).sort_values(ascending=False)\n",
    "missingData = pd.concat([totalNumberOfDataPoints, percentMissingRounded], axis=1, keys=['Total missing', '%'])\n",
    "missingData.head(13)"
   ]
  },
  {
   "cell_type": "code",
   "execution_count": 141,
   "metadata": {},
   "outputs": [
    {
     "data": {
      "text/html": [
       "<div>\n",
       "<style scoped>\n",
       "    .dataframe tbody tr th:only-of-type {\n",
       "        vertical-align: middle;\n",
       "    }\n",
       "\n",
       "    .dataframe tbody tr th {\n",
       "        vertical-align: top;\n",
       "    }\n",
       "\n",
       "    .dataframe thead th {\n",
       "        text-align: right;\n",
       "    }\n",
       "</style>\n",
       "<table border=\"1\" class=\"dataframe\">\n",
       "  <thead>\n",
       "    <tr style=\"text-align: right;\">\n",
       "      <th></th>\n",
       "      <th>Total missing</th>\n",
       "      <th>%</th>\n",
       "    </tr>\n",
       "  </thead>\n",
       "  <tbody>\n",
       "    <tr>\n",
       "      <th>Cabin</th>\n",
       "      <td>327</td>\n",
       "      <td>78.2</td>\n",
       "    </tr>\n",
       "    <tr>\n",
       "      <th>Age</th>\n",
       "      <td>86</td>\n",
       "      <td>20.6</td>\n",
       "    </tr>\n",
       "    <tr>\n",
       "      <th>Fare</th>\n",
       "      <td>1</td>\n",
       "      <td>0.2</td>\n",
       "    </tr>\n",
       "    <tr>\n",
       "      <th>PassengerId</th>\n",
       "      <td>0</td>\n",
       "      <td>0.0</td>\n",
       "    </tr>\n",
       "    <tr>\n",
       "      <th>Pclass</th>\n",
       "      <td>0</td>\n",
       "      <td>0.0</td>\n",
       "    </tr>\n",
       "    <tr>\n",
       "      <th>Name</th>\n",
       "      <td>0</td>\n",
       "      <td>0.0</td>\n",
       "    </tr>\n",
       "    <tr>\n",
       "      <th>Sex</th>\n",
       "      <td>0</td>\n",
       "      <td>0.0</td>\n",
       "    </tr>\n",
       "    <tr>\n",
       "      <th>SibSp</th>\n",
       "      <td>0</td>\n",
       "      <td>0.0</td>\n",
       "    </tr>\n",
       "    <tr>\n",
       "      <th>Parch</th>\n",
       "      <td>0</td>\n",
       "      <td>0.0</td>\n",
       "    </tr>\n",
       "    <tr>\n",
       "      <th>Ticket</th>\n",
       "      <td>0</td>\n",
       "      <td>0.0</td>\n",
       "    </tr>\n",
       "    <tr>\n",
       "      <th>Embarked</th>\n",
       "      <td>0</td>\n",
       "      <td>0.0</td>\n",
       "    </tr>\n",
       "  </tbody>\n",
       "</table>\n",
       "</div>"
      ],
      "text/plain": [
       "             Total missing     %\n",
       "Cabin                  327  78.2\n",
       "Age                     86  20.6\n",
       "Fare                     1   0.2\n",
       "PassengerId              0   0.0\n",
       "Pclass                   0   0.0\n",
       "Name                     0   0.0\n",
       "Sex                      0   0.0\n",
       "SibSp                    0   0.0\n",
       "Parch                    0   0.0\n",
       "Ticket                   0   0.0\n",
       "Embarked                 0   0.0"
      ]
     },
     "execution_count": 141,
     "metadata": {},
     "output_type": "execute_result"
    }
   ],
   "source": [
    "#Gia\n",
    "#Determine what percentage of data is missing values in each column of the testing dataset\n",
    "totalNumberOfDataPoints = test.isnull().sum().sort_values(ascending=False)\n",
    "percentMissing = test.isnull().sum()/test.isnull().count()*100\n",
    "percentMissingRounded = (round(percentMissing, 1)).sort_values(ascending=False)\n",
    "missingData = pd.concat([totalNumberOfDataPoints, percentMissingRounded], axis=1, keys=['Total missing', '%'])\n",
    "missingData.head(13)"
   ]
  },
  {
   "cell_type": "markdown",
   "metadata": {},
   "source": [
    "Gia <font color='pink'>Observation:</font> From the two tables above it can be seen that the training set has missing values in the Cabin, Age and Embarked columns. The testing dataset has missing values in the Cabin, Age and Fare columns. \n",
    "For the training dataset, the Embarked column only contains two missing values which can be easily dropped or filled. The Age column on the other hand has 177 missing values. We therefore, cannot drop the rows which have missing values in the age column as this will eliminate 20% of the training data. Therefore, these values need to be filled in. The approach taken to fill in the missing values is discussed below in section 5.2. Since the Cabin column is missing 77% of data points, we have decided to drop this column. "
   ]
  },
  {
   "cell_type": "markdown",
   "metadata": {},
   "source": [
    "### 4.1.4 Statistics"
   ]
  },
  {
   "cell_type": "code",
   "execution_count": 142,
   "metadata": {},
   "outputs": [
    {
     "data": {
      "text/html": [
       "<div>\n",
       "<style scoped>\n",
       "    .dataframe tbody tr th:only-of-type {\n",
       "        vertical-align: middle;\n",
       "    }\n",
       "\n",
       "    .dataframe tbody tr th {\n",
       "        vertical-align: top;\n",
       "    }\n",
       "\n",
       "    .dataframe thead th {\n",
       "        text-align: right;\n",
       "    }\n",
       "</style>\n",
       "<table border=\"1\" class=\"dataframe\">\n",
       "  <thead>\n",
       "    <tr style=\"text-align: right;\">\n",
       "      <th></th>\n",
       "      <th>PassengerId</th>\n",
       "      <th>Survived</th>\n",
       "      <th>Pclass</th>\n",
       "      <th>Age</th>\n",
       "      <th>SibSp</th>\n",
       "      <th>Parch</th>\n",
       "      <th>Fare</th>\n",
       "    </tr>\n",
       "  </thead>\n",
       "  <tbody>\n",
       "    <tr>\n",
       "      <th>count</th>\n",
       "      <td>891.000000</td>\n",
       "      <td>891.000000</td>\n",
       "      <td>891.000000</td>\n",
       "      <td>714.000000</td>\n",
       "      <td>891.000000</td>\n",
       "      <td>891.000000</td>\n",
       "      <td>891.000000</td>\n",
       "    </tr>\n",
       "    <tr>\n",
       "      <th>mean</th>\n",
       "      <td>446.000000</td>\n",
       "      <td>0.383838</td>\n",
       "      <td>2.308642</td>\n",
       "      <td>29.699118</td>\n",
       "      <td>0.523008</td>\n",
       "      <td>0.381594</td>\n",
       "      <td>32.204208</td>\n",
       "    </tr>\n",
       "    <tr>\n",
       "      <th>std</th>\n",
       "      <td>257.353842</td>\n",
       "      <td>0.486592</td>\n",
       "      <td>0.836071</td>\n",
       "      <td>14.526497</td>\n",
       "      <td>1.102743</td>\n",
       "      <td>0.806057</td>\n",
       "      <td>49.693429</td>\n",
       "    </tr>\n",
       "    <tr>\n",
       "      <th>min</th>\n",
       "      <td>1.000000</td>\n",
       "      <td>0.000000</td>\n",
       "      <td>1.000000</td>\n",
       "      <td>0.420000</td>\n",
       "      <td>0.000000</td>\n",
       "      <td>0.000000</td>\n",
       "      <td>0.000000</td>\n",
       "    </tr>\n",
       "    <tr>\n",
       "      <th>25%</th>\n",
       "      <td>223.500000</td>\n",
       "      <td>0.000000</td>\n",
       "      <td>2.000000</td>\n",
       "      <td>20.125000</td>\n",
       "      <td>0.000000</td>\n",
       "      <td>0.000000</td>\n",
       "      <td>7.910400</td>\n",
       "    </tr>\n",
       "    <tr>\n",
       "      <th>50%</th>\n",
       "      <td>446.000000</td>\n",
       "      <td>0.000000</td>\n",
       "      <td>3.000000</td>\n",
       "      <td>28.000000</td>\n",
       "      <td>0.000000</td>\n",
       "      <td>0.000000</td>\n",
       "      <td>14.454200</td>\n",
       "    </tr>\n",
       "    <tr>\n",
       "      <th>75%</th>\n",
       "      <td>668.500000</td>\n",
       "      <td>1.000000</td>\n",
       "      <td>3.000000</td>\n",
       "      <td>38.000000</td>\n",
       "      <td>1.000000</td>\n",
       "      <td>0.000000</td>\n",
       "      <td>31.000000</td>\n",
       "    </tr>\n",
       "    <tr>\n",
       "      <th>max</th>\n",
       "      <td>891.000000</td>\n",
       "      <td>1.000000</td>\n",
       "      <td>3.000000</td>\n",
       "      <td>80.000000</td>\n",
       "      <td>8.000000</td>\n",
       "      <td>6.000000</td>\n",
       "      <td>512.329200</td>\n",
       "    </tr>\n",
       "  </tbody>\n",
       "</table>\n",
       "</div>"
      ],
      "text/plain": [
       "       PassengerId    Survived      Pclass         Age       SibSp  \\\n",
       "count   891.000000  891.000000  891.000000  714.000000  891.000000   \n",
       "mean    446.000000    0.383838    2.308642   29.699118    0.523008   \n",
       "std     257.353842    0.486592    0.836071   14.526497    1.102743   \n",
       "min       1.000000    0.000000    1.000000    0.420000    0.000000   \n",
       "25%     223.500000    0.000000    2.000000   20.125000    0.000000   \n",
       "50%     446.000000    0.000000    3.000000   28.000000    0.000000   \n",
       "75%     668.500000    1.000000    3.000000   38.000000    1.000000   \n",
       "max     891.000000    1.000000    3.000000   80.000000    8.000000   \n",
       "\n",
       "            Parch        Fare  \n",
       "count  891.000000  891.000000  \n",
       "mean     0.381594   32.204208  \n",
       "std      0.806057   49.693429  \n",
       "min      0.000000    0.000000  \n",
       "25%      0.000000    7.910400  \n",
       "50%      0.000000   14.454200  \n",
       "75%      0.000000   31.000000  \n",
       "max      6.000000  512.329200  "
      ]
     },
     "execution_count": 142,
     "metadata": {},
     "output_type": "execute_result"
    }
   ],
   "source": [
    "#Gia\n",
    "# Summary of the statistics for the training data set \n",
    "train.describe()"
   ]
  },
  {
   "cell_type": "markdown",
   "metadata": {},
   "source": [
    "Gia\n",
    "The table above gives an overview of the central tendencies of the numeric data in the testing dataset. <br /> <font color='pink'>Observations:</font> \n",
    "- 38% of people in the training dataset survived the Titanic \n",
    "- The passenger age ranges from 0.4 to 80 years old.\n",
    "- There is an outlier in the Fare column because of the differences between the 75th percentile, standard deviation, and the max value (512). We will thus determine how to deal with this outlier by either dropping its corresponding row or filling the outlier with an appropriate value. "
   ]
  },
  {
   "cell_type": "markdown",
   "metadata": {},
   "source": [
    "## 4.2 Feature analysis"
   ]
  },
  {
   "cell_type": "markdown",
   "metadata": {},
   "source": [
    "Gia\n",
    "For feature analysis the training dataset will be split into two categories:\n",
    "1) Categorical variables\n",
    "2) Numerical variables\n",
    "\n",
    "Categorical variables have values belonging to one of two or more categories. Numerical variables have a continuous distribution.\n",
    "Identifying which variables are categorical and which variables are numerical will hel structure the data analysis properly. For example it makes no sense to determine the average of a categorical variable such as sex or class. Furthermore, sex, class and embarked have no intrinsic ordering to its value. \n",
    " "
   ]
  },
  {
   "cell_type": "markdown",
   "metadata": {},
   "source": [
    "### 4.2.1 Categorical variables\n",
    "Gia\n",
    "In this data set the categorical variables are:\n",
    "1) Sex\n",
    "2) Pclass \n",
    "3) Embarked."
   ]
  },
  {
   "cell_type": "markdown",
   "metadata": {},
   "source": [
    "#### 4.2.1.1 Categorical variable: Sex"
   ]
  },
  {
   "cell_type": "code",
   "execution_count": 143,
   "metadata": {},
   "outputs": [
    {
     "data": {
      "text/plain": [
       "male      577\n",
       "female    314\n",
       "Name: Sex, dtype: int64"
      ]
     },
     "execution_count": 143,
     "metadata": {},
     "output_type": "execute_result"
    }
   ],
   "source": [
    "#Gia\n",
    "# Value counts of the sex column\n",
    "train['Sex'].value_counts(dropna = False)"
   ]
  },
  {
   "cell_type": "markdown",
   "metadata": {},
   "source": [
    "Gia <font color='pink'>Observation:</font> There are 263 more male passengers than female passengers in the training dataset. Therefore there is a high probability that this observation will also occur in the testing dataset"
   ]
  },
  {
   "cell_type": "code",
   "execution_count": 144,
   "metadata": {},
   "outputs": [
    {
     "data": {
      "text/html": [
       "<div>\n",
       "<style scoped>\n",
       "    .dataframe tbody tr th:only-of-type {\n",
       "        vertical-align: middle;\n",
       "    }\n",
       "\n",
       "    .dataframe tbody tr th {\n",
       "        vertical-align: top;\n",
       "    }\n",
       "\n",
       "    .dataframe thead th {\n",
       "        text-align: right;\n",
       "    }\n",
       "</style>\n",
       "<table border=\"1\" class=\"dataframe\">\n",
       "  <thead>\n",
       "    <tr style=\"text-align: right;\">\n",
       "      <th></th>\n",
       "      <th>Sex</th>\n",
       "      <th>Survived</th>\n",
       "    </tr>\n",
       "  </thead>\n",
       "  <tbody>\n",
       "    <tr>\n",
       "      <th>0</th>\n",
       "      <td>female</td>\n",
       "      <td>0.742038</td>\n",
       "    </tr>\n",
       "    <tr>\n",
       "      <th>1</th>\n",
       "      <td>male</td>\n",
       "      <td>0.188908</td>\n",
       "    </tr>\n",
       "  </tbody>\n",
       "</table>\n",
       "</div>"
      ],
      "text/plain": [
       "      Sex  Survived\n",
       "0  female  0.742038\n",
       "1    male  0.188908"
      ]
     },
     "execution_count": 144,
     "metadata": {},
     "output_type": "execute_result"
    }
   ],
   "source": [
    "#Gia\n",
    "# Mean of survival according to sex\n",
    "train[['Sex', 'Survived']].groupby('Sex', as_index = False).mean().sort_values(by = 'Survived', ascending = False)"
   ]
  },
  {
   "cell_type": "code",
   "execution_count": 145,
   "metadata": {
    "scrolled": true
   },
   "outputs": [
    {
     "data": {
      "text/plain": [
       "Text(0.5, 1.0, 'Survival Probability by Sex')"
      ]
     },
     "execution_count": 145,
     "metadata": {},
     "output_type": "execute_result"
    },
    {
     "data": {
      "image/png": "[encoded data removed]",
      "text/plain": [
       "<Figure size 432x288 with 1 Axes>"
      ]
     },
     "metadata": {
      "needs_background": "light"
     },
     "output_type": "display_data"
    }
   ],
   "source": [
    "#Gia\n",
    "# visualisation for the probability of survival according to sex\n",
    "sns.barplot(x = 'Sex', y ='Survived', data = train)\n",
    "plt.ylabel('Probability of survival')\n",
    "plt.title('Survival Probability by Sex')"
   ]
  },
  {
   "cell_type": "markdown",
   "metadata": {},
   "source": [
    "Gia <font color='pink'>Observation:</font> Female passengers are more likely to survive."
   ]
  },
  {
   "cell_type": "markdown",
   "metadata": {},
   "source": [
    "#### 4.2.1.2 Categorical variable: Pclass"
   ]
  },
  {
   "cell_type": "code",
   "execution_count": 146,
   "metadata": {},
   "outputs": [
    {
     "data": {
      "text/plain": [
       "3    491\n",
       "1    216\n",
       "2    184\n",
       "Name: Pclass, dtype: int64"
      ]
     },
     "execution_count": 146,
     "metadata": {},
     "output_type": "execute_result"
    }
   ],
   "source": [
    "#Gia\n",
    "# Value counts of the Pclass column in the training dataset\n",
    "\n",
    "train['Pclass'].value_counts(dropna = False)"
   ]
  },
  {
   "cell_type": "code",
   "execution_count": 147,
   "metadata": {},
   "outputs": [
    {
     "data": {
      "text/html": [
       "<div>\n",
       "<style scoped>\n",
       "    .dataframe tbody tr th:only-of-type {\n",
       "        vertical-align: middle;\n",
       "    }\n",
       "\n",
       "    .dataframe tbody tr th {\n",
       "        vertical-align: top;\n",
       "    }\n",
       "\n",
       "    .dataframe thead th {\n",
       "        text-align: right;\n",
       "    }\n",
       "</style>\n",
       "<table border=\"1\" class=\"dataframe\">\n",
       "  <thead>\n",
       "    <tr style=\"text-align: right;\">\n",
       "      <th></th>\n",
       "      <th>Pclass</th>\n",
       "      <th>Survived</th>\n",
       "    </tr>\n",
       "  </thead>\n",
       "  <tbody>\n",
       "    <tr>\n",
       "      <th>0</th>\n",
       "      <td>1</td>\n",
       "      <td>0.629630</td>\n",
       "    </tr>\n",
       "    <tr>\n",
       "      <th>1</th>\n",
       "      <td>2</td>\n",
       "      <td>0.472826</td>\n",
       "    </tr>\n",
       "    <tr>\n",
       "      <th>2</th>\n",
       "      <td>3</td>\n",
       "      <td>0.242363</td>\n",
       "    </tr>\n",
       "  </tbody>\n",
       "</table>\n",
       "</div>"
      ],
      "text/plain": [
       "   Pclass  Survived\n",
       "0       1  0.629630\n",
       "1       2  0.472826\n",
       "2       3  0.242363"
      ]
     },
     "execution_count": 147,
     "metadata": {},
     "output_type": "execute_result"
    }
   ],
   "source": [
    "#Gia\n",
    "# Mean of survival by passenger class in the training dataset\n",
    "\n",
    "train[['Pclass', 'Survived']].groupby(['Pclass'], as_index = False).mean().sort_values(by = 'Survived', ascending = False)"
   ]
  },
  {
   "cell_type": "code",
   "execution_count": 148,
   "metadata": {},
   "outputs": [
    {
     "data": {
      "image/png": "[encoded data removed]",
      "text/plain": [
       "<Figure size 432x288 with 1 Axes>"
      ]
     },
     "metadata": {
      "needs_background": "light"
     },
     "output_type": "display_data"
    }
   ],
   "source": [
    "#Gia \n",
    "#Pclass distributions for survived and not survived\n",
    "ax=sns.kdeplot(train.loc[(train['Survived'] == 0),'Pclass'],shade=True,color='r',label='Not Survived')\n",
    "ax.legend()\n",
    "ax=sns.kdeplot(train.loc[(train['Survived'] == 1),'Pclass'],shade=True,color='b',label='Survived')\n",
    "ax.legend()\n",
    "\n",
    "plt.title(\"Passenger Class Distribution - Survived vs Non-Survived\", fontsize = 25)\n",
    "labels = ['First', 'Second', 'Third']\n",
    "plt.xticks(sorted(train.Pclass.unique()),labels);"
   ]
  },
  {
   "cell_type": "code",
   "execution_count": 149,
   "metadata": {
    "scrolled": true
   },
   "outputs": [
    {
     "data": {
      "text/plain": [
       "Text(0.5, 1.0, 'Survival Probability by Passenger Class')"
      ]
     },
     "execution_count": 149,
     "metadata": {},
     "output_type": "execute_result"
    },
    {
     "data": {
      "image/png": "[encoded data removed]",
      "text/plain": [
       "<Figure size 432x288 with 1 Axes>"
      ]
     },
     "metadata": {
      "needs_background": "light"
     },
     "output_type": "display_data"
    }
   ],
   "source": [
    "#Gia\n",
    "sns.barplot(x = 'Pclass', y ='Survived', data = train)\n",
    "plt.ylabel('Survival Probability')\n",
    "plt.title('Survival Probability by Passenger Class')"
   ]
  },
  {
   "cell_type": "markdown",
   "metadata": {},
   "source": [
    "<font color='pink'>Observation:</font> The probability of survival decreases with a decrease in passenger class. It can therefore be assumed that first class passengers were prioritised during the evacuation. Evidently, from the two graphs above, Pclass plays an important role in determining whether a passenger did or did not survive. According to the training dataset, 63% of the 1st class passengers survived, 48% of the 2nd class passengers survived and only 24% of the 3rd class passengers survived."
   ]
  },
  {
   "cell_type": "markdown",
   "metadata": {},
   "source": [
    "#### 4.2.1.3 Categorical variables combined: Sex and Plass"
   ]
  },
  {
   "cell_type": "code",
   "execution_count": 150,
   "metadata": {},
   "outputs": [
    {
     "data": {
      "text/plain": [
       "Text(0.5, 1.0, 'Survival Probability by Sex and Passenger Class')"
      ]
     },
     "execution_count": 150,
     "metadata": {},
     "output_type": "execute_result"
    },
    {
     "data": {
      "image/png": "[encoded data removed]",
      "text/plain": [
       "<Figure size 430.5x360 with 1 Axes>"
      ]
     },
     "metadata": {
      "needs_background": "light"
     },
     "output_type": "display_data"
    }
   ],
   "source": [
    "#Gia\n",
    "# Survival by gender and passenger class\n",
    "sns.factorplot(x = 'Pclass', y = 'Survived', hue = 'Sex', data = train, kind = 'bar').despine(left = True)\n",
    "plt.ylabel('Survival Probability')\n",
    "plt.title('Survival Probability by Sex and Passenger Class')"
   ]
  },
  {
   "cell_type": "markdown",
   "metadata": {},
   "source": [
    "Gia <font color='pink'>Observation:</font>The graph above indicates that in every class, females where always more likely to survive"
   ]
  },
  {
   "cell_type": "markdown",
   "metadata": {},
   "source": [
    "#### 4.2.1.4 Categorical variable: Embarked"
   ]
  },
  {
   "cell_type": "code",
   "execution_count": 151,
   "metadata": {
    "scrolled": true
   },
   "outputs": [
    {
     "data": {
      "text/plain": [
       "S      644\n",
       "C      168\n",
       "Q       77\n",
       "NaN      2\n",
       "Name: Embarked, dtype: int64"
      ]
     },
     "execution_count": 151,
     "metadata": {},
     "output_type": "execute_result"
    }
   ],
   "source": [
    "# Value counts of the Embarked column \n",
    "#NAN is the missing values in Embarked\n",
    "train['Embarked'].value_counts(dropna = False)"
   ]
  },
  {
   "cell_type": "code",
   "execution_count": 152,
   "metadata": {},
   "outputs": [
    {
     "data": {
      "text/html": [
       "<div>\n",
       "<style scoped>\n",
       "    .dataframe tbody tr th:only-of-type {\n",
       "        vertical-align: middle;\n",
       "    }\n",
       "\n",
       "    .dataframe tbody tr th {\n",
       "        vertical-align: top;\n",
       "    }\n",
       "\n",
       "    .dataframe thead th {\n",
       "        text-align: right;\n",
       "    }\n",
       "</style>\n",
       "<table border=\"1\" class=\"dataframe\">\n",
       "  <thead>\n",
       "    <tr style=\"text-align: right;\">\n",
       "      <th></th>\n",
       "      <th>Embarked</th>\n",
       "      <th>Survived</th>\n",
       "    </tr>\n",
       "  </thead>\n",
       "  <tbody>\n",
       "    <tr>\n",
       "      <th>0</th>\n",
       "      <td>C</td>\n",
       "      <td>0.553571</td>\n",
       "    </tr>\n",
       "    <tr>\n",
       "      <th>1</th>\n",
       "      <td>Q</td>\n",
       "      <td>0.389610</td>\n",
       "    </tr>\n",
       "    <tr>\n",
       "      <th>2</th>\n",
       "      <td>S</td>\n",
       "      <td>0.336957</td>\n",
       "    </tr>\n",
       "  </tbody>\n",
       "</table>\n",
       "</div>"
      ],
      "text/plain": [
       "  Embarked  Survived\n",
       "0        C  0.553571\n",
       "1        Q  0.389610\n",
       "2        S  0.336957"
      ]
     },
     "execution_count": 152,
     "metadata": {},
     "output_type": "execute_result"
    }
   ],
   "source": [
    "#Gia\n",
    "# Mean of survival by point of embarkation\n",
    "train[['Embarked', 'Survived']].groupby(['Embarked'], as_index = False).mean().sort_values(by = 'Survived', ascending = False)"
   ]
  },
  {
   "cell_type": "code",
   "execution_count": 153,
   "metadata": {},
   "outputs": [
    {
     "data": {
      "text/plain": [
       "Text(0.5, 1.0, 'Survival Probability by Point of Embarkation')"
      ]
     },
     "execution_count": 153,
     "metadata": {},
     "output_type": "execute_result"
    },
    {
     "data": {
      "image/png": "[encoded data removed]",
      "text/plain": [
       "<Figure size 432x288 with 1 Axes>"
      ]
     },
     "metadata": {
      "needs_background": "light"
     },
     "output_type": "display_data"
    }
   ],
   "source": [
    "#Gia\n",
    "#Visualisation for the probability of survival according to point of embarkation\n",
    "sns.barplot(x = 'Embarked', y ='Survived', data = train)\n",
    "plt.ylabel('Probability of Survival')\n",
    "plt.title('Survival Probability by Point of Embarkation')"
   ]
  },
  {
   "cell_type": "markdown",
   "metadata": {},
   "source": [
    "Gia <font color='pink'>Observation:</font> The probability of survival is highest for location C and lowest for location S.\n",
    "Perhaps first class passengers embarked from location C and therefore because first class passengers had a higher chance of survival, location c also has the highest chance of survival. As an alternative perhaps third class passengers embarked from location S and because third class passengers had the lowest chance of survival , location S also has the lowest survival probability. This hypothesis is tested in section 4.2.1.5 below. "
   ]
  },
  {
   "cell_type": "markdown",
   "metadata": {},
   "source": [
    "#### 4.2.1.5 Categorical variable combined: Embarked and Class"
   ]
  },
  {
   "cell_type": "code",
   "execution_count": 154,
   "metadata": {
    "scrolled": true
   },
   "outputs": [
    {
     "data": {
      "text/plain": [
       "<seaborn.axisgrid.FacetGrid at 0x29da409b400>"
      ]
     },
     "execution_count": 154,
     "metadata": {},
     "output_type": "execute_result"
    },
    {
     "data": {
      "image/png": "[encoded data removed]",
      "text/plain": [
       "<Figure size 1080x360 with 3 Axes>"
      ]
     },
     "metadata": {
      "needs_background": "light"
     },
     "output_type": "display_data"
    }
   ],
   "source": [
    "#Gia\n",
    "# Visualisation for the relationship between class and embark \n",
    "sns.factorplot('Pclass', col = 'Embarked', data = train, kind = 'count')"
   ]
  },
  {
   "cell_type": "markdown",
   "metadata": {},
   "source": [
    "<font color='pink'>Observation:</font> The hypothesis discussed in section 4.1.2.4 appears to be correct.  Location S has majority of the third class passengers"
   ]
  },
  {
   "cell_type": "markdown",
   "metadata": {},
   "source": [
    "### 4.2.2 Numerical variables\n",
    "Gia\n",
    "In this dataset, the numerical variables are:\n",
    "1) SibSp\n",
    "2) Parch\n",
    "3) Age\n",
    "4) Fare"
   ]
  },
  {
   "cell_type": "markdown",
   "metadata": {},
   "source": [
    "#### 4.2.2.1 Detect outliers in numerical variables"
   ]
  },
  {
   "cell_type": "markdown",
   "metadata": {},
   "source": [
    "Gia Outliers are points in the dataset that don't conform with majority of the data (they are extreme values). Outliers need to be addressed as they tend to skew data and can cause inaccurate model predictions. The Tukey method is used to detect these outliers."
   ]
  },
  {
   "cell_type": "code",
   "execution_count": 155,
   "metadata": {},
   "outputs": [
    {
     "name": "stdout",
     "output_type": "stream",
     "text": [
      "The indices where outliers occur are 10:  [27, 88, 159, 180, 201, 324, 341, 792, 846, 863]\n"
     ]
    }
   ],
   "source": [
    "#Gia\n",
    "#Function to predict outliers\n",
    "def detect_outliers(df, n, features):\n",
    "    \"\"\"\"\n",
    "    This function loops through the list of features and detects outliers in each feature. A data point is considered to be \n",
    "    an outlier if it is less than Q1-1.5*IQR or if it is greater than Q3+1.5*IQR. Once the outliers have been determined for \n",
    "    a feature, their indices will be stored in a list and then the loop will proceed to the next feature. This process repeats\n",
    "    until the last feature is complete. Finally, using the list with the indices of the outliers, the frequency of outliers is\n",
    "    determined and if the frequency is greater than n then the list fill be returned.    \n",
    "    \"\"\"\n",
    "    outlierIndices = [] \n",
    "    for col in features: \n",
    "        Q1 = np.percentile(df[col], 25)\n",
    "        Q3 = np.percentile(df[col], 75)\n",
    "        IQR = Q3 - Q1\n",
    "        outlierStep = 1.5 * IQR \n",
    "        outlierList = df[(df[col] < Q1 - outlierStep) | (df[col] > Q3 + outlierStep)].index\n",
    "        outlierIndices.extend(outlierList) \n",
    "    outlierIndices = Counter(outlierIndices)\n",
    "    multipleOutliers = list(key for key, value in outlierIndices.items() if value > n) \n",
    "    return multipleOutliers\n",
    "\n",
    "outliers_to_drop = detect_outliers(train, 2, ['Age', 'SibSp', 'Parch', 'Fare'])\n",
    "print(\"The indices where outliers occur are {}: \".format(len(outliers_to_drop)), outliers_to_drop) "
   ]
  },
  {
   "cell_type": "code",
   "execution_count": 156,
   "metadata": {},
   "outputs": [
    {
     "data": {
      "text/html": [
       "<div>\n",
       "<style scoped>\n",
       "    .dataframe tbody tr th:only-of-type {\n",
       "        vertical-align: middle;\n",
       "    }\n",
       "\n",
       "    .dataframe tbody tr th {\n",
       "        vertical-align: top;\n",
       "    }\n",
       "\n",
       "    .dataframe thead th {\n",
       "        text-align: right;\n",
       "    }\n",
       "</style>\n",
       "<table border=\"1\" class=\"dataframe\">\n",
       "  <thead>\n",
       "    <tr style=\"text-align: right;\">\n",
       "      <th></th>\n",
       "      <th>PassengerId</th>\n",
       "      <th>Survived</th>\n",
       "      <th>Pclass</th>\n",
       "      <th>Name</th>\n",
       "      <th>Sex</th>\n",
       "      <th>Age</th>\n",
       "      <th>SibSp</th>\n",
       "      <th>Parch</th>\n",
       "      <th>Ticket</th>\n",
       "      <th>Fare</th>\n",
       "      <th>Cabin</th>\n",
       "      <th>Embarked</th>\n",
       "    </tr>\n",
       "  </thead>\n",
       "  <tbody>\n",
       "    <tr>\n",
       "      <th>27</th>\n",
       "      <td>28</td>\n",
       "      <td>0</td>\n",
       "      <td>1</td>\n",
       "      <td>Fortune, Mr. Charles Alexander</td>\n",
       "      <td>male</td>\n",
       "      <td>19.0</td>\n",
       "      <td>3</td>\n",
       "      <td>2</td>\n",
       "      <td>19950</td>\n",
       "      <td>263.00</td>\n",
       "      <td>C23 C25 C27</td>\n",
       "      <td>S</td>\n",
       "    </tr>\n",
       "    <tr>\n",
       "      <th>88</th>\n",
       "      <td>89</td>\n",
       "      <td>1</td>\n",
       "      <td>1</td>\n",
       "      <td>Fortune, Miss. Mabel Helen</td>\n",
       "      <td>female</td>\n",
       "      <td>23.0</td>\n",
       "      <td>3</td>\n",
       "      <td>2</td>\n",
       "      <td>19950</td>\n",
       "      <td>263.00</td>\n",
       "      <td>C23 C25 C27</td>\n",
       "      <td>S</td>\n",
       "    </tr>\n",
       "    <tr>\n",
       "      <th>159</th>\n",
       "      <td>160</td>\n",
       "      <td>0</td>\n",
       "      <td>3</td>\n",
       "      <td>Sage, Master. Thomas Henry</td>\n",
       "      <td>male</td>\n",
       "      <td>NaN</td>\n",
       "      <td>8</td>\n",
       "      <td>2</td>\n",
       "      <td>CA. 2343</td>\n",
       "      <td>69.55</td>\n",
       "      <td>NaN</td>\n",
       "      <td>S</td>\n",
       "    </tr>\n",
       "    <tr>\n",
       "      <th>180</th>\n",
       "      <td>181</td>\n",
       "      <td>0</td>\n",
       "      <td>3</td>\n",
       "      <td>Sage, Miss. Constance Gladys</td>\n",
       "      <td>female</td>\n",
       "      <td>NaN</td>\n",
       "      <td>8</td>\n",
       "      <td>2</td>\n",
       "      <td>CA. 2343</td>\n",
       "      <td>69.55</td>\n",
       "      <td>NaN</td>\n",
       "      <td>S</td>\n",
       "    </tr>\n",
       "    <tr>\n",
       "      <th>201</th>\n",
       "      <td>202</td>\n",
       "      <td>0</td>\n",
       "      <td>3</td>\n",
       "      <td>Sage, Mr. Frederick</td>\n",
       "      <td>male</td>\n",
       "      <td>NaN</td>\n",
       "      <td>8</td>\n",
       "      <td>2</td>\n",
       "      <td>CA. 2343</td>\n",
       "      <td>69.55</td>\n",
       "      <td>NaN</td>\n",
       "      <td>S</td>\n",
       "    </tr>\n",
       "    <tr>\n",
       "      <th>324</th>\n",
       "      <td>325</td>\n",
       "      <td>0</td>\n",
       "      <td>3</td>\n",
       "      <td>Sage, Mr. George John Jr</td>\n",
       "      <td>male</td>\n",
       "      <td>NaN</td>\n",
       "      <td>8</td>\n",
       "      <td>2</td>\n",
       "      <td>CA. 2343</td>\n",
       "      <td>69.55</td>\n",
       "      <td>NaN</td>\n",
       "      <td>S</td>\n",
       "    </tr>\n",
       "    <tr>\n",
       "      <th>341</th>\n",
       "      <td>342</td>\n",
       "      <td>1</td>\n",
       "      <td>1</td>\n",
       "      <td>Fortune, Miss. Alice Elizabeth</td>\n",
       "      <td>female</td>\n",
       "      <td>24.0</td>\n",
       "      <td>3</td>\n",
       "      <td>2</td>\n",
       "      <td>19950</td>\n",
       "      <td>263.00</td>\n",
       "      <td>C23 C25 C27</td>\n",
       "      <td>S</td>\n",
       "    </tr>\n",
       "    <tr>\n",
       "      <th>792</th>\n",
       "      <td>793</td>\n",
       "      <td>0</td>\n",
       "      <td>3</td>\n",
       "      <td>Sage, Miss. Stella Anna</td>\n",
       "      <td>female</td>\n",
       "      <td>NaN</td>\n",
       "      <td>8</td>\n",
       "      <td>2</td>\n",
       "      <td>CA. 2343</td>\n",
       "      <td>69.55</td>\n",
       "      <td>NaN</td>\n",
       "      <td>S</td>\n",
       "    </tr>\n",
       "    <tr>\n",
       "      <th>846</th>\n",
       "      <td>847</td>\n",
       "      <td>0</td>\n",
       "      <td>3</td>\n",
       "      <td>Sage, Mr. Douglas Bullen</td>\n",
       "      <td>male</td>\n",
       "      <td>NaN</td>\n",
       "      <td>8</td>\n",
       "      <td>2</td>\n",
       "      <td>CA. 2343</td>\n",
       "      <td>69.55</td>\n",
       "      <td>NaN</td>\n",
       "      <td>S</td>\n",
       "    </tr>\n",
       "    <tr>\n",
       "      <th>863</th>\n",
       "      <td>864</td>\n",
       "      <td>0</td>\n",
       "      <td>3</td>\n",
       "      <td>Sage, Miss. Dorothy Edith \"Dolly\"</td>\n",
       "      <td>female</td>\n",
       "      <td>NaN</td>\n",
       "      <td>8</td>\n",
       "      <td>2</td>\n",
       "      <td>CA. 2343</td>\n",
       "      <td>69.55</td>\n",
       "      <td>NaN</td>\n",
       "      <td>S</td>\n",
       "    </tr>\n",
       "  </tbody>\n",
       "</table>\n",
       "</div>"
      ],
      "text/plain": [
       "     PassengerId  Survived  Pclass                               Name     Sex  \\\n",
       "27            28         0       1     Fortune, Mr. Charles Alexander    male   \n",
       "88            89         1       1         Fortune, Miss. Mabel Helen  female   \n",
       "159          160         0       3         Sage, Master. Thomas Henry    male   \n",
       "180          181         0       3       Sage, Miss. Constance Gladys  female   \n",
       "201          202         0       3                Sage, Mr. Frederick    male   \n",
       "324          325         0       3           Sage, Mr. George John Jr    male   \n",
       "341          342         1       1     Fortune, Miss. Alice Elizabeth  female   \n",
       "792          793         0       3            Sage, Miss. Stella Anna  female   \n",
       "846          847         0       3           Sage, Mr. Douglas Bullen    male   \n",
       "863          864         0       3  Sage, Miss. Dorothy Edith \"Dolly\"  female   \n",
       "\n",
       "      Age  SibSp  Parch    Ticket    Fare        Cabin Embarked  \n",
       "27   19.0      3      2     19950  263.00  C23 C25 C27        S  \n",
       "88   23.0      3      2     19950  263.00  C23 C25 C27        S  \n",
       "159   NaN      8      2  CA. 2343   69.55          NaN        S  \n",
       "180   NaN      8      2  CA. 2343   69.55          NaN        S  \n",
       "201   NaN      8      2  CA. 2343   69.55          NaN        S  \n",
       "324   NaN      8      2  CA. 2343   69.55          NaN        S  \n",
       "341  24.0      3      2     19950  263.00  C23 C25 C27        S  \n",
       "792   NaN      8      2  CA. 2343   69.55          NaN        S  \n",
       "846   NaN      8      2  CA. 2343   69.55          NaN        S  \n",
       "863   NaN      8      2  CA. 2343   69.55          NaN        S  "
      ]
     },
     "execution_count": 156,
     "metadata": {},
     "output_type": "execute_result"
    }
   ],
   "source": [
    "#Gia\n",
    "# Outliers in numerical variables\n",
    "#Visualise the 10 rows identified above as rows containing outliers\n",
    "train.loc[outliers_to_drop, :]"
   ]
  },
  {
   "cell_type": "markdown",
   "metadata": {},
   "source": [
    "#### 4.2.2.2 Numerical variables correlation with survival"
   ]
  },
  {
   "cell_type": "code",
   "execution_count": 157,
   "metadata": {},
   "outputs": [
    {
     "data": {
      "image/png": "[encoded data removed]",
      "text/plain": [
       "<Figure size 432x288 with 2 Axes>"
      ]
     },
     "metadata": {
      "needs_background": "light"
     },
     "output_type": "display_data"
    }
   ],
   "source": [
    "#Gia\n",
    "#Heatmap of numerical variables\n",
    "df_num = train[['Age','SibSp','Parch','Fare']]\n",
    "sns.heatmap(df_num.corr(), annot=True,cmap=\"RdBu\")\n",
    "plt.title(\"Correlations Among Numeric Features\", fontsize = 18);"
   ]
  },
  {
   "cell_type": "markdown",
   "metadata": {},
   "source": [
    "Gia<font color='pink'>Observation:</font> The heatmap displayed above shows that Parch and SiSP often travel together.Therefore it will useful to create a isAlone and a family size feature."
   ]
  },
  {
   "cell_type": "markdown",
   "metadata": {},
   "source": [
    "#### 4.2.2.3 Numerical variable: SibSp"
   ]
  },
  {
   "cell_type": "code",
   "execution_count": 158,
   "metadata": {},
   "outputs": [
    {
     "data": {
      "text/plain": [
       "0    608\n",
       "1    209\n",
       "2     28\n",
       "4     18\n",
       "3     16\n",
       "8      7\n",
       "5      5\n",
       "Name: SibSp, dtype: int64"
      ]
     },
     "execution_count": 158,
     "metadata": {},
     "output_type": "execute_result"
    }
   ],
   "source": [
    "#Gia\n",
    "# Value counts of the SibSp column \n",
    "train['SibSp'].value_counts(dropna = False)"
   ]
  },
  {
   "cell_type": "code",
   "execution_count": 159,
   "metadata": {},
   "outputs": [
    {
     "data": {
      "text/html": [
       "<div>\n",
       "<style scoped>\n",
       "    .dataframe tbody tr th:only-of-type {\n",
       "        vertical-align: middle;\n",
       "    }\n",
       "\n",
       "    .dataframe tbody tr th {\n",
       "        vertical-align: top;\n",
       "    }\n",
       "\n",
       "    .dataframe thead th {\n",
       "        text-align: right;\n",
       "    }\n",
       "</style>\n",
       "<table border=\"1\" class=\"dataframe\">\n",
       "  <thead>\n",
       "    <tr style=\"text-align: right;\">\n",
       "      <th></th>\n",
       "      <th>SibSp</th>\n",
       "      <th>Survived</th>\n",
       "    </tr>\n",
       "  </thead>\n",
       "  <tbody>\n",
       "    <tr>\n",
       "      <th>1</th>\n",
       "      <td>1</td>\n",
       "      <td>0.535885</td>\n",
       "    </tr>\n",
       "    <tr>\n",
       "      <th>2</th>\n",
       "      <td>2</td>\n",
       "      <td>0.464286</td>\n",
       "    </tr>\n",
       "    <tr>\n",
       "      <th>0</th>\n",
       "      <td>0</td>\n",
       "      <td>0.345395</td>\n",
       "    </tr>\n",
       "    <tr>\n",
       "      <th>3</th>\n",
       "      <td>3</td>\n",
       "      <td>0.250000</td>\n",
       "    </tr>\n",
       "    <tr>\n",
       "      <th>4</th>\n",
       "      <td>4</td>\n",
       "      <td>0.166667</td>\n",
       "    </tr>\n",
       "    <tr>\n",
       "      <th>5</th>\n",
       "      <td>5</td>\n",
       "      <td>0.000000</td>\n",
       "    </tr>\n",
       "    <tr>\n",
       "      <th>6</th>\n",
       "      <td>8</td>\n",
       "      <td>0.000000</td>\n",
       "    </tr>\n",
       "  </tbody>\n",
       "</table>\n",
       "</div>"
      ],
      "text/plain": [
       "   SibSp  Survived\n",
       "1      1  0.535885\n",
       "2      2  0.464286\n",
       "0      0  0.345395\n",
       "3      3  0.250000\n",
       "4      4  0.166667\n",
       "5      5  0.000000\n",
       "6      8  0.000000"
      ]
     },
     "execution_count": 159,
     "metadata": {},
     "output_type": "execute_result"
    }
   ],
   "source": [
    "#Gia\n",
    "# Mean of survival by SibSp\n",
    "train[['SibSp', 'Survived']].groupby('SibSp', as_index = False).mean().sort_values(by = 'Survived', ascending = False)"
   ]
  },
  {
   "cell_type": "code",
   "execution_count": 160,
   "metadata": {},
   "outputs": [
    {
     "data": {
      "text/plain": [
       "Text(0.5, 1.0, 'Survival Probability by SibSp')"
      ]
     },
     "execution_count": 160,
     "metadata": {},
     "output_type": "execute_result"
    },
    {
     "data": {
      "image/png": "[encoded data removed]",
      "text/plain": [
       "<Figure size 432x288 with 1 Axes>"
      ]
     },
     "metadata": {
      "needs_background": "light"
     },
     "output_type": "display_data"
    }
   ],
   "source": [
    "#Gia\n",
    "#Visualisation for probability of survival according to SiSP \n",
    "sns.barplot(x = 'SibSp', y ='Survived', data = train)\n",
    "plt.ylabel('Survival Probability')\n",
    "plt.title('Survival Probability by SibSp')"
   ]
  },
  {
   "cell_type": "markdown",
   "metadata": {},
   "source": [
    "#### 4.2.2.3 Numerical variable: Parch"
   ]
  },
  {
   "cell_type": "code",
   "execution_count": 161,
   "metadata": {},
   "outputs": [
    {
     "data": {
      "text/plain": [
       "0    678\n",
       "1    118\n",
       "2     80\n",
       "5      5\n",
       "3      5\n",
       "4      4\n",
       "6      1\n",
       "Name: Parch, dtype: int64"
      ]
     },
     "execution_count": 161,
     "metadata": {},
     "output_type": "execute_result"
    }
   ],
   "source": [
    "#Gia\n",
    "# Value counts of the Parch column \n",
    "train['Parch'].value_counts(dropna = False)"
   ]
  },
  {
   "cell_type": "code",
   "execution_count": 162,
   "metadata": {},
   "outputs": [
    {
     "data": {
      "text/html": [
       "<div>\n",
       "<style scoped>\n",
       "    .dataframe tbody tr th:only-of-type {\n",
       "        vertical-align: middle;\n",
       "    }\n",
       "\n",
       "    .dataframe tbody tr th {\n",
       "        vertical-align: top;\n",
       "    }\n",
       "\n",
       "    .dataframe thead th {\n",
       "        text-align: right;\n",
       "    }\n",
       "</style>\n",
       "<table border=\"1\" class=\"dataframe\">\n",
       "  <thead>\n",
       "    <tr style=\"text-align: right;\">\n",
       "      <th></th>\n",
       "      <th>Parch</th>\n",
       "      <th>Survived</th>\n",
       "    </tr>\n",
       "  </thead>\n",
       "  <tbody>\n",
       "    <tr>\n",
       "      <th>3</th>\n",
       "      <td>3</td>\n",
       "      <td>0.600000</td>\n",
       "    </tr>\n",
       "    <tr>\n",
       "      <th>1</th>\n",
       "      <td>1</td>\n",
       "      <td>0.550847</td>\n",
       "    </tr>\n",
       "    <tr>\n",
       "      <th>2</th>\n",
       "      <td>2</td>\n",
       "      <td>0.500000</td>\n",
       "    </tr>\n",
       "    <tr>\n",
       "      <th>0</th>\n",
       "      <td>0</td>\n",
       "      <td>0.343658</td>\n",
       "    </tr>\n",
       "    <tr>\n",
       "      <th>5</th>\n",
       "      <td>5</td>\n",
       "      <td>0.200000</td>\n",
       "    </tr>\n",
       "    <tr>\n",
       "      <th>4</th>\n",
       "      <td>4</td>\n",
       "      <td>0.000000</td>\n",
       "    </tr>\n",
       "    <tr>\n",
       "      <th>6</th>\n",
       "      <td>6</td>\n",
       "      <td>0.000000</td>\n",
       "    </tr>\n",
       "  </tbody>\n",
       "</table>\n",
       "</div>"
      ],
      "text/plain": [
       "   Parch  Survived\n",
       "3      3  0.600000\n",
       "1      1  0.550847\n",
       "2      2  0.500000\n",
       "0      0  0.343658\n",
       "5      5  0.200000\n",
       "4      4  0.000000\n",
       "6      6  0.000000"
      ]
     },
     "execution_count": 162,
     "metadata": {},
     "output_type": "execute_result"
    }
   ],
   "source": [
    "#Gia\n",
    "# Mean of survival by Parch\n",
    "train[['Parch', 'Survived']].groupby('Parch', as_index = False).mean().sort_values(by = 'Survived', ascending = False)"
   ]
  },
  {
   "cell_type": "code",
   "execution_count": 163,
   "metadata": {},
   "outputs": [
    {
     "data": {
      "text/plain": [
       "Text(0.5, 1.0, 'Survival Probability by Parch')"
      ]
     },
     "execution_count": 163,
     "metadata": {},
     "output_type": "execute_result"
    },
    {
     "data": {
      "image/png": "[encoded data removed]",
      "text/plain": [
       "<Figure size 432x288 with 1 Axes>"
      ]
     },
     "metadata": {
      "needs_background": "light"
     },
     "output_type": "display_data"
    }
   ],
   "source": [
    "#Gia\n",
    "#Visualisation for probability of survival according to Parch\n",
    "sns.barplot(x = 'Parch', y ='Survived', data = train)\n",
    "plt.ylabel('Survival Probability')\n",
    "plt.title('Survival Probability by Parch')"
   ]
  },
  {
   "cell_type": "markdown",
   "metadata": {},
   "source": [
    "#### 4.2.2.4 Numerical variable: Age"
   ]
  },
  {
   "cell_type": "code",
   "execution_count": 164,
   "metadata": {},
   "outputs": [
    {
     "data": {
      "text/plain": [
       "Text(0.5, 1.0, 'Passenger Age Distribution')"
      ]
     },
     "execution_count": 164,
     "metadata": {},
     "output_type": "execute_result"
    },
    {
     "data": {
      "image/png": "[encoded data removed]",
      "text/plain": [
       "<Figure size 432x288 with 1 Axes>"
      ]
     },
     "metadata": {
      "needs_background": "light"
     },
     "output_type": "display_data"
    }
   ],
   "source": [
    "#Gia\n",
    "# Passenger age distribution\n",
    "\n",
    "sns.distplot(train['Age'], label = 'Skewness: %.2f'%(train['Age'].skew()))\n",
    "plt.legend(loc = 'best')\n",
    "plt.title('Passenger Age Distribution')"
   ]
  },
  {
   "cell_type": "code",
   "execution_count": 165,
   "metadata": {},
   "outputs": [
    {
     "data": {
      "text/plain": [
       "<seaborn.axisgrid.FacetGrid at 0x29d9e001f70>"
      ]
     },
     "execution_count": 165,
     "metadata": {},
     "output_type": "execute_result"
    },
    {
     "data": {
      "image/png": "[encoded data removed]",
      "text/plain": [
       "<Figure size 432x216 with 2 Axes>"
      ]
     },
     "metadata": {
      "needs_background": "light"
     },
     "output_type": "display_data"
    }
   ],
   "source": [
    "#Gia\n",
    "# Age distribution by survival\n",
    "sns.FacetGrid(train, col = 'Survived').map(sns.distplot, 'Age')"
   ]
  },
  {
   "cell_type": "code",
   "execution_count": 166,
   "metadata": {
    "scrolled": true
   },
   "outputs": [
    {
     "data": {
      "text/plain": [
       "Text(0.5, 1.0, 'Passenger Age Distribution by Survival')"
      ]
     },
     "execution_count": 166,
     "metadata": {},
     "output_type": "execute_result"
    },
    {
     "data": {
      "image/png": "[encoded data removed]",
      "text/plain": [
       "<Figure size 432x288 with 1 Axes>"
      ]
     },
     "metadata": {
      "needs_background": "light"
     },
     "output_type": "display_data"
    }
   ],
   "source": [
    "sns.kdeplot(train['Age'][train['Survived'] == 0], label = 'Did not survive')\n",
    "sns.kdeplot(train['Age'][train['Survived'] == 1], label = 'Survived')\n",
    "plt.xlabel('Age')\n",
    "plt.legend()\n",
    "plt.title('Passenger Age Distribution by Survival')"
   ]
  },
  {
   "cell_type": "markdown",
   "metadata": {},
   "source": [
    "#### 4.2.2.5 Numerical variable: Fare"
   ]
  },
  {
   "cell_type": "code",
   "execution_count": 167,
   "metadata": {},
   "outputs": [
    {
     "data": {
      "text/plain": [
       "Text(0, 0.5, 'Passenger Fare Distribution')"
      ]
     },
     "execution_count": 167,
     "metadata": {},
     "output_type": "execute_result"
    },
    {
     "data": {
      "image/png": "[encoded data removed]",
      "text/plain": [
       "<Figure size 432x288 with 1 Axes>"
      ]
     },
     "metadata": {
      "needs_background": "light"
     },
     "output_type": "display_data"
    }
   ],
   "source": [
    "# Passenger fare distribution\n",
    "\n",
    "sns.distplot(train['Fare'], label = 'Skewness: %.2f'%(train['Fare'].skew()))\n",
    "plt.legend(loc = 'best')\n",
    "plt.ylabel('Passenger Fare Distribution')"
   ]
  },
  {
   "cell_type": "markdown",
   "metadata": {},
   "source": [
    "Gia <font color='pink'>Observation:</font> Fare has a high skewness"
   ]
  },
  {
   "cell_type": "markdown",
   "metadata": {},
   "source": [
    "### 4.2.3 Correlation between categorical and numerical"
   ]
  },
  {
   "cell_type": "markdown",
   "metadata": {},
   "source": [
    "#### 4.2.3.1 All variables"
   ]
  },
  {
   "cell_type": "code",
   "execution_count": 168,
   "metadata": {},
   "outputs": [
    {
     "data": {
      "text/plain": [
       "<AxesSubplot:>"
      ]
     },
     "execution_count": 168,
     "metadata": {},
     "output_type": "execute_result"
    },
    {
     "data": {
      "image/png": "[encoded data removed]",
      "text/plain": [
       "<Figure size 432x288 with 2 Axes>"
      ]
     },
     "metadata": {
      "needs_background": "light"
     },
     "output_type": "display_data"
    }
   ],
   "source": [
    "sns.heatmap(train[['Survived', 'SibSp', 'Parch', 'Age', 'Fare','Pclass']].corr(), annot = True, fmt = '.2f', cmap='RdBu')"
   ]
  },
  {
   "cell_type": "markdown",
   "metadata": {},
   "source": [
    "Gia <font color='pink'>Observation:</font>  Fare appears to have a high correlation with survival."
   ]
  },
  {
   "cell_type": "markdown",
   "metadata": {},
   "source": [
    "# 5. Data preprocessing\n",
    "\n",
    "Data preprocessing is the process of getting our dataset ready for model training. In this section, we will perform the following preprocessing steps:\n",
    "\n",
    "- Drop and fill missing values\n",
    "- Data trasformation (log transformation)\n",
    "- Feature engineering\n",
    "- Feature encoding"
   ]
  },
  {
   "cell_type": "markdown",
   "metadata": {},
   "source": [
    "## 5.1 Remove Outliers"
   ]
  },
  {
   "cell_type": "code",
   "execution_count": 169,
   "metadata": {},
   "outputs": [
    {
     "name": "stdout",
     "output_type": "stream",
     "text": [
      "Before: 891 rows\n",
      "After: 881 rows\n"
     ]
    }
   ],
   "source": [
    "# Drop outliers and reset index\n",
    "# he decides to Drop the 10 rows identified and visualised as outliers and reset index\n",
    "# he confirms he has done this right be printing out the rows before and after he has dropped it \n",
    "\n",
    "print(\"Before: {} rows\".format(len(train)))\n",
    "train = train.drop(outliers_to_drop, axis = 0).reset_index(drop = True)\n",
    "print(\"After: {} rows\".format(len(train)))"
   ]
  },
  {
   "cell_type": "markdown",
   "metadata": {},
   "source": [
    "## 5.2 Drop and fill missing values"
   ]
  },
  {
   "cell_type": "code",
   "execution_count": 170,
   "metadata": {},
   "outputs": [],
   "source": [
    "# Drop ticket and cabin features from training and test set \n",
    "# we can extract some information from the ticket potentially before dropping it\n",
    "\n",
    "train = train.drop(['Ticket', 'Cabin'], axis = 1)\n",
    "test = test.drop(['Ticket', 'Cabin'], axis = 1)"
   ]
  },
  {
   "cell_type": "markdown",
   "metadata": {},
   "source": [
    "I have decided to drop both ticket and cabin for simplicity of this tutorial but if you have the time, I would recommend going through them and see if they can help improve your model."
   ]
  },
  {
   "cell_type": "code",
   "execution_count": 171,
   "metadata": {},
   "outputs": [
    {
     "data": {
      "text/plain": [
       "Age            170\n",
       "Embarked         2\n",
       "PassengerId      0\n",
       "Survived         0\n",
       "Pclass           0\n",
       "Name             0\n",
       "Sex              0\n",
       "SibSp            0\n",
       "Parch            0\n",
       "Fare             0\n",
       "dtype: int64"
      ]
     },
     "execution_count": 171,
     "metadata": {},
     "output_type": "execute_result"
    }
   ],
   "source": [
    "# Missing values in training set \n",
    "\n",
    "train.isnull().sum().sort_values(ascending = False)"
   ]
  },
  {
   "cell_type": "code",
   "execution_count": 172,
   "metadata": {
    "scrolled": true
   },
   "outputs": [
    {
     "data": {
      "text/plain": [
       "'S'"
      ]
     },
     "execution_count": 172,
     "metadata": {},
     "output_type": "execute_result"
    }
   ],
   "source": [
    "# Compute the most frequent value of Embarked in training set\n",
    "\n",
    "mode = train['Embarked'].dropna().mode()[0]\n",
    "mode"
   ]
  },
  {
   "cell_type": "code",
   "execution_count": 173,
   "metadata": {},
   "outputs": [],
   "source": [
    "# Fill missing value in Embarked with mode\n",
    "\n",
    "train['Embarked'].fillna(mode, inplace = True)"
   ]
  },
  {
   "cell_type": "code",
   "execution_count": 174,
   "metadata": {},
   "outputs": [
    {
     "data": {
      "text/plain": [
       "Age            86\n",
       "Fare            1\n",
       "PassengerId     0\n",
       "Pclass          0\n",
       "Name            0\n",
       "Sex             0\n",
       "SibSp           0\n",
       "Parch           0\n",
       "Embarked        0\n",
       "dtype: int64"
      ]
     },
     "execution_count": 174,
     "metadata": {},
     "output_type": "execute_result"
    }
   ],
   "source": [
    "# Missing values in test set\n",
    "\n",
    "test.isnull().sum().sort_values(ascending = False)"
   ]
  },
  {
   "cell_type": "code",
   "execution_count": 175,
   "metadata": {},
   "outputs": [
    {
     "data": {
      "text/plain": [
       "14.4542"
      ]
     },
     "execution_count": 175,
     "metadata": {},
     "output_type": "execute_result"
    }
   ],
   "source": [
    "# Compute median of Fare in test set \n",
    "\n",
    "median = test['Fare'].dropna().median()\n",
    "median"
   ]
  },
  {
   "cell_type": "code",
   "execution_count": 176,
   "metadata": {},
   "outputs": [],
   "source": [
    "# Fill missing value in Fare with median\n",
    "\n",
    "test['Fare'].fillna(median, inplace = True)"
   ]
  },
  {
   "cell_type": "code",
   "execution_count": 177,
   "metadata": {},
   "outputs": [],
   "source": [
    "# Combine training set and test set\n",
    "\n",
    "# combine = pd.concat([train, test], axis = 0).reset_index(drop = True)\n",
    "# combine.head()"
   ]
  },
  {
   "cell_type": "code",
   "execution_count": 178,
   "metadata": {},
   "outputs": [],
   "source": [
    "# Missing values in the combined dataset\n",
    "\n",
    "# combine.isnull().sum().sort_values(ascending = False)"
   ]
  },
  {
   "cell_type": "markdown",
   "metadata": {},
   "source": [
    "We can ignore missing values in the Survived column because all of them are from the test set. Now we need to fill missing values in the Age column.\n",
    "\n",
    "The goal is to use features that are most correlated with Age to predict the values for Age. But first, we need to convert Sex into numerical values where 0 = male and 1 = female. This process is known as encoding and we will further explore this later in the notebook."
   ]
  },
  {
   "cell_type": "code",
   "execution_count": 179,
   "metadata": {},
   "outputs": [],
   "source": [
    "# Convert Sex into numerical values where 0 = male and 1 = female\n",
    "#combine['Sex'] = combine['Sex'].map({'male': 0, 'female': 1})\n",
    "train['Sex'] = train['Sex'].map({'male': 0, 'female': 1})\n",
    "test['Sex'] = test['Sex'].map({'male': 0, 'female': 1})"
   ]
  },
  {
   "cell_type": "code",
   "execution_count": 180,
   "metadata": {},
   "outputs": [
    {
     "data": {
      "text/plain": [
       "<seaborn.axisgrid.FacetGrid at 0x29da4622040>"
      ]
     },
     "execution_count": 180,
     "metadata": {},
     "output_type": "execute_result"
    },
    {
     "data": {
      "image/png": "[encoded data removed]",
      "text/plain": [
       "<Figure size 402.375x360 with 1 Axes>"
      ]
     },
     "metadata": {
      "needs_background": "light"
     },
     "output_type": "display_data"
    },
    {
     "data": {
      "image/png": "[encoded data removed]",
      "text/plain": [
       "<Figure size 360x360 with 1 Axes>"
      ]
     },
     "metadata": {
      "needs_background": "light"
     },
     "output_type": "display_data"
    },
    {
     "data": {
      "image/png": "[encoded data removed]",
      "text/plain": [
       "<Figure size 360x360 with 1 Axes>"
      ]
     },
     "metadata": {
      "needs_background": "light"
     },
     "output_type": "display_data"
    },
    {
     "data": {
      "image/png": "[encoded data removed]",
      "text/plain": [
       "<Figure size 402.375x360 with 1 Axes>"
      ]
     },
     "metadata": {
      "needs_background": "light"
     },
     "output_type": "display_data"
    },
    {
     "data": {
      "image/png": "[encoded data removed]",
      "text/plain": [
       "<Figure size 360x360 with 1 Axes>"
      ]
     },
     "metadata": {
      "needs_background": "light"
     },
     "output_type": "display_data"
    },
    {
     "data": {
      "image/png": "[encoded data removed]",
      "text/plain": [
       "<Figure size 360x360 with 1 Axes>"
      ]
     },
     "metadata": {
      "needs_background": "light"
     },
     "output_type": "display_data"
    }
   ],
   "source": [
    "# sns.factorplot(y = 'Age', x = 'Sex', hue = 'Pclass', kind = 'box', data = combine)\n",
    "# sns.factorplot(y = 'Age', x = 'Parch', kind = 'box', data = combine)\n",
    "# sns.factorplot(y = 'Age', x = 'SibSp', kind = 'box', data = combine)\n",
    "sns.factorplot(y = 'Age', x = 'Sex', hue = 'Pclass', kind = 'box', data = train)\n",
    "sns.factorplot(y = 'Age', x = 'Parch', kind = 'box', data = train)\n",
    "sns.factorplot(y = 'Age', x = 'SibSp', kind = 'box', data = train)\n",
    "sns.factorplot(y = 'Age', x = 'Sex', hue = 'Pclass', kind = 'box', data = test)\n",
    "sns.factorplot(y = 'Age', x = 'Parch', kind = 'box', data = test)\n",
    "sns.factorplot(y = 'Age', x = 'SibSp', kind = 'box', data = test)"
   ]
  },
  {
   "cell_type": "code",
   "execution_count": 181,
   "metadata": {},
   "outputs": [
    {
     "data": {
      "text/plain": [
       "<AxesSubplot:>"
      ]
     },
     "execution_count": 181,
     "metadata": {},
     "output_type": "execute_result"
    },
    {
     "data": {
      "image/png": "[encoded data removed]",
      "text/plain": [
       "<Figure size 432x288 with 2 Axes>"
      ]
     },
     "metadata": {
      "needs_background": "light"
     },
     "output_type": "display_data"
    }
   ],
   "source": [
    "#sns.heatmap(combine.drop(['Survived', 'Name', 'PassengerId', 'Fare'], axis = 1).corr(), annot = True, cmap = 'coolwarm')\n",
    "sns.heatmap(train.drop(['Survived', 'Name', 'PassengerId', 'Fare'], axis = 1).corr(), annot = True, cmap = 'coolwarm')"
   ]
  },
  {
   "cell_type": "markdown",
   "metadata": {},
   "source": [
    "Age is not correlated with Sex but is negatively correlated with SibSp, Parch and Pclass. "
   ]
  },
  {
   "cell_type": "code",
   "execution_count": 182,
   "metadata": {
    "scrolled": true
   },
   "outputs": [],
   "source": [
    "# Check number of missing ages \n",
    "\n",
    "# age_nan_indices = list(combine[combine['Age'].isnull()].index)\n",
    "# len(age_nan_indices)\n",
    "\n",
    "age_nan_indices_train = list(train[train['Age'].isnull()].index)\n",
    "len(age_nan_indices_train)\n",
    "age_nan_indices_test = list(test[test['Age'].isnull()].index)\n"
   ]
  },
  {
   "cell_type": "markdown",
   "metadata": {},
   "source": [
    "Loop through each missing age in the list to locate the rows that have the same SibSp, Parch and PClass values and fill the missing age with the median of those rows. If rows are not found, simply fill the missing age with the median of the entire Age column."
   ]
  },
  {
   "cell_type": "code",
   "execution_count": 183,
   "metadata": {},
   "outputs": [],
   "source": [
    "# Loop through list and impute missing ages\n",
    "\n",
    "# for index in age_nan_indices:\n",
    "#     median_age = combine['Age'].median()\n",
    "#     predict_age = combine['Age'][(combine['SibSp'] == combine.iloc[index]['SibSp']) \n",
    "#                                  & (combine['Parch'] == combine.iloc[index]['Parch'])\n",
    "#                                  & (combine['Pclass'] == combine.iloc[index][\"Pclass\"])].median()\n",
    "#     if np.isnan(predict_age):\n",
    "#         combine['Age'].iloc[index] = median_age\n",
    "#     else:\n",
    "#         combine['Age'].iloc[index] = predict_age\n",
    "\n",
    "for index in age_nan_indices_train:\n",
    "    median_age = train['Age'].median()\n",
    "    predict_age = train['Age'][(train['SibSp'] == train.iloc[index]['SibSp']) \n",
    "                                 & (train['Parch'] == train.iloc[index]['Parch'])\n",
    "                                 & (train['Pclass'] == train.iloc[index][\"Pclass\"])].median()\n",
    "    if np.isnan(predict_age):\n",
    "        train['Age'].iloc[index] = median_age\n",
    "    else:\n",
    "        train['Age'].iloc[index] = predict_age\n",
    "combine = pd.concat([train, test], axis = 0).reset_index(drop = True)\n",
    "meidan_age = combine['Age'].median()\n",
    "for index in age_nan_indices_test:\n",
    "    #use larger sample to fill test data \n",
    "    test['Age'].iloc[index] = median_age  "
   ]
  },
  {
   "cell_type": "code",
   "execution_count": 184,
   "metadata": {},
   "outputs": [
    {
     "name": "stdout",
     "output_type": "stream",
     "text": [
      "0\n"
     ]
    },
    {
     "data": {
      "text/plain": [
       "0"
      ]
     },
     "execution_count": 184,
     "metadata": {},
     "output_type": "execute_result"
    }
   ],
   "source": [
    "# Make sure there is no more missing ages \n",
    "\n",
    "#combine['Age'].isnull().sum()\n",
    "print(train['Age'].isnull().sum())\n",
    "test['Age'].isnull().sum()"
   ]
  },
  {
   "cell_type": "markdown",
   "metadata": {},
   "source": [
    "## 5.3 Data transformation\n",
    "\n",
    "Recall that our passenger fare column has a very high positive skewness. Therefore, we will apply a log transformation to address this issue."
   ]
  },
  {
   "cell_type": "code",
   "execution_count": 185,
   "metadata": {},
   "outputs": [],
   "source": [
    "# Passenger fare distribution\n",
    "\n",
    "# sns.distplot(combine['Fare'], label = 'Skewness: %.2f'%(combine['Fare'].skew()))\n",
    "# plt.legend(loc = 'best')\n",
    "# plt.title('Passenger Fare Distribution')"
   ]
  },
  {
   "cell_type": "code",
   "execution_count": 186,
   "metadata": {},
   "outputs": [],
   "source": [
    "# Apply log transformation to Fare column to reduce skewness\n",
    "\n",
    "#combine['Fare'] = combine['Fare'].map(lambda x: np.log(x) if x > 0 else 0)"
   ]
  },
  {
   "cell_type": "code",
   "execution_count": 187,
   "metadata": {},
   "outputs": [],
   "source": [
    "# Passenger fare distribution after log transformation\n",
    "\n",
    "# sns.distplot(combine['Fare'], label = 'Skewness: %.2f'%(combine['Fare'].skew()))\n",
    "# plt.legend(loc = 'best')\n",
    "# plt.title('Passenger Fare Distribution After Log Transformation')"
   ]
  },
  {
   "cell_type": "markdown",
   "metadata": {},
   "source": [
    "## 5.4 Feature engineering\n",
    "\n",
    "Feature engineering is arguably the most important art in machine learning. It is the process of creating new features from existing features to better represent the underlying problem to the predictive models resulting in improved model accuracy on unseen data.\n",
    "\n",
    "In this section, I will construct 3 new features:\n",
    "- Title\n",
    "- IsAlone\n",
    "- Age*Class"
   ]
  },
  {
   "cell_type": "markdown",
   "metadata": {},
   "source": [
    "### 5.4.1 Title"
   ]
  },
  {
   "cell_type": "code",
   "execution_count": 188,
   "metadata": {},
   "outputs": [
    {
     "data": {
      "text/html": [
       "<div>\n",
       "<style scoped>\n",
       "    .dataframe tbody tr th:only-of-type {\n",
       "        vertical-align: middle;\n",
       "    }\n",
       "\n",
       "    .dataframe tbody tr th {\n",
       "        vertical-align: top;\n",
       "    }\n",
       "\n",
       "    .dataframe thead th {\n",
       "        text-align: right;\n",
       "    }\n",
       "</style>\n",
       "<table border=\"1\" class=\"dataframe\">\n",
       "  <thead>\n",
       "    <tr style=\"text-align: right;\">\n",
       "      <th></th>\n",
       "      <th>PassengerId</th>\n",
       "      <th>Survived</th>\n",
       "      <th>Pclass</th>\n",
       "      <th>Name</th>\n",
       "      <th>Sex</th>\n",
       "      <th>Age</th>\n",
       "      <th>SibSp</th>\n",
       "      <th>Parch</th>\n",
       "      <th>Fare</th>\n",
       "      <th>Embarked</th>\n",
       "    </tr>\n",
       "  </thead>\n",
       "  <tbody>\n",
       "    <tr>\n",
       "      <th>0</th>\n",
       "      <td>1</td>\n",
       "      <td>0</td>\n",
       "      <td>3</td>\n",
       "      <td>Braund, Mr. Owen Harris</td>\n",
       "      <td>0</td>\n",
       "      <td>22.0</td>\n",
       "      <td>1</td>\n",
       "      <td>0</td>\n",
       "      <td>7.2500</td>\n",
       "      <td>S</td>\n",
       "    </tr>\n",
       "    <tr>\n",
       "      <th>1</th>\n",
       "      <td>2</td>\n",
       "      <td>1</td>\n",
       "      <td>1</td>\n",
       "      <td>Cumings, Mrs. John Bradley (Florence Briggs Th...</td>\n",
       "      <td>1</td>\n",
       "      <td>38.0</td>\n",
       "      <td>1</td>\n",
       "      <td>0</td>\n",
       "      <td>71.2833</td>\n",
       "      <td>C</td>\n",
       "    </tr>\n",
       "    <tr>\n",
       "      <th>2</th>\n",
       "      <td>3</td>\n",
       "      <td>1</td>\n",
       "      <td>3</td>\n",
       "      <td>Heikkinen, Miss. Laina</td>\n",
       "      <td>1</td>\n",
       "      <td>26.0</td>\n",
       "      <td>0</td>\n",
       "      <td>0</td>\n",
       "      <td>7.9250</td>\n",
       "      <td>S</td>\n",
       "    </tr>\n",
       "    <tr>\n",
       "      <th>3</th>\n",
       "      <td>4</td>\n",
       "      <td>1</td>\n",
       "      <td>1</td>\n",
       "      <td>Futrelle, Mrs. Jacques Heath (Lily May Peel)</td>\n",
       "      <td>1</td>\n",
       "      <td>35.0</td>\n",
       "      <td>1</td>\n",
       "      <td>0</td>\n",
       "      <td>53.1000</td>\n",
       "      <td>S</td>\n",
       "    </tr>\n",
       "    <tr>\n",
       "      <th>4</th>\n",
       "      <td>5</td>\n",
       "      <td>0</td>\n",
       "      <td>3</td>\n",
       "      <td>Allen, Mr. William Henry</td>\n",
       "      <td>0</td>\n",
       "      <td>35.0</td>\n",
       "      <td>0</td>\n",
       "      <td>0</td>\n",
       "      <td>8.0500</td>\n",
       "      <td>S</td>\n",
       "    </tr>\n",
       "  </tbody>\n",
       "</table>\n",
       "</div>"
      ],
      "text/plain": [
       "   PassengerId  Survived  Pclass  \\\n",
       "0            1         0       3   \n",
       "1            2         1       1   \n",
       "2            3         1       3   \n",
       "3            4         1       1   \n",
       "4            5         0       3   \n",
       "\n",
       "                                                Name  Sex   Age  SibSp  Parch  \\\n",
       "0                            Braund, Mr. Owen Harris    0  22.0      1      0   \n",
       "1  Cumings, Mrs. John Bradley (Florence Briggs Th...    1  38.0      1      0   \n",
       "2                             Heikkinen, Miss. Laina    1  26.0      0      0   \n",
       "3       Futrelle, Mrs. Jacques Heath (Lily May Peel)    1  35.0      1      0   \n",
       "4                           Allen, Mr. William Henry    0  35.0      0      0   \n",
       "\n",
       "      Fare Embarked  \n",
       "0   7.2500        S  \n",
       "1  71.2833        C  \n",
       "2   7.9250        S  \n",
       "3  53.1000        S  \n",
       "4   8.0500        S  "
      ]
     },
     "execution_count": 188,
     "metadata": {},
     "output_type": "execute_result"
    }
   ],
   "source": [
    "#combine.head()\n",
    "train.head()"
   ]
  },
  {
   "cell_type": "code",
   "execution_count": 189,
   "metadata": {},
   "outputs": [
    {
     "data": {
      "text/html": [
       "<div>\n",
       "<style scoped>\n",
       "    .dataframe tbody tr th:only-of-type {\n",
       "        vertical-align: middle;\n",
       "    }\n",
       "\n",
       "    .dataframe tbody tr th {\n",
       "        vertical-align: top;\n",
       "    }\n",
       "\n",
       "    .dataframe thead th {\n",
       "        text-align: right;\n",
       "    }\n",
       "</style>\n",
       "<table border=\"1\" class=\"dataframe\">\n",
       "  <thead>\n",
       "    <tr style=\"text-align: right;\">\n",
       "      <th></th>\n",
       "      <th>Name</th>\n",
       "      <th>Title</th>\n",
       "    </tr>\n",
       "  </thead>\n",
       "  <tbody>\n",
       "    <tr>\n",
       "      <th>0</th>\n",
       "      <td>Kelly, Mr. James</td>\n",
       "      <td>Mr</td>\n",
       "    </tr>\n",
       "    <tr>\n",
       "      <th>1</th>\n",
       "      <td>Wilkes, Mrs. James (Ellen Needs)</td>\n",
       "      <td>Mrs</td>\n",
       "    </tr>\n",
       "    <tr>\n",
       "      <th>2</th>\n",
       "      <td>Myles, Mr. Thomas Francis</td>\n",
       "      <td>Mr</td>\n",
       "    </tr>\n",
       "    <tr>\n",
       "      <th>3</th>\n",
       "      <td>Wirz, Mr. Albert</td>\n",
       "      <td>Mr</td>\n",
       "    </tr>\n",
       "    <tr>\n",
       "      <th>4</th>\n",
       "      <td>Hirvonen, Mrs. Alexander (Helga E Lindqvist)</td>\n",
       "      <td>Mrs</td>\n",
       "    </tr>\n",
       "  </tbody>\n",
       "</table>\n",
       "</div>"
      ],
      "text/plain": [
       "                                           Name Title\n",
       "0                              Kelly, Mr. James    Mr\n",
       "1              Wilkes, Mrs. James (Ellen Needs)   Mrs\n",
       "2                     Myles, Mr. Thomas Francis    Mr\n",
       "3                              Wirz, Mr. Albert    Mr\n",
       "4  Hirvonen, Mrs. Alexander (Helga E Lindqvist)   Mrs"
      ]
     },
     "execution_count": 189,
     "metadata": {},
     "output_type": "execute_result"
    }
   ],
   "source": [
    "# Get title from name\n",
    "\n",
    "# combine['Title'] = [name.split(',')[1].split('.')[0].strip() for name in combine['Name']]\n",
    "# combine[['Name', 'Title']].head()\n",
    "\n",
    "train['Title'] = [name.split(',')[1].split('.')[0].strip() for name in train['Name']]\n",
    "train[['Name', 'Title']].head()\n",
    "test['Title'] = [name.split(',')[1].split('.')[0].strip() for name in test['Name']]\n",
    "test[['Name', 'Title']].head()"
   ]
  },
  {
   "cell_type": "code",
   "execution_count": 190,
   "metadata": {},
   "outputs": [
    {
     "data": {
      "text/plain": [
       "Mr              513\n",
       "Miss            177\n",
       "Mrs             125\n",
       "Master           39\n",
       "Dr                7\n",
       "Rev               6\n",
       "Mlle              2\n",
       "Major             2\n",
       "Col               2\n",
       "the Countess      1\n",
       "Capt              1\n",
       "Ms                1\n",
       "Sir               1\n",
       "Lady              1\n",
       "Mme               1\n",
       "Don               1\n",
       "Jonkheer          1\n",
       "Name: Title, dtype: int64"
      ]
     },
     "execution_count": 190,
     "metadata": {},
     "output_type": "execute_result"
    }
   ],
   "source": [
    "# Value counts of Title\n",
    "\n",
    "#combine['Title'].value_counts()\n",
    "train['Title'].value_counts()"
   ]
  },
  {
   "cell_type": "code",
   "execution_count": 191,
   "metadata": {
    "scrolled": true
   },
   "outputs": [
    {
     "data": {
      "text/plain": [
       "17"
      ]
     },
     "execution_count": 191,
     "metadata": {},
     "output_type": "execute_result"
    }
   ],
   "source": [
    "# Number of unique Title\n",
    "\n",
    "#combine['Title'].nunique()\n",
    "train['Title'].nunique()"
   ]
  },
  {
   "cell_type": "code",
   "execution_count": 192,
   "metadata": {},
   "outputs": [
    {
     "data": {
      "text/plain": [
       "Mr        240\n",
       "Miss       78\n",
       "Mrs        72\n",
       "Master     21\n",
       "Col         2\n",
       "Rev         2\n",
       "Ms          1\n",
       "Dr          1\n",
       "Dona        1\n",
       "Name: Title, dtype: int64"
      ]
     },
     "execution_count": 192,
     "metadata": {},
     "output_type": "execute_result"
    }
   ],
   "source": [
    "# visualise the testing titles\n",
    "test['Title'].value_counts()"
   ]
  },
  {
   "cell_type": "code",
   "execution_count": 193,
   "metadata": {},
   "outputs": [],
   "source": [
    "# Simplify title\n",
    "\n",
    "# combine['Title'] = combine['Title'].replace(['Dr', 'Rev', 'Col', 'Major', 'Lady', 'Jonkheer', 'Don', 'Capt', 'the Countess',\n",
    "#                                              'Sir', 'Dona'], 'Rare')\n",
    "# combine['Title'] = combine['Title'].replace(['Mlle', 'Ms'], 'Miss')\n",
    "# combine['Title'] = combine['Title'].replace('Mme', 'Mrs')\n",
    "\n",
    "train['Title'] = train['Title'].replace(['Dr', 'Rev', 'Col', 'Major', 'Lady', 'Jonkheer', 'Don', 'Capt', 'the Countess',\n",
    "                                             'Sir'], 'Rare')\n",
    "train['Title'] = train['Title'].replace(['Mlle', 'Ms'], 'Miss')\n",
    "train['Title'] = train['Title'].replace('Mme', 'Mrs')\n",
    "\n",
    "test['Title'] = test['Title'].replace(['Dr', 'Rev', 'Col',  'Capt', 'Dona'], 'Rare')\n",
    "test['Title'] = test['Title'].replace(['Ms'], 'Miss')\n"
   ]
  },
  {
   "cell_type": "code",
   "execution_count": 194,
   "metadata": {},
   "outputs": [
    {
     "data": {
      "text/plain": [
       "<AxesSubplot:xlabel='Title', ylabel='count'>"
      ]
     },
     "execution_count": 194,
     "metadata": {},
     "output_type": "execute_result"
    },
    {
     "data": {
      "image/png": "[encoded data removed]",
      "text/plain": [
       "<Figure size 432x288 with 1 Axes>"
      ]
     },
     "metadata": {
      "needs_background": "light"
     },
     "output_type": "display_data"
    }
   ],
   "source": [
    "# sns.countplot(combine['Title'])\n",
    "sns.countplot(train['Title'])\n",
    "sns.countplot(test['Title'])"
   ]
  },
  {
   "cell_type": "code",
   "execution_count": 195,
   "metadata": {},
   "outputs": [
    {
     "data": {
      "text/html": [
       "<div>\n",
       "<style scoped>\n",
       "    .dataframe tbody tr th:only-of-type {\n",
       "        vertical-align: middle;\n",
       "    }\n",
       "\n",
       "    .dataframe tbody tr th {\n",
       "        vertical-align: top;\n",
       "    }\n",
       "\n",
       "    .dataframe thead th {\n",
       "        text-align: right;\n",
       "    }\n",
       "</style>\n",
       "<table border=\"1\" class=\"dataframe\">\n",
       "  <thead>\n",
       "    <tr style=\"text-align: right;\">\n",
       "      <th></th>\n",
       "      <th>Title</th>\n",
       "      <th>Survived</th>\n",
       "    </tr>\n",
       "  </thead>\n",
       "  <tbody>\n",
       "    <tr>\n",
       "      <th>3</th>\n",
       "      <td>Mrs</td>\n",
       "      <td>0.793651</td>\n",
       "    </tr>\n",
       "    <tr>\n",
       "      <th>1</th>\n",
       "      <td>Miss</td>\n",
       "      <td>0.711111</td>\n",
       "    </tr>\n",
       "    <tr>\n",
       "      <th>0</th>\n",
       "      <td>Master</td>\n",
       "      <td>0.589744</td>\n",
       "    </tr>\n",
       "    <tr>\n",
       "      <th>4</th>\n",
       "      <td>Rare</td>\n",
       "      <td>0.347826</td>\n",
       "    </tr>\n",
       "    <tr>\n",
       "      <th>2</th>\n",
       "      <td>Mr</td>\n",
       "      <td>0.157895</td>\n",
       "    </tr>\n",
       "  </tbody>\n",
       "</table>\n",
       "</div>"
      ],
      "text/plain": [
       "    Title  Survived\n",
       "3     Mrs  0.793651\n",
       "1    Miss  0.711111\n",
       "0  Master  0.589744\n",
       "4    Rare  0.347826\n",
       "2      Mr  0.157895"
      ]
     },
     "execution_count": 195,
     "metadata": {},
     "output_type": "execute_result"
    }
   ],
   "source": [
    "# Mean of survival by name title\n",
    "\n",
    "#combine[['Title', 'Survived']].groupby(['Title'], as_index = False).mean().sort_values(by = 'Survived', ascending = False)\n",
    "train[['Title', 'Survived']].groupby(['Title'], as_index = False).mean().sort_values(by = 'Survived', ascending = False)"
   ]
  },
  {
   "cell_type": "code",
   "execution_count": 196,
   "metadata": {},
   "outputs": [
    {
     "data": {
      "text/plain": [
       "Text(0.5, 1.0, 'Mean of survival by Title')"
      ]
     },
     "execution_count": 196,
     "metadata": {},
     "output_type": "execute_result"
    },
    {
     "data": {
      "image/png": "[encoded data removed]",
      "text/plain": [
       "<Figure size 360x360 with 1 Axes>"
      ]
     },
     "metadata": {
      "needs_background": "light"
     },
     "output_type": "display_data"
    }
   ],
   "source": [
    "# sns.factorplot(x = 'Title', y = 'Survived', data = combine, kind = 'bar')\n",
    "# plt.ylabel('Survival Probability')\n",
    "# plt.title('Mean of survival by Title')\n",
    "\n",
    "sns.factorplot(x = 'Title', y = 'Survived', data = train, kind = 'bar')\n",
    "plt.ylabel('Survival Probability')\n",
    "plt.title('Mean of survival by Title')\n"
   ]
  },
  {
   "cell_type": "code",
   "execution_count": 197,
   "metadata": {},
   "outputs": [
    {
     "data": {
      "text/html": [
       "<div>\n",
       "<style scoped>\n",
       "    .dataframe tbody tr th:only-of-type {\n",
       "        vertical-align: middle;\n",
       "    }\n",
       "\n",
       "    .dataframe tbody tr th {\n",
       "        vertical-align: top;\n",
       "    }\n",
       "\n",
       "    .dataframe thead th {\n",
       "        text-align: right;\n",
       "    }\n",
       "</style>\n",
       "<table border=\"1\" class=\"dataframe\">\n",
       "  <thead>\n",
       "    <tr style=\"text-align: right;\">\n",
       "      <th></th>\n",
       "      <th>PassengerId</th>\n",
       "      <th>Pclass</th>\n",
       "      <th>Sex</th>\n",
       "      <th>Age</th>\n",
       "      <th>SibSp</th>\n",
       "      <th>Parch</th>\n",
       "      <th>Fare</th>\n",
       "      <th>Embarked</th>\n",
       "      <th>Title</th>\n",
       "    </tr>\n",
       "  </thead>\n",
       "  <tbody>\n",
       "    <tr>\n",
       "      <th>0</th>\n",
       "      <td>892</td>\n",
       "      <td>3</td>\n",
       "      <td>0</td>\n",
       "      <td>34.5</td>\n",
       "      <td>0</td>\n",
       "      <td>0</td>\n",
       "      <td>7.8292</td>\n",
       "      <td>Q</td>\n",
       "      <td>Mr</td>\n",
       "    </tr>\n",
       "    <tr>\n",
       "      <th>1</th>\n",
       "      <td>893</td>\n",
       "      <td>3</td>\n",
       "      <td>1</td>\n",
       "      <td>47.0</td>\n",
       "      <td>1</td>\n",
       "      <td>0</td>\n",
       "      <td>7.0000</td>\n",
       "      <td>S</td>\n",
       "      <td>Mrs</td>\n",
       "    </tr>\n",
       "    <tr>\n",
       "      <th>2</th>\n",
       "      <td>894</td>\n",
       "      <td>2</td>\n",
       "      <td>0</td>\n",
       "      <td>62.0</td>\n",
       "      <td>0</td>\n",
       "      <td>0</td>\n",
       "      <td>9.6875</td>\n",
       "      <td>Q</td>\n",
       "      <td>Mr</td>\n",
       "    </tr>\n",
       "    <tr>\n",
       "      <th>3</th>\n",
       "      <td>895</td>\n",
       "      <td>3</td>\n",
       "      <td>0</td>\n",
       "      <td>27.0</td>\n",
       "      <td>0</td>\n",
       "      <td>0</td>\n",
       "      <td>8.6625</td>\n",
       "      <td>S</td>\n",
       "      <td>Mr</td>\n",
       "    </tr>\n",
       "    <tr>\n",
       "      <th>4</th>\n",
       "      <td>896</td>\n",
       "      <td>3</td>\n",
       "      <td>1</td>\n",
       "      <td>22.0</td>\n",
       "      <td>1</td>\n",
       "      <td>1</td>\n",
       "      <td>12.2875</td>\n",
       "      <td>S</td>\n",
       "      <td>Mrs</td>\n",
       "    </tr>\n",
       "  </tbody>\n",
       "</table>\n",
       "</div>"
      ],
      "text/plain": [
       "   PassengerId  Pclass  Sex   Age  SibSp  Parch     Fare Embarked Title\n",
       "0          892       3    0  34.5      0      0   7.8292        Q    Mr\n",
       "1          893       3    1  47.0      1      0   7.0000        S   Mrs\n",
       "2          894       2    0  62.0      0      0   9.6875        Q    Mr\n",
       "3          895       3    0  27.0      0      0   8.6625        S    Mr\n",
       "4          896       3    1  22.0      1      1  12.2875        S   Mrs"
      ]
     },
     "execution_count": 197,
     "metadata": {},
     "output_type": "execute_result"
    }
   ],
   "source": [
    "# Drop name column\n",
    "\n",
    "# combine = combine.drop('Name', axis = 1)\n",
    "# combine.head()\n",
    "\n",
    "train = train.drop('Name', axis = 1)\n",
    "train.head()\n",
    "\n",
    "test = test.drop('Name', axis = 1)\n",
    "test.head()"
   ]
  },
  {
   "cell_type": "markdown",
   "metadata": {},
   "source": [
    "### 5.4.2 IsAlone"
   ]
  },
  {
   "cell_type": "code",
   "execution_count": 198,
   "metadata": {},
   "outputs": [
    {
     "data": {
      "text/html": [
       "<div>\n",
       "<style scoped>\n",
       "    .dataframe tbody tr th:only-of-type {\n",
       "        vertical-align: middle;\n",
       "    }\n",
       "\n",
       "    .dataframe tbody tr th {\n",
       "        vertical-align: top;\n",
       "    }\n",
       "\n",
       "    .dataframe thead th {\n",
       "        text-align: right;\n",
       "    }\n",
       "</style>\n",
       "<table border=\"1\" class=\"dataframe\">\n",
       "  <thead>\n",
       "    <tr style=\"text-align: right;\">\n",
       "      <th></th>\n",
       "      <th>SibSp</th>\n",
       "      <th>Parch</th>\n",
       "      <th>FamilySize</th>\n",
       "    </tr>\n",
       "  </thead>\n",
       "  <tbody>\n",
       "    <tr>\n",
       "      <th>0</th>\n",
       "      <td>0</td>\n",
       "      <td>0</td>\n",
       "      <td>1</td>\n",
       "    </tr>\n",
       "    <tr>\n",
       "      <th>1</th>\n",
       "      <td>1</td>\n",
       "      <td>0</td>\n",
       "      <td>2</td>\n",
       "    </tr>\n",
       "    <tr>\n",
       "      <th>2</th>\n",
       "      <td>0</td>\n",
       "      <td>0</td>\n",
       "      <td>1</td>\n",
       "    </tr>\n",
       "    <tr>\n",
       "      <th>3</th>\n",
       "      <td>0</td>\n",
       "      <td>0</td>\n",
       "      <td>1</td>\n",
       "    </tr>\n",
       "    <tr>\n",
       "      <th>4</th>\n",
       "      <td>1</td>\n",
       "      <td>1</td>\n",
       "      <td>3</td>\n",
       "    </tr>\n",
       "    <tr>\n",
       "      <th>5</th>\n",
       "      <td>0</td>\n",
       "      <td>0</td>\n",
       "      <td>1</td>\n",
       "    </tr>\n",
       "    <tr>\n",
       "      <th>6</th>\n",
       "      <td>0</td>\n",
       "      <td>0</td>\n",
       "      <td>1</td>\n",
       "    </tr>\n",
       "    <tr>\n",
       "      <th>7</th>\n",
       "      <td>1</td>\n",
       "      <td>1</td>\n",
       "      <td>3</td>\n",
       "    </tr>\n",
       "    <tr>\n",
       "      <th>8</th>\n",
       "      <td>0</td>\n",
       "      <td>0</td>\n",
       "      <td>1</td>\n",
       "    </tr>\n",
       "    <tr>\n",
       "      <th>9</th>\n",
       "      <td>2</td>\n",
       "      <td>0</td>\n",
       "      <td>3</td>\n",
       "    </tr>\n",
       "  </tbody>\n",
       "</table>\n",
       "</div>"
      ],
      "text/plain": [
       "   SibSp  Parch  FamilySize\n",
       "0      0      0           1\n",
       "1      1      0           2\n",
       "2      0      0           1\n",
       "3      0      0           1\n",
       "4      1      1           3\n",
       "5      0      0           1\n",
       "6      0      0           1\n",
       "7      1      1           3\n",
       "8      0      0           1\n",
       "9      2      0           3"
      ]
     },
     "execution_count": 198,
     "metadata": {},
     "output_type": "execute_result"
    }
   ],
   "source": [
    "# Calculate family size from SibSp and Parch\n",
    "\n",
    "# combine['FamilySize'] = combine['SibSp'] + combine['Parch'] + 1\n",
    "# combine[['SibSp', 'Parch', 'FamilySize']].head(10)\n",
    "train['FamilySize'] = train['SibSp'] + train['Parch'] + 1\n",
    "train[['SibSp', 'Parch', 'FamilySize']].head(10)\n",
    "\n",
    "test['FamilySize'] = test['SibSp'] + test['Parch'] + 1\n",
    "test[['SibSp', 'Parch', 'FamilySize']].head(10)"
   ]
  },
  {
   "cell_type": "code",
   "execution_count": 199,
   "metadata": {},
   "outputs": [
    {
     "data": {
      "text/html": [
       "<div>\n",
       "<style scoped>\n",
       "    .dataframe tbody tr th:only-of-type {\n",
       "        vertical-align: middle;\n",
       "    }\n",
       "\n",
       "    .dataframe tbody tr th {\n",
       "        vertical-align: top;\n",
       "    }\n",
       "\n",
       "    .dataframe thead th {\n",
       "        text-align: right;\n",
       "    }\n",
       "</style>\n",
       "<table border=\"1\" class=\"dataframe\">\n",
       "  <thead>\n",
       "    <tr style=\"text-align: right;\">\n",
       "      <th></th>\n",
       "      <th>FamilySize</th>\n",
       "      <th>Survived</th>\n",
       "    </tr>\n",
       "  </thead>\n",
       "  <tbody>\n",
       "    <tr>\n",
       "      <th>3</th>\n",
       "      <td>4</td>\n",
       "      <td>0.724138</td>\n",
       "    </tr>\n",
       "    <tr>\n",
       "      <th>2</th>\n",
       "      <td>3</td>\n",
       "      <td>0.578431</td>\n",
       "    </tr>\n",
       "    <tr>\n",
       "      <th>1</th>\n",
       "      <td>2</td>\n",
       "      <td>0.552795</td>\n",
       "    </tr>\n",
       "    <tr>\n",
       "      <th>6</th>\n",
       "      <td>7</td>\n",
       "      <td>0.333333</td>\n",
       "    </tr>\n",
       "    <tr>\n",
       "      <th>0</th>\n",
       "      <td>1</td>\n",
       "      <td>0.303538</td>\n",
       "    </tr>\n",
       "    <tr>\n",
       "      <th>4</th>\n",
       "      <td>5</td>\n",
       "      <td>0.200000</td>\n",
       "    </tr>\n",
       "    <tr>\n",
       "      <th>5</th>\n",
       "      <td>6</td>\n",
       "      <td>0.052632</td>\n",
       "    </tr>\n",
       "    <tr>\n",
       "      <th>7</th>\n",
       "      <td>8</td>\n",
       "      <td>0.000000</td>\n",
       "    </tr>\n",
       "  </tbody>\n",
       "</table>\n",
       "</div>"
      ],
      "text/plain": [
       "   FamilySize  Survived\n",
       "3           4  0.724138\n",
       "2           3  0.578431\n",
       "1           2  0.552795\n",
       "6           7  0.333333\n",
       "0           1  0.303538\n",
       "4           5  0.200000\n",
       "5           6  0.052632\n",
       "7           8  0.000000"
      ]
     },
     "execution_count": 199,
     "metadata": {},
     "output_type": "execute_result"
    }
   ],
   "source": [
    "# Mean of survival by family size\n",
    "\n",
    "#combine[['FamilySize', 'Survived']].groupby('FamilySize', as_index = False).mean().sort_values(by = 'Survived', ascending = False)\n",
    "train[['FamilySize', 'Survived']].groupby('FamilySize', as_index = False).mean().sort_values(by = 'Survived', ascending = False)"
   ]
  },
  {
   "cell_type": "code",
   "execution_count": 200,
   "metadata": {},
   "outputs": [],
   "source": [
    "# Create IsAlone feature\n",
    "\n",
    "# combine['IsAlone'] = 0\n",
    "# combine.loc[combine['FamilySize'] == 1, 'IsAlone'] = 1\n",
    "\n",
    "train['IsAlone'] = 0\n",
    "train.loc[train['FamilySize'] == 1, 'IsAlone'] = 1\n",
    "\n",
    "test['IsAlone'] = 0\n",
    "test.loc[test['FamilySize'] == 1, 'IsAlone'] = 1"
   ]
  },
  {
   "cell_type": "code",
   "execution_count": 201,
   "metadata": {},
   "outputs": [
    {
     "data": {
      "text/html": [
       "<div>\n",
       "<style scoped>\n",
       "    .dataframe tbody tr th:only-of-type {\n",
       "        vertical-align: middle;\n",
       "    }\n",
       "\n",
       "    .dataframe tbody tr th {\n",
       "        vertical-align: top;\n",
       "    }\n",
       "\n",
       "    .dataframe thead th {\n",
       "        text-align: right;\n",
       "    }\n",
       "</style>\n",
       "<table border=\"1\" class=\"dataframe\">\n",
       "  <thead>\n",
       "    <tr style=\"text-align: right;\">\n",
       "      <th></th>\n",
       "      <th>IsAlone</th>\n",
       "      <th>FamilySize</th>\n",
       "      <th>Survived</th>\n",
       "    </tr>\n",
       "  </thead>\n",
       "  <tbody>\n",
       "    <tr>\n",
       "      <th>0</th>\n",
       "      <td>0</td>\n",
       "      <td>3.09593</td>\n",
       "      <td>0.514535</td>\n",
       "    </tr>\n",
       "    <tr>\n",
       "      <th>1</th>\n",
       "      <td>1</td>\n",
       "      <td>1.00000</td>\n",
       "      <td>0.303538</td>\n",
       "    </tr>\n",
       "  </tbody>\n",
       "</table>\n",
       "</div>"
      ],
      "text/plain": [
       "   IsAlone  FamilySize  Survived\n",
       "0        0     3.09593  0.514535\n",
       "1        1     1.00000  0.303538"
      ]
     },
     "execution_count": 201,
     "metadata": {},
     "output_type": "execute_result"
    }
   ],
   "source": [
    "# Mean of survival by IsAlone\n",
    "\n",
    "#combine[['IsAlone', 'Survived']].groupby('IsAlone', as_index = False).mean().sort_values(by = 'Survived', ascending = False)\n",
    "train[['IsAlone', 'FamilySize', 'Survived']].groupby('IsAlone', as_index = False).mean().sort_values(by = 'Survived', ascending = False)"
   ]
  },
  {
   "cell_type": "code",
   "execution_count": 202,
   "metadata": {
    "scrolled": true
   },
   "outputs": [
    {
     "data": {
      "text/html": [
       "<div>\n",
       "<style scoped>\n",
       "    .dataframe tbody tr th:only-of-type {\n",
       "        vertical-align: middle;\n",
       "    }\n",
       "\n",
       "    .dataframe tbody tr th {\n",
       "        vertical-align: top;\n",
       "    }\n",
       "\n",
       "    .dataframe thead th {\n",
       "        text-align: right;\n",
       "    }\n",
       "</style>\n",
       "<table border=\"1\" class=\"dataframe\">\n",
       "  <thead>\n",
       "    <tr style=\"text-align: right;\">\n",
       "      <th></th>\n",
       "      <th>PassengerId</th>\n",
       "      <th>Survived</th>\n",
       "      <th>Pclass</th>\n",
       "      <th>Sex</th>\n",
       "      <th>Age</th>\n",
       "      <th>Fare</th>\n",
       "      <th>Embarked</th>\n",
       "      <th>Title</th>\n",
       "      <th>IsAlone</th>\n",
       "    </tr>\n",
       "  </thead>\n",
       "  <tbody>\n",
       "    <tr>\n",
       "      <th>0</th>\n",
       "      <td>1</td>\n",
       "      <td>0</td>\n",
       "      <td>3</td>\n",
       "      <td>0</td>\n",
       "      <td>22.0</td>\n",
       "      <td>7.2500</td>\n",
       "      <td>S</td>\n",
       "      <td>Mr</td>\n",
       "      <td>0</td>\n",
       "    </tr>\n",
       "    <tr>\n",
       "      <th>1</th>\n",
       "      <td>2</td>\n",
       "      <td>1</td>\n",
       "      <td>1</td>\n",
       "      <td>1</td>\n",
       "      <td>38.0</td>\n",
       "      <td>71.2833</td>\n",
       "      <td>C</td>\n",
       "      <td>Mrs</td>\n",
       "      <td>0</td>\n",
       "    </tr>\n",
       "    <tr>\n",
       "      <th>2</th>\n",
       "      <td>3</td>\n",
       "      <td>1</td>\n",
       "      <td>3</td>\n",
       "      <td>1</td>\n",
       "      <td>26.0</td>\n",
       "      <td>7.9250</td>\n",
       "      <td>S</td>\n",
       "      <td>Miss</td>\n",
       "      <td>1</td>\n",
       "    </tr>\n",
       "    <tr>\n",
       "      <th>3</th>\n",
       "      <td>4</td>\n",
       "      <td>1</td>\n",
       "      <td>1</td>\n",
       "      <td>1</td>\n",
       "      <td>35.0</td>\n",
       "      <td>53.1000</td>\n",
       "      <td>S</td>\n",
       "      <td>Mrs</td>\n",
       "      <td>0</td>\n",
       "    </tr>\n",
       "    <tr>\n",
       "      <th>4</th>\n",
       "      <td>5</td>\n",
       "      <td>0</td>\n",
       "      <td>3</td>\n",
       "      <td>0</td>\n",
       "      <td>35.0</td>\n",
       "      <td>8.0500</td>\n",
       "      <td>S</td>\n",
       "      <td>Mr</td>\n",
       "      <td>1</td>\n",
       "    </tr>\n",
       "  </tbody>\n",
       "</table>\n",
       "</div>"
      ],
      "text/plain": [
       "   PassengerId  Survived  Pclass  Sex   Age     Fare Embarked Title  IsAlone\n",
       "0            1         0       3    0  22.0   7.2500        S    Mr        0\n",
       "1            2         1       1    1  38.0  71.2833        C   Mrs        0\n",
       "2            3         1       3    1  26.0   7.9250        S  Miss        1\n",
       "3            4         1       1    1  35.0  53.1000        S   Mrs        0\n",
       "4            5         0       3    0  35.0   8.0500        S    Mr        1"
      ]
     },
     "execution_count": 202,
     "metadata": {},
     "output_type": "execute_result"
    }
   ],
   "source": [
    "# Drop SibSp, Parch and FamilySize features from combine dataframe\n",
    "\n",
    "# combine = combine.drop(['SibSp', 'Parch','FamilySize'], axis = 1)\n",
    "# combine.head()\n",
    "\n",
    "train = train.drop(['SibSp', 'Parch','FamilySize'], axis = 1)\n",
    "test = test.drop(['SibSp', 'Parch','FamilySize'], axis = 1)\n",
    "train.head()"
   ]
  },
  {
   "cell_type": "markdown",
   "metadata": {},
   "source": [
    "### 5.4.3 Age*Class"
   ]
  },
  {
   "cell_type": "markdown",
   "metadata": {},
   "source": [
    "To create our new Age*Class feature, we need to first transform Age into an ordinal variable. Ordinal variable is much like a categorical variable but with intrisinc ordering in their values. \n",
    "\n",
    "We will group Ages into 5 separate age bands and assign a number to each age band."
   ]
  },
  {
   "cell_type": "code",
   "execution_count": 203,
   "metadata": {},
   "outputs": [
    {
     "data": {
      "text/html": [
       "<div>\n",
       "<style scoped>\n",
       "    .dataframe tbody tr th:only-of-type {\n",
       "        vertical-align: middle;\n",
       "    }\n",
       "\n",
       "    .dataframe tbody tr th {\n",
       "        vertical-align: top;\n",
       "    }\n",
       "\n",
       "    .dataframe thead th {\n",
       "        text-align: right;\n",
       "    }\n",
       "</style>\n",
       "<table border=\"1\" class=\"dataframe\">\n",
       "  <thead>\n",
       "    <tr style=\"text-align: right;\">\n",
       "      <th></th>\n",
       "      <th>AgeBand</th>\n",
       "      <th>Survived</th>\n",
       "    </tr>\n",
       "  </thead>\n",
       "  <tbody>\n",
       "    <tr>\n",
       "      <th>0</th>\n",
       "      <td>(0.34, 16.336]</td>\n",
       "      <td>0.518868</td>\n",
       "    </tr>\n",
       "    <tr>\n",
       "      <th>1</th>\n",
       "      <td>(16.336, 32.252]</td>\n",
       "      <td>0.343816</td>\n",
       "    </tr>\n",
       "    <tr>\n",
       "      <th>2</th>\n",
       "      <td>(32.252, 48.168]</td>\n",
       "      <td>0.412844</td>\n",
       "    </tr>\n",
       "    <tr>\n",
       "      <th>3</th>\n",
       "      <td>(48.168, 64.084]</td>\n",
       "      <td>0.434783</td>\n",
       "    </tr>\n",
       "    <tr>\n",
       "      <th>4</th>\n",
       "      <td>(64.084, 80.0]</td>\n",
       "      <td>0.090909</td>\n",
       "    </tr>\n",
       "  </tbody>\n",
       "</table>\n",
       "</div>"
      ],
      "text/plain": [
       "            AgeBand  Survived\n",
       "0    (0.34, 16.336]  0.518868\n",
       "1  (16.336, 32.252]  0.343816\n",
       "2  (32.252, 48.168]  0.412844\n",
       "3  (48.168, 64.084]  0.434783\n",
       "4    (64.084, 80.0]  0.090909"
      ]
     },
     "execution_count": 203,
     "metadata": {},
     "output_type": "execute_result"
    }
   ],
   "source": [
    "# Create age bands and compute mean of survival by age bands\n",
    "\n",
    "# combine['AgeBand'] = pd.cut(combine['Age'], 5)\n",
    "# combine[['AgeBand', 'Survived']].groupby('AgeBand', as_index=False).mean().sort_values(by = 'AgeBand')\n",
    "\n",
    "train['AgeBand'] = pd.cut(train['Age'], 5)\n",
    "test['AgeBand'] = pd.cut(test['Age'], 5)\n",
    "train[['AgeBand', 'Survived']].groupby('AgeBand', as_index=False).mean().sort_values(by = 'AgeBand')"
   ]
  },
  {
   "cell_type": "code",
   "execution_count": 204,
   "metadata": {},
   "outputs": [],
   "source": [
    "# Assign ordinals to each age band \n",
    "\n",
    "# combine.loc[combine['Age'] <= 16.136, 'Age'] = 0\n",
    "# combine.loc[(combine['Age'] > 16.136) & (combine['Age'] <= 32.102), 'Age'] = 1\n",
    "# combine.loc[(combine['Age'] > 32.102) & (combine['Age'] <= 48.068), 'Age'] = 2\n",
    "# combine.loc[(combine['Age'] > 48.068) & (combine['Age'] <= 64.034), 'Age'] = 3\n",
    "# combine.loc[combine['Age'] > 64.034 , 'Age'] = 4\n",
    "\n",
    "train.loc[train['Age'] <= 16.136, 'Age'] = 0\n",
    "train.loc[(train['Age'] > 16.136) & (train['Age'] <= 32.102), 'Age'] = 1\n",
    "train.loc[(train['Age'] > 32.102) & (train['Age'] <= 48.068), 'Age'] = 2\n",
    "train.loc[(train['Age'] > 48.068) & (train['Age'] <= 64.034), 'Age'] = 3\n",
    "train.loc[train['Age'] > 64.034 , 'Age'] = 4\n",
    "\n",
    "test.loc[test['Age'] <= 16.136, 'Age'] = 0\n",
    "test.loc[(test['Age'] > 16.136) & (test['Age'] <= 32.102), 'Age'] = 1\n",
    "test.loc[(test['Age'] > 32.102) & (test['Age'] <= 48.068), 'Age'] = 2\n",
    "test.loc[(test['Age'] > 48.068) & (test['Age'] <= 64.034), 'Age'] = 3\n",
    "test.loc[test['Age'] > 64.034 , 'Age'] = 4"
   ]
  },
  {
   "cell_type": "code",
   "execution_count": 205,
   "metadata": {
    "scrolled": true
   },
   "outputs": [],
   "source": [
    "# Drop age band feature\n",
    "\n",
    "#combine = combine.drop('AgeBand', axis = 1)\n",
    "\n",
    "train = train.drop('AgeBand', axis = 1)\n",
    "test = test.drop('AgeBand', axis = 1)"
   ]
  },
  {
   "cell_type": "code",
   "execution_count": 206,
   "metadata": {},
   "outputs": [],
   "source": [
    "# Age and Pclass data types \n",
    "\n",
    "#combine[['Age', 'Pclass']].dtypes"
   ]
  },
  {
   "cell_type": "code",
   "execution_count": 207,
   "metadata": {},
   "outputs": [
    {
     "data": {
      "text/plain": [
       "dtype('int32')"
      ]
     },
     "execution_count": 207,
     "metadata": {},
     "output_type": "execute_result"
    }
   ],
   "source": [
    "# Convert ordinal Age into integer\n",
    "\n",
    "# combine['Age'] = combine['Age'].astype('int')\n",
    "# combine['Age'].dtype\n",
    "\n",
    "train['Age'] = train['Age'].astype('int')\n",
    "test['Age'] = test['Age'].astype('int')\n",
    "train['Age'].dtype"
   ]
  },
  {
   "cell_type": "code",
   "execution_count": 208,
   "metadata": {},
   "outputs": [
    {
     "data": {
      "text/html": [
       "<div>\n",
       "<style scoped>\n",
       "    .dataframe tbody tr th:only-of-type {\n",
       "        vertical-align: middle;\n",
       "    }\n",
       "\n",
       "    .dataframe tbody tr th {\n",
       "        vertical-align: top;\n",
       "    }\n",
       "\n",
       "    .dataframe thead th {\n",
       "        text-align: right;\n",
       "    }\n",
       "</style>\n",
       "<table border=\"1\" class=\"dataframe\">\n",
       "  <thead>\n",
       "    <tr style=\"text-align: right;\">\n",
       "      <th></th>\n",
       "      <th>Age</th>\n",
       "      <th>Pclass</th>\n",
       "      <th>Age*Class</th>\n",
       "    </tr>\n",
       "  </thead>\n",
       "  <tbody>\n",
       "    <tr>\n",
       "      <th>0</th>\n",
       "      <td>1</td>\n",
       "      <td>3</td>\n",
       "      <td>3</td>\n",
       "    </tr>\n",
       "    <tr>\n",
       "      <th>1</th>\n",
       "      <td>2</td>\n",
       "      <td>1</td>\n",
       "      <td>2</td>\n",
       "    </tr>\n",
       "    <tr>\n",
       "      <th>2</th>\n",
       "      <td>1</td>\n",
       "      <td>3</td>\n",
       "      <td>3</td>\n",
       "    </tr>\n",
       "    <tr>\n",
       "      <th>3</th>\n",
       "      <td>2</td>\n",
       "      <td>1</td>\n",
       "      <td>2</td>\n",
       "    </tr>\n",
       "    <tr>\n",
       "      <th>4</th>\n",
       "      <td>2</td>\n",
       "      <td>3</td>\n",
       "      <td>6</td>\n",
       "    </tr>\n",
       "  </tbody>\n",
       "</table>\n",
       "</div>"
      ],
      "text/plain": [
       "   Age  Pclass  Age*Class\n",
       "0    1       3          3\n",
       "1    2       1          2\n",
       "2    1       3          3\n",
       "3    2       1          2\n",
       "4    2       3          6"
      ]
     },
     "execution_count": 208,
     "metadata": {},
     "output_type": "execute_result"
    }
   ],
   "source": [
    "# Create Age*Class feature\n",
    "\n",
    "# combine['Age*Class'] = combine['Age'] * combine['Pclass']\n",
    "# combine[['Age', 'Pclass', 'Age*Class']].head()\n",
    "\n",
    "train['Age*Class'] = train['Age'] * train['Pclass']\n",
    "test['Age*Class'] = test['Age'] * test['Pclass']\n",
    "train[['Age', 'Pclass', 'Age*Class']].head()"
   ]
  },
  {
   "cell_type": "code",
   "execution_count": 209,
   "metadata": {},
   "outputs": [],
   "source": [
    "# Bin Fare \n",
    "train['FareBand'] = pd.qcut(train['Fare'], 4)\n",
    "test['FareBand'] = pd.qcut(test['Fare'], 4)\n"
   ]
  },
  {
   "cell_type": "code",
   "execution_count": 210,
   "metadata": {},
   "outputs": [],
   "source": [
    "train = train.drop([ 'Fare'], axis = 1)\n",
    "test = test.drop(['Fare'], axis = 1)"
   ]
  },
  {
   "cell_type": "code",
   "execution_count": 211,
   "metadata": {},
   "outputs": [],
   "source": [
    "# Assign ordinal to each fare band\n",
    "\n",
    "# combine.loc[combine['Fare'] <= 1.56, 'Fare'] = 0\n",
    "# combine.loc[(combine['Fare'] > 1.56) & (combine['Fare'] <= 3.119), 'Fare'] = 1\n",
    "# combine.loc[(combine['Fare'] > 3.119) & (combine['Fare'] <= 4.679), 'Fare'] = 2\n",
    "# combine.loc[combine['Fare'] > 4.679, 'Fare'] = 3"
   ]
  },
  {
   "cell_type": "code",
   "execution_count": 212,
   "metadata": {},
   "outputs": [],
   "source": [
    "# Convert Fare into integer\n",
    "\n",
    "# combine['Fare'] = combine['Fare'].astype('int')"
   ]
  },
  {
   "cell_type": "code",
   "execution_count": 213,
   "metadata": {
    "scrolled": true
   },
   "outputs": [],
   "source": [
    "# Drop FareBand feature\n",
    "\n",
    "# combine = combine.drop('FareBand', axis = 1)"
   ]
  },
  {
   "cell_type": "markdown",
   "metadata": {},
   "source": [
    "## 5.5 Feature encoding \n",
    "\n",
    "Machine learning models require all input and output variables to be numeric. Therefore, we need to encode all of our categorical data before we can fit the models to our data.\n",
    "\n",
    "Previously, we have encoded the sex column such that 0 = male and 1 = female. We need to repeat this process for Title and Embarked. In addition, similar to the age column, I will also transform Fare into an ordinal variable rather than a continuous variable."
   ]
  },
  {
   "cell_type": "code",
   "execution_count": 214,
   "metadata": {
    "scrolled": true
   },
   "outputs": [
    {
     "data": {
      "text/html": [
       "<div>\n",
       "<style scoped>\n",
       "    .dataframe tbody tr th:only-of-type {\n",
       "        vertical-align: middle;\n",
       "    }\n",
       "\n",
       "    .dataframe tbody tr th {\n",
       "        vertical-align: top;\n",
       "    }\n",
       "\n",
       "    .dataframe thead th {\n",
       "        text-align: right;\n",
       "    }\n",
       "</style>\n",
       "<table border=\"1\" class=\"dataframe\">\n",
       "  <thead>\n",
       "    <tr style=\"text-align: right;\">\n",
       "      <th></th>\n",
       "      <th>PassengerId</th>\n",
       "      <th>Survived</th>\n",
       "      <th>Pclass</th>\n",
       "      <th>Sex</th>\n",
       "      <th>Age</th>\n",
       "      <th>Embarked</th>\n",
       "      <th>Title</th>\n",
       "      <th>IsAlone</th>\n",
       "      <th>Age*Class</th>\n",
       "      <th>FareBand</th>\n",
       "    </tr>\n",
       "  </thead>\n",
       "  <tbody>\n",
       "    <tr>\n",
       "      <th>0</th>\n",
       "      <td>1</td>\n",
       "      <td>0</td>\n",
       "      <td>3</td>\n",
       "      <td>0</td>\n",
       "      <td>1</td>\n",
       "      <td>S</td>\n",
       "      <td>Mr</td>\n",
       "      <td>0</td>\n",
       "      <td>3</td>\n",
       "      <td>(-0.001, 7.896]</td>\n",
       "    </tr>\n",
       "    <tr>\n",
       "      <th>1</th>\n",
       "      <td>2</td>\n",
       "      <td>1</td>\n",
       "      <td>1</td>\n",
       "      <td>1</td>\n",
       "      <td>2</td>\n",
       "      <td>C</td>\n",
       "      <td>Mrs</td>\n",
       "      <td>0</td>\n",
       "      <td>2</td>\n",
       "      <td>(30.5, 512.329]</td>\n",
       "    </tr>\n",
       "    <tr>\n",
       "      <th>2</th>\n",
       "      <td>3</td>\n",
       "      <td>1</td>\n",
       "      <td>3</td>\n",
       "      <td>1</td>\n",
       "      <td>1</td>\n",
       "      <td>S</td>\n",
       "      <td>Miss</td>\n",
       "      <td>1</td>\n",
       "      <td>3</td>\n",
       "      <td>(7.896, 14.454]</td>\n",
       "    </tr>\n",
       "    <tr>\n",
       "      <th>3</th>\n",
       "      <td>4</td>\n",
       "      <td>1</td>\n",
       "      <td>1</td>\n",
       "      <td>1</td>\n",
       "      <td>2</td>\n",
       "      <td>S</td>\n",
       "      <td>Mrs</td>\n",
       "      <td>0</td>\n",
       "      <td>2</td>\n",
       "      <td>(30.5, 512.329]</td>\n",
       "    </tr>\n",
       "    <tr>\n",
       "      <th>4</th>\n",
       "      <td>5</td>\n",
       "      <td>0</td>\n",
       "      <td>3</td>\n",
       "      <td>0</td>\n",
       "      <td>2</td>\n",
       "      <td>S</td>\n",
       "      <td>Mr</td>\n",
       "      <td>1</td>\n",
       "      <td>6</td>\n",
       "      <td>(7.896, 14.454]</td>\n",
       "    </tr>\n",
       "  </tbody>\n",
       "</table>\n",
       "</div>"
      ],
      "text/plain": [
       "   PassengerId  Survived  Pclass  Sex  Age Embarked Title  IsAlone  Age*Class  \\\n",
       "0            1         0       3    0    1        S    Mr        0          3   \n",
       "1            2         1       1    1    2        C   Mrs        0          2   \n",
       "2            3         1       3    1    1        S  Miss        1          3   \n",
       "3            4         1       1    1    2        S   Mrs        0          2   \n",
       "4            5         0       3    0    2        S    Mr        1          6   \n",
       "\n",
       "          FareBand  \n",
       "0  (-0.001, 7.896]  \n",
       "1  (30.5, 512.329]  \n",
       "2  (7.896, 14.454]  \n",
       "3  (30.5, 512.329]  \n",
       "4  (7.896, 14.454]  "
      ]
     },
     "execution_count": 214,
     "metadata": {},
     "output_type": "execute_result"
    }
   ],
   "source": [
    "#combine.head()\n",
    "\n",
    "train.head()"
   ]
  },
  {
   "cell_type": "code",
   "execution_count": 215,
   "metadata": {
    "scrolled": false
   },
   "outputs": [
    {
     "data": {
      "text/html": [
       "<div>\n",
       "<style scoped>\n",
       "    .dataframe tbody tr th:only-of-type {\n",
       "        vertical-align: middle;\n",
       "    }\n",
       "\n",
       "    .dataframe tbody tr th {\n",
       "        vertical-align: top;\n",
       "    }\n",
       "\n",
       "    .dataframe thead th {\n",
       "        text-align: right;\n",
       "    }\n",
       "</style>\n",
       "<table border=\"1\" class=\"dataframe\">\n",
       "  <thead>\n",
       "    <tr style=\"text-align: right;\">\n",
       "      <th></th>\n",
       "      <th>PassengerId</th>\n",
       "      <th>Survived</th>\n",
       "      <th>Pclass</th>\n",
       "      <th>Sex</th>\n",
       "      <th>Age</th>\n",
       "      <th>Embarked</th>\n",
       "      <th>Title</th>\n",
       "      <th>IsAlone</th>\n",
       "      <th>Age*Class</th>\n",
       "      <th>FareBand</th>\n",
       "    </tr>\n",
       "  </thead>\n",
       "  <tbody>\n",
       "    <tr>\n",
       "      <th>0</th>\n",
       "      <td>1</td>\n",
       "      <td>0</td>\n",
       "      <td>3</td>\n",
       "      <td>0</td>\n",
       "      <td>1</td>\n",
       "      <td>2</td>\n",
       "      <td>2</td>\n",
       "      <td>0</td>\n",
       "      <td>3</td>\n",
       "      <td>0</td>\n",
       "    </tr>\n",
       "    <tr>\n",
       "      <th>1</th>\n",
       "      <td>2</td>\n",
       "      <td>1</td>\n",
       "      <td>1</td>\n",
       "      <td>1</td>\n",
       "      <td>2</td>\n",
       "      <td>0</td>\n",
       "      <td>3</td>\n",
       "      <td>0</td>\n",
       "      <td>2</td>\n",
       "      <td>3</td>\n",
       "    </tr>\n",
       "    <tr>\n",
       "      <th>2</th>\n",
       "      <td>3</td>\n",
       "      <td>1</td>\n",
       "      <td>3</td>\n",
       "      <td>1</td>\n",
       "      <td>1</td>\n",
       "      <td>2</td>\n",
       "      <td>1</td>\n",
       "      <td>1</td>\n",
       "      <td>3</td>\n",
       "      <td>1</td>\n",
       "    </tr>\n",
       "    <tr>\n",
       "      <th>3</th>\n",
       "      <td>4</td>\n",
       "      <td>1</td>\n",
       "      <td>1</td>\n",
       "      <td>1</td>\n",
       "      <td>2</td>\n",
       "      <td>2</td>\n",
       "      <td>3</td>\n",
       "      <td>0</td>\n",
       "      <td>2</td>\n",
       "      <td>3</td>\n",
       "    </tr>\n",
       "    <tr>\n",
       "      <th>4</th>\n",
       "      <td>5</td>\n",
       "      <td>0</td>\n",
       "      <td>3</td>\n",
       "      <td>0</td>\n",
       "      <td>2</td>\n",
       "      <td>2</td>\n",
       "      <td>2</td>\n",
       "      <td>1</td>\n",
       "      <td>6</td>\n",
       "      <td>1</td>\n",
       "    </tr>\n",
       "  </tbody>\n",
       "</table>\n",
       "</div>"
      ],
      "text/plain": [
       "   PassengerId  Survived  Pclass  Sex  Age  Embarked  Title  IsAlone  \\\n",
       "0            1         0       3    0    1         2      2        0   \n",
       "1            2         1       1    1    2         0      3        0   \n",
       "2            3         1       3    1    1         2      1        1   \n",
       "3            4         1       1    1    2         2      3        0   \n",
       "4            5         0       3    0    2         2      2        1   \n",
       "\n",
       "   Age*Class  FareBand  \n",
       "0          3         0  \n",
       "1          2         3  \n",
       "2          3         1  \n",
       "3          2         3  \n",
       "4          6         1  "
      ]
     },
     "execution_count": 215,
     "metadata": {},
     "output_type": "execute_result"
    }
   ],
   "source": [
    "# Encode Title and Embarked feature\n",
    "# from sklearn.preprocessing import OneHotEncoder, LabelEncoder\n",
    "# label = LabelEncoder() \n",
    "# combine['Embarked'] = label.fit_transform(combine['Embarked'])\n",
    "# combine['Title'] = label.fit_transform(combine['Title'])\n",
    "# #combine['AgeBin_Code'] = label.fit_transform(combine['AgeBin'])\n",
    "\n",
    "# combine['Fare'] = pd.qcut(combine['Fare'], 4)\n",
    "# combine['Fare'] = label.fit_transform(combine['Fare'])\n",
    "# #combine = pd.get_dummies(combine, columns = ['Title'])\n",
    "# #combine = pd.get_dummies(combine, columns = ['Embarked'], prefix = 'Em')\n",
    "# combine.head()\n",
    "from sklearn.preprocessing import OneHotEncoder, LabelEncoder\n",
    "label = LabelEncoder() \n",
    "train['Embarked'] = label.fit_transform(train['Embarked'])\n",
    "train['Title'] = label.fit_transform(train['Title'])\n",
    "#train['AgeBand'] = label.fit_transform(train['AgeBand'])\n",
    "train['FareBand'] = label.fit_transform(train['FareBand'])\n",
    "test['Embarked'] = label.fit_transform(test['Embarked'])\n",
    "test['Title'] = label.fit_transform(test['Title'])\n",
    "#test['AgeBand'] = label.fit_transform(test['AgeBand'])\n",
    "test['FareBand'] = label.fit_transform(test['FareBand'])\n",
    "#test = pd.get_dummies(combine, columns = ['Title'])\n",
    "#combine = pd.get_dummies(combine, columns = ['Embarked'], prefix = 'Em')\n",
    "# Create Age*Class feature\n",
    "\n",
    "# train['AgeBand*Class'] = train['AgeBand'] * train['Pclass']\n",
    "# test['AgeBand*Class'] = test['AgeBand'] * test['Pclass']\n",
    "# train[['AgeBand', 'Pclass', 'AgeBand*Class']].head()\n",
    "train.head()"
   ]
  },
  {
   "cell_type": "code",
   "execution_count": 216,
   "metadata": {},
   "outputs": [],
   "source": [
    "# # Separate training and test set from the combined dataframe\n",
    "\n",
    "# train = combine[:len(train)]\n",
    "# test = combine[len(train):]"
   ]
  },
  {
   "cell_type": "code",
   "execution_count": 217,
   "metadata": {
    "scrolled": true
   },
   "outputs": [
    {
     "data": {
      "text/html": [
       "<div>\n",
       "<style scoped>\n",
       "    .dataframe tbody tr th:only-of-type {\n",
       "        vertical-align: middle;\n",
       "    }\n",
       "\n",
       "    .dataframe tbody tr th {\n",
       "        vertical-align: top;\n",
       "    }\n",
       "\n",
       "    .dataframe thead th {\n",
       "        text-align: right;\n",
       "    }\n",
       "</style>\n",
       "<table border=\"1\" class=\"dataframe\">\n",
       "  <thead>\n",
       "    <tr style=\"text-align: right;\">\n",
       "      <th></th>\n",
       "      <th>Survived</th>\n",
       "      <th>Pclass</th>\n",
       "      <th>Sex</th>\n",
       "      <th>Age</th>\n",
       "      <th>Embarked</th>\n",
       "      <th>Title</th>\n",
       "      <th>IsAlone</th>\n",
       "      <th>Age*Class</th>\n",
       "      <th>FareBand</th>\n",
       "    </tr>\n",
       "  </thead>\n",
       "  <tbody>\n",
       "    <tr>\n",
       "      <th>0</th>\n",
       "      <td>0</td>\n",
       "      <td>3</td>\n",
       "      <td>0</td>\n",
       "      <td>1</td>\n",
       "      <td>2</td>\n",
       "      <td>2</td>\n",
       "      <td>0</td>\n",
       "      <td>3</td>\n",
       "      <td>0</td>\n",
       "    </tr>\n",
       "    <tr>\n",
       "      <th>1</th>\n",
       "      <td>1</td>\n",
       "      <td>1</td>\n",
       "      <td>1</td>\n",
       "      <td>2</td>\n",
       "      <td>0</td>\n",
       "      <td>3</td>\n",
       "      <td>0</td>\n",
       "      <td>2</td>\n",
       "      <td>3</td>\n",
       "    </tr>\n",
       "    <tr>\n",
       "      <th>2</th>\n",
       "      <td>1</td>\n",
       "      <td>3</td>\n",
       "      <td>1</td>\n",
       "      <td>1</td>\n",
       "      <td>2</td>\n",
       "      <td>1</td>\n",
       "      <td>1</td>\n",
       "      <td>3</td>\n",
       "      <td>1</td>\n",
       "    </tr>\n",
       "    <tr>\n",
       "      <th>3</th>\n",
       "      <td>1</td>\n",
       "      <td>1</td>\n",
       "      <td>1</td>\n",
       "      <td>2</td>\n",
       "      <td>2</td>\n",
       "      <td>3</td>\n",
       "      <td>0</td>\n",
       "      <td>2</td>\n",
       "      <td>3</td>\n",
       "    </tr>\n",
       "    <tr>\n",
       "      <th>4</th>\n",
       "      <td>0</td>\n",
       "      <td>3</td>\n",
       "      <td>0</td>\n",
       "      <td>2</td>\n",
       "      <td>2</td>\n",
       "      <td>2</td>\n",
       "      <td>1</td>\n",
       "      <td>6</td>\n",
       "      <td>1</td>\n",
       "    </tr>\n",
       "  </tbody>\n",
       "</table>\n",
       "</div>"
      ],
      "text/plain": [
       "   Survived  Pclass  Sex  Age  Embarked  Title  IsAlone  Age*Class  FareBand\n",
       "0         0       3    0    1         2      2        0          3         0\n",
       "1         1       1    1    2         0      3        0          2         3\n",
       "2         1       3    1    1         2      1        1          3         1\n",
       "3         1       1    1    2         2      3        0          2         3\n",
       "4         0       3    0    2         2      2        1          6         1"
      ]
     },
     "execution_count": 217,
     "metadata": {},
     "output_type": "execute_result"
    }
   ],
   "source": [
    "# Drop passenger ID column from and training set\n",
    "\n",
    "train = train.drop('PassengerId', axis = 1)\n",
    "train.head()"
   ]
  },
  {
   "cell_type": "code",
   "execution_count": 218,
   "metadata": {},
   "outputs": [
    {
     "data": {
      "text/html": [
       "<div>\n",
       "<style scoped>\n",
       "    .dataframe tbody tr th:only-of-type {\n",
       "        vertical-align: middle;\n",
       "    }\n",
       "\n",
       "    .dataframe tbody tr th {\n",
       "        vertical-align: top;\n",
       "    }\n",
       "\n",
       "    .dataframe thead th {\n",
       "        text-align: right;\n",
       "    }\n",
       "</style>\n",
       "<table border=\"1\" class=\"dataframe\">\n",
       "  <thead>\n",
       "    <tr style=\"text-align: right;\">\n",
       "      <th></th>\n",
       "      <th>Survived</th>\n",
       "      <th>Pclass</th>\n",
       "      <th>Sex</th>\n",
       "      <th>Age</th>\n",
       "      <th>Embarked</th>\n",
       "      <th>Title</th>\n",
       "      <th>IsAlone</th>\n",
       "      <th>Age*Class</th>\n",
       "      <th>FareBand</th>\n",
       "    </tr>\n",
       "  </thead>\n",
       "  <tbody>\n",
       "    <tr>\n",
       "      <th>0</th>\n",
       "      <td>0</td>\n",
       "      <td>3</td>\n",
       "      <td>0</td>\n",
       "      <td>1</td>\n",
       "      <td>2</td>\n",
       "      <td>2</td>\n",
       "      <td>0</td>\n",
       "      <td>3</td>\n",
       "      <td>0</td>\n",
       "    </tr>\n",
       "    <tr>\n",
       "      <th>1</th>\n",
       "      <td>1</td>\n",
       "      <td>1</td>\n",
       "      <td>1</td>\n",
       "      <td>2</td>\n",
       "      <td>0</td>\n",
       "      <td>3</td>\n",
       "      <td>0</td>\n",
       "      <td>2</td>\n",
       "      <td>3</td>\n",
       "    </tr>\n",
       "    <tr>\n",
       "      <th>2</th>\n",
       "      <td>1</td>\n",
       "      <td>3</td>\n",
       "      <td>1</td>\n",
       "      <td>1</td>\n",
       "      <td>2</td>\n",
       "      <td>1</td>\n",
       "      <td>1</td>\n",
       "      <td>3</td>\n",
       "      <td>1</td>\n",
       "    </tr>\n",
       "    <tr>\n",
       "      <th>3</th>\n",
       "      <td>1</td>\n",
       "      <td>1</td>\n",
       "      <td>1</td>\n",
       "      <td>2</td>\n",
       "      <td>2</td>\n",
       "      <td>3</td>\n",
       "      <td>0</td>\n",
       "      <td>2</td>\n",
       "      <td>3</td>\n",
       "    </tr>\n",
       "    <tr>\n",
       "      <th>4</th>\n",
       "      <td>0</td>\n",
       "      <td>3</td>\n",
       "      <td>0</td>\n",
       "      <td>2</td>\n",
       "      <td>2</td>\n",
       "      <td>2</td>\n",
       "      <td>1</td>\n",
       "      <td>6</td>\n",
       "      <td>1</td>\n",
       "    </tr>\n",
       "  </tbody>\n",
       "</table>\n",
       "</div>"
      ],
      "text/plain": [
       "   Survived  Pclass  Sex  Age  Embarked  Title  IsAlone  Age*Class  FareBand\n",
       "0         0       3    0    1         2      2        0          3         0\n",
       "1         1       1    1    2         0      3        0          2         3\n",
       "2         1       3    1    1         2      1        1          3         1\n",
       "3         1       1    1    2         2      3        0          2         3\n",
       "4         0       3    0    2         2      2        1          6         1"
      ]
     },
     "execution_count": 218,
     "metadata": {},
     "output_type": "execute_result"
    }
   ],
   "source": [
    "# Convert survived back to integer in the training set\n",
    "\n",
    "train['Survived'] = train['Survived'].astype('int')\n",
    "train.head()"
   ]
  },
  {
   "cell_type": "code",
   "execution_count": 219,
   "metadata": {
    "scrolled": true
   },
   "outputs": [
    {
     "data": {
      "text/html": [
       "<div>\n",
       "<style scoped>\n",
       "    .dataframe tbody tr th:only-of-type {\n",
       "        vertical-align: middle;\n",
       "    }\n",
       "\n",
       "    .dataframe tbody tr th {\n",
       "        vertical-align: top;\n",
       "    }\n",
       "\n",
       "    .dataframe thead th {\n",
       "        text-align: right;\n",
       "    }\n",
       "</style>\n",
       "<table border=\"1\" class=\"dataframe\">\n",
       "  <thead>\n",
       "    <tr style=\"text-align: right;\">\n",
       "      <th></th>\n",
       "      <th>PassengerId</th>\n",
       "      <th>Pclass</th>\n",
       "      <th>Sex</th>\n",
       "      <th>Age</th>\n",
       "      <th>Embarked</th>\n",
       "      <th>Title</th>\n",
       "      <th>IsAlone</th>\n",
       "      <th>Age*Class</th>\n",
       "      <th>FareBand</th>\n",
       "    </tr>\n",
       "  </thead>\n",
       "  <tbody>\n",
       "    <tr>\n",
       "      <th>0</th>\n",
       "      <td>892</td>\n",
       "      <td>3</td>\n",
       "      <td>0</td>\n",
       "      <td>2</td>\n",
       "      <td>1</td>\n",
       "      <td>2</td>\n",
       "      <td>1</td>\n",
       "      <td>6</td>\n",
       "      <td>0</td>\n",
       "    </tr>\n",
       "    <tr>\n",
       "      <th>1</th>\n",
       "      <td>893</td>\n",
       "      <td>3</td>\n",
       "      <td>1</td>\n",
       "      <td>2</td>\n",
       "      <td>2</td>\n",
       "      <td>3</td>\n",
       "      <td>0</td>\n",
       "      <td>6</td>\n",
       "      <td>0</td>\n",
       "    </tr>\n",
       "    <tr>\n",
       "      <th>2</th>\n",
       "      <td>894</td>\n",
       "      <td>2</td>\n",
       "      <td>0</td>\n",
       "      <td>3</td>\n",
       "      <td>1</td>\n",
       "      <td>2</td>\n",
       "      <td>1</td>\n",
       "      <td>6</td>\n",
       "      <td>1</td>\n",
       "    </tr>\n",
       "    <tr>\n",
       "      <th>3</th>\n",
       "      <td>895</td>\n",
       "      <td>3</td>\n",
       "      <td>0</td>\n",
       "      <td>1</td>\n",
       "      <td>2</td>\n",
       "      <td>2</td>\n",
       "      <td>1</td>\n",
       "      <td>3</td>\n",
       "      <td>1</td>\n",
       "    </tr>\n",
       "    <tr>\n",
       "      <th>4</th>\n",
       "      <td>896</td>\n",
       "      <td>3</td>\n",
       "      <td>1</td>\n",
       "      <td>1</td>\n",
       "      <td>2</td>\n",
       "      <td>3</td>\n",
       "      <td>0</td>\n",
       "      <td>3</td>\n",
       "      <td>1</td>\n",
       "    </tr>\n",
       "  </tbody>\n",
       "</table>\n",
       "</div>"
      ],
      "text/plain": [
       "   PassengerId  Pclass  Sex  Age  Embarked  Title  IsAlone  Age*Class  \\\n",
       "0          892       3    0    2         1      2        1          6   \n",
       "1          893       3    1    2         2      3        0          6   \n",
       "2          894       2    0    3         1      2        1          6   \n",
       "3          895       3    0    1         2      2        1          3   \n",
       "4          896       3    1    1         2      3        0          3   \n",
       "\n",
       "   FareBand  \n",
       "0         0  \n",
       "1         0  \n",
       "2         1  \n",
       "3         1  \n",
       "4         1  "
      ]
     },
     "execution_count": 219,
     "metadata": {},
     "output_type": "execute_result"
    }
   ],
   "source": [
    "test.head()"
   ]
  },
  {
   "cell_type": "code",
   "execution_count": 220,
   "metadata": {},
   "outputs": [],
   "source": [
    "# Drop passenger survived column from test set\n",
    "\n",
    "# test = test.drop('Survived', axis = 1)\n",
    "# test.head()"
   ]
  },
  {
   "cell_type": "markdown",
   "metadata": {},
   "source": [
    "Our dataframes are ready for modelling!"
   ]
  },
  {
   "cell_type": "markdown",
   "metadata": {},
   "source": [
    "# 6. Modelling\n",
    "\n",
    "Scikit-learn is one of the most popular libraries for machine learning in Python and that is what we will use in the modelling part of this project. \n",
    "\n",
    "Since Titanic is a classfication problem, we will need to use classfication models, also known as classifiers, to train on our model to make predictions. I highly recommend checking out this scikit-learn [documentation](https://scikit-learn.org/stable/index.html) for more information on the different machine learning models available in their library. I have chosen the following classifiers for the job:\n",
    "\n",
    "- Logistic regression\n",
    "- Support vector machines\n",
    "- K-nearest neighbours\n",
    "- Gaussian naive bayes\n",
    "- Perceptron\n",
    "- Linear SVC\n",
    "- Stochastic gradient descent\n",
    "- Decision tree\n",
    "- Random forest\n",
    "- CatBoost\n",
    "\n",
    "In this section of the notebook, I will fit the models to the training set as outlined above and evaluate their accuracy at making predictions. Once the best model is determined, I will also do hyperparameter tuning to further boost the performance of the best model."
   ]
  },
  {
   "cell_type": "markdown",
   "metadata": {},
   "source": [
    "## 6.1 Split training data\n",
    "\n",
    "We need to first split our training data into independent variables or predictor variables, represented by X as well as  dependent variable or response variable, represented by Y.\n",
    "\n",
    "Y_train is the survived column in our training set and X_train is the other columns in the training set excluding the Survived column. Our models will learn to classify survival, Y_train based on all X_train and make predictions on X_test."
   ]
  },
  {
   "cell_type": "code",
   "execution_count": 221,
   "metadata": {},
   "outputs": [
    {
     "name": "stdout",
     "output_type": "stream",
     "text": [
      "X_train shape:  (881, 8)\n",
      "Y_train shape:  (881,)\n",
      "X_test shape:  (418, 8)\n"
     ]
    }
   ],
   "source": [
    "X_train = train.drop('Survived', axis = 1)\n",
    "Y_train = train['Survived']\n",
    "X_test = test.drop('PassengerId', axis = 1).copy()#why only drop now\n",
    "print(\"X_train shape: \", X_train.shape)\n",
    "print(\"Y_train shape: \", Y_train.shape)\n",
    "print(\"X_test shape: \", X_test.shape)"
   ]
  },
  {
   "cell_type": "markdown",
   "metadata": {},
   "source": [
    "## 6.2 Fit model to data and make predictions\n",
    "\n",
    "This requires 3 simple steps: instantiate the model, fit the model to the training set and predict the data in test set. "
   ]
  },
  {
   "cell_type": "markdown",
   "metadata": {},
   "source": [
    "### 6.2.1 Logistic regression"
   ]
  },
  {
   "cell_type": "markdown",
   "metadata": {},
   "source": [
    " Explanation (not to be included in final submision): In section 6.2, we are training our models using the ENTIRE training set (every row that has a survive column). The models are UNTUNED.. We then calculate the accuracy of each model for the TRAINING set data. In other words we  determine how accurate each model is when it is asked to predict the outcome  (survival)  for the passengers on which it was trained. High scores might be an inidcation of which algorithms are likely to work well for predicting survival for passenges in the test set(this is the ultimate goal), although high scores could also indicate overfitting which is bad . These scores are summarised in the next section"
   ]
  },
  {
   "cell_type": "code",
   "execution_count": 222,
   "metadata": {},
   "outputs": [],
   "source": [
    "#rael\n",
    "logreg = LogisticRegression()\n",
    "LGtrained=logreg.fit(X_train, Y_train)\n",
    "acc_log = round(logreg.score(X_train, Y_train) * 100, 2)\n"
   ]
  },
  {
   "cell_type": "markdown",
   "metadata": {},
   "source": [
    "### 6.2.2 Support vector machines"
   ]
  },
  {
   "cell_type": "code",
   "execution_count": 223,
   "metadata": {},
   "outputs": [],
   "source": [
    "#rael\n",
    "svc = SVC()\n",
    "svc.fit(X_train, Y_train)\n",
    "acc_svc = round(svc.score(X_train, Y_train) * 100, 2)\n"
   ]
  },
  {
   "cell_type": "markdown",
   "metadata": {},
   "source": [
    "### 6.2.3 K-nearest neighbours (KNN)"
   ]
  },
  {
   "cell_type": "code",
   "execution_count": 224,
   "metadata": {},
   "outputs": [],
   "source": [
    "#rael\n",
    "\n",
    "knn = KNeighborsClassifier(n_neighbors = 5)\n",
    "KNNtrained=knn.fit(X_train, Y_train)\n",
    "acc_knn = round(knn.score(X_train, Y_train) * 100, 2)"
   ]
  },
  {
   "cell_type": "markdown",
   "metadata": {},
   "source": [
    "### 6.2.4 Gaussian naive bayes"
   ]
  },
  {
   "cell_type": "code",
   "execution_count": 225,
   "metadata": {},
   "outputs": [],
   "source": [
    "#rael\n",
    "gaussian = GaussianNB()\n",
    "gaussian.fit(X_train, Y_train)\n",
    "acc_gaussian = round(gaussian.score(X_train, Y_train) * 100, 2)"
   ]
  },
  {
   "cell_type": "markdown",
   "metadata": {},
   "source": [
    "### 6.2.5 Perceptron"
   ]
  },
  {
   "cell_type": "code",
   "execution_count": 226,
   "metadata": {},
   "outputs": [],
   "source": [
    "#rael\n",
    "perceptron = Perceptron()\n",
    "perceptron.fit(X_train, Y_train)\n",
    "acc_perceptron = round(perceptron.score(X_train, Y_train) * 100, 2)"
   ]
  },
  {
   "cell_type": "markdown",
   "metadata": {},
   "source": [
    "### 6.2.6 Linear SVC"
   ]
  },
  {
   "cell_type": "code",
   "execution_count": 227,
   "metadata": {},
   "outputs": [],
   "source": [
    "#rael\n",
    "linear_svc = LinearSVC()\n",
    "linear_svc.fit(X_train, Y_train)\n",
    "acc_linear_svc = round(linear_svc.score(X_train, Y_train) * 100, 2)"
   ]
  },
  {
   "cell_type": "markdown",
   "metadata": {},
   "source": [
    "### 6.2.7 Stochastic gradient descent"
   ]
  },
  {
   "cell_type": "code",
   "execution_count": 228,
   "metadata": {},
   "outputs": [],
   "source": [
    "#rael\n",
    "linear_svc = LinearSVC()\n",
    "linear_svc.fit(X_train, Y_train)\n",
    "acc_linear_svc = round(linear_svc.score(X_train, Y_train) * 100, 2)"
   ]
  },
  {
   "cell_type": "markdown",
   "metadata": {},
   "source": [
    "### 6.2.8 Decision tree"
   ]
  },
  {
   "cell_type": "code",
   "execution_count": 229,
   "metadata": {},
   "outputs": [],
   "source": [
    "#rael\n",
    "decision_tree = DecisionTreeClassifier()\n",
    "decision_tree.fit(X_train, Y_train)\n",
    "acc_decision_tree = round(decision_tree.score(X_train, Y_train) * 100, 2)"
   ]
  },
  {
   "cell_type": "markdown",
   "metadata": {},
   "source": [
    "### 6.2.9 Random forest"
   ]
  },
  {
   "cell_type": "code",
   "execution_count": 230,
   "metadata": {},
   "outputs": [],
   "source": [
    "#rael\n",
    "random_forest = RandomForestClassifier(n_estimators = 100)\n",
    "random_forest.fit(X_train, Y_train)\n",
    "acc_random_forest = round(random_forest.score(X_train, Y_train) * 100, 2)"
   ]
  },
  {
   "cell_type": "markdown",
   "metadata": {},
   "source": [
    "### 6.2.10 CatBoost"
   ]
  },
  {
   "cell_type": "code",
   "execution_count": 231,
   "metadata": {},
   "outputs": [
    {
     "name": "stdout",
     "output_type": "stream",
     "text": [
      "Learning rate set to 0.00976\n",
      "0:\tlearn: 0.6866764\ttotal: 1.08ms\tremaining: 1.08s\n",
      "1:\tlearn: 0.6816346\ttotal: 1.85ms\tremaining: 925ms\n",
      "2:\tlearn: 0.6747481\ttotal: 2.58ms\tremaining: 859ms\n",
      "3:\tlearn: 0.6688221\ttotal: 3.35ms\tremaining: 834ms\n",
      "4:\tlearn: 0.6631838\ttotal: 4.07ms\tremaining: 810ms\n",
      "5:\tlearn: 0.6574618\ttotal: 4.77ms\tremaining: 791ms\n",
      "6:\tlearn: 0.6511476\ttotal: 5.52ms\tremaining: 783ms\n",
      "7:\tlearn: 0.6453753\ttotal: 6.29ms\tremaining: 780ms\n",
      "8:\tlearn: 0.6405115\ttotal: 6.92ms\tremaining: 762ms\n",
      "9:\tlearn: 0.6351087\ttotal: 7.7ms\tremaining: 762ms\n",
      "10:\tlearn: 0.6302825\ttotal: 8.5ms\tremaining: 764ms\n",
      "11:\tlearn: 0.6248235\ttotal: 9.27ms\tremaining: 763ms\n",
      "12:\tlearn: 0.6208872\ttotal: 9.88ms\tremaining: 750ms\n",
      "13:\tlearn: 0.6160073\ttotal: 10.7ms\tremaining: 753ms\n",
      "14:\tlearn: 0.6118168\ttotal: 11.3ms\tremaining: 744ms\n",
      "15:\tlearn: 0.6074377\ttotal: 12.1ms\tremaining: 744ms\n",
      "16:\tlearn: 0.6031056\ttotal: 12.8ms\tremaining: 741ms\n",
      "17:\tlearn: 0.5984166\ttotal: 13.5ms\tremaining: 739ms\n",
      "18:\tlearn: 0.5937733\ttotal: 14.3ms\tremaining: 740ms\n",
      "19:\tlearn: 0.5904221\ttotal: 15ms\tremaining: 735ms\n",
      "20:\tlearn: 0.5860115\ttotal: 15.7ms\tremaining: 732ms\n",
      "21:\tlearn: 0.5823515\ttotal: 16.4ms\tremaining: 730ms\n",
      "22:\tlearn: 0.5782125\ttotal: 17.2ms\tremaining: 729ms\n",
      "23:\tlearn: 0.5741901\ttotal: 18ms\tremaining: 731ms\n",
      "24:\tlearn: 0.5701966\ttotal: 18.7ms\tremaining: 729ms\n",
      "25:\tlearn: 0.5665570\ttotal: 19.5ms\tremaining: 729ms\n",
      "26:\tlearn: 0.5635801\ttotal: 20.3ms\tremaining: 730ms\n",
      "27:\tlearn: 0.5595362\ttotal: 21.2ms\tremaining: 736ms\n",
      "28:\tlearn: 0.5557474\ttotal: 22ms\tremaining: 738ms\n",
      "29:\tlearn: 0.5520635\ttotal: 22.9ms\tremaining: 739ms\n",
      "30:\tlearn: 0.5484380\ttotal: 24.2ms\tremaining: 757ms\n",
      "31:\tlearn: 0.5454538\ttotal: 24.9ms\tremaining: 754ms\n",
      "32:\tlearn: 0.5423126\ttotal: 25.8ms\tremaining: 757ms\n",
      "33:\tlearn: 0.5396072\ttotal: 26.8ms\tremaining: 761ms\n",
      "34:\tlearn: 0.5363801\ttotal: 27.6ms\tremaining: 761ms\n",
      "35:\tlearn: 0.5340439\ttotal: 28.3ms\tremaining: 757ms\n",
      "36:\tlearn: 0.5306686\ttotal: 29.1ms\tremaining: 757ms\n",
      "37:\tlearn: 0.5277016\ttotal: 29.9ms\tremaining: 756ms\n",
      "38:\tlearn: 0.5261476\ttotal: 30.4ms\tremaining: 749ms\n",
      "39:\tlearn: 0.5229417\ttotal: 31.1ms\tremaining: 747ms\n",
      "40:\tlearn: 0.5208674\ttotal: 31.8ms\tremaining: 743ms\n",
      "41:\tlearn: 0.5178792\ttotal: 32.6ms\tremaining: 743ms\n",
      "42:\tlearn: 0.5156500\ttotal: 33.3ms\tremaining: 741ms\n",
      "43:\tlearn: 0.5129390\ttotal: 34.1ms\tremaining: 741ms\n",
      "44:\tlearn: 0.5100603\ttotal: 34.9ms\tremaining: 740ms\n",
      "45:\tlearn: 0.5073990\ttotal: 35.8ms\tremaining: 742ms\n",
      "46:\tlearn: 0.5048360\ttotal: 36.7ms\tremaining: 745ms\n",
      "47:\tlearn: 0.5023345\ttotal: 37.5ms\tremaining: 744ms\n",
      "48:\tlearn: 0.4999473\ttotal: 38.4ms\tremaining: 745ms\n",
      "49:\tlearn: 0.4976457\ttotal: 39.3ms\tremaining: 746ms\n",
      "50:\tlearn: 0.4953740\ttotal: 40.2ms\tremaining: 747ms\n",
      "51:\tlearn: 0.4930790\ttotal: 41ms\tremaining: 747ms\n",
      "52:\tlearn: 0.4911776\ttotal: 41.9ms\tremaining: 748ms\n",
      "53:\tlearn: 0.4891888\ttotal: 42.7ms\tremaining: 748ms\n",
      "54:\tlearn: 0.4870659\ttotal: 43.5ms\tremaining: 748ms\n",
      "55:\tlearn: 0.4849137\ttotal: 44.3ms\tremaining: 747ms\n",
      "56:\tlearn: 0.4828513\ttotal: 45.2ms\tremaining: 748ms\n",
      "57:\tlearn: 0.4808727\ttotal: 46.1ms\tremaining: 749ms\n",
      "58:\tlearn: 0.4791725\ttotal: 46.9ms\tremaining: 747ms\n",
      "59:\tlearn: 0.4777463\ttotal: 47.7ms\tremaining: 747ms\n",
      "60:\tlearn: 0.4758962\ttotal: 48.5ms\tremaining: 746ms\n",
      "61:\tlearn: 0.4749210\ttotal: 49.2ms\tremaining: 745ms\n",
      "62:\tlearn: 0.4731066\ttotal: 50.1ms\tremaining: 745ms\n",
      "63:\tlearn: 0.4713482\ttotal: 50.9ms\tremaining: 744ms\n",
      "64:\tlearn: 0.4706015\ttotal: 51.5ms\tremaining: 741ms\n",
      "65:\tlearn: 0.4690350\ttotal: 52.5ms\tremaining: 742ms\n",
      "66:\tlearn: 0.4675332\ttotal: 53.4ms\tremaining: 743ms\n",
      "67:\tlearn: 0.4658737\ttotal: 54.3ms\tremaining: 744ms\n",
      "68:\tlearn: 0.4641861\ttotal: 55.1ms\tremaining: 744ms\n",
      "69:\tlearn: 0.4627950\ttotal: 56.1ms\tremaining: 746ms\n",
      "70:\tlearn: 0.4616396\ttotal: 57ms\tremaining: 746ms\n",
      "71:\tlearn: 0.4601382\ttotal: 57.8ms\tremaining: 745ms\n",
      "72:\tlearn: 0.4587780\ttotal: 58.8ms\tremaining: 747ms\n",
      "73:\tlearn: 0.4580024\ttotal: 59.5ms\tremaining: 745ms\n",
      "74:\tlearn: 0.4567240\ttotal: 60.3ms\tremaining: 744ms\n",
      "75:\tlearn: 0.4560197\ttotal: 61ms\tremaining: 742ms\n",
      "76:\tlearn: 0.4546948\ttotal: 61.9ms\tremaining: 742ms\n",
      "77:\tlearn: 0.4531789\ttotal: 62.7ms\tremaining: 741ms\n",
      "78:\tlearn: 0.4524960\ttotal: 63.4ms\tremaining: 739ms\n",
      "79:\tlearn: 0.4511948\ttotal: 64.1ms\tremaining: 737ms\n",
      "80:\tlearn: 0.4503177\ttotal: 65.1ms\tremaining: 738ms\n",
      "81:\tlearn: 0.4490463\ttotal: 65.8ms\tremaining: 737ms\n",
      "82:\tlearn: 0.4482030\ttotal: 66.5ms\tremaining: 734ms\n",
      "83:\tlearn: 0.4470678\ttotal: 67.4ms\tremaining: 735ms\n",
      "84:\tlearn: 0.4458578\ttotal: 68.2ms\tremaining: 734ms\n",
      "85:\tlearn: 0.4445235\ttotal: 69.1ms\tremaining: 734ms\n",
      "86:\tlearn: 0.4433831\ttotal: 69.8ms\tremaining: 733ms\n",
      "87:\tlearn: 0.4423200\ttotal: 70.6ms\tremaining: 731ms\n",
      "88:\tlearn: 0.4415492\ttotal: 71.3ms\tremaining: 730ms\n",
      "89:\tlearn: 0.4404101\ttotal: 72.1ms\tremaining: 729ms\n",
      "90:\tlearn: 0.4393141\ttotal: 72.8ms\tremaining: 728ms\n",
      "91:\tlearn: 0.4385735\ttotal: 73.5ms\tremaining: 726ms\n",
      "92:\tlearn: 0.4377052\ttotal: 74.3ms\tremaining: 724ms\n",
      "93:\tlearn: 0.4365949\ttotal: 75ms\tremaining: 723ms\n",
      "94:\tlearn: 0.4356254\ttotal: 75.8ms\tremaining: 722ms\n",
      "95:\tlearn: 0.4345669\ttotal: 76.6ms\tremaining: 721ms\n",
      "96:\tlearn: 0.4338762\ttotal: 77.2ms\tremaining: 719ms\n",
      "97:\tlearn: 0.4326065\ttotal: 78ms\tremaining: 718ms\n",
      "98:\tlearn: 0.4315460\ttotal: 78.8ms\tremaining: 717ms\n",
      "99:\tlearn: 0.4305337\ttotal: 79.5ms\tremaining: 716ms\n",
      "100:\tlearn: 0.4297196\ttotal: 80.4ms\tremaining: 715ms\n",
      "101:\tlearn: 0.4288769\ttotal: 81.2ms\tremaining: 715ms\n",
      "102:\tlearn: 0.4278760\ttotal: 82ms\tremaining: 714ms\n",
      "103:\tlearn: 0.4270398\ttotal: 82.8ms\tremaining: 714ms\n",
      "104:\tlearn: 0.4262219\ttotal: 83.7ms\tremaining: 713ms\n",
      "105:\tlearn: 0.4255028\ttotal: 84.4ms\tremaining: 712ms\n",
      "106:\tlearn: 0.4246246\ttotal: 85.1ms\tremaining: 710ms\n",
      "107:\tlearn: 0.4239655\ttotal: 86.1ms\tremaining: 711ms\n",
      "108:\tlearn: 0.4235955\ttotal: 86.8ms\tremaining: 710ms\n",
      "109:\tlearn: 0.4232980\ttotal: 87.4ms\tremaining: 707ms\n",
      "110:\tlearn: 0.4229372\ttotal: 88ms\tremaining: 705ms\n",
      "111:\tlearn: 0.4221081\ttotal: 88.9ms\tremaining: 705ms\n",
      "112:\tlearn: 0.4215913\ttotal: 89.6ms\tremaining: 704ms\n",
      "113:\tlearn: 0.4212036\ttotal: 90.4ms\tremaining: 702ms\n",
      "114:\tlearn: 0.4206962\ttotal: 91.1ms\tremaining: 701ms\n",
      "115:\tlearn: 0.4196619\ttotal: 91.8ms\tremaining: 700ms\n",
      "116:\tlearn: 0.4191692\ttotal: 92.6ms\tremaining: 699ms\n",
      "117:\tlearn: 0.4187228\ttotal: 93.4ms\tremaining: 698ms\n",
      "118:\tlearn: 0.4180237\ttotal: 94.1ms\tremaining: 697ms\n",
      "119:\tlearn: 0.4173808\ttotal: 95ms\tremaining: 697ms\n",
      "120:\tlearn: 0.4169028\ttotal: 95.9ms\tremaining: 697ms\n",
      "121:\tlearn: 0.4165026\ttotal: 96.8ms\tremaining: 696ms\n",
      "122:\tlearn: 0.4157471\ttotal: 97.6ms\tremaining: 696ms\n",
      "123:\tlearn: 0.4155581\ttotal: 98.1ms\tremaining: 693ms\n",
      "124:\tlearn: 0.4148737\ttotal: 98.9ms\tremaining: 692ms\n",
      "125:\tlearn: 0.4143229\ttotal: 99.7ms\tremaining: 692ms\n",
      "126:\tlearn: 0.4137683\ttotal: 100ms\tremaining: 690ms\n",
      "127:\tlearn: 0.4135963\ttotal: 101ms\tremaining: 688ms\n",
      "128:\tlearn: 0.4133092\ttotal: 101ms\tremaining: 685ms\n",
      "129:\tlearn: 0.4128885\ttotal: 102ms\tremaining: 685ms\n",
      "130:\tlearn: 0.4125139\ttotal: 103ms\tremaining: 684ms\n",
      "131:\tlearn: 0.4122970\ttotal: 104ms\tremaining: 682ms\n",
      "132:\tlearn: 0.4115676\ttotal: 105ms\tremaining: 681ms\n",
      "133:\tlearn: 0.4111330\ttotal: 105ms\tremaining: 681ms\n",
      "134:\tlearn: 0.4104870\ttotal: 106ms\tremaining: 681ms\n",
      "135:\tlearn: 0.4098144\ttotal: 107ms\tremaining: 681ms\n",
      "136:\tlearn: 0.4092561\ttotal: 108ms\tremaining: 680ms\n",
      "137:\tlearn: 0.4087350\ttotal: 109ms\tremaining: 679ms\n",
      "138:\tlearn: 0.4081607\ttotal: 109ms\tremaining: 678ms\n",
      "139:\tlearn: 0.4075037\ttotal: 110ms\tremaining: 678ms\n",
      "140:\tlearn: 0.4069490\ttotal: 111ms\tremaining: 677ms\n",
      "141:\tlearn: 0.4067698\ttotal: 112ms\tremaining: 677ms\n",
      "142:\tlearn: 0.4063139\ttotal: 113ms\tremaining: 676ms\n",
      "143:\tlearn: 0.4057559\ttotal: 114ms\tremaining: 675ms\n",
      "144:\tlearn: 0.4053922\ttotal: 115ms\tremaining: 675ms\n",
      "145:\tlearn: 0.4049362\ttotal: 115ms\tremaining: 674ms\n",
      "146:\tlearn: 0.4045552\ttotal: 116ms\tremaining: 673ms\n",
      "147:\tlearn: 0.4040372\ttotal: 117ms\tremaining: 672ms\n",
      "148:\tlearn: 0.4037528\ttotal: 118ms\tremaining: 672ms\n",
      "149:\tlearn: 0.4036100\ttotal: 118ms\tremaining: 670ms\n",
      "150:\tlearn: 0.4031849\ttotal: 119ms\tremaining: 669ms\n",
      "151:\tlearn: 0.4025846\ttotal: 120ms\tremaining: 668ms\n",
      "152:\tlearn: 0.4019836\ttotal: 120ms\tremaining: 667ms\n",
      "153:\tlearn: 0.4014025\ttotal: 121ms\tremaining: 666ms\n",
      "154:\tlearn: 0.4011532\ttotal: 122ms\tremaining: 665ms\n",
      "155:\tlearn: 0.4005769\ttotal: 123ms\tremaining: 664ms\n",
      "156:\tlearn: 0.4001738\ttotal: 124ms\tremaining: 663ms\n",
      "157:\tlearn: 0.3998030\ttotal: 124ms\tremaining: 662ms\n",
      "158:\tlearn: 0.3996774\ttotal: 125ms\tremaining: 661ms\n",
      "159:\tlearn: 0.3993248\ttotal: 126ms\tremaining: 661ms\n",
      "160:\tlearn: 0.3987753\ttotal: 127ms\tremaining: 661ms\n",
      "161:\tlearn: 0.3983744\ttotal: 128ms\tremaining: 660ms\n",
      "162:\tlearn: 0.3982885\ttotal: 128ms\tremaining: 657ms\n",
      "163:\tlearn: 0.3977160\ttotal: 129ms\tremaining: 656ms\n",
      "164:\tlearn: 0.3973331\ttotal: 129ms\tremaining: 655ms\n",
      "165:\tlearn: 0.3972753\ttotal: 130ms\tremaining: 653ms\n",
      "166:\tlearn: 0.3970963\ttotal: 131ms\tremaining: 651ms\n",
      "167:\tlearn: 0.3966621\ttotal: 131ms\tremaining: 650ms\n",
      "168:\tlearn: 0.3963497\ttotal: 132ms\tremaining: 649ms\n",
      "169:\tlearn: 0.3958572\ttotal: 133ms\tremaining: 649ms\n",
      "170:\tlearn: 0.3957074\ttotal: 134ms\tremaining: 648ms\n",
      "171:\tlearn: 0.3955359\ttotal: 134ms\tremaining: 646ms\n",
      "172:\tlearn: 0.3954672\ttotal: 135ms\tremaining: 644ms\n",
      "173:\tlearn: 0.3951933\ttotal: 135ms\tremaining: 643ms\n",
      "174:\tlearn: 0.3948824\ttotal: 136ms\tremaining: 642ms\n",
      "175:\tlearn: 0.3948085\ttotal: 137ms\tremaining: 640ms\n",
      "176:\tlearn: 0.3944199\ttotal: 137ms\tremaining: 639ms\n",
      "177:\tlearn: 0.3939697\ttotal: 138ms\tremaining: 638ms\n",
      "178:\tlearn: 0.3938751\ttotal: 139ms\tremaining: 636ms\n",
      "179:\tlearn: 0.3937843\ttotal: 139ms\tremaining: 634ms\n",
      "180:\tlearn: 0.3934545\ttotal: 140ms\tremaining: 634ms\n",
      "181:\tlearn: 0.3932324\ttotal: 141ms\tremaining: 633ms\n",
      "182:\tlearn: 0.3927571\ttotal: 142ms\tremaining: 632ms\n",
      "183:\tlearn: 0.3926084\ttotal: 142ms\tremaining: 631ms\n",
      "184:\tlearn: 0.3922605\ttotal: 143ms\tremaining: 630ms\n",
      "185:\tlearn: 0.3917964\ttotal: 144ms\tremaining: 630ms\n",
      "186:\tlearn: 0.3915341\ttotal: 145ms\tremaining: 628ms\n",
      "187:\tlearn: 0.3911710\ttotal: 145ms\tremaining: 628ms\n",
      "188:\tlearn: 0.3907597\ttotal: 146ms\tremaining: 627ms\n",
      "189:\tlearn: 0.3906296\ttotal: 147ms\tremaining: 625ms\n",
      "190:\tlearn: 0.3904688\ttotal: 147ms\tremaining: 624ms\n",
      "191:\tlearn: 0.3900094\ttotal: 148ms\tremaining: 624ms\n",
      "192:\tlearn: 0.3897282\ttotal: 149ms\tremaining: 623ms\n",
      "193:\tlearn: 0.3896787\ttotal: 149ms\tremaining: 621ms\n",
      "194:\tlearn: 0.3893176\ttotal: 150ms\tremaining: 620ms\n",
      "195:\tlearn: 0.3892420\ttotal: 151ms\tremaining: 619ms\n",
      "196:\tlearn: 0.3888731\ttotal: 152ms\tremaining: 619ms\n",
      "197:\tlearn: 0.3885375\ttotal: 153ms\tremaining: 618ms\n",
      "198:\tlearn: 0.3881874\ttotal: 153ms\tremaining: 617ms\n",
      "199:\tlearn: 0.3875945\ttotal: 154ms\tremaining: 616ms\n",
      "200:\tlearn: 0.3872808\ttotal: 155ms\tremaining: 616ms\n",
      "201:\tlearn: 0.3869979\ttotal: 156ms\tremaining: 617ms\n",
      "202:\tlearn: 0.3866941\ttotal: 157ms\tremaining: 616ms\n",
      "203:\tlearn: 0.3864364\ttotal: 158ms\tremaining: 615ms\n",
      "204:\tlearn: 0.3860959\ttotal: 158ms\tremaining: 614ms\n",
      "205:\tlearn: 0.3859539\ttotal: 159ms\tremaining: 614ms\n",
      "206:\tlearn: 0.3856132\ttotal: 160ms\tremaining: 612ms\n",
      "207:\tlearn: 0.3853000\ttotal: 161ms\tremaining: 612ms\n",
      "208:\tlearn: 0.3849888\ttotal: 161ms\tremaining: 611ms\n",
      "209:\tlearn: 0.3847836\ttotal: 162ms\tremaining: 610ms\n",
      "210:\tlearn: 0.3845630\ttotal: 163ms\tremaining: 609ms\n",
      "211:\tlearn: 0.3843592\ttotal: 164ms\tremaining: 609ms\n",
      "212:\tlearn: 0.3842026\ttotal: 164ms\tremaining: 608ms\n",
      "213:\tlearn: 0.3840619\ttotal: 165ms\tremaining: 607ms\n",
      "214:\tlearn: 0.3837653\ttotal: 166ms\tremaining: 606ms\n",
      "215:\tlearn: 0.3834612\ttotal: 167ms\tremaining: 605ms\n",
      "216:\tlearn: 0.3830996\ttotal: 167ms\tremaining: 604ms\n",
      "217:\tlearn: 0.3828777\ttotal: 168ms\tremaining: 603ms\n",
      "218:\tlearn: 0.3826639\ttotal: 169ms\tremaining: 603ms\n",
      "219:\tlearn: 0.3824537\ttotal: 170ms\tremaining: 602ms\n",
      "220:\tlearn: 0.3822903\ttotal: 171ms\tremaining: 603ms\n",
      "221:\tlearn: 0.3820652\ttotal: 172ms\tremaining: 602ms\n",
      "222:\tlearn: 0.3819912\ttotal: 172ms\tremaining: 601ms\n",
      "223:\tlearn: 0.3818314\ttotal: 173ms\tremaining: 600ms\n",
      "224:\tlearn: 0.3815483\ttotal: 174ms\tremaining: 599ms\n",
      "225:\tlearn: 0.3813220\ttotal: 175ms\tremaining: 599ms\n",
      "226:\tlearn: 0.3811721\ttotal: 176ms\tremaining: 598ms\n",
      "227:\tlearn: 0.3811608\ttotal: 176ms\tremaining: 596ms\n",
      "228:\tlearn: 0.3810035\ttotal: 177ms\tremaining: 595ms\n",
      "229:\tlearn: 0.3809731\ttotal: 177ms\tremaining: 594ms\n",
      "230:\tlearn: 0.3807130\ttotal: 178ms\tremaining: 593ms\n",
      "231:\tlearn: 0.3806557\ttotal: 179ms\tremaining: 592ms\n",
      "232:\tlearn: 0.3802877\ttotal: 180ms\tremaining: 592ms\n",
      "233:\tlearn: 0.3800902\ttotal: 181ms\tremaining: 591ms\n",
      "234:\tlearn: 0.3798551\ttotal: 181ms\tremaining: 590ms\n",
      "235:\tlearn: 0.3797283\ttotal: 182ms\tremaining: 589ms\n",
      "236:\tlearn: 0.3794367\ttotal: 183ms\tremaining: 589ms\n",
      "237:\tlearn: 0.3791479\ttotal: 184ms\tremaining: 588ms\n",
      "238:\tlearn: 0.3789969\ttotal: 185ms\tremaining: 588ms\n",
      "239:\tlearn: 0.3787250\ttotal: 185ms\tremaining: 587ms\n",
      "240:\tlearn: 0.3786912\ttotal: 186ms\tremaining: 586ms\n",
      "241:\tlearn: 0.3784937\ttotal: 187ms\tremaining: 585ms\n",
      "242:\tlearn: 0.3782232\ttotal: 188ms\tremaining: 584ms\n",
      "243:\tlearn: 0.3780173\ttotal: 188ms\tremaining: 584ms\n",
      "244:\tlearn: 0.3780132\ttotal: 189ms\tremaining: 582ms\n",
      "245:\tlearn: 0.3778455\ttotal: 190ms\tremaining: 582ms\n",
      "246:\tlearn: 0.3776649\ttotal: 191ms\tremaining: 581ms\n",
      "247:\tlearn: 0.3774295\ttotal: 191ms\tremaining: 580ms\n",
      "248:\tlearn: 0.3773073\ttotal: 192ms\tremaining: 580ms\n",
      "249:\tlearn: 0.3771770\ttotal: 193ms\tremaining: 579ms\n",
      "250:\tlearn: 0.3770063\ttotal: 194ms\tremaining: 578ms\n",
      "251:\tlearn: 0.3767320\ttotal: 195ms\tremaining: 578ms\n",
      "252:\tlearn: 0.3763928\ttotal: 195ms\tremaining: 577ms\n",
      "253:\tlearn: 0.3761489\ttotal: 196ms\tremaining: 577ms\n",
      "254:\tlearn: 0.3759289\ttotal: 197ms\tremaining: 576ms\n",
      "255:\tlearn: 0.3759101\ttotal: 198ms\tremaining: 575ms\n",
      "256:\tlearn: 0.3756701\ttotal: 199ms\tremaining: 575ms\n",
      "257:\tlearn: 0.3756342\ttotal: 200ms\tremaining: 574ms\n",
      "258:\tlearn: 0.3754458\ttotal: 201ms\tremaining: 574ms\n",
      "259:\tlearn: 0.3752364\ttotal: 201ms\tremaining: 573ms\n",
      "260:\tlearn: 0.3751743\ttotal: 202ms\tremaining: 572ms\n",
      "261:\tlearn: 0.3749130\ttotal: 203ms\tremaining: 572ms\n",
      "262:\tlearn: 0.3747698\ttotal: 204ms\tremaining: 571ms\n",
      "263:\tlearn: 0.3745653\ttotal: 205ms\tremaining: 570ms\n",
      "264:\tlearn: 0.3745114\ttotal: 205ms\tremaining: 569ms\n",
      "265:\tlearn: 0.3743872\ttotal: 206ms\tremaining: 568ms\n",
      "266:\tlearn: 0.3741669\ttotal: 207ms\tremaining: 568ms\n",
      "267:\tlearn: 0.3739634\ttotal: 208ms\tremaining: 567ms\n",
      "268:\tlearn: 0.3736479\ttotal: 208ms\tremaining: 566ms\n",
      "269:\tlearn: 0.3736021\ttotal: 209ms\tremaining: 565ms\n",
      "270:\tlearn: 0.3733425\ttotal: 210ms\tremaining: 564ms\n",
      "271:\tlearn: 0.3733207\ttotal: 210ms\tremaining: 563ms\n",
      "272:\tlearn: 0.3732124\ttotal: 211ms\tremaining: 562ms\n",
      "273:\tlearn: 0.3731651\ttotal: 212ms\tremaining: 561ms\n",
      "274:\tlearn: 0.3731534\ttotal: 212ms\tremaining: 560ms\n",
      "275:\tlearn: 0.3729543\ttotal: 213ms\tremaining: 559ms\n",
      "276:\tlearn: 0.3727640\ttotal: 214ms\tremaining: 559ms\n",
      "277:\tlearn: 0.3725477\ttotal: 215ms\tremaining: 558ms\n",
      "278:\tlearn: 0.3723081\ttotal: 216ms\tremaining: 557ms\n",
      "279:\tlearn: 0.3721389\ttotal: 217ms\tremaining: 557ms\n",
      "280:\tlearn: 0.3720131\ttotal: 217ms\tremaining: 556ms\n",
      "281:\tlearn: 0.3718093\ttotal: 218ms\tremaining: 555ms\n",
      "282:\tlearn: 0.3716193\ttotal: 219ms\tremaining: 555ms\n",
      "283:\tlearn: 0.3713524\ttotal: 220ms\tremaining: 554ms\n",
      "284:\tlearn: 0.3712011\ttotal: 220ms\tremaining: 553ms\n",
      "285:\tlearn: 0.3709495\ttotal: 221ms\tremaining: 552ms\n",
      "286:\tlearn: 0.3707722\ttotal: 222ms\tremaining: 551ms\n",
      "287:\tlearn: 0.3706221\ttotal: 223ms\tremaining: 551ms\n",
      "288:\tlearn: 0.3704600\ttotal: 223ms\tremaining: 550ms\n",
      "289:\tlearn: 0.3702564\ttotal: 224ms\tremaining: 549ms\n",
      "290:\tlearn: 0.3701149\ttotal: 225ms\tremaining: 548ms\n",
      "291:\tlearn: 0.3699444\ttotal: 226ms\tremaining: 547ms\n",
      "292:\tlearn: 0.3697355\ttotal: 226ms\tremaining: 546ms\n",
      "293:\tlearn: 0.3695692\ttotal: 227ms\tremaining: 546ms\n",
      "294:\tlearn: 0.3694350\ttotal: 228ms\tremaining: 545ms\n",
      "295:\tlearn: 0.3692145\ttotal: 229ms\tremaining: 545ms\n",
      "296:\tlearn: 0.3692019\ttotal: 230ms\tremaining: 544ms\n",
      "297:\tlearn: 0.3691307\ttotal: 230ms\tremaining: 543ms\n",
      "298:\tlearn: 0.3689517\ttotal: 231ms\tremaining: 542ms\n",
      "299:\tlearn: 0.3688116\ttotal: 232ms\tremaining: 541ms\n",
      "300:\tlearn: 0.3685673\ttotal: 233ms\tremaining: 540ms\n",
      "301:\tlearn: 0.3683781\ttotal: 234ms\tremaining: 540ms\n",
      "302:\tlearn: 0.3681182\ttotal: 234ms\tremaining: 539ms\n",
      "303:\tlearn: 0.3679516\ttotal: 235ms\tremaining: 538ms\n",
      "304:\tlearn: 0.3678378\ttotal: 236ms\tremaining: 537ms\n",
      "305:\tlearn: 0.3677305\ttotal: 237ms\tremaining: 537ms\n",
      "306:\tlearn: 0.3676352\ttotal: 237ms\tremaining: 536ms\n",
      "307:\tlearn: 0.3674858\ttotal: 238ms\tremaining: 535ms\n",
      "308:\tlearn: 0.3672868\ttotal: 239ms\tremaining: 534ms\n",
      "309:\tlearn: 0.3671184\ttotal: 240ms\tremaining: 533ms\n",
      "310:\tlearn: 0.3670659\ttotal: 240ms\tremaining: 533ms\n",
      "311:\tlearn: 0.3669663\ttotal: 241ms\tremaining: 532ms\n",
      "312:\tlearn: 0.3667841\ttotal: 242ms\tremaining: 531ms\n",
      "313:\tlearn: 0.3667414\ttotal: 243ms\tremaining: 530ms\n",
      "314:\tlearn: 0.3666096\ttotal: 244ms\tremaining: 530ms\n",
      "315:\tlearn: 0.3664869\ttotal: 244ms\tremaining: 529ms\n",
      "316:\tlearn: 0.3662962\ttotal: 245ms\tremaining: 528ms\n",
      "317:\tlearn: 0.3660634\ttotal: 246ms\tremaining: 527ms\n",
      "318:\tlearn: 0.3659707\ttotal: 247ms\tremaining: 527ms\n",
      "319:\tlearn: 0.3657489\ttotal: 247ms\tremaining: 526ms\n",
      "320:\tlearn: 0.3655795\ttotal: 248ms\tremaining: 525ms\n",
      "321:\tlearn: 0.3654825\ttotal: 249ms\tremaining: 524ms\n",
      "322:\tlearn: 0.3653108\ttotal: 250ms\tremaining: 523ms\n",
      "323:\tlearn: 0.3652644\ttotal: 250ms\tremaining: 522ms\n",
      "324:\tlearn: 0.3651382\ttotal: 251ms\tremaining: 522ms\n",
      "325:\tlearn: 0.3650595\ttotal: 252ms\tremaining: 521ms\n",
      "326:\tlearn: 0.3649039\ttotal: 253ms\tremaining: 520ms\n",
      "327:\tlearn: 0.3648673\ttotal: 253ms\tremaining: 519ms\n",
      "328:\tlearn: 0.3646325\ttotal: 254ms\tremaining: 518ms\n",
      "329:\tlearn: 0.3644822\ttotal: 255ms\tremaining: 518ms\n",
      "330:\tlearn: 0.3643824\ttotal: 256ms\tremaining: 517ms\n",
      "331:\tlearn: 0.3642901\ttotal: 257ms\tremaining: 517ms\n",
      "332:\tlearn: 0.3641247\ttotal: 258ms\tremaining: 516ms\n",
      "333:\tlearn: 0.3640353\ttotal: 258ms\tremaining: 515ms\n",
      "334:\tlearn: 0.3638872\ttotal: 259ms\tremaining: 515ms\n",
      "335:\tlearn: 0.3637746\ttotal: 260ms\tremaining: 514ms\n",
      "336:\tlearn: 0.3637665\ttotal: 261ms\tremaining: 513ms\n",
      "337:\tlearn: 0.3637503\ttotal: 261ms\tremaining: 512ms\n",
      "338:\tlearn: 0.3637280\ttotal: 262ms\tremaining: 511ms\n",
      "339:\tlearn: 0.3637194\ttotal: 263ms\tremaining: 510ms\n",
      "340:\tlearn: 0.3635417\ttotal: 263ms\tremaining: 509ms\n",
      "341:\tlearn: 0.3633314\ttotal: 264ms\tremaining: 508ms\n",
      "342:\tlearn: 0.3633170\ttotal: 265ms\tremaining: 507ms\n",
      "343:\tlearn: 0.3632011\ttotal: 265ms\tremaining: 506ms\n",
      "344:\tlearn: 0.3630685\ttotal: 266ms\tremaining: 506ms\n",
      "345:\tlearn: 0.3630154\ttotal: 267ms\tremaining: 505ms\n",
      "346:\tlearn: 0.3629414\ttotal: 268ms\tremaining: 504ms\n",
      "347:\tlearn: 0.3628302\ttotal: 269ms\tremaining: 503ms\n",
      "348:\tlearn: 0.3628251\ttotal: 269ms\tremaining: 502ms\n",
      "349:\tlearn: 0.3627047\ttotal: 270ms\tremaining: 501ms\n",
      "350:\tlearn: 0.3627022\ttotal: 271ms\tremaining: 500ms\n",
      "351:\tlearn: 0.3626384\ttotal: 271ms\tremaining: 500ms\n",
      "352:\tlearn: 0.3624895\ttotal: 272ms\tremaining: 499ms\n",
      "353:\tlearn: 0.3623842\ttotal: 273ms\tremaining: 498ms\n",
      "354:\tlearn: 0.3623223\ttotal: 274ms\tremaining: 498ms\n",
      "355:\tlearn: 0.3623046\ttotal: 274ms\tremaining: 496ms\n",
      "356:\tlearn: 0.3621940\ttotal: 275ms\tremaining: 496ms\n",
      "357:\tlearn: 0.3621656\ttotal: 276ms\tremaining: 495ms\n",
      "358:\tlearn: 0.3619870\ttotal: 277ms\tremaining: 494ms\n",
      "359:\tlearn: 0.3617985\ttotal: 277ms\tremaining: 493ms\n",
      "360:\tlearn: 0.3616442\ttotal: 278ms\tremaining: 492ms\n",
      "361:\tlearn: 0.3615180\ttotal: 279ms\tremaining: 491ms\n",
      "362:\tlearn: 0.3614184\ttotal: 280ms\tremaining: 490ms\n",
      "363:\tlearn: 0.3612914\ttotal: 280ms\tremaining: 490ms\n",
      "364:\tlearn: 0.3612634\ttotal: 281ms\tremaining: 489ms\n",
      "365:\tlearn: 0.3611663\ttotal: 282ms\tremaining: 488ms\n",
      "366:\tlearn: 0.3611600\ttotal: 282ms\tremaining: 487ms\n",
      "367:\tlearn: 0.3610928\ttotal: 283ms\tremaining: 486ms\n",
      "368:\tlearn: 0.3610878\ttotal: 284ms\tremaining: 485ms\n",
      "369:\tlearn: 0.3609278\ttotal: 284ms\tremaining: 484ms\n",
      "370:\tlearn: 0.3608377\ttotal: 285ms\tremaining: 483ms\n",
      "371:\tlearn: 0.3608237\ttotal: 286ms\tremaining: 482ms\n",
      "372:\tlearn: 0.3606848\ttotal: 287ms\tremaining: 482ms\n",
      "373:\tlearn: 0.3605762\ttotal: 287ms\tremaining: 481ms\n",
      "374:\tlearn: 0.3604785\ttotal: 288ms\tremaining: 480ms\n",
      "375:\tlearn: 0.3603189\ttotal: 289ms\tremaining: 479ms\n",
      "376:\tlearn: 0.3602830\ttotal: 289ms\tremaining: 478ms\n",
      "377:\tlearn: 0.3600458\ttotal: 290ms\tremaining: 478ms\n",
      "378:\tlearn: 0.3599224\ttotal: 291ms\tremaining: 477ms\n",
      "379:\tlearn: 0.3598748\ttotal: 292ms\tremaining: 476ms\n",
      "380:\tlearn: 0.3598442\ttotal: 293ms\tremaining: 475ms\n",
      "381:\tlearn: 0.3598210\ttotal: 293ms\tremaining: 474ms\n",
      "382:\tlearn: 0.3596576\ttotal: 294ms\tremaining: 473ms\n",
      "383:\tlearn: 0.3594951\ttotal: 295ms\tremaining: 473ms\n",
      "384:\tlearn: 0.3593267\ttotal: 295ms\tremaining: 472ms\n",
      "385:\tlearn: 0.3591584\ttotal: 296ms\tremaining: 471ms\n",
      "386:\tlearn: 0.3590052\ttotal: 297ms\tremaining: 470ms\n",
      "387:\tlearn: 0.3589033\ttotal: 298ms\tremaining: 469ms\n",
      "388:\tlearn: 0.3588322\ttotal: 298ms\tremaining: 469ms\n",
      "389:\tlearn: 0.3586547\ttotal: 299ms\tremaining: 468ms\n",
      "390:\tlearn: 0.3585304\ttotal: 300ms\tremaining: 467ms\n",
      "391:\tlearn: 0.3584326\ttotal: 301ms\tremaining: 466ms\n",
      "392:\tlearn: 0.3583330\ttotal: 302ms\tremaining: 466ms\n",
      "393:\tlearn: 0.3583073\ttotal: 302ms\tremaining: 465ms\n",
      "394:\tlearn: 0.3582052\ttotal: 303ms\tremaining: 465ms\n",
      "395:\tlearn: 0.3581858\ttotal: 304ms\tremaining: 464ms\n",
      "396:\tlearn: 0.3580893\ttotal: 305ms\tremaining: 463ms\n",
      "397:\tlearn: 0.3580303\ttotal: 305ms\tremaining: 462ms\n",
      "398:\tlearn: 0.3580069\ttotal: 306ms\tremaining: 461ms\n",
      "399:\tlearn: 0.3578792\ttotal: 307ms\tremaining: 460ms\n",
      "400:\tlearn: 0.3577149\ttotal: 308ms\tremaining: 459ms\n",
      "401:\tlearn: 0.3576851\ttotal: 308ms\tremaining: 459ms\n",
      "402:\tlearn: 0.3575450\ttotal: 309ms\tremaining: 458ms\n",
      "403:\tlearn: 0.3574747\ttotal: 310ms\tremaining: 457ms\n",
      "404:\tlearn: 0.3574162\ttotal: 311ms\tremaining: 456ms\n",
      "405:\tlearn: 0.3573673\ttotal: 311ms\tremaining: 455ms\n",
      "406:\tlearn: 0.3572184\ttotal: 312ms\tremaining: 455ms\n",
      "407:\tlearn: 0.3571906\ttotal: 313ms\tremaining: 454ms\n",
      "408:\tlearn: 0.3571856\ttotal: 313ms\tremaining: 453ms\n",
      "409:\tlearn: 0.3570745\ttotal: 314ms\tremaining: 452ms\n",
      "410:\tlearn: 0.3569702\ttotal: 315ms\tremaining: 451ms\n",
      "411:\tlearn: 0.3568737\ttotal: 315ms\tremaining: 450ms\n",
      "412:\tlearn: 0.3567410\ttotal: 316ms\tremaining: 450ms\n",
      "413:\tlearn: 0.3567283\ttotal: 317ms\tremaining: 449ms\n",
      "414:\tlearn: 0.3566042\ttotal: 318ms\tremaining: 449ms\n",
      "415:\tlearn: 0.3565045\ttotal: 319ms\tremaining: 448ms\n",
      "416:\tlearn: 0.3563897\ttotal: 320ms\tremaining: 447ms\n",
      "417:\tlearn: 0.3563065\ttotal: 320ms\tremaining: 446ms\n",
      "418:\tlearn: 0.3562127\ttotal: 321ms\tremaining: 445ms\n",
      "419:\tlearn: 0.3561484\ttotal: 322ms\tremaining: 444ms\n",
      "420:\tlearn: 0.3560368\ttotal: 323ms\tremaining: 444ms\n",
      "421:\tlearn: 0.3558852\ttotal: 323ms\tremaining: 443ms\n",
      "422:\tlearn: 0.3558218\ttotal: 324ms\tremaining: 442ms\n",
      "423:\tlearn: 0.3557573\ttotal: 325ms\tremaining: 441ms\n",
      "424:\tlearn: 0.3556743\ttotal: 326ms\tremaining: 441ms\n",
      "425:\tlearn: 0.3555891\ttotal: 326ms\tremaining: 440ms\n",
      "426:\tlearn: 0.3554826\ttotal: 327ms\tremaining: 439ms\n",
      "427:\tlearn: 0.3554066\ttotal: 328ms\tremaining: 438ms\n",
      "428:\tlearn: 0.3552361\ttotal: 328ms\tremaining: 437ms\n",
      "429:\tlearn: 0.3551699\ttotal: 329ms\tremaining: 436ms\n",
      "430:\tlearn: 0.3551687\ttotal: 330ms\tremaining: 435ms\n",
      "431:\tlearn: 0.3550679\ttotal: 331ms\tremaining: 435ms\n",
      "432:\tlearn: 0.3549335\ttotal: 331ms\tremaining: 434ms\n",
      "433:\tlearn: 0.3548433\ttotal: 332ms\tremaining: 433ms\n",
      "434:\tlearn: 0.3546783\ttotal: 333ms\tremaining: 432ms\n",
      "435:\tlearn: 0.3545801\ttotal: 334ms\tremaining: 432ms\n",
      "436:\tlearn: 0.3545192\ttotal: 334ms\tremaining: 431ms\n",
      "437:\tlearn: 0.3544787\ttotal: 335ms\tremaining: 430ms\n",
      "438:\tlearn: 0.3544604\ttotal: 336ms\tremaining: 429ms\n",
      "439:\tlearn: 0.3544176\ttotal: 336ms\tremaining: 428ms\n",
      "440:\tlearn: 0.3543235\ttotal: 337ms\tremaining: 427ms\n",
      "441:\tlearn: 0.3542208\ttotal: 338ms\tremaining: 427ms\n",
      "442:\tlearn: 0.3541228\ttotal: 339ms\tremaining: 426ms\n",
      "443:\tlearn: 0.3540622\ttotal: 340ms\tremaining: 425ms\n",
      "444:\tlearn: 0.3539859\ttotal: 340ms\tremaining: 424ms\n",
      "445:\tlearn: 0.3538985\ttotal: 341ms\tremaining: 424ms\n",
      "446:\tlearn: 0.3537777\ttotal: 342ms\tremaining: 423ms\n",
      "447:\tlearn: 0.3537364\ttotal: 342ms\tremaining: 422ms\n",
      "448:\tlearn: 0.3536721\ttotal: 343ms\tremaining: 421ms\n",
      "449:\tlearn: 0.3536613\ttotal: 344ms\tremaining: 420ms\n",
      "450:\tlearn: 0.3536111\ttotal: 345ms\tremaining: 419ms\n",
      "451:\tlearn: 0.3536092\ttotal: 345ms\tremaining: 418ms\n",
      "452:\tlearn: 0.3535361\ttotal: 346ms\tremaining: 417ms\n",
      "453:\tlearn: 0.3535174\ttotal: 346ms\tremaining: 416ms\n",
      "454:\tlearn: 0.3534529\ttotal: 347ms\tremaining: 416ms\n",
      "455:\tlearn: 0.3534281\ttotal: 348ms\tremaining: 415ms\n",
      "456:\tlearn: 0.3533663\ttotal: 349ms\tremaining: 414ms\n",
      "457:\tlearn: 0.3533533\ttotal: 349ms\tremaining: 413ms\n",
      "458:\tlearn: 0.3532469\ttotal: 350ms\tremaining: 413ms\n",
      "459:\tlearn: 0.3532430\ttotal: 351ms\tremaining: 412ms\n",
      "460:\tlearn: 0.3531540\ttotal: 352ms\tremaining: 411ms\n",
      "461:\tlearn: 0.3530321\ttotal: 352ms\tremaining: 410ms\n",
      "462:\tlearn: 0.3529076\ttotal: 353ms\tremaining: 410ms\n",
      "463:\tlearn: 0.3527895\ttotal: 354ms\tremaining: 409ms\n",
      "464:\tlearn: 0.3526421\ttotal: 355ms\tremaining: 408ms\n",
      "465:\tlearn: 0.3525436\ttotal: 355ms\tremaining: 407ms\n",
      "466:\tlearn: 0.3523090\ttotal: 356ms\tremaining: 406ms\n",
      "467:\tlearn: 0.3522364\ttotal: 357ms\tremaining: 406ms\n",
      "468:\tlearn: 0.3521788\ttotal: 358ms\tremaining: 405ms\n",
      "469:\tlearn: 0.3521168\ttotal: 358ms\tremaining: 404ms\n",
      "470:\tlearn: 0.3520352\ttotal: 359ms\tremaining: 403ms\n",
      "471:\tlearn: 0.3519670\ttotal: 360ms\tremaining: 403ms\n",
      "472:\tlearn: 0.3519368\ttotal: 361ms\tremaining: 402ms\n",
      "473:\tlearn: 0.3517572\ttotal: 362ms\tremaining: 402ms\n",
      "474:\tlearn: 0.3516884\ttotal: 363ms\tremaining: 401ms\n",
      "475:\tlearn: 0.3516110\ttotal: 364ms\tremaining: 400ms\n",
      "476:\tlearn: 0.3515396\ttotal: 364ms\tremaining: 399ms\n",
      "477:\tlearn: 0.3513428\ttotal: 365ms\tremaining: 399ms\n",
      "478:\tlearn: 0.3512474\ttotal: 366ms\tremaining: 398ms\n",
      "479:\tlearn: 0.3511625\ttotal: 367ms\tremaining: 397ms\n",
      "480:\tlearn: 0.3511093\ttotal: 367ms\tremaining: 396ms\n",
      "481:\tlearn: 0.3510154\ttotal: 368ms\tremaining: 396ms\n",
      "482:\tlearn: 0.3509756\ttotal: 369ms\tremaining: 395ms\n",
      "483:\tlearn: 0.3509030\ttotal: 370ms\tremaining: 394ms\n",
      "484:\tlearn: 0.3508007\ttotal: 370ms\tremaining: 393ms\n",
      "485:\tlearn: 0.3507717\ttotal: 371ms\tremaining: 392ms\n",
      "486:\tlearn: 0.3507623\ttotal: 372ms\tremaining: 392ms\n",
      "487:\tlearn: 0.3506932\ttotal: 372ms\tremaining: 391ms\n",
      "488:\tlearn: 0.3506320\ttotal: 373ms\tremaining: 390ms\n",
      "489:\tlearn: 0.3505504\ttotal: 374ms\tremaining: 389ms\n",
      "490:\tlearn: 0.3504394\ttotal: 375ms\tremaining: 389ms\n",
      "491:\tlearn: 0.3503895\ttotal: 376ms\tremaining: 388ms\n",
      "492:\tlearn: 0.3502808\ttotal: 376ms\tremaining: 387ms\n",
      "493:\tlearn: 0.3502235\ttotal: 378ms\tremaining: 387ms\n",
      "494:\tlearn: 0.3501270\ttotal: 378ms\tremaining: 386ms\n",
      "495:\tlearn: 0.3500970\ttotal: 379ms\tremaining: 385ms\n",
      "496:\tlearn: 0.3499816\ttotal: 380ms\tremaining: 384ms\n",
      "497:\tlearn: 0.3499712\ttotal: 380ms\tremaining: 383ms\n",
      "498:\tlearn: 0.3499705\ttotal: 381ms\tremaining: 382ms\n",
      "499:\tlearn: 0.3498512\ttotal: 382ms\tremaining: 382ms\n",
      "500:\tlearn: 0.3498229\ttotal: 382ms\tremaining: 381ms\n",
      "501:\tlearn: 0.3498192\ttotal: 383ms\tremaining: 380ms\n",
      "502:\tlearn: 0.3497924\ttotal: 383ms\tremaining: 379ms\n",
      "503:\tlearn: 0.3496998\ttotal: 384ms\tremaining: 378ms\n",
      "504:\tlearn: 0.3495872\ttotal: 385ms\tremaining: 377ms\n",
      "505:\tlearn: 0.3495376\ttotal: 386ms\tremaining: 377ms\n",
      "506:\tlearn: 0.3494160\ttotal: 387ms\tremaining: 376ms\n",
      "507:\tlearn: 0.3493685\ttotal: 387ms\tremaining: 375ms\n",
      "508:\tlearn: 0.3492833\ttotal: 388ms\tremaining: 374ms\n",
      "509:\tlearn: 0.3492475\ttotal: 389ms\tremaining: 374ms\n",
      "510:\tlearn: 0.3490864\ttotal: 390ms\tremaining: 373ms\n",
      "511:\tlearn: 0.3489467\ttotal: 391ms\tremaining: 372ms\n",
      "512:\tlearn: 0.3488674\ttotal: 392ms\tremaining: 372ms\n",
      "513:\tlearn: 0.3487569\ttotal: 393ms\tremaining: 371ms\n",
      "514:\tlearn: 0.3487186\ttotal: 393ms\tremaining: 370ms\n",
      "515:\tlearn: 0.3486707\ttotal: 394ms\tremaining: 370ms\n",
      "516:\tlearn: 0.3485854\ttotal: 395ms\tremaining: 369ms\n",
      "517:\tlearn: 0.3485177\ttotal: 396ms\tremaining: 368ms\n",
      "518:\tlearn: 0.3484836\ttotal: 396ms\tremaining: 367ms\n",
      "519:\tlearn: 0.3484205\ttotal: 397ms\tremaining: 367ms\n",
      "520:\tlearn: 0.3484146\ttotal: 398ms\tremaining: 366ms\n",
      "521:\tlearn: 0.3483050\ttotal: 399ms\tremaining: 365ms\n",
      "522:\tlearn: 0.3482325\ttotal: 400ms\tremaining: 364ms\n",
      "523:\tlearn: 0.3481726\ttotal: 400ms\tremaining: 364ms\n",
      "524:\tlearn: 0.3480957\ttotal: 401ms\tremaining: 363ms\n",
      "525:\tlearn: 0.3480429\ttotal: 402ms\tremaining: 362ms\n",
      "526:\tlearn: 0.3479916\ttotal: 403ms\tremaining: 361ms\n",
      "527:\tlearn: 0.3479649\ttotal: 403ms\tremaining: 361ms\n",
      "528:\tlearn: 0.3479006\ttotal: 404ms\tremaining: 360ms\n",
      "529:\tlearn: 0.3477220\ttotal: 405ms\tremaining: 359ms\n",
      "530:\tlearn: 0.3476557\ttotal: 406ms\tremaining: 359ms\n",
      "531:\tlearn: 0.3476416\ttotal: 407ms\tremaining: 358ms\n",
      "532:\tlearn: 0.3475802\ttotal: 407ms\tremaining: 357ms\n",
      "533:\tlearn: 0.3475622\ttotal: 408ms\tremaining: 356ms\n",
      "534:\tlearn: 0.3475143\ttotal: 409ms\tremaining: 355ms\n",
      "535:\tlearn: 0.3474698\ttotal: 409ms\tremaining: 354ms\n",
      "536:\tlearn: 0.3474254\ttotal: 410ms\tremaining: 354ms\n",
      "537:\tlearn: 0.3474053\ttotal: 411ms\tremaining: 353ms\n",
      "538:\tlearn: 0.3473734\ttotal: 411ms\tremaining: 352ms\n",
      "539:\tlearn: 0.3473710\ttotal: 412ms\tremaining: 351ms\n",
      "540:\tlearn: 0.3473340\ttotal: 413ms\tremaining: 350ms\n",
      "541:\tlearn: 0.3472651\ttotal: 413ms\tremaining: 349ms\n",
      "542:\tlearn: 0.3471603\ttotal: 414ms\tremaining: 349ms\n",
      "543:\tlearn: 0.3470811\ttotal: 415ms\tremaining: 348ms\n",
      "544:\tlearn: 0.3469787\ttotal: 416ms\tremaining: 347ms\n",
      "545:\tlearn: 0.3469487\ttotal: 416ms\tremaining: 346ms\n",
      "546:\tlearn: 0.3469454\ttotal: 417ms\tremaining: 345ms\n",
      "547:\tlearn: 0.3468082\ttotal: 418ms\tremaining: 345ms\n",
      "548:\tlearn: 0.3467579\ttotal: 418ms\tremaining: 344ms\n",
      "549:\tlearn: 0.3466608\ttotal: 419ms\tremaining: 343ms\n",
      "550:\tlearn: 0.3465155\ttotal: 420ms\tremaining: 342ms\n",
      "551:\tlearn: 0.3464876\ttotal: 421ms\tremaining: 342ms\n",
      "552:\tlearn: 0.3463582\ttotal: 422ms\tremaining: 341ms\n",
      "553:\tlearn: 0.3462548\ttotal: 423ms\tremaining: 340ms\n",
      "554:\tlearn: 0.3462535\ttotal: 423ms\tremaining: 339ms\n",
      "555:\tlearn: 0.3461497\ttotal: 424ms\tremaining: 339ms\n",
      "556:\tlearn: 0.3461485\ttotal: 424ms\tremaining: 338ms\n",
      "557:\tlearn: 0.3460906\ttotal: 425ms\tremaining: 337ms\n",
      "558:\tlearn: 0.3460655\ttotal: 426ms\tremaining: 336ms\n",
      "559:\tlearn: 0.3459492\ttotal: 427ms\tremaining: 335ms\n",
      "560:\tlearn: 0.3458630\ttotal: 427ms\tremaining: 334ms\n",
      "561:\tlearn: 0.3457995\ttotal: 428ms\tremaining: 334ms\n",
      "562:\tlearn: 0.3457424\ttotal: 429ms\tremaining: 333ms\n",
      "563:\tlearn: 0.3456683\ttotal: 429ms\tremaining: 332ms\n",
      "564:\tlearn: 0.3456365\ttotal: 430ms\tremaining: 331ms\n",
      "565:\tlearn: 0.3455997\ttotal: 431ms\tremaining: 330ms\n",
      "566:\tlearn: 0.3455545\ttotal: 432ms\tremaining: 330ms\n",
      "567:\tlearn: 0.3454792\ttotal: 432ms\tremaining: 329ms\n",
      "568:\tlearn: 0.3454534\ttotal: 433ms\tremaining: 328ms\n",
      "569:\tlearn: 0.3453675\ttotal: 434ms\tremaining: 327ms\n",
      "570:\tlearn: 0.3453144\ttotal: 435ms\tremaining: 327ms\n",
      "571:\tlearn: 0.3452381\ttotal: 435ms\tremaining: 326ms\n",
      "572:\tlearn: 0.3451892\ttotal: 436ms\tremaining: 325ms\n",
      "573:\tlearn: 0.3451394\ttotal: 437ms\tremaining: 324ms\n",
      "574:\tlearn: 0.3450497\ttotal: 438ms\tremaining: 323ms\n",
      "575:\tlearn: 0.3449685\ttotal: 438ms\tremaining: 323ms\n",
      "576:\tlearn: 0.3449095\ttotal: 439ms\tremaining: 322ms\n",
      "577:\tlearn: 0.3449026\ttotal: 440ms\tremaining: 321ms\n",
      "578:\tlearn: 0.3448173\ttotal: 440ms\tremaining: 320ms\n",
      "579:\tlearn: 0.3447490\ttotal: 441ms\tremaining: 320ms\n",
      "580:\tlearn: 0.3447060\ttotal: 442ms\tremaining: 319ms\n",
      "581:\tlearn: 0.3446504\ttotal: 443ms\tremaining: 318ms\n",
      "582:\tlearn: 0.3445885\ttotal: 444ms\tremaining: 317ms\n",
      "583:\tlearn: 0.3445171\ttotal: 444ms\tremaining: 317ms\n",
      "584:\tlearn: 0.3444103\ttotal: 445ms\tremaining: 316ms\n",
      "585:\tlearn: 0.3443703\ttotal: 446ms\tremaining: 315ms\n",
      "586:\tlearn: 0.3442786\ttotal: 447ms\tremaining: 314ms\n",
      "587:\tlearn: 0.3442112\ttotal: 447ms\tremaining: 313ms\n",
      "588:\tlearn: 0.3441993\ttotal: 448ms\tremaining: 313ms\n",
      "589:\tlearn: 0.3441506\ttotal: 449ms\tremaining: 312ms\n",
      "590:\tlearn: 0.3441152\ttotal: 450ms\tremaining: 312ms\n",
      "591:\tlearn: 0.3440668\ttotal: 451ms\tremaining: 311ms\n",
      "592:\tlearn: 0.3440205\ttotal: 452ms\tremaining: 310ms\n",
      "593:\tlearn: 0.3439743\ttotal: 452ms\tremaining: 309ms\n",
      "594:\tlearn: 0.3439536\ttotal: 453ms\tremaining: 308ms\n",
      "595:\tlearn: 0.3439128\ttotal: 454ms\tremaining: 308ms\n",
      "596:\tlearn: 0.3439087\ttotal: 454ms\tremaining: 307ms\n",
      "597:\tlearn: 0.3438667\ttotal: 455ms\tremaining: 306ms\n",
      "598:\tlearn: 0.3437618\ttotal: 456ms\tremaining: 305ms\n",
      "599:\tlearn: 0.3436453\ttotal: 457ms\tremaining: 305ms\n",
      "600:\tlearn: 0.3435715\ttotal: 458ms\tremaining: 304ms\n",
      "601:\tlearn: 0.3435087\ttotal: 458ms\tremaining: 303ms\n",
      "602:\tlearn: 0.3434757\ttotal: 459ms\tremaining: 302ms\n",
      "603:\tlearn: 0.3434009\ttotal: 460ms\tremaining: 302ms\n",
      "604:\tlearn: 0.3434010\ttotal: 461ms\tremaining: 301ms\n",
      "605:\tlearn: 0.3433707\ttotal: 461ms\tremaining: 300ms\n",
      "606:\tlearn: 0.3433224\ttotal: 462ms\tremaining: 299ms\n",
      "607:\tlearn: 0.3432434\ttotal: 463ms\tremaining: 298ms\n",
      "608:\tlearn: 0.3432106\ttotal: 464ms\tremaining: 298ms\n",
      "609:\tlearn: 0.3431564\ttotal: 465ms\tremaining: 297ms\n",
      "610:\tlearn: 0.3430859\ttotal: 465ms\tremaining: 296ms\n",
      "611:\tlearn: 0.3430536\ttotal: 466ms\tremaining: 295ms\n",
      "612:\tlearn: 0.3429899\ttotal: 467ms\tremaining: 295ms\n",
      "613:\tlearn: 0.3429441\ttotal: 468ms\tremaining: 294ms\n",
      "614:\tlearn: 0.3429400\ttotal: 468ms\tremaining: 293ms\n",
      "615:\tlearn: 0.3428943\ttotal: 469ms\tremaining: 292ms\n",
      "616:\tlearn: 0.3428931\ttotal: 469ms\tremaining: 291ms\n",
      "617:\tlearn: 0.3428047\ttotal: 470ms\tremaining: 291ms\n",
      "618:\tlearn: 0.3427668\ttotal: 471ms\tremaining: 290ms\n",
      "619:\tlearn: 0.3427307\ttotal: 471ms\tremaining: 289ms\n",
      "620:\tlearn: 0.3426506\ttotal: 472ms\tremaining: 288ms\n",
      "621:\tlearn: 0.3426476\ttotal: 473ms\tremaining: 287ms\n",
      "622:\tlearn: 0.3425675\ttotal: 474ms\tremaining: 287ms\n",
      "623:\tlearn: 0.3425199\ttotal: 474ms\tremaining: 286ms\n",
      "624:\tlearn: 0.3424449\ttotal: 475ms\tremaining: 285ms\n",
      "625:\tlearn: 0.3424078\ttotal: 476ms\tremaining: 284ms\n",
      "626:\tlearn: 0.3423303\ttotal: 476ms\tremaining: 283ms\n",
      "627:\tlearn: 0.3421642\ttotal: 477ms\tremaining: 283ms\n",
      "628:\tlearn: 0.3421358\ttotal: 478ms\tremaining: 282ms\n",
      "629:\tlearn: 0.3421165\ttotal: 479ms\tremaining: 281ms\n",
      "630:\tlearn: 0.3420616\ttotal: 479ms\tremaining: 280ms\n",
      "631:\tlearn: 0.3420149\ttotal: 480ms\tremaining: 280ms\n",
      "632:\tlearn: 0.3419580\ttotal: 481ms\tremaining: 279ms\n",
      "633:\tlearn: 0.3419038\ttotal: 482ms\tremaining: 278ms\n",
      "634:\tlearn: 0.3418403\ttotal: 483ms\tremaining: 278ms\n",
      "635:\tlearn: 0.3417628\ttotal: 484ms\tremaining: 277ms\n",
      "636:\tlearn: 0.3417624\ttotal: 484ms\tremaining: 276ms\n",
      "637:\tlearn: 0.3416831\ttotal: 485ms\tremaining: 275ms\n",
      "638:\tlearn: 0.3416414\ttotal: 486ms\tremaining: 274ms\n",
      "639:\tlearn: 0.3415735\ttotal: 486ms\tremaining: 274ms\n",
      "640:\tlearn: 0.3415068\ttotal: 487ms\tremaining: 273ms\n",
      "641:\tlearn: 0.3414442\ttotal: 488ms\tremaining: 272ms\n",
      "642:\tlearn: 0.3413925\ttotal: 489ms\tremaining: 271ms\n",
      "643:\tlearn: 0.3413254\ttotal: 490ms\tremaining: 271ms\n",
      "644:\tlearn: 0.3412621\ttotal: 490ms\tremaining: 270ms\n",
      "645:\tlearn: 0.3412549\ttotal: 491ms\tremaining: 269ms\n",
      "646:\tlearn: 0.3411841\ttotal: 492ms\tremaining: 268ms\n",
      "647:\tlearn: 0.3410678\ttotal: 492ms\tremaining: 267ms\n",
      "648:\tlearn: 0.3410196\ttotal: 493ms\tremaining: 267ms\n",
      "649:\tlearn: 0.3409420\ttotal: 494ms\tremaining: 266ms\n",
      "650:\tlearn: 0.3409340\ttotal: 495ms\tremaining: 265ms\n",
      "651:\tlearn: 0.3408667\ttotal: 495ms\tremaining: 264ms\n",
      "652:\tlearn: 0.3408148\ttotal: 496ms\tremaining: 264ms\n",
      "653:\tlearn: 0.3407564\ttotal: 497ms\tremaining: 263ms\n",
      "654:\tlearn: 0.3407047\ttotal: 498ms\tremaining: 262ms\n",
      "655:\tlearn: 0.3406606\ttotal: 498ms\tremaining: 261ms\n",
      "656:\tlearn: 0.3406376\ttotal: 499ms\tremaining: 261ms\n",
      "657:\tlearn: 0.3405852\ttotal: 500ms\tremaining: 260ms\n",
      "658:\tlearn: 0.3405350\ttotal: 501ms\tremaining: 259ms\n",
      "659:\tlearn: 0.3404541\ttotal: 501ms\tremaining: 258ms\n",
      "660:\tlearn: 0.3404170\ttotal: 502ms\tremaining: 257ms\n",
      "661:\tlearn: 0.3404168\ttotal: 502ms\tremaining: 257ms\n",
      "662:\tlearn: 0.3403959\ttotal: 503ms\tremaining: 256ms\n",
      "663:\tlearn: 0.3403388\ttotal: 504ms\tremaining: 255ms\n",
      "664:\tlearn: 0.3402769\ttotal: 505ms\tremaining: 254ms\n",
      "665:\tlearn: 0.3402277\ttotal: 505ms\tremaining: 253ms\n",
      "666:\tlearn: 0.3401582\ttotal: 506ms\tremaining: 253ms\n",
      "667:\tlearn: 0.3400576\ttotal: 507ms\tremaining: 252ms\n",
      "668:\tlearn: 0.3400305\ttotal: 508ms\tremaining: 251ms\n",
      "669:\tlearn: 0.3399894\ttotal: 508ms\tremaining: 250ms\n",
      "670:\tlearn: 0.3399252\ttotal: 509ms\tremaining: 250ms\n",
      "671:\tlearn: 0.3398588\ttotal: 510ms\tremaining: 249ms\n",
      "672:\tlearn: 0.3398559\ttotal: 510ms\tremaining: 248ms\n",
      "673:\tlearn: 0.3397959\ttotal: 511ms\tremaining: 247ms\n",
      "674:\tlearn: 0.3397028\ttotal: 512ms\tremaining: 246ms\n",
      "675:\tlearn: 0.3396936\ttotal: 513ms\tremaining: 246ms\n",
      "676:\tlearn: 0.3396388\ttotal: 513ms\tremaining: 245ms\n",
      "677:\tlearn: 0.3395498\ttotal: 514ms\tremaining: 244ms\n",
      "678:\tlearn: 0.3394556\ttotal: 515ms\tremaining: 243ms\n",
      "679:\tlearn: 0.3394308\ttotal: 516ms\tremaining: 243ms\n",
      "680:\tlearn: 0.3393602\ttotal: 516ms\tremaining: 242ms\n",
      "681:\tlearn: 0.3392590\ttotal: 517ms\tremaining: 241ms\n",
      "682:\tlearn: 0.3391560\ttotal: 518ms\tremaining: 240ms\n",
      "683:\tlearn: 0.3391283\ttotal: 519ms\tremaining: 240ms\n",
      "684:\tlearn: 0.3391278\ttotal: 519ms\tremaining: 239ms\n",
      "685:\tlearn: 0.3390322\ttotal: 520ms\tremaining: 238ms\n",
      "686:\tlearn: 0.3390319\ttotal: 520ms\tremaining: 237ms\n",
      "687:\tlearn: 0.3390265\ttotal: 521ms\tremaining: 236ms\n",
      "688:\tlearn: 0.3389656\ttotal: 521ms\tremaining: 235ms\n",
      "689:\tlearn: 0.3388702\ttotal: 522ms\tremaining: 235ms\n",
      "690:\tlearn: 0.3387946\ttotal: 523ms\tremaining: 234ms\n",
      "691:\tlearn: 0.3386925\ttotal: 524ms\tremaining: 233ms\n",
      "692:\tlearn: 0.3386267\ttotal: 525ms\tremaining: 232ms\n",
      "693:\tlearn: 0.3385660\ttotal: 526ms\tremaining: 232ms\n",
      "694:\tlearn: 0.3385608\ttotal: 526ms\tremaining: 231ms\n",
      "695:\tlearn: 0.3385329\ttotal: 527ms\tremaining: 230ms\n",
      "696:\tlearn: 0.3384698\ttotal: 528ms\tremaining: 229ms\n",
      "697:\tlearn: 0.3384237\ttotal: 529ms\tremaining: 229ms\n",
      "698:\tlearn: 0.3383956\ttotal: 530ms\tremaining: 228ms\n",
      "699:\tlearn: 0.3383780\ttotal: 530ms\tremaining: 227ms\n",
      "700:\tlearn: 0.3383220\ttotal: 531ms\tremaining: 227ms\n",
      "701:\tlearn: 0.3382294\ttotal: 532ms\tremaining: 226ms\n",
      "702:\tlearn: 0.3381863\ttotal: 533ms\tremaining: 225ms\n",
      "703:\tlearn: 0.3381647\ttotal: 533ms\tremaining: 224ms\n",
      "704:\tlearn: 0.3381162\ttotal: 534ms\tremaining: 223ms\n",
      "705:\tlearn: 0.3380762\ttotal: 535ms\tremaining: 223ms\n",
      "706:\tlearn: 0.3380166\ttotal: 535ms\tremaining: 222ms\n",
      "707:\tlearn: 0.3379523\ttotal: 536ms\tremaining: 221ms\n",
      "708:\tlearn: 0.3379472\ttotal: 537ms\tremaining: 220ms\n",
      "709:\tlearn: 0.3379133\ttotal: 538ms\tremaining: 220ms\n",
      "710:\tlearn: 0.3378667\ttotal: 538ms\tremaining: 219ms\n",
      "711:\tlearn: 0.3377922\ttotal: 539ms\tremaining: 218ms\n",
      "712:\tlearn: 0.3377451\ttotal: 540ms\tremaining: 217ms\n",
      "713:\tlearn: 0.3377436\ttotal: 541ms\tremaining: 217ms\n",
      "714:\tlearn: 0.3376896\ttotal: 541ms\tremaining: 216ms\n",
      "715:\tlearn: 0.3376486\ttotal: 542ms\tremaining: 215ms\n",
      "716:\tlearn: 0.3376076\ttotal: 543ms\tremaining: 214ms\n",
      "717:\tlearn: 0.3375127\ttotal: 544ms\tremaining: 214ms\n",
      "718:\tlearn: 0.3374807\ttotal: 545ms\tremaining: 213ms\n",
      "719:\tlearn: 0.3374081\ttotal: 545ms\tremaining: 212ms\n",
      "720:\tlearn: 0.3372926\ttotal: 546ms\tremaining: 211ms\n",
      "721:\tlearn: 0.3372382\ttotal: 547ms\tremaining: 211ms\n",
      "722:\tlearn: 0.3372157\ttotal: 548ms\tremaining: 210ms\n",
      "723:\tlearn: 0.3371817\ttotal: 548ms\tremaining: 209ms\n",
      "724:\tlearn: 0.3371388\ttotal: 549ms\tremaining: 208ms\n",
      "725:\tlearn: 0.3370638\ttotal: 550ms\tremaining: 208ms\n",
      "726:\tlearn: 0.3369525\ttotal: 551ms\tremaining: 207ms\n",
      "727:\tlearn: 0.3369050\ttotal: 551ms\tremaining: 206ms\n",
      "728:\tlearn: 0.3368314\ttotal: 552ms\tremaining: 205ms\n",
      "729:\tlearn: 0.3367906\ttotal: 553ms\tremaining: 205ms\n",
      "730:\tlearn: 0.3367500\ttotal: 554ms\tremaining: 204ms\n",
      "731:\tlearn: 0.3366649\ttotal: 555ms\tremaining: 203ms\n",
      "732:\tlearn: 0.3365948\ttotal: 555ms\tremaining: 202ms\n",
      "733:\tlearn: 0.3365133\ttotal: 556ms\tremaining: 202ms\n",
      "734:\tlearn: 0.3364320\ttotal: 557ms\tremaining: 201ms\n",
      "735:\tlearn: 0.3363667\ttotal: 558ms\tremaining: 200ms\n",
      "736:\tlearn: 0.3363086\ttotal: 558ms\tremaining: 199ms\n",
      "737:\tlearn: 0.3363012\ttotal: 559ms\tremaining: 198ms\n",
      "738:\tlearn: 0.3362303\ttotal: 560ms\tremaining: 198ms\n",
      "739:\tlearn: 0.3361944\ttotal: 561ms\tremaining: 197ms\n",
      "740:\tlearn: 0.3361117\ttotal: 561ms\tremaining: 196ms\n",
      "741:\tlearn: 0.3360829\ttotal: 562ms\tremaining: 195ms\n",
      "742:\tlearn: 0.3359903\ttotal: 563ms\tremaining: 195ms\n",
      "743:\tlearn: 0.3359827\ttotal: 563ms\tremaining: 194ms\n",
      "744:\tlearn: 0.3359434\ttotal: 564ms\tremaining: 193ms\n",
      "745:\tlearn: 0.3358406\ttotal: 565ms\tremaining: 192ms\n",
      "746:\tlearn: 0.3357405\ttotal: 566ms\tremaining: 192ms\n",
      "747:\tlearn: 0.3356860\ttotal: 567ms\tremaining: 191ms\n",
      "748:\tlearn: 0.3356448\ttotal: 567ms\tremaining: 190ms\n",
      "749:\tlearn: 0.3355915\ttotal: 568ms\tremaining: 189ms\n",
      "750:\tlearn: 0.3355139\ttotal: 569ms\tremaining: 189ms\n",
      "751:\tlearn: 0.3354234\ttotal: 570ms\tremaining: 188ms\n",
      "752:\tlearn: 0.3353865\ttotal: 571ms\tremaining: 187ms\n",
      "753:\tlearn: 0.3352985\ttotal: 571ms\tremaining: 186ms\n",
      "754:\tlearn: 0.3352368\ttotal: 572ms\tremaining: 186ms\n",
      "755:\tlearn: 0.3352193\ttotal: 573ms\tremaining: 185ms\n",
      "756:\tlearn: 0.3351528\ttotal: 573ms\tremaining: 184ms\n",
      "757:\tlearn: 0.3350705\ttotal: 574ms\tremaining: 183ms\n",
      "758:\tlearn: 0.3350428\ttotal: 575ms\tremaining: 183ms\n",
      "759:\tlearn: 0.3350181\ttotal: 576ms\tremaining: 182ms\n",
      "760:\tlearn: 0.3349807\ttotal: 576ms\tremaining: 181ms\n",
      "761:\tlearn: 0.3349499\ttotal: 577ms\tremaining: 180ms\n",
      "762:\tlearn: 0.3349114\ttotal: 578ms\tremaining: 180ms\n",
      "763:\tlearn: 0.3348506\ttotal: 579ms\tremaining: 179ms\n",
      "764:\tlearn: 0.3347694\ttotal: 579ms\tremaining: 178ms\n",
      "765:\tlearn: 0.3347581\ttotal: 580ms\tremaining: 177ms\n",
      "766:\tlearn: 0.3347147\ttotal: 581ms\tremaining: 176ms\n",
      "767:\tlearn: 0.3346759\ttotal: 582ms\tremaining: 176ms\n",
      "768:\tlearn: 0.3346065\ttotal: 582ms\tremaining: 175ms\n",
      "769:\tlearn: 0.3346055\ttotal: 583ms\tremaining: 174ms\n",
      "770:\tlearn: 0.3345804\ttotal: 584ms\tremaining: 173ms\n",
      "771:\tlearn: 0.3345081\ttotal: 584ms\tremaining: 173ms\n",
      "772:\tlearn: 0.3345001\ttotal: 585ms\tremaining: 172ms\n",
      "773:\tlearn: 0.3344732\ttotal: 586ms\tremaining: 171ms\n",
      "774:\tlearn: 0.3344234\ttotal: 586ms\tremaining: 170ms\n",
      "775:\tlearn: 0.3343978\ttotal: 587ms\tremaining: 170ms\n",
      "776:\tlearn: 0.3343673\ttotal: 588ms\tremaining: 169ms\n",
      "777:\tlearn: 0.3343154\ttotal: 589ms\tremaining: 168ms\n",
      "778:\tlearn: 0.3343146\ttotal: 589ms\tremaining: 167ms\n",
      "779:\tlearn: 0.3342677\ttotal: 590ms\tremaining: 166ms\n",
      "780:\tlearn: 0.3341679\ttotal: 591ms\tremaining: 166ms\n",
      "781:\tlearn: 0.3340976\ttotal: 591ms\tremaining: 165ms\n",
      "782:\tlearn: 0.3340932\ttotal: 592ms\tremaining: 164ms\n",
      "783:\tlearn: 0.3340013\ttotal: 593ms\tremaining: 163ms\n",
      "784:\tlearn: 0.3339145\ttotal: 593ms\tremaining: 163ms\n",
      "785:\tlearn: 0.3338510\ttotal: 594ms\tremaining: 162ms\n",
      "786:\tlearn: 0.3337979\ttotal: 595ms\tremaining: 161ms\n",
      "787:\tlearn: 0.3337067\ttotal: 596ms\tremaining: 160ms\n",
      "788:\tlearn: 0.3336674\ttotal: 597ms\tremaining: 160ms\n",
      "789:\tlearn: 0.3336247\ttotal: 597ms\tremaining: 159ms\n",
      "790:\tlearn: 0.3335609\ttotal: 598ms\tremaining: 158ms\n",
      "791:\tlearn: 0.3335252\ttotal: 599ms\tremaining: 157ms\n",
      "792:\tlearn: 0.3335240\ttotal: 599ms\tremaining: 156ms\n",
      "793:\tlearn: 0.3334179\ttotal: 600ms\tremaining: 156ms\n",
      "794:\tlearn: 0.3333790\ttotal: 601ms\tremaining: 155ms\n",
      "795:\tlearn: 0.3333749\ttotal: 601ms\tremaining: 154ms\n",
      "796:\tlearn: 0.3333449\ttotal: 602ms\tremaining: 153ms\n",
      "797:\tlearn: 0.3333063\ttotal: 603ms\tremaining: 153ms\n",
      "798:\tlearn: 0.3332352\ttotal: 604ms\tremaining: 152ms\n",
      "799:\tlearn: 0.3331860\ttotal: 604ms\tremaining: 151ms\n",
      "800:\tlearn: 0.3330949\ttotal: 605ms\tremaining: 150ms\n",
      "801:\tlearn: 0.3330563\ttotal: 606ms\tremaining: 150ms\n",
      "802:\tlearn: 0.3330020\ttotal: 607ms\tremaining: 149ms\n",
      "803:\tlearn: 0.3329209\ttotal: 607ms\tremaining: 148ms\n",
      "804:\tlearn: 0.3328721\ttotal: 608ms\tremaining: 147ms\n",
      "805:\tlearn: 0.3328146\ttotal: 609ms\tremaining: 147ms\n",
      "806:\tlearn: 0.3327443\ttotal: 610ms\tremaining: 146ms\n",
      "807:\tlearn: 0.3327185\ttotal: 610ms\tremaining: 145ms\n",
      "808:\tlearn: 0.3326393\ttotal: 611ms\tremaining: 144ms\n",
      "809:\tlearn: 0.3325712\ttotal: 612ms\tremaining: 144ms\n",
      "810:\tlearn: 0.3324143\ttotal: 613ms\tremaining: 143ms\n",
      "811:\tlearn: 0.3323213\ttotal: 614ms\tremaining: 142ms\n",
      "812:\tlearn: 0.3322766\ttotal: 614ms\tremaining: 141ms\n",
      "813:\tlearn: 0.3321811\ttotal: 615ms\tremaining: 141ms\n",
      "814:\tlearn: 0.3321372\ttotal: 616ms\tremaining: 140ms\n",
      "815:\tlearn: 0.3320993\ttotal: 617ms\tremaining: 139ms\n",
      "816:\tlearn: 0.3320436\ttotal: 617ms\tremaining: 138ms\n",
      "817:\tlearn: 0.3319878\ttotal: 618ms\tremaining: 138ms\n",
      "818:\tlearn: 0.3319321\ttotal: 619ms\tremaining: 137ms\n",
      "819:\tlearn: 0.3318758\ttotal: 620ms\tremaining: 136ms\n",
      "820:\tlearn: 0.3318277\ttotal: 620ms\tremaining: 135ms\n",
      "821:\tlearn: 0.3317717\ttotal: 621ms\tremaining: 134ms\n",
      "822:\tlearn: 0.3317105\ttotal: 622ms\tremaining: 134ms\n",
      "823:\tlearn: 0.3317057\ttotal: 622ms\tremaining: 133ms\n",
      "824:\tlearn: 0.3316477\ttotal: 623ms\tremaining: 132ms\n",
      "825:\tlearn: 0.3316374\ttotal: 624ms\tremaining: 131ms\n",
      "826:\tlearn: 0.3315833\ttotal: 625ms\tremaining: 131ms\n",
      "827:\tlearn: 0.3315390\ttotal: 625ms\tremaining: 130ms\n",
      "828:\tlearn: 0.3314978\ttotal: 626ms\tremaining: 129ms\n",
      "829:\tlearn: 0.3314560\ttotal: 627ms\tremaining: 128ms\n",
      "830:\tlearn: 0.3313689\ttotal: 628ms\tremaining: 128ms\n",
      "831:\tlearn: 0.3313335\ttotal: 629ms\tremaining: 127ms\n",
      "832:\tlearn: 0.3312372\ttotal: 629ms\tremaining: 126ms\n",
      "833:\tlearn: 0.3311791\ttotal: 630ms\tremaining: 125ms\n",
      "834:\tlearn: 0.3311007\ttotal: 631ms\tremaining: 125ms\n",
      "835:\tlearn: 0.3310375\ttotal: 631ms\tremaining: 124ms\n",
      "836:\tlearn: 0.3310036\ttotal: 632ms\tremaining: 123ms\n",
      "837:\tlearn: 0.3309390\ttotal: 633ms\tremaining: 122ms\n",
      "838:\tlearn: 0.3309232\ttotal: 633ms\tremaining: 122ms\n",
      "839:\tlearn: 0.3308939\ttotal: 634ms\tremaining: 121ms\n",
      "840:\tlearn: 0.3308604\ttotal: 635ms\tremaining: 120ms\n",
      "841:\tlearn: 0.3307762\ttotal: 636ms\tremaining: 119ms\n",
      "842:\tlearn: 0.3307056\ttotal: 636ms\tremaining: 118ms\n",
      "843:\tlearn: 0.3306184\ttotal: 637ms\tremaining: 118ms\n",
      "844:\tlearn: 0.3305860\ttotal: 638ms\tremaining: 117ms\n",
      "845:\tlearn: 0.3305626\ttotal: 638ms\tremaining: 116ms\n",
      "846:\tlearn: 0.3304887\ttotal: 639ms\tremaining: 115ms\n",
      "847:\tlearn: 0.3304457\ttotal: 640ms\tremaining: 115ms\n",
      "848:\tlearn: 0.3304125\ttotal: 641ms\tremaining: 114ms\n",
      "849:\tlearn: 0.3303599\ttotal: 641ms\tremaining: 113ms\n",
      "850:\tlearn: 0.3303200\ttotal: 642ms\tremaining: 112ms\n",
      "851:\tlearn: 0.3302660\ttotal: 643ms\tremaining: 112ms\n",
      "852:\tlearn: 0.3302380\ttotal: 644ms\tremaining: 111ms\n",
      "853:\tlearn: 0.3301979\ttotal: 644ms\tremaining: 110ms\n",
      "854:\tlearn: 0.3301469\ttotal: 645ms\tremaining: 109ms\n",
      "855:\tlearn: 0.3301176\ttotal: 646ms\tremaining: 109ms\n",
      "856:\tlearn: 0.3300604\ttotal: 646ms\tremaining: 108ms\n",
      "857:\tlearn: 0.3300074\ttotal: 647ms\tremaining: 107ms\n",
      "858:\tlearn: 0.3299640\ttotal: 648ms\tremaining: 106ms\n",
      "859:\tlearn: 0.3299453\ttotal: 649ms\tremaining: 106ms\n",
      "860:\tlearn: 0.3298936\ttotal: 649ms\tremaining: 105ms\n",
      "861:\tlearn: 0.3298550\ttotal: 650ms\tremaining: 104ms\n",
      "862:\tlearn: 0.3297929\ttotal: 651ms\tremaining: 103ms\n",
      "863:\tlearn: 0.3297719\ttotal: 652ms\tremaining: 103ms\n",
      "864:\tlearn: 0.3297092\ttotal: 652ms\tremaining: 102ms\n",
      "865:\tlearn: 0.3296733\ttotal: 653ms\tremaining: 101ms\n",
      "866:\tlearn: 0.3296100\ttotal: 654ms\tremaining: 100ms\n",
      "867:\tlearn: 0.3295669\ttotal: 655ms\tremaining: 99.5ms\n",
      "868:\tlearn: 0.3295224\ttotal: 655ms\tremaining: 98.8ms\n",
      "869:\tlearn: 0.3294896\ttotal: 656ms\tremaining: 98ms\n",
      "870:\tlearn: 0.3294560\ttotal: 657ms\tremaining: 97.3ms\n",
      "871:\tlearn: 0.3294203\ttotal: 657ms\tremaining: 96.5ms\n",
      "872:\tlearn: 0.3293843\ttotal: 658ms\tremaining: 95.7ms\n",
      "873:\tlearn: 0.3293268\ttotal: 659ms\tremaining: 95ms\n",
      "874:\tlearn: 0.3292852\ttotal: 659ms\tremaining: 94.2ms\n",
      "875:\tlearn: 0.3292245\ttotal: 660ms\tremaining: 93.4ms\n",
      "876:\tlearn: 0.3291808\ttotal: 661ms\tremaining: 92.7ms\n",
      "877:\tlearn: 0.3291568\ttotal: 661ms\tremaining: 91.9ms\n",
      "878:\tlearn: 0.3290778\ttotal: 662ms\tremaining: 91.2ms\n",
      "879:\tlearn: 0.3289954\ttotal: 663ms\tremaining: 90.4ms\n",
      "880:\tlearn: 0.3289047\ttotal: 664ms\tremaining: 89.6ms\n",
      "881:\tlearn: 0.3288492\ttotal: 664ms\tremaining: 88.9ms\n",
      "882:\tlearn: 0.3288362\ttotal: 665ms\tremaining: 88.1ms\n",
      "883:\tlearn: 0.3287880\ttotal: 666ms\tremaining: 87.3ms\n",
      "884:\tlearn: 0.3287345\ttotal: 666ms\tremaining: 86.6ms\n",
      "885:\tlearn: 0.3286923\ttotal: 667ms\tremaining: 85.8ms\n",
      "886:\tlearn: 0.3286379\ttotal: 668ms\tremaining: 85.1ms\n",
      "887:\tlearn: 0.3285887\ttotal: 668ms\tremaining: 84.3ms\n",
      "888:\tlearn: 0.3285220\ttotal: 669ms\tremaining: 83.6ms\n",
      "889:\tlearn: 0.3284389\ttotal: 670ms\tremaining: 82.8ms\n",
      "890:\tlearn: 0.3284108\ttotal: 671ms\tremaining: 82ms\n",
      "891:\tlearn: 0.3283321\ttotal: 671ms\tremaining: 81.3ms\n",
      "892:\tlearn: 0.3283089\ttotal: 672ms\tremaining: 80.5ms\n",
      "893:\tlearn: 0.3282412\ttotal: 673ms\tremaining: 79.8ms\n",
      "894:\tlearn: 0.3282108\ttotal: 673ms\tremaining: 79ms\n",
      "895:\tlearn: 0.3281571\ttotal: 674ms\tremaining: 78.2ms\n",
      "896:\tlearn: 0.3281240\ttotal: 675ms\tremaining: 77.5ms\n",
      "897:\tlearn: 0.3280310\ttotal: 675ms\tremaining: 76.7ms\n",
      "898:\tlearn: 0.3279973\ttotal: 676ms\tremaining: 76ms\n",
      "899:\tlearn: 0.3279470\ttotal: 677ms\tremaining: 75.2ms\n",
      "900:\tlearn: 0.3278558\ttotal: 678ms\tremaining: 74.4ms\n",
      "901:\tlearn: 0.3278254\ttotal: 678ms\tremaining: 73.7ms\n",
      "902:\tlearn: 0.3277363\ttotal: 679ms\tremaining: 72.9ms\n",
      "903:\tlearn: 0.3276841\ttotal: 680ms\tremaining: 72.2ms\n",
      "904:\tlearn: 0.3276501\ttotal: 680ms\tremaining: 71.4ms\n",
      "905:\tlearn: 0.3275886\ttotal: 681ms\tremaining: 70.7ms\n",
      "906:\tlearn: 0.3275553\ttotal: 682ms\tremaining: 69.9ms\n",
      "907:\tlearn: 0.3275305\ttotal: 683ms\tremaining: 69.2ms\n",
      "908:\tlearn: 0.3274860\ttotal: 683ms\tremaining: 68.4ms\n",
      "909:\tlearn: 0.3274455\ttotal: 684ms\tremaining: 67.7ms\n",
      "910:\tlearn: 0.3273978\ttotal: 685ms\tremaining: 66.9ms\n",
      "911:\tlearn: 0.3273550\ttotal: 686ms\tremaining: 66.2ms\n",
      "912:\tlearn: 0.3273239\ttotal: 687ms\tremaining: 65.4ms\n",
      "913:\tlearn: 0.3272786\ttotal: 687ms\tremaining: 64.7ms\n",
      "914:\tlearn: 0.3272096\ttotal: 688ms\tremaining: 63.9ms\n",
      "915:\tlearn: 0.3271426\ttotal: 689ms\tremaining: 63.2ms\n",
      "916:\tlearn: 0.3270889\ttotal: 690ms\tremaining: 62.4ms\n",
      "917:\tlearn: 0.3270108\ttotal: 690ms\tremaining: 61.7ms\n",
      "918:\tlearn: 0.3269887\ttotal: 691ms\tremaining: 60.9ms\n",
      "919:\tlearn: 0.3269448\ttotal: 692ms\tremaining: 60.2ms\n",
      "920:\tlearn: 0.3269024\ttotal: 692ms\tremaining: 59.4ms\n",
      "921:\tlearn: 0.3268647\ttotal: 693ms\tremaining: 58.6ms\n",
      "922:\tlearn: 0.3268244\ttotal: 695ms\tremaining: 58ms\n",
      "923:\tlearn: 0.3267984\ttotal: 695ms\tremaining: 57.2ms\n",
      "924:\tlearn: 0.3267529\ttotal: 696ms\tremaining: 56.5ms\n",
      "925:\tlearn: 0.3267055\ttotal: 697ms\tremaining: 55.7ms\n",
      "926:\tlearn: 0.3266696\ttotal: 698ms\tremaining: 55ms\n",
      "927:\tlearn: 0.3266378\ttotal: 699ms\tremaining: 54.2ms\n",
      "928:\tlearn: 0.3266095\ttotal: 699ms\tremaining: 53.5ms\n",
      "929:\tlearn: 0.3265340\ttotal: 700ms\tremaining: 52.7ms\n",
      "930:\tlearn: 0.3264687\ttotal: 701ms\tremaining: 52ms\n",
      "931:\tlearn: 0.3264373\ttotal: 702ms\tremaining: 51.2ms\n",
      "932:\tlearn: 0.3264015\ttotal: 703ms\tremaining: 50.5ms\n",
      "933:\tlearn: 0.3263706\ttotal: 703ms\tremaining: 49.7ms\n",
      "934:\tlearn: 0.3263382\ttotal: 704ms\tremaining: 49ms\n",
      "935:\tlearn: 0.3263007\ttotal: 705ms\tremaining: 48.2ms\n",
      "936:\tlearn: 0.3262739\ttotal: 706ms\tremaining: 47.4ms\n",
      "937:\tlearn: 0.3262286\ttotal: 706ms\tremaining: 46.7ms\n",
      "938:\tlearn: 0.3262048\ttotal: 707ms\tremaining: 45.9ms\n",
      "939:\tlearn: 0.3260976\ttotal: 708ms\tremaining: 45.2ms\n",
      "940:\tlearn: 0.3260647\ttotal: 709ms\tremaining: 44.4ms\n",
      "941:\tlearn: 0.3260380\ttotal: 710ms\tremaining: 43.7ms\n",
      "942:\tlearn: 0.3260095\ttotal: 710ms\tremaining: 42.9ms\n",
      "943:\tlearn: 0.3259718\ttotal: 711ms\tremaining: 42.2ms\n",
      "944:\tlearn: 0.3259288\ttotal: 712ms\tremaining: 41.4ms\n",
      "945:\tlearn: 0.3258696\ttotal: 713ms\tremaining: 40.7ms\n",
      "946:\tlearn: 0.3258402\ttotal: 714ms\tremaining: 39.9ms\n",
      "947:\tlearn: 0.3258102\ttotal: 715ms\tremaining: 39.2ms\n",
      "948:\tlearn: 0.3257229\ttotal: 715ms\tremaining: 38.4ms\n",
      "949:\tlearn: 0.3256672\ttotal: 716ms\tremaining: 37.7ms\n",
      "950:\tlearn: 0.3256373\ttotal: 717ms\tremaining: 36.9ms\n",
      "951:\tlearn: 0.3256025\ttotal: 718ms\tremaining: 36.2ms\n",
      "952:\tlearn: 0.3255280\ttotal: 719ms\tremaining: 35.4ms\n",
      "953:\tlearn: 0.3254851\ttotal: 719ms\tremaining: 34.7ms\n",
      "954:\tlearn: 0.3254492\ttotal: 720ms\tremaining: 33.9ms\n",
      "955:\tlearn: 0.3254066\ttotal: 721ms\tremaining: 33.2ms\n",
      "956:\tlearn: 0.3253731\ttotal: 722ms\tremaining: 32.4ms\n",
      "957:\tlearn: 0.3253493\ttotal: 722ms\tremaining: 31.7ms\n",
      "958:\tlearn: 0.3253451\ttotal: 723ms\tremaining: 30.9ms\n",
      "959:\tlearn: 0.3252971\ttotal: 724ms\tremaining: 30.2ms\n",
      "960:\tlearn: 0.3252672\ttotal: 725ms\tremaining: 29.4ms\n",
      "961:\tlearn: 0.3252341\ttotal: 725ms\tremaining: 28.6ms\n",
      "962:\tlearn: 0.3251998\ttotal: 726ms\tremaining: 27.9ms\n",
      "963:\tlearn: 0.3251677\ttotal: 727ms\tremaining: 27.1ms\n",
      "964:\tlearn: 0.3251027\ttotal: 728ms\tremaining: 26.4ms\n",
      "965:\tlearn: 0.3250733\ttotal: 729ms\tremaining: 25.6ms\n",
      "966:\tlearn: 0.3250306\ttotal: 729ms\tremaining: 24.9ms\n",
      "967:\tlearn: 0.3249856\ttotal: 730ms\tremaining: 24.1ms\n",
      "968:\tlearn: 0.3249358\ttotal: 731ms\tremaining: 23.4ms\n",
      "969:\tlearn: 0.3249058\ttotal: 732ms\tremaining: 22.6ms\n",
      "970:\tlearn: 0.3248767\ttotal: 732ms\tremaining: 21.9ms\n",
      "971:\tlearn: 0.3248152\ttotal: 733ms\tremaining: 21.1ms\n",
      "972:\tlearn: 0.3247893\ttotal: 734ms\tremaining: 20.4ms\n",
      "973:\tlearn: 0.3247527\ttotal: 735ms\tremaining: 19.6ms\n",
      "974:\tlearn: 0.3247175\ttotal: 735ms\tremaining: 18.9ms\n",
      "975:\tlearn: 0.3246876\ttotal: 736ms\tremaining: 18.1ms\n",
      "976:\tlearn: 0.3246481\ttotal: 737ms\tremaining: 17.3ms\n",
      "977:\tlearn: 0.3245871\ttotal: 738ms\tremaining: 16.6ms\n",
      "978:\tlearn: 0.3245538\ttotal: 738ms\tremaining: 15.8ms\n",
      "979:\tlearn: 0.3245285\ttotal: 739ms\tremaining: 15.1ms\n",
      "980:\tlearn: 0.3244978\ttotal: 740ms\tremaining: 14.3ms\n",
      "981:\tlearn: 0.3244668\ttotal: 741ms\tremaining: 13.6ms\n",
      "982:\tlearn: 0.3244187\ttotal: 741ms\tremaining: 12.8ms\n",
      "983:\tlearn: 0.3243716\ttotal: 742ms\tremaining: 12.1ms\n",
      "984:\tlearn: 0.3243490\ttotal: 743ms\tremaining: 11.3ms\n",
      "985:\tlearn: 0.3243101\ttotal: 744ms\tremaining: 10.6ms\n",
      "986:\tlearn: 0.3242643\ttotal: 745ms\tremaining: 9.81ms\n",
      "987:\tlearn: 0.3242193\ttotal: 745ms\tremaining: 9.05ms\n",
      "988:\tlearn: 0.3241890\ttotal: 746ms\tremaining: 8.3ms\n",
      "989:\tlearn: 0.3241235\ttotal: 747ms\tremaining: 7.54ms\n",
      "990:\tlearn: 0.3240586\ttotal: 748ms\tremaining: 6.79ms\n",
      "991:\tlearn: 0.3240182\ttotal: 748ms\tremaining: 6.04ms\n",
      "992:\tlearn: 0.3239844\ttotal: 749ms\tremaining: 5.28ms\n",
      "993:\tlearn: 0.3239530\ttotal: 750ms\tremaining: 4.53ms\n",
      "994:\tlearn: 0.3239102\ttotal: 751ms\tremaining: 3.77ms\n",
      "995:\tlearn: 0.3238641\ttotal: 751ms\tremaining: 3.02ms\n",
      "996:\tlearn: 0.3238342\ttotal: 752ms\tremaining: 2.26ms\n",
      "997:\tlearn: 0.3238061\ttotal: 753ms\tremaining: 1.51ms\n",
      "998:\tlearn: 0.3237832\ttotal: 754ms\tremaining: 754us\n",
      "999:\tlearn: 0.3237288\ttotal: 754ms\tremaining: 0us\n"
     ]
    }
   ],
   "source": [
    "#rael\n",
    "catboost = CatBoostClassifier()\n",
    "catboost.fit(X_train, Y_train)\n",
    "acc_catboost = round(catboost.score(X_train, Y_train) * 100, 2)"
   ]
  },
  {
   "cell_type": "code",
   "execution_count": 232,
   "metadata": {},
   "outputs": [],
   "source": [
    "#rael\n",
    "#MLP\n",
    "mlp = MLPClassifier()\n",
    "mlp.fit(X_train, Y_train)\n",
    "acc_mlp = round(catboost.score(X_train, Y_train) * 100, 2)"
   ]
  },
  {
   "cell_type": "code",
   "execution_count": 233,
   "metadata": {},
   "outputs": [],
   "source": [
    "#rael\n",
    "#acc_catboost"
   ]
  },
  {
   "cell_type": "markdown",
   "metadata": {},
   "source": [
    "## 6.3 Model evaluation and hyperparameter tuning\n",
    "\n",
    "Once all our models have been trained, the next step is to assess the performance of these models and select the one which has the highest prediction accuracy. "
   ]
  },
  {
   "cell_type": "markdown",
   "metadata": {},
   "source": [
    "### 6.3.1 Training accuracy\n",
    "\n",
    "Training accuracy shows how well our model has learned from the training set. "
   ]
  },
  {
   "cell_type": "markdown",
   "metadata": {},
   "source": [
    "Internal comment: Viewing and summarising the scores calcualted above for each algorithm. These models have have not yet been tuned"
   ]
  },
  {
   "cell_type": "code",
   "execution_count": 234,
   "metadata": {},
   "outputs": [
    {
     "ename": "NameError",
     "evalue": "name 'acc_sgd' is not defined",
     "output_type": "error",
     "traceback": [
      "\u001b[1;31m---------------------------------------------------------------------------\u001b[0m",
      "\u001b[1;31mNameError\u001b[0m                                 Traceback (most recent call last)",
      "\u001b[1;32m~\\AppData\\Local\\Temp/ipykernel_31232/1675095095.py\u001b[0m in \u001b[0;36m<module>\u001b[1;34m\u001b[0m\n\u001b[0;32m      3\u001b[0m                                  'Linear SVC', 'Decision Tree', 'CatBoost','MLP'],\n\u001b[0;32m      4\u001b[0m                        'Score': [acc_svc, acc_knn, acc_log, acc_random_forest, acc_gaussian, acc_perceptron,\n\u001b[1;32m----> 5\u001b[1;33m                                  acc_sgd, acc_linear_svc, acc_decision_tree, acc_catboost, acc_mlp]})\n\u001b[0m\u001b[0;32m      6\u001b[0m \u001b[1;33m\u001b[0m\u001b[0m\n\u001b[0;32m      7\u001b[0m \u001b[0mmodels\u001b[0m\u001b[1;33m.\u001b[0m\u001b[0msort_values\u001b[0m\u001b[1;33m(\u001b[0m\u001b[0mby\u001b[0m \u001b[1;33m=\u001b[0m \u001b[1;34m'Score'\u001b[0m\u001b[1;33m,\u001b[0m \u001b[0mascending\u001b[0m \u001b[1;33m=\u001b[0m \u001b[1;32mFalse\u001b[0m\u001b[1;33m,\u001b[0m \u001b[0mignore_index\u001b[0m \u001b[1;33m=\u001b[0m \u001b[1;32mTrue\u001b[0m\u001b[1;33m)\u001b[0m\u001b[1;33m\u001b[0m\u001b[1;33m\u001b[0m\u001b[0m\n",
      "\u001b[1;31mNameError\u001b[0m: name 'acc_sgd' is not defined"
     ]
    }
   ],
   "source": [
    "models = pd.DataFrame({'Model': ['Support Vector Machines', 'KNN', 'Logistic Regression', \n",
    "                                 'Random Forest', 'Naive Bayes', 'Perceptron', 'Stochastic Gradient Decent', \n",
    "                                 'Linear SVC', 'Decision Tree', 'CatBoost','MLP'],\n",
    "                       'Score': [acc_svc, acc_knn, acc_log, acc_random_forest, acc_gaussian, acc_perceptron,\n",
    "                                 acc_sgd, acc_linear_svc, acc_decision_tree, acc_catboost, acc_mlp]})\n",
    "\n",
    "models.sort_values(by = 'Score', ascending = False, ignore_index = True)"
   ]
  },
  {
   "cell_type": "markdown",
   "metadata": {},
   "source": [
    "### 6.3.2 K-fold cross validation\n",
    "\n",
    "It is important to not get too carried away with models with impressive training accuracy as what we should focus on instead is the model's ability to predict out-of-samples data, in other words, data our model has not seen before.\n",
    "\n",
    "This is where k-fold cross validation comes in. K-fold cross validation is a technique whereby a subset of our training set is kept aside and will act as holdout set for testing purposes. Here is a great [video](https://www.youtube.com/watch?v=fSytzGwwBVw) explaining the concept in more detail. "
   ]
  },
  {
   "cell_type": "code",
   "execution_count": null,
   "metadata": {},
   "outputs": [],
   "source": [
    "# Create a list which contains classifiers \n",
    "\n",
    "classifiers = []\n",
    "classifiers.append(LogisticRegression())\n",
    "classifiers.append(SVC())\n",
    "classifiers.append(KNeighborsClassifier(n_neighbors = 5))\n",
    "classifiers.append(GaussianNB())\n",
    "classifiers.append(Perceptron())\n",
    "classifiers.append(LinearSVC())\n",
    "classifiers.append(SGDClassifier())\n",
    "classifiers.append(DecisionTreeClassifier())\n",
    "classifiers.append(RandomForestClassifier())\n",
    "classifiers.append(CatBoostClassifier())\n",
    "classifiers.append(MLPClassifier())\n",
    "\n",
    "\n",
    "len(classifiers)"
   ]
  },
  {
   "cell_type": "code",
   "execution_count": null,
   "metadata": {},
   "outputs": [],
   "source": [
    "# Create a list which contains cross validation results for each classifier\n",
    "\n",
    "cv_results = []\n",
    "for classifier in classifiers:#each result has 10 subcompoents for each section of the data that was made test if cv equals 10\n",
    "    cv_results.append(cross_val_score(classifier, X_train, Y_train, scoring = 'accuracy', cv = 10))#try other cv's"
   ]
  },
  {
   "cell_type": "code",
   "execution_count": null,
   "metadata": {},
   "outputs": [],
   "source": [
    "# Mean and standard deviation of cross validation results for each classifier  \n",
    "\n",
    "cv_mean = []\n",
    "cv_std = []\n",
    "for cv_result in cv_results:\n",
    "    cv_mean.append(cv_result.mean())\n",
    "    cv_std.append(cv_result.std())"
   ]
  },
  {
   "cell_type": "code",
   "execution_count": null,
   "metadata": {},
   "outputs": [],
   "source": [
    "cv_res = pd.DataFrame({'Cross Validation Mean': cv_mean, 'Cross Validation Std': cv_std, 'Algorithm': ['Logistic Regression', 'Support Vector Machines', 'KNN', 'Gausian Naive Bayes', 'Perceptron', 'Linear SVC', 'Stochastic Gradient Descent', 'Decision Tree', 'Random Forest', 'CatBoost','MLP']})\n",
    "cv_res.sort_values(by = 'Cross Validation Mean', ascending = False, ignore_index = True)"
   ]
  },
  {
   "cell_type": "code",
   "execution_count": null,
   "metadata": {},
   "outputs": [],
   "source": [
    "sns.barplot('Cross Validation Mean', 'Algorithm', data = cv_res, order = cv_res.sort_values(by = 'Cross Validation Mean', ascending = False)['Algorithm'], palette = 'Set3', **{'xerr': cv_std})\n",
    "plt.ylabel('Algorithm')\n",
    "plt.title('Cross Validation Scores')"
   ]
  },
  {
   "cell_type": "markdown",
   "metadata": {},
   "source": [
    "As we can see, support vector machines has the highest cross validation mean and thus we will proceed with this model."
   ]
  },
  {
   "cell_type": "markdown",
   "metadata": {},
   "source": [
    "### 6.3.3 Hyperparameter tuning for SVM\n",
    "\n",
    "Hyperparameter tuning is the process of tuning the parameters of a model. Here I will tune the parameters of support vector classifier using GridSearchCV."
   ]
  },
  {
   "cell_type": "code",
   "execution_count": null,
   "metadata": {
    "scrolled": true
   },
   "outputs": [],
   "source": [
    "# param_grid = {'n_neighbors': [1,2,3,4,5,6],  \n",
    "#              # 'gamma': [1, 0.1, 0.01, 0.001, 0.0001], \n",
    "#              # 'kernel': ['rbf']}  \n",
    "# }\n",
    "# grid = GridSearchCV(KNeighborsClassifier(), param_grid, refit = True, verbose = 3) \n",
    "\n",
    "# grid.fit(X_train, Y_train) "
   ]
  },
  {
   "cell_type": "code",
   "execution_count": null,
   "metadata": {},
   "outputs": [],
   "source": [
    "param_grid = {'alpha': [0,1e-5,1e-4,1e-3,1e-2,1e-1,1],  \n",
    "             # 'gamma': [1, 0.1, 0.01, 0.001, 0.0001], \n",
    "             # 'kernel': ['rbf']}  \n",
    "}\n",
    "grid = GridSearchCV(MLPClassifier(), param_grid, refit = True, verbose = 3) \n",
    "\n",
    "grid.fit(X_train, Y_train) "
   ]
  },
  {
   "cell_type": "code",
   "execution_count": null,
   "metadata": {
    "scrolled": true
   },
   "outputs": [],
   "source": [
    "print(\"Best parameters: \", grid.best_params_) \n",
    "print(\"Best estimator: \", grid.best_estimator_)# what is this"
   ]
  },
  {
   "cell_type": "code",
   "execution_count": null,
   "metadata": {},
   "outputs": [],
   "source": [
    "# Training accuracy\n",
    "\n",
    "# #svc = KNeighborsClassifier(C = 100, gamma = 0.01, kernel = 'rbf')\n",
    "# knn = KNeighborsClassifier(n_neighbors=6)\n",
    "# knn.fit(X_train,Y_train)\n",
    "# #svc.fit(X_train, Y_train)\n",
    "# Y_pred = knn.predict(X_test)\n",
    "# acc_svc = round(knn.score(X_train, Y_train) * 100, 2)\n",
    "# acc_svc"
   ]
  },
  {
   "cell_type": "code",
   "execution_count": null,
   "metadata": {},
   "outputs": [],
   "source": [
    "#svc = KNeighborsClassifier(C = 100, gamma = 0.01, kernel = 'rbf')\n",
    "mlp = grid.best_estimator_\n",
    "trainedAndTunedlMLP=mlp.fit(X_train,Y_train)\n",
    "#svc.fit(X_train, Y_train)\n",
    "Y_pred = mlp.predict(X_test)\n",
    "acc_svc = round(mlp.score(X_train, Y_train) * 100, 2)\n",
    "acc_svc"
   ]
  },
  {
   "cell_type": "code",
   "execution_count": null,
   "metadata": {
    "scrolled": true
   },
   "outputs": [],
   "source": [
    "# Mean cross validation score\n",
    "\n",
    "cross_val_score(mlp, X_train, Y_train, scoring = 'accuracy', cv = 5).mean()"
   ]
  },
  {
   "cell_type": "markdown",
   "metadata": {},
   "source": [
    "Our mean cross validation score improved slightly."
   ]
  },
  {
   "cell_type": "code",
   "execution_count": null,
   "metadata": {},
   "outputs": [],
   "source": [
    "# Survival predictions by support vector classifier\n",
    "\n",
    "Y_pred"
   ]
  },
  {
   "cell_type": "code",
   "execution_count": null,
   "metadata": {},
   "outputs": [],
   "source": [
    "len(Y_pred)"
   ]
  },
  {
   "cell_type": "markdown",
   "metadata": {},
   "source": [
    "### 6.3.4 Ensembles"
   ]
  },
  {
   "cell_type": "code",
   "execution_count": null,
   "metadata": {},
   "outputs": [],
   "source": [
    "best_trained_MLP =trainedAndTunedlMLP #still not sure what this estimator is\n",
    "trained_knn = KNNtrained\n",
    "trained_lg = LGtrained\n",
    "\n",
    "\n",
    "voting_clf_soft = VotingClassifier(estimators = [('mlp',best_trained_MLP),('knn',trained_knn),('lg',trained_lg)], voting = 'soft') \n",
    "\n",
    "\n",
    "\n",
    "print('voting_clf_soft :',cross_val_score(voting_clf_soft,X_train,Y_train,cv=5))\n",
    "print('voting_clf_soft mean :',cross_val_score(voting_clf_soft,X_train,Y_train,cv=5).mean())\n",
    "\n",
    "params = {'weights' : [[1,1,1],[1,2,1],[1,1,2],[2,1,1],[2,2,1],[1,2,2],[2,1,2]]}\n",
    "\n",
    "vote_weight = GridSearchCV(voting_clf_soft, param_grid = params, cv = 5, verbose = True, n_jobs = -1)\n",
    "best_clf_weight = vote_weight.fit(X_train, Y_train)\n",
    "voting_clf_sub = best_clf_weight.best_estimator_.predict(X_test)\n",
    "\n",
    "voting_clf_soft.fit(X_train, Y_train)\n",
    "Y_pred =  voting_clf_soft.predict(X_test).astype(int)"
   ]
  },
  {
   "cell_type": "markdown",
   "metadata": {},
   "source": [
    "# 7. Preparing data for submission"
   ]
  },
  {
   "cell_type": "code",
   "execution_count": null,
   "metadata": {
    "scrolled": true
   },
   "outputs": [],
   "source": [
    "ss.head()"
   ]
  },
  {
   "cell_type": "code",
   "execution_count": null,
   "metadata": {
    "scrolled": true
   },
   "outputs": [],
   "source": [
    "ss.shape"
   ]
  },
  {
   "cell_type": "markdown",
   "metadata": {},
   "source": [
    "We want our submission dataframe to have 418 rows and 2 columns, PassengerId and Survived. "
   ]
  },
  {
   "cell_type": "code",
   "execution_count": null,
   "metadata": {
    "scrolled": true
   },
   "outputs": [],
   "source": [
    "# Create submission dataframe\n",
    "\n",
    "submit = pd.DataFrame({'PassengerId': test['PassengerId'], 'Survived': Y_pred})\n",
    "submit.head()"
   ]
  },
  {
   "cell_type": "code",
   "execution_count": null,
   "metadata": {
    "scrolled": true
   },
   "outputs": [],
   "source": [
    "submit.shape"
   ]
  },
  {
   "cell_type": "markdown",
   "metadata": {},
   "source": [
    "Our dataframe is ready for submission!"
   ]
  },
  {
   "cell_type": "code",
   "execution_count": null,
   "metadata": {},
   "outputs": [],
   "source": [
    "# Create and save csv file \n",
    "\n",
    "submit.to_csv(\"submission.csv\", index = False)"
   ]
  },
  {
   "cell_type": "markdown",
   "metadata": {},
   "source": [
    "# 8. Possible extensions to improve model accuracy\n",
    "\n",
    "1. Analyse ticket and cabin features\n",
    "    - Do these features help predict passenger survival?\n",
    "    - If yes, consider including them in the training set instead of dropping\n",
    "2. Come up with alternative features in feature engineering\n",
    "    - Is there any other features you can potentially create from existing features in the dataset\n",
    "3. Remove features that are less important\n",
    "    - Does removing features help reduce overfitting in the model?\n",
    "4. Ensemble modelling\n",
    "    - This is a more advanced technique whereby you combine prediction results from multiple machine learning models"
   ]
  },
  {
   "cell_type": "markdown",
   "metadata": {},
   "source": [
    "# 9. Conclusion\n",
    "\n",
    "You should achieve a submission score of 0.77511 if you follow exactly what I have done in this notebook. In other words, I have correctly predicted 77.5% of the test set. I highly encourage you to work through this project again and see if you can improve on this result.\n",
    "\n",
    "If you found any mistakes in the notebook or places where I can potentially improve on, feel free to reach out to me. Let's help each other get better - happy learning!\n",
    "\n",
    "My platforms: \n",
    "- [Facebook](https://www.facebook.com/chongjason914)\n",
    "- [Instagram](https://www.instagram.com/chongjason914)\n",
    "- [Twitter](https://www.twitter.com/chongjason914)\n",
    "- [LinkedIn](https://www.linkedin.com/in/chongjason914)\n",
    "- [YouTube](https://www.youtube.com/channel/UCQXiCnjatxiAKgWjoUlM-Xg?view_as=subscriber)\n",
    "- [Medium](https://www.medium.com/@chongjason)"
   ]
  },
  {
   "cell_type": "markdown",
   "metadata": {},
   "source": [
    "## References\n",
    "https://github.com/chongjason914/kaggle-titanic \n",
    "\n",
    "https://www.kaggle.com/code/ldfreeman3/a-data-science-framework-to-achieve-99-accuracy\n",
    "\n",
    "https://github.com/murilogustineli/Titanic-Classification\n",
    "\n",
    "https://www.kaggle.com/code/kenjee/titanic-project-example/notebook\n",
    "\n"
   ]
  }
 ],
 "metadata": {
  "interpreter": {
   "hash": "030fbe4849e2a3aea252fdb90aa6d847c8d88966b5e4ee449c89545a91296c3a"
  },
  "kernelspec": {
   "display_name": "Python 3.9.7 ('base')",
   "language": "python",
   "name": "python3"
  },
  "language_info": {
   "codemirror_mode": {
    "name": "ipython",
    "version": 3
   },
   "file_extension": ".py",
   "mimetype": "text/x-python",
   "name": "python",
   "nbconvert_exporter": "python",
   "pygments_lexer": "ipython3",
   "version": "3.9.7"
  }
 },
 "nbformat": 4,
 "nbformat_minor": 4
}
