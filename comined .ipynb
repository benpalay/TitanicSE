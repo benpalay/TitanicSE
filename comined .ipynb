{
 "cells": [
  {
   "cell_type": "markdown",
   "metadata": {},
   "source": [
    "# 1. Import libraries\n",
    "\n"
   ]
  },
  {
   "cell_type": "code",
   "execution_count": null,
   "metadata": {},
   "outputs": [],
   "source": [
    "import pandas as pd\n",
    "import numpy as np\n",
    "import missingno\n",
    "from collections import Counter\n",
    "\n",
    "# Data visualisation\n",
    "import seaborn as sns\n",
    "import matplotlib.pyplot as plt\n",
    "\n",
    "# Machine learning models\n",
    "from sklearn.linear_model import LogisticRegression, Perceptron, SGDClassifier\n",
    "from sklearn.svm import SVC, LinearSVC\n",
    "from sklearn.ensemble import RandomForestClassifier\n",
    "from sklearn.neighbors import KNeighborsClassifier\n",
    "from sklearn.naive_bayes import GaussianNB\n",
    "from sklearn.tree import DecisionTreeClassifier\n",
    "from sklearn.neural_network import MLPClassifier\n",
    "from catboost import CatBoostClassifier\n",
    "\n",
    "from sklearn.ensemble import VotingClassifier\n",
    "\n",
    "# Model evaluation\n",
    "from sklearn.model_selection import cross_val_score\n",
    "\n",
    "# Hyperparameter tuning\n",
    "from sklearn.model_selection import GridSearchCV\n",
    "\n",
    "# Remove warnings\n",
    "import warnings\n",
    "warnings.filterwarnings('ignore')"
   ]
  },
  {
   "cell_type": "markdown",
   "metadata": {},
   "source": [
    "# 2. Import and read data\n",
    "\n",
    "Now import and read the 3 datasets as outlined in the introduction."
   ]
  },
  {
   "cell_type": "code",
   "execution_count": null,
   "metadata": {},
   "outputs": [],
   "source": [
    "train = pd.read_csv(\"train.csv\")\n",
    "test = pd.read_csv(\"test.csv\")\n",
    "ss = pd.read_csv(\"gender_submission.csv\")\n",
    "\n",
    "train_copy = pd.read_csv(\"train.csv\")\n",
    "test_copy = pd.read_csv(\"test.csv\")\n"
   ]
  },
  {
   "cell_type": "markdown",
   "metadata": {},
   "source": [
    "Let's have a look at the datasets."
   ]
  },
  {
   "cell_type": "code",
   "execution_count": null,
   "metadata": {
    "scrolled": true
   },
   "outputs": [],
   "source": [
    "train.head()"
   ]
  },
  {
   "cell_type": "code",
   "execution_count": null,
   "metadata": {},
   "outputs": [],
   "source": [
    "test.head()"
   ]
  },
  {
   "cell_type": "markdown",
   "metadata": {},
   "source": [
    "# 3. Data description"
   ]
  },
  {
   "cell_type": "markdown",
   "metadata": {},
   "source": [
    "Here I will outline the definitions of the columns in the titanic dataset. You can find this information under the [data](https://www.kaggle.com/c/titanic/data) tab of the competition page.\n",
    "\n",
    "- Survived: 0 = Did not survive, 1 = Survived\n",
    "\n",
    "- Pclass: Ticket class where 1 = First class, 2 = Second class, 3 = Third class. This can also be seen as a proxy for socio-economic status.\n",
    "\n",
    "- Sex: Male or female\n",
    "\n",
    "- Age: Age in years, fractional if less than 1\n",
    "\n",
    "- SibSp: Number of siblings or spouses aboard the titanic\n",
    "\n",
    "- Parch: Number of parents or children aboard the titanic\n",
    "\n",
    "- Ticket: Passenger ticket number\n",
    "\n",
    "- Fare: Passenger fare\n",
    "\n",
    "- Cabin: Cabin number\n",
    "\n",
    "- Embarked: Point of embarkation where C = Cherbourg, Q = Queenstown, S = Southampton\n",
    "\n",
    "\n",
    "The data has been split into two groups:\n",
    "- training set (train.csv)\n",
    "- test set (test.csv)\n",
    "\n",
    "The training set includes passengers survival status (also know as the ground truth from the titanic tragedy) which along with other features like gender, class, fare and pclass is used to create the machine learning model.\n",
    "\n",
    "The test set should be used to see how well the model performs on unseen data. The test set does not provide passengers survival status. We are going to use our model to predict passenger survival status.\n",
    "\n",
    "This is clearly a <font color='red'>__Classification problem__.</font> In predictive analytics, when the <font color='red'>__target__</font> is a categorical variable, we are in a category of tasks known as <font color='red'>__classification tasks.__</font>"
   ]
  },
  {
   "cell_type": "markdown",
   "metadata": {},
   "source": [
    "# 4. Exploratory Data Analysis (EDA)"
   ]
  },
  {
   "cell_type": "markdown",
   "metadata": {},
   "source": [
    "Exploratory data analysis is the process of visualising and analysing data to extract insights. In other words, we want to summarise important characteristics and trends in our data in order to gain a better understanding of our dataset.\n",
    "\n",
    "__Exploratory Data Analysis__ refers to the critical process of performing initial investigations on data so as to discover patterns, to spot anomalies, to test hypothesis and to check assumptions with the help of summary statistics and graphical representations.\n",
    "\n",
    "In summary, it's an approach to analyzing data sets to summarize their main characteristics, often with visual methods."
   ]
  },
  {
   "cell_type": "markdown",
   "metadata": {},
   "source": [
    "## 4.1 Data types,data shapes, missing data and summary statistics"
   ]
  },
  {
   "cell_type": "markdown",
   "metadata": {},
   "source": [
    "### 4.1.1.Data Types"
   ]
  },
  {
   "cell_type": "code",
   "execution_count": null,
   "metadata": {},
   "outputs": [],
   "source": [
    "# Non-null count and data types of the training\n",
    "\n",
    "train.info()"
   ]
  },
  {
   "cell_type": "markdown",
   "metadata": {},
   "source": [
    "The training-set has 891 rows and 11 features + the __target variable (survived).__ 2 of the features are floats, 5 are integers and 5 are objects."
   ]
  },
  {
   "cell_type": "markdown",
   "metadata": {},
   "source": [
    "### 4.1.2.Data Shape"
   ]
  },
  {
   "cell_type": "code",
   "execution_count": null,
   "metadata": {},
   "outputs": [],
   "source": [
    "print(\"Training set shape: \", train.shape)\n",
    "print(\"Test set shape: \", test.shape)"
   ]
  },
  {
   "cell_type": "markdown",
   "metadata": {},
   "source": [
    "Note that the test set has one column less than training set, the Survived column. This is because Survived is our response variable, or sometimes called a target variable. Our job is to analyse the data in the training set and predict the survival of the passengers in the test set.\n",
    "\n",
    "What about sample submission?"
   ]
  },
  {
   "cell_type": "markdown",
   "metadata": {},
   "source": [
    "### 4.1.3.Missing Values"
   ]
  },
  {
   "cell_type": "code",
   "execution_count": null,
   "metadata": {},
   "outputs": [],
   "source": [
    "# Missing data in training set by columns\n",
    "\n",
    "train.isnull().sum().sort_values(ascending = False)"
   ]
  },
  {
   "cell_type": "code",
   "execution_count": null,
   "metadata": {},
   "outputs": [],
   "source": [
    "# Missing data in test set by columns \n",
    "\n",
    "test.isnull().sum().sort_values(ascending = False)"
   ]
  },
  {
   "cell_type": "code",
   "execution_count": null,
   "metadata": {},
   "outputs": [],
   "source": [
    "#percentages of missing values in training data\n",
    "total = train.isnull().sum().sort_values(ascending=False)\n",
    "percent_1 = train.isnull().sum()/train.isnull().count()*100\n",
    "percent_2 = (round(percent_1, 1)).sort_values(ascending=False)\n",
    "missing_data = pd.concat([total, percent_2], axis=1, keys=['Total', '%'])\n",
    "missing_data.head(13)"
   ]
  },
  {
   "cell_type": "markdown",
   "metadata": {},
   "source": [
    "Seems like Age, Cabin and Embarked colummns in the training set have missing data  while Age, Fare and Cabin in the test set have missing data. \n",
    "\n",
    "In the training set:\n",
    "The __'Embarked'__ feature has only 2 missing values, which can easily be filled or dropped. It will be much more tricky to deal with the __‘Age’__ feature, which has 177 missing values. The __‘Cabin’__ feature needs further investigation, but it looks like we might want to drop it from the dataset since 77% is missing."
   ]
  },
  {
   "cell_type": "markdown",
   "metadata": {},
   "source": [
    "### 4.1.4.Statistics"
   ]
  },
  {
   "cell_type": "code",
   "execution_count": null,
   "metadata": {},
   "outputs": [],
   "source": [
    "# Summary statistics for training set \n",
    "\n",
    "train.describe()"
   ]
  },
  {
   "cell_type": "markdown",
   "metadata": {},
   "source": [
    "__.describe()__ gives an understanding of the central tendencies of the numeric data.\n",
    "\n",
    "- Above we can see that __38% out of the training-set survived the Titanic.__ \n",
    "- We can also see that the passenger age range from __0.4 to 80 years old.__\n",
    "- We can already detect some features that contain __missing values__, like the ‘Age’ feature (714 out of 891 total).\n",
    "- There's an __outlier__ for the 'Fare' price because of the differences between the 75th percentile, standard deviation, and the max value (512). We might want to drop that value."
   ]
  },
  {
   "cell_type": "code",
   "execution_count": null,
   "metadata": {},
   "outputs": [],
   "source": [
    "# Summary statistics for test set \n",
    "\n",
    "test.describe()"
   ]
  },
  {
   "cell_type": "markdown",
   "metadata": {},
   "source": [
    "## 4.2 Feature analysis"
   ]
  },
  {
   "cell_type": "markdown",
   "metadata": {},
   "source": [
    "A dataframe is made up of rows and columns. Number of rows correspond to the number of observations in our dataset whereas columns, sometimes called features, represent characteristics that help describe these observations. In our dataset, rows are the passengers on the titanic whereas columns are the features that describe the passengers like their age, gender etc.\n",
    "\n",
    "Before we move on, it is also important to note the difference between a categorical variable and a numerical variable. Categorical variables, as the name suggests, have values belonging to one of two or more categories and there is usually no intrinsic ordering to these categories. An example of this in our data is the Sex feature. Every passenger is distinctly classified as either male or female. Numerical variables, on the other hand, have a continuous distribution. Some examples of numerical variables are the Age and Fare features.\n",
    "\n",
    "Knowing if a feature is a numerical variable or categorical variable helps us structure our analysis more properly. For instance, it doesn't make sense to calculate the average of a categorical variable such as gender simply because gender is a binary classification and therefore has no intrinsic ordering to its values.\n",
    "\n",
    "In this next section of the notebook, we will analyse the features in our dataset individually and see how they correlate with survival probability."
   ]
  },
  {
   "cell_type": "markdown",
   "metadata": {},
   "source": [
    "### 4.2.1 Categorical variables\n",
    "\n",
    "Categorical variables in our dataset are Sex, Pclass and Embarked."
   ]
  },
  {
   "cell_type": "markdown",
   "metadata": {},
   "source": [
    "#### 4.2.1.1.Categorical variable: Sex"
   ]
  },
  {
   "cell_type": "code",
   "execution_count": null,
   "metadata": {},
   "outputs": [],
   "source": [
    "# Value counts of the sex column\n",
    "\n",
    "train['Sex'].value_counts(dropna = False)"
   ]
  },
  {
   "cell_type": "markdown",
   "metadata": {},
   "source": [
    "Observation: There are more male passengers than female passengers on titanic"
   ]
  },
  {
   "cell_type": "code",
   "execution_count": null,
   "metadata": {},
   "outputs": [],
   "source": [
    "# Mean of survival by sex\n",
    "\n",
    "train[['Sex', 'Survived']].groupby('Sex', as_index = False).mean().sort_values(by = 'Survived', ascending = False)"
   ]
  },
  {
   "cell_type": "code",
   "execution_count": null,
   "metadata": {
    "scrolled": true
   },
   "outputs": [],
   "source": [
    "sns.barplot(x = 'Sex', y ='Survived', data = train)\n",
    "plt.ylabel('Survival Probability')\n",
    "plt.title('Survival Probability by Gender')"
   ]
  },
  {
   "cell_type": "markdown",
   "metadata": {},
   "source": [
    "Observation: Female passengers are more likely to survive"
   ]
  },
  {
   "cell_type": "markdown",
   "metadata": {},
   "source": [
    "#### 4.2.1.2.Categorical variable: Pclass"
   ]
  },
  {
   "cell_type": "code",
   "execution_count": null,
   "metadata": {},
   "outputs": [],
   "source": [
    "# Value counts of the Pclass column \n",
    "\n",
    "train['Pclass'].value_counts(dropna = False)"
   ]
  },
  {
   "cell_type": "code",
   "execution_count": null,
   "metadata": {},
   "outputs": [],
   "source": [
    "# Mean of survival by passenger class\n",
    "\n",
    "train[['Pclass', 'Survived']].groupby(['Pclass'], as_index = False).mean().sort_values(by = 'Survived', ascending = False)"
   ]
  },
  {
   "cell_type": "code",
   "execution_count": null,
   "metadata": {},
   "outputs": [],
   "source": [
    "plt.subplots(figsize=(10,8))\n",
    "ax=sns.kdeplot(train.loc[(train['Survived'] == 0),'Pclass'],shade=True,color='r',label='Not Survived')\n",
    "ax.legend()\n",
    "ax=sns.kdeplot(train.loc[(train['Survived'] == 1),'Pclass'],shade=True,color='b',label='Survived')\n",
    "ax.legend()\n",
    "\n",
    "plt.title(\"Passenger Class Distribution - Survived vs Non-Survived\", fontsize = 25)\n",
    "labels = ['First', 'Second', 'Third']\n",
    "plt.xticks(sorted(train.Pclass.unique()),labels);"
   ]
  },
  {
   "cell_type": "code",
   "execution_count": null,
   "metadata": {
    "scrolled": true
   },
   "outputs": [],
   "source": [
    "sns.barplot(x = 'Pclass', y ='Survived', data = train)\n",
    "plt.ylabel('Survival Probability')\n",
    "plt.title('Survival Probability by Passenger Class')\n",
    "\n",
    "# Comment: Survival probability decrease with passenger class, first class passengers are prioritised during evacuation"
   ]
  },
  {
   "cell_type": "markdown",
   "metadata": {},
   "source": [
    "notebook 5\n",
    "Observation: The graphs above clearly shows that economic status (Pclass) played an important role regarding the potential survival of the Titanic passengers. First class passengers had a much higher chance of survival than passengers in the 3rd class. We note that:\n",
    "\n",
    "63% of the 1st class passengers survived the Titanic wreck\n",
    "48% of the 2nd class passengers survived\n",
    "Only 24% of the 3rd class passengers survived"
   ]
  },
  {
   "cell_type": "markdown",
   "metadata": {},
   "source": [
    "#### 4.2.1.3.Categorical variables combined: Sex and Plass"
   ]
  },
  {
   "cell_type": "code",
   "execution_count": null,
   "metadata": {},
   "outputs": [],
   "source": [
    "# Survival by gender and passenger class\n",
    "\n",
    "g = sns.factorplot(x = 'Pclass', y = 'Survived', hue = 'Sex', data = train, kind = 'bar')\n",
    "g.despine(left = True)\n",
    "plt.ylabel('Survival Probability')\n",
    "plt.title('Survival Probability by Sex and Passenger Class')"
   ]
  },
  {
   "cell_type": "markdown",
   "metadata": {},
   "source": [
    "#Aiden did this\n",
    "Observation: This indicates that in every class females where always more likely to survive. The higher the class the greater the chnace of survival of the men. "
   ]
  },
  {
   "cell_type": "markdown",
   "metadata": {},
   "source": [
    "#### 4.2.1.4.Categorical variable: Embarked"
   ]
  },
  {
   "cell_type": "code",
   "execution_count": null,
   "metadata": {
    "scrolled": true
   },
   "outputs": [],
   "source": [
    "# Value counts of the Embarked column \n",
    "#NAN is the missing values in Embarked\n",
    "\n",
    "train['Embarked'].value_counts(dropna = False)"
   ]
  },
  {
   "cell_type": "code",
   "execution_count": null,
   "metadata": {},
   "outputs": [],
   "source": [
    "# Mean of survival by point of embarkation\n",
    "\n",
    "train[['Embarked', 'Survived']].groupby(['Embarked'], as_index = False).mean().sort_values(by = 'Survived', ascending = False)"
   ]
  },
  {
   "cell_type": "code",
   "execution_count": null,
   "metadata": {},
   "outputs": [],
   "source": [
    "sns.barplot(x = 'Embarked', y ='Survived', data = train)\n",
    "plt.ylabel('Survival Probability')\n",
    "plt.title('Survival Probability by Point of Embarkation')"
   ]
  },
  {
   "cell_type": "markdown",
   "metadata": {},
   "source": [
    "Survival probability is highest for location C and lowest for location S.\n",
    "\n",
    "Is there a reason for this occurence? We can formulate a hypothesis whereby the majority of the first class passengers have embarked from location C and because they have a highest survival probability, this has resulted in location C having a highest survival probability. Alternatively, there could have been more third class passengers that embarked from location S and because they have the lowest survival probability, this has caused location S to have the lowest survival probability.\n",
    "\n",
    "Let us now test this hypothesis."
   ]
  },
  {
   "cell_type": "markdown",
   "metadata": {},
   "source": [
    "#### 4.2.1.5.Categorical variable combined: Embarked and Class"
   ]
  },
  {
   "cell_type": "code",
   "execution_count": null,
   "metadata": {
    "scrolled": true
   },
   "outputs": [],
   "source": [
    "sns.factorplot('Pclass', col = 'Embarked', data = train, kind = 'count')"
   ]
  },
  {
   "cell_type": "markdown",
   "metadata": {},
   "source": [
    "Our hypothesis appears to be true. Location S has the most third class passengers whereas location C has the most first class passengers. "
   ]
  },
  {
   "cell_type": "markdown",
   "metadata": {},
   "source": [
    "### 4.2.2 Numerical variables\n",
    "\n",
    "Numerical variables in our dataset are SibSp, Parch, Age and Fare."
   ]
  },
  {
   "cell_type": "markdown",
   "metadata": {},
   "source": [
    "#### 4.2.2.1.Detect outliers in numerical variables"
   ]
  },
  {
   "cell_type": "markdown",
   "metadata": {},
   "source": [
    "Outliers are data points that have extreme values and they do not conform with the majority of the data. It is important to address this because outliers tend to skew our data towards extremes and can cause inaccurate model predictions. I will use the Tukey method to detect these outliers which will later be dropped under data processing"
   ]
  },
  {
   "cell_type": "code",
   "execution_count": null,
   "metadata": {},
   "outputs": [],
   "source": [
    "def detect_outliers(df, n, features):\n",
    "    \"\"\"\"\n",
    "    This function will loop through a list of features and detect outliers in each one of those features. In each\n",
    "    loop, a data point is deemed an outlier if it is less than the first quartile minus the outlier step or exceeds\n",
    "    third quartile plus the outlier step. The outlier step is defined as 1.5 times the interquartile range. Once the \n",
    "    outliers have been determined for one feature, their indices will be stored in a list before proceeding to the next\n",
    "    feature and the process repeats until the very last feature is completed. Finally, using the list with outlier \n",
    "    indices, we will count the frequencies of the index numbers and return them if their frequency exceeds n times.    \n",
    "    \"\"\"\n",
    "\n",
    "    #can relace outliers with the mean/median (even grouped by title) and then add a column indicating if it was an outlier as the fact it was an outlier might be related to survival\n",
    "    outlier_indices = [] \n",
    "    for col in features: \n",
    "        Q1 = np.percentile(df[col], 25)\n",
    "        Q3 = np.percentile(df[col], 75)\n",
    "        IQR = Q3 - Q1\n",
    "        outlier_step = 1.5 * IQR \n",
    "        outlier_list_col = df[(df[col] < Q1 - outlier_step) | (df[col] > Q3 + outlier_step)].index\n",
    "        outlier_indices.extend(outlier_list_col) \n",
    "    outlier_indices = Counter(outlier_indices)\n",
    "    multiple_outliers = list(key for key, value in outlier_indices.items() if value > n) \n",
    "    return multiple_outliers\n",
    "\n",
    "outliers_to_drop = detect_outliers(train, 2, ['Age', 'SibSp', 'Parch', 'Fare'])#these are the four numerical variables discussed\n",
    "outliers_to_drop_test = detect_outliers(test, 2, ['Age', 'SibSp', 'Parch', 'Fare'])#these are the four numerical variables discussed\n",
    "# outliers_to_drop = detect_outliers(train, 1, ['Age','Fare'])#these are the four numerical variables discussed\n",
    "# outliers_to_drop_test = detect_outliers(test, 1, ['Age', 'Fare'])#these are the four numerical variables discussed\n",
    "\n",
    "print(\"We will drop these {} indices: \".format(len(outliers_to_drop)), outliers_to_drop) "
   ]
  },
  {
   "cell_type": "code",
   "execution_count": null,
   "metadata": {},
   "outputs": [],
   "source": [
    "# Outliers in numerical variables\n",
    "#allows us to look at the 10 rows identified above as rows containing outliers\n",
    "train.loc[outliers_to_drop, :]"
   ]
  },
  {
   "cell_type": "markdown",
   "metadata": {},
   "source": [
    "#### 4.2.2.2.Numerical variables correlation with survival"
   ]
  },
  {
   "cell_type": "code",
   "execution_count": null,
   "metadata": {},
   "outputs": [],
   "source": [
    "df_num = train[['Age','SibSp','Parch','Fare']]\n",
    "plt.subplots(figsize = (12,6))\n",
    "sns.heatmap(df_num.corr(), annot=True,cmap=\"RdBu\")\n",
    "plt.title(\"Correlations Among Numeric Features\", fontsize = 18);"
   ]
  },
  {
   "cell_type": "markdown",
   "metadata": {},
   "source": [
    "We notice from the heatmap above that:\n",
    "- __Parents and sibling like to travel together <font color='blue'>(light blue squares)__</font> Therefore it will useful to create a isAlone and a family size feature\n",
    "- __Age has a high negative correlation with number of siblings__"
   ]
  },
  {
   "cell_type": "markdown",
   "metadata": {},
   "source": [
    "#### 4.2.2.3.Numerical variable: SibSp"
   ]
  },
  {
   "cell_type": "code",
   "execution_count": null,
   "metadata": {},
   "outputs": [],
   "source": [
    "# Value counts of the SibSp column \n",
    "#numbner of siblings\n",
    "train['SibSp'].value_counts(dropna = False)"
   ]
  },
  {
   "cell_type": "code",
   "execution_count": null,
   "metadata": {},
   "outputs": [],
   "source": [
    "# Mean of survival by SibSp\n",
    "\n",
    "train[['SibSp', 'Survived']].groupby('SibSp', as_index = False).mean().sort_values(by = 'Survived', ascending = False)"
   ]
  },
  {
   "cell_type": "code",
   "execution_count": null,
   "metadata": {},
   "outputs": [],
   "source": [
    "sns.barplot(x = 'SibSp', y ='Survived', data = train)\n",
    "plt.ylabel('Survival Probability')\n",
    "plt.title('Survival Probability by SibSp')"
   ]
  },
  {
   "cell_type": "markdown",
   "metadata": {},
   "source": [
    "#### 4.2.2.4.Numerical variable: Parch"
   ]
  },
  {
   "cell_type": "code",
   "execution_count": null,
   "metadata": {},
   "outputs": [],
   "source": [
    "# Value counts of the Parch column \n",
    "\n",
    "train['Parch'].value_counts(dropna = False)"
   ]
  },
  {
   "cell_type": "code",
   "execution_count": null,
   "metadata": {},
   "outputs": [],
   "source": [
    "# Mean of survival by Parch\n",
    "\n",
    "train[['Parch', 'Survived']].groupby('Parch', as_index = False).mean().sort_values(by = 'Survived', ascending = False)"
   ]
  },
  {
   "cell_type": "code",
   "execution_count": null,
   "metadata": {},
   "outputs": [],
   "source": [
    "sns.barplot(x = 'Parch', y ='Survived', data = train)\n",
    "plt.ylabel('Survival Probability')\n",
    "plt.title('Survival Probability by Parch')"
   ]
  },
  {
   "cell_type": "markdown",
   "metadata": {},
   "source": [
    "#### 4.2.2.5.Numerical variable: Age"
   ]
  },
  {
   "cell_type": "code",
   "execution_count": null,
   "metadata": {},
   "outputs": [],
   "source": [
    "# Null values in Age column \n",
    "\n",
    "train['Age'].isnull().sum()"
   ]
  },
  {
   "cell_type": "code",
   "execution_count": null,
   "metadata": {},
   "outputs": [],
   "source": [
    "# Passenger age distribution\n",
    "\n",
    "sns.distplot(train['Age'], label = 'Skewness: %.2f'%(train['Age'].skew()))\n",
    "plt.legend(loc = 'best')\n",
    "plt.title('Passenger Age Distribution')"
   ]
  },
  {
   "cell_type": "code",
   "execution_count": null,
   "metadata": {},
   "outputs": [],
   "source": [
    "# Age distribution by survival\n",
    "\n",
    "g = sns.FacetGrid(train, col = 'Survived')\n",
    "g.map(sns.distplot, 'Age')"
   ]
  },
  {
   "cell_type": "code",
   "execution_count": null,
   "metadata": {
    "scrolled": true
   },
   "outputs": [],
   "source": [
    "sns.kdeplot(train['Age'][train['Survived'] == 0], label = 'Did not survive')\n",
    "sns.kdeplot(train['Age'][train['Survived'] == 1], label = 'Survived')\n",
    "plt.xlabel('Age')\n",
    "plt.title('Passenger Age Distribution by Survival')"
   ]
  },
  {
   "cell_type": "markdown",
   "metadata": {},
   "source": [
    "#### 4.2.2.6.Numerical variable: Fare"
   ]
  },
  {
   "cell_type": "code",
   "execution_count": null,
   "metadata": {},
   "outputs": [],
   "source": [
    "# Passenger fare distribution\n",
    "\n",
    "sns.distplot(train['Fare'], label = 'Skewness: %.2f'%(train['Fare'].skew()))\n",
    "plt.legend(loc = 'best')\n",
    "plt.ylabel('Passenger Fare Distribution')"
   ]
  },
  {
   "cell_type": "markdown",
   "metadata": {},
   "source": [
    "Fare seems to have a high skewness. We will address this issue later on in the notebook via log transformation. "
   ]
  },
  {
   "cell_type": "markdown",
   "metadata": {},
   "source": [
    "### 4.2.3 Correlation between categorical and numerical"
   ]
  },
  {
   "cell_type": "markdown",
   "metadata": {},
   "source": [
    "#### 4.2.3.1.All variables"
   ]
  },
  {
   "cell_type": "code",
   "execution_count": null,
   "metadata": {},
   "outputs": [],
   "source": [
    "sns.heatmap(train[['Survived', 'SibSp', 'Parch', 'Age', 'Fare','Pclass']].corr(), annot = True, fmt = '.2f', cmap = 'coolwarm')"
   ]
  },
  {
   "cell_type": "markdown",
   "metadata": {},
   "source": [
    "Observation: Fare seems to be the only feature that has a substantial correlation with survival"
   ]
  },
  {
   "cell_type": "markdown",
   "metadata": {},
   "source": [
    "#### 4.2.3.2.Age and Sex"
   ]
  },
  {
   "cell_type": "code",
   "execution_count": null,
   "metadata": {},
   "outputs": [],
   "source": [
    "survived = 'survived'\n",
    "not_survived = 'not survived'\n",
    "\n",
    "fig, axes = plt.subplots(nrows=1, ncols=2, figsize=(15, 5))\n",
    "\n",
    "women = train[train['Sex']=='female']\n",
    "men = train[train['Sex']=='male']\n",
    "\n",
    "# Plot Female Survived vs Not-Survived distribution\n",
    "ax = sns.histplot(women[women['Survived']==1].Age.dropna(), bins=20, label = survived, ax = axes[0],color='b', kde=True)\n",
    "ax = sns.histplot(women[women['Survived']==0].Age.dropna(), bins=20, label = not_survived, ax = axes[0],color='r', kde=True)\n",
    "ax.legend()\n",
    "ax.set_title('Female')\n",
    "\n",
    "# Plot Male Survived vs Not-Survived distribution\n",
    "ax = sns.histplot(men[men['Survived']==1].Age.dropna(), bins=20, label = survived, ax = axes[1],color='b', kde=True)\n",
    "ax = sns.histplot(men[men['Survived']==0].Age.dropna(), bins=20, label = not_survived, ax = axes[1],color='r', kde=True)\n",
    "ax.legend()\n",
    "ax.set_title('Male');"
   ]
  },
  {
   "cell_type": "markdown",
   "metadata": {},
   "source": [
    "We can see that __men__ have a higher probability of survival when they are between __18 and 35 years old.__ For __women,__ the survival chances are higher between __15 and 40 years old.__\n",
    "\n",
    "For men the probability of survival is very low between the __ages of 5 and 18__, and __after 35__, but that isn’t true for women. Another thing to note is that __infants have a higher probability of survival.__"
   ]
  },
  {
   "cell_type": "markdown",
   "metadata": {},
   "source": []
  },
  {
   "cell_type": "markdown",
   "metadata": {},
   "source": [
    "# 5. Data preprocessing\n",
    "\n",
    "Getting the dataset in a form to be modelled and trained. This includes:\n",
    "- Dealing with ouliers\n",
    "- Drop and fill missing values\n",
    "- Data transformation \n",
    "- Feature engineering\n",
    "- Feature encoding"
   ]
  },
  {
   "cell_type": "markdown",
   "metadata": {},
   "source": [
    "## 5.1 Remove Outliers"
   ]
  },
  {
   "cell_type": "code",
   "execution_count": null,
   "metadata": {},
   "outputs": [],
   "source": [
    "# Drop outliers \n",
    "\n",
    "print(\"Train Set Before: {} rows\".format(len(train)))\n",
    "#train = train.drop(outliers_to_drop, axis = 0).reset_index(drop = True)\n",
    "print(\"Train Set After: {} rows\".format(len(train)))\n",
    "print(\"Test Set Before: {} rows\".format(len(test)))\n",
    "# test = test.drop(outliers_to_drop_test, axis = 0).reset_index(drop = True)\n",
    "print(\"Test Set After: {} rows\".format(len(test)))"
   ]
  },
  {
   "cell_type": "markdown",
   "metadata": {},
   "source": [
    "## 5.2 Drop and fill missing values"
   ]
  },
  {
   "cell_type": "code",
   "execution_count": null,
   "metadata": {},
   "outputs": [],
   "source": [
    "# Drop ticket and cabin features from training and test set as they are unique or missing many values\n",
    "train = train.drop(['Ticket', 'Cabin'], axis = 1)\n",
    "test = test.drop(['Ticket', 'Cabin'], axis = 1)"
   ]
  },
  {
   "cell_type": "markdown",
   "metadata": {},
   "source": [
    "I have decided to drop both ticket and cabin for simplicity of this tutorial but if you have the time, I would recommend going through them and see if they can help improve your model."
   ]
  },
  {
   "cell_type": "code",
   "execution_count": null,
   "metadata": {},
   "outputs": [],
   "source": [
    "train.isnull().sum().sort_values(ascending = False)"
   ]
  },
  {
   "cell_type": "code",
   "execution_count": null,
   "metadata": {
    "scrolled": true
   },
   "outputs": [],
   "source": [
    "# Fill missing value in Embarked with mode as only 3 values\n",
    "mode = train['Embarked'].dropna().mode()[0]\n",
    "train['Embarked'].fillna(mode, inplace = True)"
   ]
  },
  {
   "cell_type": "code",
   "execution_count": null,
   "metadata": {},
   "outputs": [],
   "source": [
    "test.isnull().sum().sort_values(ascending = False)"
   ]
  },
  {
   "cell_type": "code",
   "execution_count": null,
   "metadata": {},
   "outputs": [],
   "source": [
    "# Fill missing value for Fare \n",
    "median = test['Fare'].dropna().median()\n",
    "test['Fare'].fillna(median, inplace = True)"
   ]
  },
  {
   "cell_type": "code",
   "execution_count": null,
   "metadata": {
    "scrolled": true
   },
   "outputs": [],
   "source": [
    "# Check where indeces of missing ages are\n",
    "age_nan_indices_train = list(train[train['Age'].isnull()].index)\n",
    "len(age_nan_indices_train)\n",
    "age_nan_indices_test = list(test[test['Age'].isnull()].index)\n"
   ]
  },
  {
   "cell_type": "markdown",
   "metadata": {},
   "source": [
    "Age is negatively correlated with SibSp, Parch and Pclass as shown in section 4. Loop through each those rows and fill the missing age with their median. Othwerise fill with the Age median."
   ]
  },
  {
   "cell_type": "code",
   "execution_count": null,
   "metadata": {},
   "outputs": [],
   "source": [
    "for index in age_nan_indices_train:\n",
    "    median_age = train['Age'].median()\n",
    "    predict_age = train['Age'][(train['SibSp'] == train.iloc[index]['SibSp']) \n",
    "                                 & (train['Parch'] == train.iloc[index]['Parch'])\n",
    "                                 & (train['Pclass'] == train.iloc[index][\"Pclass\"])].median()\n",
    "    if np.isnan(predict_age):\n",
    "        train['Age'].iloc[index] = median_age\n",
    "    else:\n",
    "        train['Age'].iloc[index] = predict_age\n",
    "combine = pd.concat([train, test], axis = 0).reset_index(drop = True)\n",
    "median_age = combine['Age'].median()\n",
    "for index in age_nan_indices_test:\n",
    "    #use larger sample to fill test data \n",
    "    test['Age'].iloc[index] = median_age  "
   ]
  },
  {
   "cell_type": "code",
   "execution_count": null,
   "metadata": {},
   "outputs": [],
   "source": [
    "# Make sure there are no more missing ages \n",
    "print(train['Age'].isnull().sum())\n",
    "test['Age'].isnull().sum()"
   ]
  },
  {
   "cell_type": "markdown",
   "metadata": {},
   "source": [
    "## 5.3 Data transformation\n",
    "\n",
    "Recall that our passenger fare column has a very high positive skewness. Therefore, we will apply a log transformation to address this issue."
   ]
  },
  {
   "cell_type": "code",
   "execution_count": null,
   "metadata": {},
   "outputs": [],
   "source": [
    "#  fare distribution\n",
    "\n",
    "sns.distplot(train['Fare'], label = 'Skewness: %.2f'%(train['Fare'].skew()))\n",
    "plt.legend(loc = 'best')\n",
    "plt.title('Passenger Fare Distribution')"
   ]
  },
  {
   "cell_type": "code",
   "execution_count": null,
   "metadata": {},
   "outputs": [],
   "source": [
    "# In order to reduce skewness in fare, apply log transformation \n",
    "train['Fare'] = train['Fare'].map(lambda x: np.log(x) if x > 0 else 0)\n",
    "test['Fare'] = test['Fare'].map(lambda x: np.log(x) if x > 0 else 0)"
   ]
  },
  {
   "cell_type": "code",
   "execution_count": null,
   "metadata": {},
   "outputs": [],
   "source": [
    "# After log transformation\n",
    "\n",
    "sns.distplot(train['Fare'], label = 'Skewness: %.2f'%(train['Fare'].skew()))\n",
    "plt.legend(loc = 'best')\n",
    "plt.title('Fare Distribution After Log Transformation')"
   ]
  },
  {
   "cell_type": "markdown",
   "metadata": {},
   "source": [
    "## 5.4 Feature engineering\n",
    "\n",
    "We create new features from existing features to obtain an improved model."
   ]
  },
  {
   "cell_type": "markdown",
   "metadata": {},
   "source": [
    "### 5.4.1 Title"
   ]
  },
  {
   "cell_type": "code",
   "execution_count": null,
   "metadata": {},
   "outputs": [],
   "source": [
    "train.head()"
   ]
  },
  {
   "cell_type": "code",
   "execution_count": null,
   "metadata": {},
   "outputs": [],
   "source": [
    "#Title from name column\n",
    "train['Title'] = [name.split(',')[1].split('.')[0].strip() for name in train['Name']]\n",
    "train[['Name', 'Title']].head()\n",
    "test['Title'] = [name.split(',')[1].split('.')[0].strip() for name in test['Name']]\n",
    "test[['Name', 'Title']].head()"
   ]
  },
  {
   "cell_type": "code",
   "execution_count": null,
   "metadata": {},
   "outputs": [],
   "source": [
    "# Value counts of Title\n",
    "train['Title'].value_counts()"
   ]
  },
  {
   "cell_type": "code",
   "execution_count": null,
   "metadata": {},
   "outputs": [],
   "source": [
    "# visualise the testing titles\n",
    "test['Title'].value_counts()"
   ]
  },
  {
   "cell_type": "code",
   "execution_count": null,
   "metadata": {},
   "outputs": [],
   "source": [
    "# Simplify Title as there are several unique itles that do not necessarily have a trend\n",
    "\n",
    "train['Title'] = train['Title'].replace(['Dr', 'Rev', 'Col', 'Major', 'Lady', 'Jonkheer', 'Don', 'Capt', 'the Countess',\n",
    "                                             'Sir'], 'Rare')\n",
    "train['Title'] = train['Title'].replace(['Mlle', 'Ms'], 'Miss')\n",
    "train['Title'] = train['Title'].replace('Mme', 'Mrs')\n",
    "\n",
    "test['Title'] = test['Title'].replace(['Dr', 'Rev', 'Col',  'Capt', 'Dona'], 'Rare')\n",
    "test['Title'] = test['Title'].replace(['Ms'], 'Miss')\n"
   ]
  },
  {
   "cell_type": "code",
   "execution_count": null,
   "metadata": {},
   "outputs": [],
   "source": [
    "# Drop name column as title has been extracted\n",
    "\n",
    "\n",
    "train = train.drop('Name', axis = 1)\n",
    "train.head()\n",
    "\n",
    "test = test.drop('Name', axis = 1)\n",
    "test.head()"
   ]
  },
  {
   "cell_type": "markdown",
   "metadata": {},
   "source": [
    "### 5.4.2 IsAlone"
   ]
  },
  {
   "cell_type": "code",
   "execution_count": null,
   "metadata": {},
   "outputs": [],
   "source": [
    "train['FamilySize'] = train['SibSp'] + train['Parch'] + 1\n",
    "train[['SibSp', 'Parch', 'FamilySize']].head()\n",
    "\n",
    "test['FamilySize'] = test['SibSp'] + test['Parch'] + 1\n",
    "test[['SibSp', 'Parch', 'FamilySize']].head()"
   ]
  },
  {
   "cell_type": "code",
   "execution_count": null,
   "metadata": {},
   "outputs": [],
   "source": [
    "# Create IsAlone feature as familySize may have more information than we need, leading to overfitting\n",
    "\n",
    "train['IsAlone'] = 0\n",
    "train.loc[train['FamilySize'] == 1, 'IsAlone'] = 1\n",
    "\n",
    "test['IsAlone'] = 0\n",
    "test.loc[test['FamilySize'] == 1, 'IsAlone'] = 1"
   ]
  },
  {
   "cell_type": "code",
   "execution_count": null,
   "metadata": {
    "scrolled": true
   },
   "outputs": [],
   "source": [
    "# Drop SibSp, Parch and FamilySize as this is contained in isAlone\n",
    "\n",
    "train = train.drop(['SibSp', 'Parch','FamilySize'], axis = 1)\n",
    "test = test.drop(['SibSp', 'Parch','FamilySize'], axis = 1)\n",
    "train.head()"
   ]
  },
  {
   "cell_type": "markdown",
   "metadata": {},
   "source": [
    "### 5.4.3 Age*Class"
   ]
  },
  {
   "cell_type": "markdown",
   "metadata": {},
   "source": [
    "First convert Age into an ordinal variable. Group Ages into 5 age bands "
   ]
  },
  {
   "cell_type": "code",
   "execution_count": null,
   "metadata": {},
   "outputs": [],
   "source": [
    "\n",
    "train['AgeBand'] = pd.cut(train['Age'], 5)\n",
    "test['AgeBand'] = pd.cut(test['Age'], 5)"
   ]
  },
  {
   "cell_type": "code",
   "execution_count": null,
   "metadata": {},
   "outputs": [],
   "source": [
    "train.loc[train['Age'] <= 16.136, 'Age'] = 0\n",
    "train.loc[(train['Age'] > 16.136) & (train['Age'] <= 32.102), 'Age'] = 1\n",
    "train.loc[(train['Age'] > 32.102) & (train['Age'] <= 48.068), 'Age'] = 2\n",
    "train.loc[(train['Age'] > 48.068) & (train['Age'] <= 64.034), 'Age'] = 3\n",
    "train.loc[train['Age'] > 64.034 , 'Age'] = 4\n",
    "\n",
    "test.loc[test['Age'] <= 16.136, 'Age'] = 0\n",
    "test.loc[(test['Age'] > 16.136) & (test['Age'] <= 32.102), 'Age'] = 1\n",
    "test.loc[(test['Age'] > 32.102) & (test['Age'] <= 48.068), 'Age'] = 2\n",
    "test.loc[(test['Age'] > 48.068) & (test['Age'] <= 64.034), 'Age'] = 3\n",
    "test.loc[test['Age'] > 64.034 , 'Age'] = 4\n",
    "\n",
    "# Drop age band feature\n",
    "train = train.drop('AgeBand', axis = 1)\n",
    "test = test.drop('AgeBand', axis = 1)"
   ]
  },
  {
   "cell_type": "code",
   "execution_count": null,
   "metadata": {
    "scrolled": true
   },
   "outputs": [],
   "source": [
    "# Convert ordinal Age into integer\n",
    "train['Age'] = train['Age'].astype('int')\n",
    "test['Age'] = test['Age'].astype('int')\n",
    "train['Age'].dtype"
   ]
  },
  {
   "cell_type": "code",
   "execution_count": null,
   "metadata": {},
   "outputs": [],
   "source": [
    "# Create Age*Class\n",
    "\n",
    "train['Age*Class'] = train['Age'] * train['Pclass']\n",
    "test['Age*Class'] = test['Age'] * test['Pclass']\n",
    "train[['Age', 'Pclass', 'Age*Class']].head()"
   ]
  },
  {
   "cell_type": "code",
   "execution_count": null,
   "metadata": {},
   "outputs": [],
   "source": [
    "# Bin Fare \n",
    "train['FareBand'] = pd.qcut(train['Fare'], 4)\n",
    "test['FareBand'] = pd.qcut(test['Fare'], 4)\n",
    "train['FareBand'].head(10)\n"
   ]
  },
  {
   "cell_type": "code",
   "execution_count": null,
   "metadata": {},
   "outputs": [],
   "source": [
    "#ordinal encoding, simliar to age\n",
    "train.loc[train['Fare'] <= 2.066, 'Fare'] = 0\n",
    "train.loc[(train['Fare'] > 2.066) & (train['Fare'] <= 2.671), 'Fare'] = 1\n",
    "train.loc[(train['Fare'] > 2.671) & (train['Fare'] <= 3.418), 'Fare'] = 2\n",
    "train.loc[train['Fare'] > 3.418, 'Fare'] = 3\n",
    "\n",
    "test.loc[test['Fare'] <= 2.066, 'Fare'] = 0\n",
    "test.loc[(test['Fare'] > 2.066) & (test['Fare'] <= 2.671), 'Fare'] = 1\n",
    "test.loc[(test['Fare'] > 2.671) & (test['Fare'] <= 3.418), 'Fare'] = 2\n",
    "test.loc[test['Fare'] > 3.418, 'Fare'] = 3"
   ]
  },
  {
   "cell_type": "code",
   "execution_count": null,
   "metadata": {},
   "outputs": [],
   "source": [
    "train = train.drop([ 'FareBand'], axis = 1)\n",
    "test = test.drop(['FareBand'], axis = 1)"
   ]
  },
  {
   "cell_type": "code",
   "execution_count": null,
   "metadata": {},
   "outputs": [],
   "source": [
    "# Convert Fare into integer\n",
    "train['Fare'] = train['Fare'].astype('int')\n",
    "test['Fare'] = test['Fare'].astype('int')"
   ]
  },
  {
   "cell_type": "markdown",
   "metadata": {},
   "source": [
    "## 5.5 Feature encoding \n",
    "\n",
    "Variables must be numeric to use for machine learning. Age and Fare were done when Binning. "
   ]
  },
  {
   "cell_type": "code",
   "execution_count": null,
   "metadata": {
    "scrolled": true
   },
   "outputs": [],
   "source": [
    "train.head()"
   ]
  },
  {
   "cell_type": "code",
   "execution_count": null,
   "metadata": {
    "scrolled": false
   },
   "outputs": [],
   "source": [
    "from sklearn.preprocessing import OneHotEncoder, LabelEncoder\n",
    "label = LabelEncoder() \n",
    "train['Embarked'] = label.fit_transform(train['Embarked'])\n",
    "test['Embarked'] = label.fit_transform(test['Embarked'])\n",
    "train['Title'] = label.fit_transform(train['Title'])\n",
    "test['Title'] = label.fit_transform(test['Title'])\n",
    "train['Sex'] = train['Sex'].map({'male': 0, 'female': 1})\n",
    "test['Sex'] = test['Sex'].map({'male': 0, 'female': 1})\n",
    "\n",
    "train.head()"
   ]
  },
  {
   "cell_type": "code",
   "execution_count": null,
   "metadata": {
    "scrolled": true
   },
   "outputs": [],
   "source": [
    "train = train.drop('PassengerId', axis = 1)\n",
    "train.head()"
   ]
  },
  {
   "cell_type": "code",
   "execution_count": null,
   "metadata": {},
   "outputs": [],
   "source": [
    "train['Survived'] = train['Survived'].astype('int')\n",
    "train.head()"
   ]
  },
  {
   "cell_type": "code",
   "execution_count": null,
   "metadata": {
    "scrolled": true
   },
   "outputs": [],
   "source": [
    "test.head()"
   ]
  },
  {
   "cell_type": "markdown",
   "metadata": {},
   "source": [
    "# 6. Modelling\n",
    "\n",
    "Scikit-learn is one of the most popular libraries for machine learning in Python and that is what we will use in the modelling part of this project. \n",
    "\n",
    "Since Titanic is a classfication problem, we will need to use classfication models, also known as classifiers, to train on our model to make predictions. I highly recommend checking out this scikit-learn [documentation](https://scikit-learn.org/stable/index.html) for more information on the different machine learning models available in their library. I have chosen the following classifiers for the job:\n",
    "\n",
    "- Logistic regression\n",
    "- Support vector machines\n",
    "- K-nearest neighbours\n",
    "- Gaussian naive bayes\n",
    "- Perceptron\n",
    "- Linear SVC\n",
    "- Stochastic gradient descent\n",
    "- Decision tree\n",
    "- Random forest\n",
    "- CatBoost\n",
    "\n",
    "In this section of the notebook, I will fit the models to the training set as outlined above and evaluate their accuracy at making predictions. Once the best model is determined, I will also do hyperparameter tuning to further boost the performance of the best model."
   ]
  },
  {
   "cell_type": "markdown",
   "metadata": {},
   "source": [
    "## 6.1 Split training data\n",
    "\n",
    "We need to first split our training data into independent variables or predictor variables, represented by X as well as  dependent variable or response variable, represented by Y.\n",
    "\n",
    "Y_train is the survived column in our training set and X_train is the other columns in the training set excluding the Survived column. Our models will learn to classify survival, Y_train based on all X_train and make predictions on X_test."
   ]
  },
  {
   "cell_type": "code",
   "execution_count": null,
   "metadata": {},
   "outputs": [],
   "source": [
    "X_train = train.drop('Survived', axis = 1)\n",
    "Y_train = train['Survived']\n",
    "X_test = test.drop('PassengerId', axis = 1).copy()#why only drop now\n",
    "print(\"X_train shape: \", X_train.shape)\n",
    "print(\"Y_train shape: \", Y_train.shape)\n",
    "print(\"X_test shape: \", X_test.shape)"
   ]
  },
  {
   "cell_type": "markdown",
   "metadata": {},
   "source": [
    "## 6.2 Fit model to data and make predictions\n",
    "\n",
    "This requires 3 simple steps: instantiate the model, fit the model to the training set and predict the data in test set. "
   ]
  },
  {
   "cell_type": "markdown",
   "metadata": {},
   "source": [
    "### 6.2.1 Logistic regression"
   ]
  },
  {
   "cell_type": "markdown",
   "metadata": {},
   "source": [
    " Explanation (not to be included in final submision): In section 6.2, we are training our models using the ENTIRE training set (every row that has a survive column). The models are UNTUNED.. We then calculate the accuracy of each model for the TRAINING set data. In other words we  determine how accurate each model is when it is asked to predict the outcome  (survival)  for the passengers on which it was trained. High scores might be an inidcation of which algorithms are likely to work well for predicting survival for passenges in the test set(this is the ultimate goal), although high scores could also indicate overfitting which is bad . These scores are summarised in the next section"
   ]
  },
  {
   "cell_type": "code",
   "execution_count": null,
   "metadata": {},
   "outputs": [],
   "source": [
    "#rael\n",
    "logreg = LogisticRegression()\n",
    "LGtrained=logreg.fit(X_train, Y_train)\n",
    "acc_log = round(logreg.score(X_train, Y_train) * 100, 2)\n"
   ]
  },
  {
   "cell_type": "markdown",
   "metadata": {},
   "source": [
    "### 6.2.2 Support vector machines"
   ]
  },
  {
   "cell_type": "code",
   "execution_count": null,
   "metadata": {},
   "outputs": [],
   "source": [
    "#rael\n",
    "svc = SVC()\n",
    "svc.fit(X_train, Y_train)\n",
    "acc_svc = round(svc.score(X_train, Y_train) * 100, 2)\n"
   ]
  },
  {
   "cell_type": "markdown",
   "metadata": {},
   "source": [
    "### 6.2.3 K-nearest neighbours (KNN)"
   ]
  },
  {
   "cell_type": "code",
   "execution_count": null,
   "metadata": {},
   "outputs": [],
   "source": [
    "#rael\n",
    "\n",
    "knn = KNeighborsClassifier(n_neighbors = 5)\n",
    "KNNtrained=knn.fit(X_train, Y_train)\n",
    "acc_knn = round(knn.score(X_train, Y_train) * 100, 2)"
   ]
  },
  {
   "cell_type": "markdown",
   "metadata": {},
   "source": [
    "### 6.2.4 Gaussian naive bayes"
   ]
  },
  {
   "cell_type": "code",
   "execution_count": null,
   "metadata": {},
   "outputs": [],
   "source": [
    "#rael\n",
    "gaussian = GaussianNB()\n",
    "gaussian.fit(X_train, Y_train)\n",
    "acc_gaussian = round(gaussian.score(X_train, Y_train) * 100, 2)"
   ]
  },
  {
   "cell_type": "markdown",
   "metadata": {},
   "source": [
    "### 6.2.5 Perceptron"
   ]
  },
  {
   "cell_type": "code",
   "execution_count": null,
   "metadata": {},
   "outputs": [],
   "source": [
    "#rael\n",
    "perceptron = Perceptron()\n",
    "perceptron.fit(X_train, Y_train)\n",
    "acc_perceptron = round(perceptron.score(X_train, Y_train) * 100, 2)"
   ]
  },
  {
   "cell_type": "markdown",
   "metadata": {},
   "source": [
    "### 6.2.6 Linear SVC"
   ]
  },
  {
   "cell_type": "code",
   "execution_count": null,
   "metadata": {},
   "outputs": [],
   "source": [
    "#rael\n",
    "linear_svc = LinearSVC()\n",
    "linear_svc.fit(X_train, Y_train)\n",
    "acc_linear_svc = round(linear_svc.score(X_train, Y_train) * 100, 2)"
   ]
  },
  {
   "cell_type": "markdown",
   "metadata": {},
   "source": [
    "### 6.2.7 Stochastic gradient descent"
   ]
  },
  {
   "cell_type": "code",
   "execution_count": null,
   "metadata": {},
   "outputs": [],
   "source": [
    "#rael\n",
    "sgd = SGDClassifier()\n",
    "sgd.fit(X_train, Y_train)\n",
    "acc_sgd = round(sgd.score(X_train, Y_train) * 100, 2)"
   ]
  },
  {
   "cell_type": "markdown",
   "metadata": {},
   "source": [
    "### 6.2.8 Decision tree"
   ]
  },
  {
   "cell_type": "code",
   "execution_count": null,
   "metadata": {},
   "outputs": [],
   "source": [
    "#rael\n",
    "decision_tree = DecisionTreeClassifier()\n",
    "decision_tree.fit(X_train, Y_train)\n",
    "acc_decision_tree = round(decision_tree.score(X_train, Y_train) * 100, 2)"
   ]
  },
  {
   "cell_type": "markdown",
   "metadata": {},
   "source": [
    "### 6.2.9 Random forest"
   ]
  },
  {
   "cell_type": "code",
   "execution_count": null,
   "metadata": {},
   "outputs": [],
   "source": [
    "#rael\n",
    "random_forest = RandomForestClassifier(n_estimators = 100)\n",
    "random_forest.fit(X_train, Y_train)\n",
    "acc_random_forest = round(random_forest.score(X_train, Y_train) * 100, 2)"
   ]
  },
  {
   "cell_type": "markdown",
   "metadata": {},
   "source": [
    "### 6.2.10 CatBoost"
   ]
  },
  {
   "cell_type": "code",
   "execution_count": null,
   "metadata": {},
   "outputs": [],
   "source": [
    "#rael\n",
    "catboost = CatBoostClassifier()\n",
    "catboost.fit(X_train, Y_train)\n",
    "acc_catboost = round(catboost.score(X_train, Y_train) * 100, 2)"
   ]
  },
  {
   "cell_type": "code",
   "execution_count": null,
   "metadata": {},
   "outputs": [],
   "source": [
    "#rael\n",
    "#MLP\n",
    "mlp = MLPClassifier()\n",
    "mlp.fit(X_train, Y_train)\n",
    "acc_mlp = round(catboost.score(X_train, Y_train) * 100, 2)"
   ]
  },
  {
   "cell_type": "code",
   "execution_count": null,
   "metadata": {},
   "outputs": [],
   "source": [
    "#rael\n",
    "#acc_catboost"
   ]
  },
  {
   "cell_type": "markdown",
   "metadata": {},
   "source": [
    "## 6.3 Model evaluation and hyperparameter tuning\n",
    "\n",
    "Once all our models have been trained, the next step is to assess the performance of these models and select the one which has the highest prediction accuracy. "
   ]
  },
  {
   "cell_type": "markdown",
   "metadata": {},
   "source": [
    "### 6.3.1 Training accuracy\n",
    "\n",
    "Training accuracy shows how well our model has learned from the training set. "
   ]
  },
  {
   "cell_type": "markdown",
   "metadata": {},
   "source": [
    "Internal comment: Viewing and summarising the scores calcualted above for each algorithm. These models have have not yet been tuned"
   ]
  },
  {
   "cell_type": "code",
   "execution_count": null,
   "metadata": {},
   "outputs": [],
   "source": [
    "models = pd.DataFrame({'Model': ['Support Vector Machines', 'KNN', 'Logistic Regression', \n",
    "                                 'Random Forest', 'Naive Bayes', 'Perceptron', 'Stochastic Gradient Decent', \n",
    "                                 'Linear SVC', 'Decision Tree', 'CatBoost','MLP'],\n",
    "                       'Score': [acc_svc, acc_knn, acc_log, acc_random_forest, acc_gaussian, acc_perceptron,\n",
    "                                 acc_sgd, acc_linear_svc, acc_decision_tree, acc_catboost, acc_mlp]})\n",
    "\n",
    "models.sort_values(by = 'Score', ascending = False, ignore_index = True)"
   ]
  },
  {
   "cell_type": "markdown",
   "metadata": {},
   "source": [
    "### 6.3.2 K-fold cross validation\n",
    "\n",
    "It is important to not get too carried away with models with impressive training accuracy as what we should focus on instead is the model's ability to predict out-of-samples data, in other words, data our model has not seen before.\n",
    "\n",
    "This is where k-fold cross validation comes in. K-fold cross validation is a technique whereby a subset of our training set is kept aside and will act as holdout set for testing purposes. Here is a great [video](https://www.youtube.com/watch?v=fSytzGwwBVw) explaining the concept in more detail. "
   ]
  },
  {
   "cell_type": "code",
   "execution_count": null,
   "metadata": {},
   "outputs": [],
   "source": [
    "# Create a list which contains classifiers \n",
    "\n",
    "classifiers = []\n",
    "classifiers.append(LogisticRegression())\n",
    "classifiers.append(SVC())\n",
    "classifiers.append(KNeighborsClassifier(n_neighbors = 5))\n",
    "classifiers.append(GaussianNB())\n",
    "classifiers.append(Perceptron())\n",
    "classifiers.append(LinearSVC())\n",
    "classifiers.append(SGDClassifier())\n",
    "classifiers.append(DecisionTreeClassifier())\n",
    "classifiers.append(RandomForestClassifier())\n",
    "classifiers.append(CatBoostClassifier())\n",
    "classifiers.append(MLPClassifier())\n",
    "\n",
    "\n",
    "len(classifiers)"
   ]
  },
  {
   "cell_type": "code",
   "execution_count": 89,
   "metadata": {},
   "outputs": [
    {
     "name": "stdout",
     "output_type": "stream",
     "text": [
      "957:\tlearn: 0.3217501\ttotal: 932ms\tremaining: 40.9ms\n",
      "958:\tlearn: 0.3216330\ttotal: 935ms\tremaining: 40ms\n",
      "959:\tlearn: 0.3216183\ttotal: 935ms\tremaining: 39ms\n",
      "960:\tlearn: 0.3215836\ttotal: 936ms\tremaining: 38ms\n",
      "961:\tlearn: 0.3215535\ttotal: 936ms\tremaining: 37ms\n",
      "962:\tlearn: 0.3215101\ttotal: 937ms\tremaining: 36ms\n",
      "963:\tlearn: 0.3214479\ttotal: 938ms\tremaining: 35ms\n",
      "964:\tlearn: 0.3214449\ttotal: 938ms\tremaining: 34ms\n",
      "965:\tlearn: 0.3214111\ttotal: 938ms\tremaining: 33ms\n",
      "966:\tlearn: 0.3213749\ttotal: 938ms\tremaining: 32ms\n",
      "967:\tlearn: 0.3213463\ttotal: 939ms\tremaining: 31.1ms\n",
      "968:\tlearn: 0.3213205\ttotal: 940ms\tremaining: 30.1ms\n",
      "969:\tlearn: 0.3212934\ttotal: 941ms\tremaining: 29.1ms\n",
      "970:\tlearn: 0.3212585\ttotal: 941ms\tremaining: 28.1ms\n",
      "971:\tlearn: 0.3212235\ttotal: 945ms\tremaining: 27.2ms\n",
      "972:\tlearn: 0.3211785\ttotal: 945ms\tremaining: 26.2ms\n",
      "973:\tlearn: 0.3211749\ttotal: 946ms\tremaining: 25.2ms\n",
      "974:\tlearn: 0.3211440\ttotal: 946ms\tremaining: 24.3ms\n",
      "975:\tlearn: 0.3211157\ttotal: 947ms\tremaining: 23.3ms\n",
      "976:\tlearn: 0.3210822\ttotal: 948ms\tremaining: 22.3ms\n",
      "977:\tlearn: 0.3210480\ttotal: 948ms\tremaining: 21.3ms\n",
      "978:\tlearn: 0.3210113\ttotal: 949ms\tremaining: 20.4ms\n",
      "979:\tlearn: 0.3209774\ttotal: 949ms\tremaining: 19.4ms\n",
      "980:\tlearn: 0.3209496\ttotal: 950ms\tremaining: 18.4ms\n",
      "981:\tlearn: 0.3209199\ttotal: 951ms\tremaining: 17.4ms\n",
      "982:\tlearn: 0.3208764\ttotal: 953ms\tremaining: 16.5ms\n",
      "983:\tlearn: 0.3208477\ttotal: 953ms\tremaining: 15.5ms\n",
      "984:\tlearn: 0.3208130\ttotal: 954ms\tremaining: 14.5ms\n",
      "985:\tlearn: 0.3207400\ttotal: 956ms\tremaining: 13.6ms\n",
      "986:\tlearn: 0.3207214\ttotal: 960ms\tremaining: 12.6ms\n",
      "987:\tlearn: 0.3206994\ttotal: 961ms\tremaining: 11.7ms\n",
      "988:\tlearn: 0.3206530\ttotal: 962ms\tremaining: 10.7ms\n",
      "989:\tlearn: 0.3206237\ttotal: 962ms\tremaining: 9.71ms\n",
      "990:\tlearn: 0.3205904\ttotal: 962ms\tremaining: 8.74ms\n",
      "991:\tlearn: 0.3205402\ttotal: 963ms\tremaining: 7.76ms\n",
      "992:\tlearn: 0.3205393\ttotal: 963ms\tremaining: 6.79ms\n",
      "993:\tlearn: 0.3205008\ttotal: 966ms\tremaining: 5.83ms\n",
      "994:\tlearn: 0.3204747\ttotal: 967ms\tremaining: 4.86ms\n",
      "995:\tlearn: 0.3203996\ttotal: 967ms\tremaining: 3.88ms\n",
      "996:\tlearn: 0.3203485\ttotal: 967ms\tremaining: 2.91ms\n",
      "997:\tlearn: 0.3203029\ttotal: 967ms\tremaining: 1.94ms\n",
      "998:\tlearn: 0.3202761\ttotal: 968ms\tremaining: 968us\n",
      "999:\tlearn: 0.3202454\ttotal: 968ms\tremaining: 0us\n",
      "Learning rate set to 0.009331\n",
      "0:\tlearn: 0.6867778\ttotal: 443us\tremaining: 443ms\n",
      "1:\tlearn: 0.6799771\ttotal: 1.68ms\tremaining: 839ms\n",
      "2:\tlearn: 0.6760413\ttotal: 3.57ms\tremaining: 1.19s\n",
      "3:\tlearn: 0.6704534\ttotal: 4.56ms\tremaining: 1.13s\n",
      "4:\tlearn: 0.6638353\ttotal: 5.35ms\tremaining: 1.06s\n",
      "5:\tlearn: 0.6576556\ttotal: 6.4ms\tremaining: 1.06s\n",
      "6:\tlearn: 0.6517218\ttotal: 7.28ms\tremaining: 1.03s\n",
      "7:\tlearn: 0.6454940\ttotal: 7.99ms\tremaining: 991ms\n",
      "8:\tlearn: 0.6419072\ttotal: 8.59ms\tremaining: 946ms\n",
      "9:\tlearn: 0.6384836\ttotal: 8.94ms\tremaining: 885ms\n",
      "10:\tlearn: 0.6330492\ttotal: 10.2ms\tremaining: 920ms\n",
      "11:\tlearn: 0.6275031\ttotal: 13.6ms\tremaining: 1.12s\n",
      "12:\tlearn: 0.6218866\ttotal: 14.4ms\tremaining: 1.09s\n",
      "13:\tlearn: 0.6161555\ttotal: 14.9ms\tremaining: 1.05s\n",
      "14:\tlearn: 0.6109012\ttotal: 16ms\tremaining: 1.05s\n",
      "15:\tlearn: 0.6063398\ttotal: 16.6ms\tremaining: 1.02s\n",
      "16:\tlearn: 0.6012042\ttotal: 21.5ms\tremaining: 1.25s\n",
      "17:\tlearn: 0.5965826\ttotal: 25.1ms\tremaining: 1.37s\n",
      "18:\tlearn: 0.5918030\ttotal: 25.8ms\tremaining: 1.33s\n",
      "19:\tlearn: 0.5874203\ttotal: 26.2ms\tremaining: 1.28s\n",
      "20:\tlearn: 0.5850099\ttotal: 26.8ms\tremaining: 1.25s\n",
      "21:\tlearn: 0.5805794\ttotal: 28.5ms\tremaining: 1.27s\n",
      "22:\tlearn: 0.5767606\ttotal: 29.2ms\tremaining: 1.24s\n",
      "23:\tlearn: 0.5725826\ttotal: 30ms\tremaining: 1.22s\n",
      "24:\tlearn: 0.5684880\ttotal: 30.7ms\tremaining: 1.2s\n",
      "25:\tlearn: 0.5642636\ttotal: 34ms\tremaining: 1.27s\n",
      "26:\tlearn: 0.5598824\ttotal: 36.1ms\tremaining: 1.3s\n",
      "27:\tlearn: 0.5580002\ttotal: 36.7ms\tremaining: 1.27s\n",
      "28:\tlearn: 0.5545875\ttotal: 37.2ms\tremaining: 1.25s\n",
      "29:\tlearn: 0.5510690\ttotal: 37.9ms\tremaining: 1.22s\n",
      "30:\tlearn: 0.5482858\ttotal: 39.2ms\tremaining: 1.23s\n",
      "31:\tlearn: 0.5456973\ttotal: 41.2ms\tremaining: 1.25s\n",
      "32:\tlearn: 0.5424187\ttotal: 42.3ms\tremaining: 1.24s\n",
      "33:\tlearn: 0.5385055\ttotal: 43.8ms\tremaining: 1.24s\n",
      "34:\tlearn: 0.5350826\ttotal: 45.1ms\tremaining: 1.24s\n",
      "35:\tlearn: 0.5315205\ttotal: 47.3ms\tremaining: 1.26s\n",
      "36:\tlearn: 0.5281616\ttotal: 48.1ms\tremaining: 1.25s\n",
      "37:\tlearn: 0.5249584\ttotal: 49.3ms\tremaining: 1.25s\n",
      "38:\tlearn: 0.5215857\ttotal: 50.9ms\tremaining: 1.25s\n",
      "39:\tlearn: 0.5198058\ttotal: 51.9ms\tremaining: 1.25s\n",
      "40:\tlearn: 0.5168480\ttotal: 52.7ms\tremaining: 1.23s\n",
      "41:\tlearn: 0.5141028\ttotal: 53.4ms\tremaining: 1.22s\n",
      "42:\tlearn: 0.5120553\ttotal: 54.6ms\tremaining: 1.21s\n",
      "43:\tlearn: 0.5089472\ttotal: 55.7ms\tremaining: 1.21s\n",
      "44:\tlearn: 0.5062335\ttotal: 56.6ms\tremaining: 1.2s\n",
      "45:\tlearn: 0.5033440\ttotal: 57.4ms\tremaining: 1.19s\n",
      "46:\tlearn: 0.5014076\ttotal: 58.1ms\tremaining: 1.18s\n",
      "47:\tlearn: 0.4990928\ttotal: 58.8ms\tremaining: 1.17s\n",
      "48:\tlearn: 0.4977874\ttotal: 59.7ms\tremaining: 1.16s\n",
      "49:\tlearn: 0.4949810\ttotal: 60.4ms\tremaining: 1.15s\n",
      "50:\tlearn: 0.4925298\ttotal: 61ms\tremaining: 1.14s\n",
      "51:\tlearn: 0.4898160\ttotal: 62.5ms\tremaining: 1.14s\n",
      "52:\tlearn: 0.4879095\ttotal: 65.7ms\tremaining: 1.17s\n",
      "53:\tlearn: 0.4852922\ttotal: 66.9ms\tremaining: 1.17s\n",
      "54:\tlearn: 0.4828736\ttotal: 67.6ms\tremaining: 1.16s\n",
      "55:\tlearn: 0.4805340\ttotal: 69.1ms\tremaining: 1.16s\n",
      "56:\tlearn: 0.4783488\ttotal: 72.1ms\tremaining: 1.19s\n",
      "57:\tlearn: 0.4759766\ttotal: 72.9ms\tremaining: 1.18s\n",
      "58:\tlearn: 0.4743595\ttotal: 73.8ms\tremaining: 1.18s\n",
      "59:\tlearn: 0.4720916\ttotal: 74.1ms\tremaining: 1.16s\n",
      "60:\tlearn: 0.4701984\ttotal: 75.2ms\tremaining: 1.16s\n",
      "61:\tlearn: 0.4683209\ttotal: 77.9ms\tremaining: 1.18s\n",
      "62:\tlearn: 0.4663239\ttotal: 82.5ms\tremaining: 1.23s\n",
      "63:\tlearn: 0.4645236\ttotal: 83.2ms\tremaining: 1.22s\n",
      "64:\tlearn: 0.4631802\ttotal: 84.9ms\tremaining: 1.22s\n",
      "65:\tlearn: 0.4614526\ttotal: 85.2ms\tremaining: 1.21s\n",
      "66:\tlearn: 0.4599296\ttotal: 85.8ms\tremaining: 1.19s\n",
      "67:\tlearn: 0.4590290\ttotal: 87.5ms\tremaining: 1.2s\n",
      "68:\tlearn: 0.4572376\ttotal: 88.9ms\tremaining: 1.2s\n",
      "69:\tlearn: 0.4559487\ttotal: 89.2ms\tremaining: 1.19s\n",
      "70:\tlearn: 0.4548117\ttotal: 98.1ms\tremaining: 1.28s\n",
      "71:\tlearn: 0.4530740\ttotal: 99.5ms\tremaining: 1.28s\n",
      "72:\tlearn: 0.4519141\ttotal: 101ms\tremaining: 1.28s\n",
      "73:\tlearn: 0.4509538\ttotal: 102ms\tremaining: 1.27s\n",
      "74:\tlearn: 0.4494061\ttotal: 103ms\tremaining: 1.26s\n",
      "75:\tlearn: 0.4481360\ttotal: 103ms\tremaining: 1.25s\n",
      "76:\tlearn: 0.4467946\ttotal: 105ms\tremaining: 1.26s\n",
      "77:\tlearn: 0.4454606\ttotal: 107ms\tremaining: 1.27s\n",
      "78:\tlearn: 0.4439632\ttotal: 109ms\tremaining: 1.27s\n",
      "79:\tlearn: 0.4431284\ttotal: 110ms\tremaining: 1.27s\n",
      "80:\tlearn: 0.4416789\ttotal: 111ms\tremaining: 1.26s\n",
      "81:\tlearn: 0.4407632\ttotal: 112ms\tremaining: 1.26s\n",
      "82:\tlearn: 0.4393118\ttotal: 114ms\tremaining: 1.26s\n",
      "83:\tlearn: 0.4384101\ttotal: 115ms\tremaining: 1.25s\n",
      "84:\tlearn: 0.4375150\ttotal: 116ms\tremaining: 1.25s\n",
      "85:\tlearn: 0.4360570\ttotal: 118ms\tremaining: 1.25s\n",
      "86:\tlearn: 0.4348154\ttotal: 122ms\tremaining: 1.28s\n",
      "87:\tlearn: 0.4332989\ttotal: 127ms\tremaining: 1.32s\n",
      "88:\tlearn: 0.4320496\ttotal: 128ms\tremaining: 1.31s\n",
      "89:\tlearn: 0.4312478\ttotal: 129ms\tremaining: 1.31s\n",
      "90:\tlearn: 0.4298865\ttotal: 131ms\tremaining: 1.31s\n",
      "91:\tlearn: 0.4286718\ttotal: 132ms\tremaining: 1.3s\n",
      "92:\tlearn: 0.4274320\ttotal: 133ms\tremaining: 1.3s\n",
      "93:\tlearn: 0.4270395\ttotal: 135ms\tremaining: 1.3s\n",
      "94:\tlearn: 0.4266554\ttotal: 136ms\tremaining: 1.29s\n",
      "95:\tlearn: 0.4253032\ttotal: 136ms\tremaining: 1.28s\n",
      "96:\tlearn: 0.4242062\ttotal: 137ms\tremaining: 1.28s\n",
      "97:\tlearn: 0.4235381\ttotal: 138ms\tremaining: 1.26s\n",
      "98:\tlearn: 0.4230765\ttotal: 138ms\tremaining: 1.25s\n",
      "99:\tlearn: 0.4219310\ttotal: 138ms\tremaining: 1.25s\n",
      "100:\tlearn: 0.4213007\ttotal: 139ms\tremaining: 1.23s\n",
      "101:\tlearn: 0.4202614\ttotal: 141ms\tremaining: 1.24s\n",
      "102:\tlearn: 0.4190791\ttotal: 142ms\tremaining: 1.24s\n",
      "103:\tlearn: 0.4178754\ttotal: 142ms\tremaining: 1.23s\n",
      "104:\tlearn: 0.4167058\ttotal: 143ms\tremaining: 1.22s\n",
      "105:\tlearn: 0.4157681\ttotal: 145ms\tremaining: 1.22s\n",
      "106:\tlearn: 0.4147792\ttotal: 146ms\tremaining: 1.22s\n",
      "107:\tlearn: 0.4134978\ttotal: 146ms\tremaining: 1.21s\n",
      "108:\tlearn: 0.4126550\ttotal: 147ms\tremaining: 1.2s\n",
      "109:\tlearn: 0.4115837\ttotal: 147ms\tremaining: 1.19s\n",
      "110:\tlearn: 0.4105263\ttotal: 147ms\tremaining: 1.18s\n",
      "111:\tlearn: 0.4094287\ttotal: 148ms\tremaining: 1.17s\n",
      "112:\tlearn: 0.4083283\ttotal: 148ms\tremaining: 1.16s\n",
      "113:\tlearn: 0.4076043\ttotal: 149ms\tremaining: 1.15s\n",
      "114:\tlearn: 0.4068694\ttotal: 149ms\tremaining: 1.15s\n",
      "115:\tlearn: 0.4061450\ttotal: 150ms\tremaining: 1.14s\n",
      "116:\tlearn: 0.4055108\ttotal: 150ms\tremaining: 1.14s\n",
      "117:\tlearn: 0.4047599\ttotal: 151ms\tremaining: 1.13s\n",
      "118:\tlearn: 0.4042981\ttotal: 152ms\tremaining: 1.12s\n",
      "119:\tlearn: 0.4036501\ttotal: 152ms\tremaining: 1.12s\n",
      "120:\tlearn: 0.4034378\ttotal: 154ms\tremaining: 1.12s\n",
      "121:\tlearn: 0.4029564\ttotal: 155ms\tremaining: 1.11s\n",
      "122:\tlearn: 0.4025279\ttotal: 156ms\tremaining: 1.11s\n",
      "123:\tlearn: 0.4018596\ttotal: 157ms\tremaining: 1.11s\n",
      "124:\tlearn: 0.4011130\ttotal: 158ms\tremaining: 1.11s\n",
      "125:\tlearn: 0.4002401\ttotal: 159ms\tremaining: 1.1s\n",
      "126:\tlearn: 0.3994628\ttotal: 160ms\tremaining: 1.1s\n",
      "127:\tlearn: 0.3988420\ttotal: 160ms\tremaining: 1.09s\n",
      "128:\tlearn: 0.3985905\ttotal: 161ms\tremaining: 1.09s\n",
      "129:\tlearn: 0.3978478\ttotal: 162ms\tremaining: 1.09s\n",
      "130:\tlearn: 0.3973787\ttotal: 163ms\tremaining: 1.08s\n",
      "131:\tlearn: 0.3965947\ttotal: 164ms\tremaining: 1.08s\n",
      "132:\tlearn: 0.3961086\ttotal: 166ms\tremaining: 1.08s\n",
      "133:\tlearn: 0.3952463\ttotal: 167ms\tremaining: 1.08s\n",
      "134:\tlearn: 0.3947747\ttotal: 167ms\tremaining: 1.07s\n",
      "135:\tlearn: 0.3944017\ttotal: 168ms\tremaining: 1.07s\n",
      "136:\tlearn: 0.3939383\ttotal: 169ms\tremaining: 1.06s\n",
      "137:\tlearn: 0.3933699\ttotal: 170ms\tremaining: 1.06s\n",
      "138:\tlearn: 0.3927462\ttotal: 171ms\tremaining: 1.06s\n",
      "139:\tlearn: 0.3920280\ttotal: 171ms\tremaining: 1.05s\n",
      "140:\tlearn: 0.3914065\ttotal: 172ms\tremaining: 1.05s\n",
      "141:\tlearn: 0.3910877\ttotal: 172ms\tremaining: 1.04s\n",
      "142:\tlearn: 0.3905351\ttotal: 173ms\tremaining: 1.03s\n",
      "143:\tlearn: 0.3901832\ttotal: 173ms\tremaining: 1.03s\n",
      "144:\tlearn: 0.3894467\ttotal: 175ms\tremaining: 1.03s\n",
      "145:\tlearn: 0.3887981\ttotal: 175ms\tremaining: 1.02s\n",
      "146:\tlearn: 0.3882503\ttotal: 176ms\tremaining: 1.02s\n",
      "147:\tlearn: 0.3876348\ttotal: 176ms\tremaining: 1.01s\n",
      "148:\tlearn: 0.3870682\ttotal: 177ms\tremaining: 1.01s\n",
      "149:\tlearn: 0.3864945\ttotal: 178ms\tremaining: 1.01s\n",
      "150:\tlearn: 0.3858599\ttotal: 179ms\tremaining: 1s\n",
      "151:\tlearn: 0.3856081\ttotal: 179ms\tremaining: 999ms\n",
      "152:\tlearn: 0.3849691\ttotal: 180ms\tremaining: 995ms\n",
      "153:\tlearn: 0.3844288\ttotal: 180ms\tremaining: 989ms\n",
      "154:\tlearn: 0.3840434\ttotal: 181ms\tremaining: 984ms\n",
      "155:\tlearn: 0.3837616\ttotal: 181ms\tremaining: 978ms\n",
      "156:\tlearn: 0.3832530\ttotal: 181ms\tremaining: 973ms\n",
      "157:\tlearn: 0.3829541\ttotal: 182ms\tremaining: 967ms\n",
      "158:\tlearn: 0.3825878\ttotal: 182ms\tremaining: 962ms\n",
      "159:\tlearn: 0.3819575\ttotal: 182ms\tremaining: 958ms\n",
      "160:\tlearn: 0.3816828\ttotal: 183ms\tremaining: 953ms\n",
      "161:\tlearn: 0.3810865\ttotal: 184ms\tremaining: 949ms\n",
      "162:\tlearn: 0.3809299\ttotal: 184ms\tremaining: 944ms\n",
      "163:\tlearn: 0.3804521\ttotal: 184ms\tremaining: 938ms\n",
      "164:\tlearn: 0.3800872\ttotal: 184ms\tremaining: 933ms\n",
      "165:\tlearn: 0.3797729\ttotal: 185ms\tremaining: 928ms\n",
      "166:\tlearn: 0.3795623\ttotal: 185ms\tremaining: 923ms\n",
      "167:\tlearn: 0.3791956\ttotal: 185ms\tremaining: 918ms\n",
      "168:\tlearn: 0.3787303\ttotal: 186ms\tremaining: 914ms\n",
      "169:\tlearn: 0.3785004\ttotal: 186ms\tremaining: 909ms\n",
      "170:\tlearn: 0.3780683\ttotal: 187ms\tremaining: 905ms\n",
      "171:\tlearn: 0.3777101\ttotal: 187ms\tremaining: 902ms\n",
      "172:\tlearn: 0.3775772\ttotal: 188ms\tremaining: 900ms\n",
      "173:\tlearn: 0.3774141\ttotal: 189ms\tremaining: 896ms\n",
      "174:\tlearn: 0.3770041\ttotal: 189ms\tremaining: 891ms\n",
      "175:\tlearn: 0.3766237\ttotal: 193ms\tremaining: 905ms\n",
      "176:\tlearn: 0.3763656\ttotal: 194ms\tremaining: 901ms\n",
      "177:\tlearn: 0.3759353\ttotal: 194ms\tremaining: 896ms\n",
      "178:\tlearn: 0.3754204\ttotal: 195ms\tremaining: 892ms\n",
      "179:\tlearn: 0.3751258\ttotal: 198ms\tremaining: 900ms\n",
      "180:\tlearn: 0.3747596\ttotal: 198ms\tremaining: 898ms\n",
      "181:\tlearn: 0.3743171\ttotal: 199ms\tremaining: 896ms\n",
      "182:\tlearn: 0.3737345\ttotal: 201ms\tremaining: 898ms\n",
      "183:\tlearn: 0.3734434\ttotal: 202ms\tremaining: 896ms\n",
      "184:\tlearn: 0.3732016\ttotal: 202ms\tremaining: 892ms\n",
      "185:\tlearn: 0.3730509\ttotal: 203ms\tremaining: 888ms\n",
      "186:\tlearn: 0.3728078\ttotal: 203ms\tremaining: 884ms\n",
      "187:\tlearn: 0.3725750\ttotal: 204ms\tremaining: 880ms\n",
      "188:\tlearn: 0.3721087\ttotal: 205ms\tremaining: 879ms\n",
      "189:\tlearn: 0.3716203\ttotal: 205ms\tremaining: 876ms\n",
      "190:\tlearn: 0.3712626\ttotal: 206ms\tremaining: 874ms\n",
      "191:\tlearn: 0.3710978\ttotal: 207ms\tremaining: 870ms\n",
      "192:\tlearn: 0.3710049\ttotal: 207ms\tremaining: 866ms\n",
      "193:\tlearn: 0.3706866\ttotal: 208ms\tremaining: 863ms\n",
      "194:\tlearn: 0.3706472\ttotal: 208ms\tremaining: 858ms\n",
      "195:\tlearn: 0.3703736\ttotal: 210ms\tremaining: 861ms\n",
      "196:\tlearn: 0.3700590\ttotal: 210ms\tremaining: 858ms\n",
      "197:\tlearn: 0.3700123\ttotal: 215ms\tremaining: 871ms\n",
      "198:\tlearn: 0.3697907\ttotal: 215ms\tremaining: 867ms\n",
      "199:\tlearn: 0.3694217\ttotal: 217ms\tremaining: 867ms\n",
      "200:\tlearn: 0.3691773\ttotal: 218ms\tremaining: 865ms\n",
      "201:\tlearn: 0.3690673\ttotal: 218ms\tremaining: 862ms\n",
      "202:\tlearn: 0.3687486\ttotal: 218ms\tremaining: 857ms\n",
      "203:\tlearn: 0.3685372\ttotal: 219ms\tremaining: 854ms\n",
      "204:\tlearn: 0.3683796\ttotal: 220ms\tremaining: 852ms\n",
      "205:\tlearn: 0.3681450\ttotal: 220ms\tremaining: 849ms\n",
      "206:\tlearn: 0.3679377\ttotal: 221ms\tremaining: 846ms\n",
      "207:\tlearn: 0.3676640\ttotal: 223ms\tremaining: 848ms\n",
      "208:\tlearn: 0.3674768\ttotal: 225ms\tremaining: 853ms\n",
      "209:\tlearn: 0.3672724\ttotal: 226ms\tremaining: 852ms\n",
      "210:\tlearn: 0.3668489\ttotal: 227ms\tremaining: 848ms\n",
      "211:\tlearn: 0.3664220\ttotal: 227ms\tremaining: 844ms\n",
      "212:\tlearn: 0.3663705\ttotal: 227ms\tremaining: 839ms\n",
      "213:\tlearn: 0.3660711\ttotal: 228ms\tremaining: 837ms\n",
      "214:\tlearn: 0.3658210\ttotal: 229ms\tremaining: 834ms\n",
      "215:\tlearn: 0.3655742\ttotal: 229ms\tremaining: 832ms\n",
      "216:\tlearn: 0.3654113\ttotal: 230ms\tremaining: 829ms\n",
      "217:\tlearn: 0.3650282\ttotal: 230ms\tremaining: 826ms\n",
      "218:\tlearn: 0.3647164\ttotal: 231ms\tremaining: 823ms\n",
      "219:\tlearn: 0.3642975\ttotal: 232ms\tremaining: 822ms\n",
      "220:\tlearn: 0.3640734\ttotal: 232ms\tremaining: 818ms\n",
      "221:\tlearn: 0.3637311\ttotal: 233ms\tremaining: 817ms\n",
      "222:\tlearn: 0.3634599\ttotal: 234ms\tremaining: 816ms\n",
      "223:\tlearn: 0.3630597\ttotal: 235ms\tremaining: 814ms\n",
      "224:\tlearn: 0.3628975\ttotal: 236ms\tremaining: 811ms\n",
      "225:\tlearn: 0.3628544\ttotal: 237ms\tremaining: 811ms\n",
      "226:\tlearn: 0.3626679\ttotal: 238ms\tremaining: 811ms\n",
      "227:\tlearn: 0.3625346\ttotal: 239ms\tremaining: 809ms\n",
      "228:\tlearn: 0.3624906\ttotal: 240ms\tremaining: 809ms\n",
      "229:\tlearn: 0.3622200\ttotal: 241ms\tremaining: 807ms\n",
      "230:\tlearn: 0.3621130\ttotal: 242ms\tremaining: 805ms\n",
      "231:\tlearn: 0.3617515\ttotal: 242ms\tremaining: 802ms\n",
      "232:\tlearn: 0.3617191\ttotal: 243ms\tremaining: 799ms\n",
      "233:\tlearn: 0.3613877\ttotal: 243ms\tremaining: 797ms\n",
      "234:\tlearn: 0.3611806\ttotal: 244ms\tremaining: 794ms\n",
      "235:\tlearn: 0.3609601\ttotal: 245ms\tremaining: 792ms\n",
      "236:\tlearn: 0.3607218\ttotal: 245ms\tremaining: 790ms\n",
      "237:\tlearn: 0.3605477\ttotal: 246ms\tremaining: 787ms\n",
      "238:\tlearn: 0.3602723\ttotal: 246ms\tremaining: 784ms\n",
      "239:\tlearn: 0.3601598\ttotal: 246ms\tremaining: 780ms\n",
      "240:\tlearn: 0.3598453\ttotal: 247ms\tremaining: 777ms\n",
      "241:\tlearn: 0.3596146\ttotal: 247ms\tremaining: 774ms\n",
      "242:\tlearn: 0.3595602\ttotal: 248ms\tremaining: 771ms\n",
      "243:\tlearn: 0.3593195\ttotal: 248ms\tremaining: 768ms\n",
      "244:\tlearn: 0.3591159\ttotal: 249ms\tremaining: 767ms\n",
      "245:\tlearn: 0.3588191\ttotal: 251ms\tremaining: 768ms\n",
      "246:\tlearn: 0.3585181\ttotal: 251ms\tremaining: 765ms\n",
      "247:\tlearn: 0.3583936\ttotal: 251ms\tremaining: 762ms\n",
      "248:\tlearn: 0.3583230\ttotal: 252ms\tremaining: 759ms\n",
      "249:\tlearn: 0.3581566\ttotal: 252ms\tremaining: 756ms\n",
      "250:\tlearn: 0.3579787\ttotal: 252ms\tremaining: 753ms\n",
      "251:\tlearn: 0.3578425\ttotal: 253ms\tremaining: 750ms\n",
      "252:\tlearn: 0.3577227\ttotal: 253ms\tremaining: 748ms\n",
      "253:\tlearn: 0.3575661\ttotal: 254ms\tremaining: 745ms\n",
      "254:\tlearn: 0.3574103\ttotal: 254ms\tremaining: 743ms\n",
      "255:\tlearn: 0.3572029\ttotal: 255ms\tremaining: 740ms\n",
      "256:\tlearn: 0.3570887\ttotal: 255ms\tremaining: 738ms\n",
      "257:\tlearn: 0.3569453\ttotal: 256ms\tremaining: 737ms\n",
      "258:\tlearn: 0.3565631\ttotal: 257ms\tremaining: 734ms\n",
      "259:\tlearn: 0.3564448\ttotal: 257ms\tremaining: 731ms\n",
      "260:\tlearn: 0.3564262\ttotal: 257ms\tremaining: 728ms\n",
      "261:\tlearn: 0.3561633\ttotal: 257ms\tremaining: 725ms\n",
      "262:\tlearn: 0.3559306\ttotal: 258ms\tremaining: 723ms\n",
      "263:\tlearn: 0.3558231\ttotal: 259ms\tremaining: 721ms\n",
      "264:\tlearn: 0.3556256\ttotal: 259ms\tremaining: 718ms\n",
      "265:\tlearn: 0.3556094\ttotal: 259ms\tremaining: 715ms\n",
      "266:\tlearn: 0.3555495\ttotal: 260ms\tremaining: 713ms\n",
      "267:\tlearn: 0.3551849\ttotal: 262ms\tremaining: 715ms\n",
      "268:\tlearn: 0.3549795\ttotal: 263ms\tremaining: 714ms\n",
      "269:\tlearn: 0.3547813\ttotal: 265ms\tremaining: 716ms\n",
      "270:\tlearn: 0.3546725\ttotal: 265ms\tremaining: 713ms\n",
      "271:\tlearn: 0.3544994\ttotal: 266ms\tremaining: 711ms\n",
      "272:\tlearn: 0.3542168\ttotal: 266ms\tremaining: 709ms\n",
      "273:\tlearn: 0.3540900\ttotal: 266ms\tremaining: 706ms\n",
      "274:\tlearn: 0.3540538\ttotal: 267ms\tremaining: 703ms\n",
      "275:\tlearn: 0.3538812\ttotal: 267ms\tremaining: 702ms\n",
      "276:\tlearn: 0.3538487\ttotal: 268ms\tremaining: 699ms\n",
      "277:\tlearn: 0.3535693\ttotal: 269ms\tremaining: 698ms\n",
      "278:\tlearn: 0.3534697\ttotal: 269ms\tremaining: 696ms\n",
      "279:\tlearn: 0.3533129\ttotal: 269ms\tremaining: 693ms\n",
      "280:\tlearn: 0.3532062\ttotal: 270ms\tremaining: 691ms\n",
      "281:\tlearn: 0.3530314\ttotal: 270ms\tremaining: 688ms\n",
      "282:\tlearn: 0.3528200\ttotal: 271ms\tremaining: 686ms\n",
      "283:\tlearn: 0.3525845\ttotal: 272ms\tremaining: 686ms\n",
      "284:\tlearn: 0.3524644\ttotal: 273ms\tremaining: 684ms\n",
      "285:\tlearn: 0.3524324\ttotal: 273ms\tremaining: 683ms\n",
      "286:\tlearn: 0.3522910\ttotal: 275ms\tremaining: 682ms\n",
      "287:\tlearn: 0.3520091\ttotal: 275ms\tremaining: 681ms\n",
      "288:\tlearn: 0.3517077\ttotal: 276ms\tremaining: 679ms\n",
      "289:\tlearn: 0.3516783\ttotal: 276ms\tremaining: 676ms\n",
      "290:\tlearn: 0.3516405\ttotal: 277ms\tremaining: 674ms\n",
      "291:\tlearn: 0.3514911\ttotal: 278ms\tremaining: 673ms\n",
      "292:\tlearn: 0.3514482\ttotal: 278ms\tremaining: 671ms\n",
      "293:\tlearn: 0.3511068\ttotal: 280ms\tremaining: 672ms\n",
      "294:\tlearn: 0.3508120\ttotal: 280ms\tremaining: 669ms\n",
      "295:\tlearn: 0.3506696\ttotal: 280ms\tremaining: 667ms\n",
      "296:\tlearn: 0.3505071\ttotal: 281ms\tremaining: 665ms\n",
      "297:\tlearn: 0.3504978\ttotal: 281ms\tremaining: 662ms\n",
      "298:\tlearn: 0.3503844\ttotal: 282ms\tremaining: 661ms\n",
      "299:\tlearn: 0.3503496\ttotal: 282ms\tremaining: 659ms\n",
      "300:\tlearn: 0.3500658\ttotal: 283ms\tremaining: 656ms\n",
      "301:\tlearn: 0.3498190\ttotal: 283ms\tremaining: 654ms\n",
      "302:\tlearn: 0.3496788\ttotal: 283ms\tremaining: 652ms\n",
      "303:\tlearn: 0.3495269\ttotal: 284ms\tremaining: 649ms\n",
      "304:\tlearn: 0.3493986\ttotal: 284ms\tremaining: 647ms\n",
      "305:\tlearn: 0.3492082\ttotal: 284ms\tremaining: 645ms\n",
      "306:\tlearn: 0.3490935\ttotal: 285ms\tremaining: 642ms\n",
      "307:\tlearn: 0.3489315\ttotal: 286ms\tremaining: 642ms\n",
      "308:\tlearn: 0.3487850\ttotal: 286ms\tremaining: 641ms\n",
      "309:\tlearn: 0.3486453\ttotal: 287ms\tremaining: 638ms\n",
      "310:\tlearn: 0.3484515\ttotal: 287ms\tremaining: 637ms\n",
      "311:\tlearn: 0.3484102\ttotal: 289ms\tremaining: 637ms\n",
      "312:\tlearn: 0.3483868\ttotal: 289ms\tremaining: 635ms\n",
      "313:\tlearn: 0.3481486\ttotal: 290ms\tremaining: 633ms\n",
      "314:\tlearn: 0.3479388\ttotal: 290ms\tremaining: 630ms\n",
      "315:\tlearn: 0.3477178\ttotal: 290ms\tremaining: 628ms\n",
      "316:\tlearn: 0.3475911\ttotal: 291ms\tremaining: 627ms\n",
      "317:\tlearn: 0.3475433\ttotal: 291ms\tremaining: 625ms\n",
      "318:\tlearn: 0.3474197\ttotal: 292ms\tremaining: 623ms\n",
      "319:\tlearn: 0.3472891\ttotal: 292ms\tremaining: 621ms\n",
      "320:\tlearn: 0.3472143\ttotal: 292ms\tremaining: 619ms\n",
      "321:\tlearn: 0.3470584\ttotal: 293ms\tremaining: 616ms\n",
      "322:\tlearn: 0.3468594\ttotal: 293ms\tremaining: 615ms\n",
      "323:\tlearn: 0.3466764\ttotal: 294ms\tremaining: 613ms\n",
      "324:\tlearn: 0.3464735\ttotal: 294ms\tremaining: 611ms\n",
      "325:\tlearn: 0.3463067\ttotal: 295ms\tremaining: 611ms\n",
      "326:\tlearn: 0.3462430\ttotal: 296ms\tremaining: 609ms\n",
      "327:\tlearn: 0.3461161\ttotal: 297ms\tremaining: 608ms\n",
      "328:\tlearn: 0.3459971\ttotal: 297ms\tremaining: 607ms\n",
      "329:\tlearn: 0.3459641\ttotal: 298ms\tremaining: 605ms\n",
      "330:\tlearn: 0.3458068\ttotal: 299ms\tremaining: 604ms\n",
      "331:\tlearn: 0.3455887\ttotal: 300ms\tremaining: 603ms\n",
      "332:\tlearn: 0.3455095\ttotal: 300ms\tremaining: 602ms\n",
      "333:\tlearn: 0.3453804\ttotal: 302ms\tremaining: 602ms\n",
      "334:\tlearn: 0.3452492\ttotal: 303ms\tremaining: 601ms\n",
      "335:\tlearn: 0.3451464\ttotal: 303ms\tremaining: 599ms\n",
      "336:\tlearn: 0.3449641\ttotal: 304ms\tremaining: 598ms\n",
      "337:\tlearn: 0.3449626\ttotal: 305ms\tremaining: 597ms\n",
      "338:\tlearn: 0.3447840\ttotal: 305ms\tremaining: 596ms\n",
      "339:\tlearn: 0.3447365\ttotal: 306ms\tremaining: 594ms\n",
      "340:\tlearn: 0.3445463\ttotal: 307ms\tremaining: 593ms\n",
      "341:\tlearn: 0.3444242\ttotal: 309ms\tremaining: 594ms\n",
      "342:\tlearn: 0.3443045\ttotal: 311ms\tremaining: 596ms\n",
      "343:\tlearn: 0.3442668\ttotal: 311ms\tremaining: 594ms\n",
      "344:\tlearn: 0.3442472\ttotal: 312ms\tremaining: 593ms\n",
      "345:\tlearn: 0.3441588\ttotal: 314ms\tremaining: 593ms\n",
      "346:\tlearn: 0.3440333\ttotal: 314ms\tremaining: 591ms\n",
      "347:\tlearn: 0.3438864\ttotal: 315ms\tremaining: 590ms\n",
      "348:\tlearn: 0.3436371\ttotal: 316ms\tremaining: 589ms\n",
      "349:\tlearn: 0.3436313\ttotal: 316ms\tremaining: 587ms\n",
      "350:\tlearn: 0.3435237\ttotal: 316ms\tremaining: 585ms\n",
      "351:\tlearn: 0.3435049\ttotal: 316ms\tremaining: 582ms\n",
      "352:\tlearn: 0.3434202\ttotal: 317ms\tremaining: 580ms\n",
      "353:\tlearn: 0.3432857\ttotal: 317ms\tremaining: 579ms\n",
      "354:\tlearn: 0.3431978\ttotal: 318ms\tremaining: 577ms\n",
      "355:\tlearn: 0.3430134\ttotal: 319ms\tremaining: 577ms\n",
      "356:\tlearn: 0.3429819\ttotal: 320ms\tremaining: 577ms\n",
      "357:\tlearn: 0.3427639\ttotal: 321ms\tremaining: 575ms\n",
      "358:\tlearn: 0.3425122\ttotal: 322ms\tremaining: 574ms\n",
      "359:\tlearn: 0.3424000\ttotal: 323ms\tremaining: 574ms\n",
      "360:\tlearn: 0.3422042\ttotal: 323ms\tremaining: 572ms\n",
      "361:\tlearn: 0.3420338\ttotal: 324ms\tremaining: 571ms\n",
      "362:\tlearn: 0.3419171\ttotal: 324ms\tremaining: 569ms\n",
      "363:\tlearn: 0.3418395\ttotal: 327ms\tremaining: 572ms\n",
      "364:\tlearn: 0.3416708\ttotal: 328ms\tremaining: 570ms\n",
      "365:\tlearn: 0.3414506\ttotal: 328ms\tremaining: 569ms\n",
      "366:\tlearn: 0.3414415\ttotal: 329ms\tremaining: 567ms\n",
      "367:\tlearn: 0.3413358\ttotal: 330ms\tremaining: 567ms\n",
      "368:\tlearn: 0.3411502\ttotal: 331ms\tremaining: 566ms\n",
      "369:\tlearn: 0.3411303\ttotal: 333ms\tremaining: 566ms\n",
      "370:\tlearn: 0.3409873\ttotal: 333ms\tremaining: 565ms\n",
      "371:\tlearn: 0.3409748\ttotal: 334ms\tremaining: 564ms\n",
      "372:\tlearn: 0.3409644\ttotal: 335ms\tremaining: 563ms\n",
      "373:\tlearn: 0.3408420\ttotal: 336ms\tremaining: 562ms\n",
      "374:\tlearn: 0.3406892\ttotal: 342ms\tremaining: 570ms\n",
      "375:\tlearn: 0.3406119\ttotal: 343ms\tremaining: 570ms\n",
      "376:\tlearn: 0.3405002\ttotal: 344ms\tremaining: 569ms\n",
      "377:\tlearn: 0.3403151\ttotal: 345ms\tremaining: 568ms\n",
      "378:\tlearn: 0.3401684\ttotal: 347ms\tremaining: 568ms\n",
      "379:\tlearn: 0.3401191\ttotal: 348ms\tremaining: 568ms\n",
      "380:\tlearn: 0.3400629\ttotal: 350ms\tremaining: 569ms\n",
      "381:\tlearn: 0.3399878\ttotal: 351ms\tremaining: 567ms\n",
      "382:\tlearn: 0.3398243\ttotal: 351ms\tremaining: 566ms\n",
      "383:\tlearn: 0.3398175\ttotal: 352ms\tremaining: 564ms\n",
      "384:\tlearn: 0.3398011\ttotal: 353ms\tremaining: 564ms\n",
      "385:\tlearn: 0.3396760\ttotal: 354ms\tremaining: 562ms\n",
      "386:\tlearn: 0.3395590\ttotal: 354ms\tremaining: 561ms\n",
      "387:\tlearn: 0.3395163\ttotal: 357ms\tremaining: 563ms\n",
      "388:\tlearn: 0.3393276\ttotal: 357ms\tremaining: 561ms\n",
      "389:\tlearn: 0.3392681\ttotal: 358ms\tremaining: 560ms\n",
      "390:\tlearn: 0.3391088\ttotal: 359ms\tremaining: 559ms\n",
      "391:\tlearn: 0.3389671\ttotal: 359ms\tremaining: 557ms\n",
      "392:\tlearn: 0.3387794\ttotal: 361ms\tremaining: 558ms\n",
      "393:\tlearn: 0.3386472\ttotal: 365ms\tremaining: 561ms\n",
      "394:\tlearn: 0.3386428\ttotal: 368ms\tremaining: 564ms\n",
      "395:\tlearn: 0.3385079\ttotal: 369ms\tremaining: 563ms\n",
      "396:\tlearn: 0.3385044\ttotal: 370ms\tremaining: 562ms\n",
      "397:\tlearn: 0.3384595\ttotal: 371ms\tremaining: 561ms\n",
      "398:\tlearn: 0.3382953\ttotal: 371ms\tremaining: 560ms\n",
      "399:\tlearn: 0.3382167\ttotal: 372ms\tremaining: 558ms\n",
      "400:\tlearn: 0.3380324\ttotal: 373ms\tremaining: 558ms\n",
      "401:\tlearn: 0.3378736\ttotal: 375ms\tremaining: 557ms\n",
      "402:\tlearn: 0.3376803\ttotal: 376ms\tremaining: 557ms\n",
      "403:\tlearn: 0.3375350\ttotal: 378ms\tremaining: 557ms\n",
      "404:\tlearn: 0.3372977\ttotal: 381ms\tremaining: 560ms\n",
      "405:\tlearn: 0.3371640\ttotal: 383ms\tremaining: 560ms\n",
      "406:\tlearn: 0.3370658\ttotal: 386ms\tremaining: 562ms\n",
      "407:\tlearn: 0.3369957\ttotal: 389ms\tremaining: 564ms\n",
      "408:\tlearn: 0.3369379\ttotal: 392ms\tremaining: 566ms\n",
      "409:\tlearn: 0.3368588\ttotal: 395ms\tremaining: 569ms\n",
      "410:\tlearn: 0.3366753\ttotal: 396ms\tremaining: 567ms\n",
      "411:\tlearn: 0.3366340\ttotal: 397ms\tremaining: 566ms\n",
      "412:\tlearn: 0.3366269\ttotal: 398ms\tremaining: 565ms\n",
      "413:\tlearn: 0.3366199\ttotal: 400ms\tremaining: 566ms\n",
      "414:\tlearn: 0.3364666\ttotal: 402ms\tremaining: 566ms\n",
      "415:\tlearn: 0.3363712\ttotal: 404ms\tremaining: 568ms\n",
      "416:\tlearn: 0.3361973\ttotal: 405ms\tremaining: 567ms\n",
      "417:\tlearn: 0.3361452\ttotal: 407ms\tremaining: 567ms\n",
      "418:\tlearn: 0.3361180\ttotal: 409ms\tremaining: 567ms\n",
      "419:\tlearn: 0.3359214\ttotal: 410ms\tremaining: 566ms\n",
      "420:\tlearn: 0.3358436\ttotal: 411ms\tremaining: 565ms\n",
      "421:\tlearn: 0.3356465\ttotal: 412ms\tremaining: 564ms\n",
      "422:\tlearn: 0.3354518\ttotal: 413ms\tremaining: 563ms\n",
      "423:\tlearn: 0.3353375\ttotal: 416ms\tremaining: 565ms\n",
      "424:\tlearn: 0.3352651\ttotal: 417ms\tremaining: 564ms\n",
      "425:\tlearn: 0.3351864\ttotal: 418ms\tremaining: 563ms\n",
      "426:\tlearn: 0.3351045\ttotal: 419ms\tremaining: 562ms\n",
      "427:\tlearn: 0.3350683\ttotal: 421ms\tremaining: 562ms\n",
      "428:\tlearn: 0.3348921\ttotal: 422ms\tremaining: 562ms\n",
      "429:\tlearn: 0.3347476\ttotal: 424ms\tremaining: 561ms\n",
      "430:\tlearn: 0.3345740\ttotal: 424ms\tremaining: 560ms\n",
      "431:\tlearn: 0.3345574\ttotal: 426ms\tremaining: 560ms\n",
      "432:\tlearn: 0.3344247\ttotal: 427ms\tremaining: 560ms\n",
      "433:\tlearn: 0.3343214\ttotal: 428ms\tremaining: 558ms\n",
      "434:\tlearn: 0.3342854\ttotal: 429ms\tremaining: 557ms\n",
      "435:\tlearn: 0.3341738\ttotal: 431ms\tremaining: 558ms\n",
      "436:\tlearn: 0.3340989\ttotal: 432ms\tremaining: 557ms\n",
      "437:\tlearn: 0.3340449\ttotal: 433ms\tremaining: 555ms\n",
      "438:\tlearn: 0.3338395\ttotal: 434ms\tremaining: 554ms\n",
      "439:\tlearn: 0.3337552\ttotal: 434ms\tremaining: 553ms\n",
      "440:\tlearn: 0.3336761\ttotal: 435ms\tremaining: 552ms\n",
      "441:\tlearn: 0.3336706\ttotal: 435ms\tremaining: 550ms\n",
      "442:\tlearn: 0.3336207\ttotal: 436ms\tremaining: 549ms\n",
      "443:\tlearn: 0.3335249\ttotal: 437ms\tremaining: 547ms\n",
      "444:\tlearn: 0.3333827\ttotal: 438ms\tremaining: 546ms\n",
      "445:\tlearn: 0.3332583\ttotal: 439ms\tremaining: 545ms\n",
      "446:\tlearn: 0.3332412\ttotal: 439ms\tremaining: 543ms\n",
      "447:\tlearn: 0.3331679\ttotal: 440ms\tremaining: 542ms\n",
      "448:\tlearn: 0.3330395\ttotal: 442ms\tremaining: 543ms\n",
      "449:\tlearn: 0.3329744\ttotal: 445ms\tremaining: 544ms\n",
      "450:\tlearn: 0.3329213\ttotal: 445ms\tremaining: 542ms\n",
      "451:\tlearn: 0.3327729\ttotal: 446ms\tremaining: 540ms\n",
      "452:\tlearn: 0.3326651\ttotal: 448ms\tremaining: 541ms\n",
      "453:\tlearn: 0.3325945\ttotal: 449ms\tremaining: 540ms\n",
      "454:\tlearn: 0.3324918\ttotal: 454ms\tremaining: 544ms\n",
      "455:\tlearn: 0.3323424\ttotal: 459ms\tremaining: 547ms\n",
      "456:\tlearn: 0.3322685\ttotal: 462ms\tremaining: 549ms\n",
      "457:\tlearn: 0.3320584\ttotal: 463ms\tremaining: 548ms\n",
      "458:\tlearn: 0.3320075\ttotal: 464ms\tremaining: 547ms\n",
      "459:\tlearn: 0.3319725\ttotal: 467ms\tremaining: 549ms\n",
      "460:\tlearn: 0.3318685\ttotal: 468ms\tremaining: 547ms\n",
      "461:\tlearn: 0.3318193\ttotal: 469ms\tremaining: 546ms\n",
      "462:\tlearn: 0.3318176\ttotal: 470ms\tremaining: 545ms\n",
      "463:\tlearn: 0.3317269\ttotal: 471ms\tremaining: 544ms\n",
      "464:\tlearn: 0.3316212\ttotal: 471ms\tremaining: 542ms\n",
      "465:\tlearn: 0.3316003\ttotal: 473ms\tremaining: 542ms\n",
      "466:\tlearn: 0.3315160\ttotal: 474ms\tremaining: 541ms\n",
      "467:\tlearn: 0.3313815\ttotal: 475ms\tremaining: 540ms\n",
      "468:\tlearn: 0.3312942\ttotal: 476ms\tremaining: 539ms\n",
      "469:\tlearn: 0.3312258\ttotal: 477ms\tremaining: 538ms\n",
      "470:\tlearn: 0.3312017\ttotal: 480ms\tremaining: 539ms\n",
      "471:\tlearn: 0.3311453\ttotal: 482ms\tremaining: 539ms\n",
      "472:\tlearn: 0.3310177\ttotal: 486ms\tremaining: 541ms\n",
      "473:\tlearn: 0.3308880\ttotal: 487ms\tremaining: 540ms\n",
      "474:\tlearn: 0.3308305\ttotal: 489ms\tremaining: 541ms\n",
      "475:\tlearn: 0.3307400\ttotal: 490ms\tremaining: 540ms\n",
      "476:\tlearn: 0.3307381\ttotal: 491ms\tremaining: 539ms\n",
      "477:\tlearn: 0.3307096\ttotal: 493ms\tremaining: 538ms\n",
      "478:\tlearn: 0.3305857\ttotal: 493ms\tremaining: 536ms\n",
      "479:\tlearn: 0.3304885\ttotal: 494ms\tremaining: 535ms\n",
      "480:\tlearn: 0.3304217\ttotal: 507ms\tremaining: 547ms\n",
      "481:\tlearn: 0.3303337\ttotal: 509ms\tremaining: 547ms\n",
      "482:\tlearn: 0.3302967\ttotal: 510ms\tremaining: 545ms\n",
      "483:\tlearn: 0.3301363\ttotal: 512ms\tremaining: 546ms\n",
      "484:\tlearn: 0.3301128\ttotal: 512ms\tremaining: 544ms\n",
      "485:\tlearn: 0.3299986\ttotal: 513ms\tremaining: 543ms\n",
      "486:\tlearn: 0.3299927\ttotal: 514ms\tremaining: 542ms\n",
      "487:\tlearn: 0.3299441\ttotal: 515ms\tremaining: 540ms\n",
      "488:\tlearn: 0.3299421\ttotal: 515ms\tremaining: 538ms\n",
      "489:\tlearn: 0.3298849\ttotal: 516ms\tremaining: 537ms\n",
      "490:\tlearn: 0.3297862\ttotal: 518ms\tremaining: 537ms\n",
      "491:\tlearn: 0.3297626\ttotal: 519ms\tremaining: 536ms\n",
      "492:\tlearn: 0.3297055\ttotal: 520ms\tremaining: 534ms\n",
      "493:\tlearn: 0.3295818\ttotal: 521ms\tremaining: 534ms\n",
      "494:\tlearn: 0.3294623\ttotal: 522ms\tremaining: 533ms\n",
      "495:\tlearn: 0.3294351\ttotal: 522ms\tremaining: 531ms\n",
      "496:\tlearn: 0.3293877\ttotal: 523ms\tremaining: 529ms\n",
      "497:\tlearn: 0.3293176\ttotal: 524ms\tremaining: 528ms\n",
      "498:\tlearn: 0.3292790\ttotal: 525ms\tremaining: 527ms\n",
      "499:\tlearn: 0.3290800\ttotal: 526ms\tremaining: 526ms\n",
      "500:\tlearn: 0.3290537\ttotal: 526ms\tremaining: 524ms\n",
      "501:\tlearn: 0.3289783\ttotal: 527ms\tremaining: 523ms\n",
      "502:\tlearn: 0.3288524\ttotal: 529ms\tremaining: 522ms\n",
      "503:\tlearn: 0.3288176\ttotal: 530ms\tremaining: 521ms\n",
      "504:\tlearn: 0.3287164\ttotal: 530ms\tremaining: 520ms\n",
      "505:\tlearn: 0.3286362\ttotal: 531ms\tremaining: 518ms\n",
      "506:\tlearn: 0.3285780\ttotal: 531ms\tremaining: 517ms\n",
      "507:\tlearn: 0.3284900\ttotal: 532ms\tremaining: 515ms\n",
      "508:\tlearn: 0.3284163\ttotal: 533ms\tremaining: 514ms\n",
      "509:\tlearn: 0.3283194\ttotal: 534ms\tremaining: 513ms\n",
      "510:\tlearn: 0.3282564\ttotal: 535ms\tremaining: 512ms\n",
      "511:\tlearn: 0.3281751\ttotal: 536ms\tremaining: 511ms\n",
      "512:\tlearn: 0.3281278\ttotal: 538ms\tremaining: 511ms\n",
      "513:\tlearn: 0.3280788\ttotal: 539ms\tremaining: 510ms\n",
      "514:\tlearn: 0.3280230\ttotal: 540ms\tremaining: 509ms\n",
      "515:\tlearn: 0.3278345\ttotal: 542ms\tremaining: 508ms\n",
      "516:\tlearn: 0.3277969\ttotal: 542ms\tremaining: 507ms\n",
      "517:\tlearn: 0.3276988\ttotal: 543ms\tremaining: 505ms\n",
      "518:\tlearn: 0.3276668\ttotal: 544ms\tremaining: 504ms\n",
      "519:\tlearn: 0.3275593\ttotal: 544ms\tremaining: 502ms\n",
      "520:\tlearn: 0.3274701\ttotal: 545ms\tremaining: 501ms\n",
      "521:\tlearn: 0.3273803\ttotal: 546ms\tremaining: 500ms\n",
      "522:\tlearn: 0.3272490\ttotal: 546ms\tremaining: 498ms\n",
      "523:\tlearn: 0.3272007\ttotal: 547ms\tremaining: 497ms\n",
      "524:\tlearn: 0.3271251\ttotal: 549ms\tremaining: 496ms\n",
      "525:\tlearn: 0.3270555\ttotal: 549ms\tremaining: 495ms\n",
      "526:\tlearn: 0.3270109\ttotal: 550ms\tremaining: 493ms\n",
      "527:\tlearn: 0.3269497\ttotal: 550ms\tremaining: 492ms\n",
      "528:\tlearn: 0.3268499\ttotal: 551ms\tremaining: 490ms\n",
      "529:\tlearn: 0.3268421\ttotal: 552ms\tremaining: 489ms\n",
      "530:\tlearn: 0.3267822\ttotal: 552ms\tremaining: 488ms\n",
      "531:\tlearn: 0.3267474\ttotal: 552ms\tremaining: 486ms\n",
      "532:\tlearn: 0.3266708\ttotal: 553ms\tremaining: 484ms\n",
      "533:\tlearn: 0.3265806\ttotal: 554ms\tremaining: 483ms\n",
      "534:\tlearn: 0.3264513\ttotal: 554ms\tremaining: 481ms\n",
      "535:\tlearn: 0.3263746\ttotal: 555ms\tremaining: 480ms\n",
      "536:\tlearn: 0.3263074\ttotal: 555ms\tremaining: 479ms\n",
      "537:\tlearn: 0.3262022\ttotal: 558ms\tremaining: 479ms\n",
      "538:\tlearn: 0.3261408\ttotal: 558ms\tremaining: 477ms\n",
      "539:\tlearn: 0.3259635\ttotal: 559ms\tremaining: 476ms\n",
      "540:\tlearn: 0.3259445\ttotal: 560ms\tremaining: 475ms\n",
      "541:\tlearn: 0.3259280\ttotal: 561ms\tremaining: 474ms\n",
      "542:\tlearn: 0.3258601\ttotal: 562ms\tremaining: 473ms\n",
      "543:\tlearn: 0.3258272\ttotal: 564ms\tremaining: 473ms\n",
      "544:\tlearn: 0.3257857\ttotal: 565ms\tremaining: 471ms\n",
      "545:\tlearn: 0.3256569\ttotal: 565ms\tremaining: 470ms\n",
      "546:\tlearn: 0.3256069\ttotal: 566ms\tremaining: 468ms\n",
      "547:\tlearn: 0.3255456\ttotal: 566ms\tremaining: 467ms\n",
      "548:\tlearn: 0.3254275\ttotal: 567ms\tremaining: 465ms\n",
      "549:\tlearn: 0.3253326\ttotal: 567ms\tremaining: 464ms\n",
      "550:\tlearn: 0.3252134\ttotal: 568ms\tremaining: 463ms\n",
      "551:\tlearn: 0.3251707\ttotal: 569ms\tremaining: 462ms\n",
      "552:\tlearn: 0.3251702\ttotal: 569ms\tremaining: 460ms\n",
      "553:\tlearn: 0.3250915\ttotal: 569ms\tremaining: 458ms\n",
      "554:\tlearn: 0.3249663\ttotal: 571ms\tremaining: 458ms\n",
      "555:\tlearn: 0.3248826\ttotal: 572ms\tremaining: 456ms\n",
      "556:\tlearn: 0.3247992\ttotal: 572ms\tremaining: 455ms\n",
      "557:\tlearn: 0.3247213\ttotal: 573ms\tremaining: 454ms\n",
      "558:\tlearn: 0.3246001\ttotal: 573ms\tremaining: 452ms\n",
      "559:\tlearn: 0.3245808\ttotal: 575ms\tremaining: 452ms\n",
      "560:\tlearn: 0.3245475\ttotal: 576ms\tremaining: 450ms\n",
      "561:\tlearn: 0.3244097\ttotal: 578ms\tremaining: 450ms\n",
      "562:\tlearn: 0.3243669\ttotal: 579ms\tremaining: 449ms\n",
      "563:\tlearn: 0.3243536\ttotal: 579ms\tremaining: 448ms\n",
      "564:\tlearn: 0.3242999\ttotal: 581ms\tremaining: 447ms\n",
      "565:\tlearn: 0.3242561\ttotal: 582ms\tremaining: 446ms\n",
      "566:\tlearn: 0.3241857\ttotal: 582ms\tremaining: 445ms\n",
      "567:\tlearn: 0.3241131\ttotal: 583ms\tremaining: 443ms\n",
      "568:\tlearn: 0.3240890\ttotal: 583ms\tremaining: 442ms\n",
      "569:\tlearn: 0.3240837\ttotal: 583ms\tremaining: 440ms\n",
      "570:\tlearn: 0.3240096\ttotal: 584ms\tremaining: 439ms\n",
      "571:\tlearn: 0.3239781\ttotal: 586ms\tremaining: 438ms\n",
      "572:\tlearn: 0.3239681\ttotal: 587ms\tremaining: 437ms\n",
      "573:\tlearn: 0.3238951\ttotal: 588ms\tremaining: 436ms\n",
      "574:\tlearn: 0.3238845\ttotal: 591ms\tremaining: 437ms\n",
      "575:\tlearn: 0.3238230\ttotal: 592ms\tremaining: 436ms\n",
      "576:\tlearn: 0.3237095\ttotal: 594ms\tremaining: 435ms\n",
      "577:\tlearn: 0.3236654\ttotal: 594ms\tremaining: 434ms\n",
      "578:\tlearn: 0.3235715\ttotal: 595ms\tremaining: 433ms\n",
      "579:\tlearn: 0.3235668\ttotal: 595ms\tremaining: 431ms\n",
      "580:\tlearn: 0.3234801\ttotal: 596ms\tremaining: 430ms\n",
      "581:\tlearn: 0.3233674\ttotal: 596ms\tremaining: 428ms\n",
      "582:\tlearn: 0.3232132\ttotal: 597ms\tremaining: 427ms\n",
      "583:\tlearn: 0.3231351\ttotal: 597ms\tremaining: 425ms\n",
      "584:\tlearn: 0.3230811\ttotal: 598ms\tremaining: 425ms\n",
      "585:\tlearn: 0.3229998\ttotal: 599ms\tremaining: 423ms\n",
      "586:\tlearn: 0.3229977\ttotal: 600ms\tremaining: 422ms\n",
      "587:\tlearn: 0.3229582\ttotal: 602ms\tremaining: 422ms\n",
      "588:\tlearn: 0.3228710\ttotal: 604ms\tremaining: 421ms\n",
      "589:\tlearn: 0.3228278\ttotal: 604ms\tremaining: 420ms\n",
      "590:\tlearn: 0.3227607\ttotal: 605ms\tremaining: 419ms\n",
      "591:\tlearn: 0.3226824\ttotal: 606ms\tremaining: 418ms\n",
      "592:\tlearn: 0.3226464\ttotal: 606ms\tremaining: 416ms\n",
      "593:\tlearn: 0.3225767\ttotal: 607ms\tremaining: 415ms\n",
      "594:\tlearn: 0.3224568\ttotal: 608ms\tremaining: 414ms\n",
      "595:\tlearn: 0.3223231\ttotal: 609ms\tremaining: 413ms\n",
      "596:\tlearn: 0.3223207\ttotal: 609ms\tremaining: 411ms\n",
      "597:\tlearn: 0.3222848\ttotal: 610ms\tremaining: 410ms\n",
      "598:\tlearn: 0.3221800\ttotal: 610ms\tremaining: 408ms\n",
      "599:\tlearn: 0.3221408\ttotal: 610ms\tremaining: 407ms\n",
      "600:\tlearn: 0.3220949\ttotal: 614ms\tremaining: 408ms\n",
      "601:\tlearn: 0.3220718\ttotal: 617ms\tremaining: 408ms\n",
      "602:\tlearn: 0.3220339\ttotal: 617ms\tremaining: 406ms\n",
      "603:\tlearn: 0.3219539\ttotal: 618ms\tremaining: 405ms\n",
      "604:\tlearn: 0.3218537\ttotal: 619ms\tremaining: 404ms\n",
      "605:\tlearn: 0.3218034\ttotal: 622ms\tremaining: 404ms\n",
      "606:\tlearn: 0.3218008\ttotal: 623ms\tremaining: 403ms\n",
      "607:\tlearn: 0.3217988\ttotal: 624ms\tremaining: 402ms\n",
      "608:\tlearn: 0.3217032\ttotal: 625ms\tremaining: 401ms\n",
      "609:\tlearn: 0.3216168\ttotal: 627ms\tremaining: 401ms\n",
      "610:\tlearn: 0.3214662\ttotal: 628ms\tremaining: 400ms\n",
      "611:\tlearn: 0.3213748\ttotal: 629ms\tremaining: 399ms\n",
      "612:\tlearn: 0.3212537\ttotal: 629ms\tremaining: 397ms\n",
      "613:\tlearn: 0.3212460\ttotal: 631ms\tremaining: 397ms\n",
      "614:\tlearn: 0.3211865\ttotal: 631ms\tremaining: 395ms\n",
      "615:\tlearn: 0.3211099\ttotal: 633ms\tremaining: 394ms\n",
      "616:\tlearn: 0.3210709\ttotal: 634ms\tremaining: 393ms\n",
      "617:\tlearn: 0.3210170\ttotal: 634ms\tremaining: 392ms\n",
      "618:\tlearn: 0.3209676\ttotal: 637ms\tremaining: 392ms\n",
      "619:\tlearn: 0.3208093\ttotal: 638ms\tremaining: 391ms\n",
      "620:\tlearn: 0.3207020\ttotal: 639ms\tremaining: 390ms\n",
      "621:\tlearn: 0.3206413\ttotal: 640ms\tremaining: 389ms\n",
      "622:\tlearn: 0.3205665\ttotal: 641ms\tremaining: 388ms\n",
      "623:\tlearn: 0.3205333\ttotal: 641ms\tremaining: 386ms\n",
      "624:\tlearn: 0.3205013\ttotal: 642ms\tremaining: 385ms\n",
      "625:\tlearn: 0.3204520\ttotal: 643ms\tremaining: 384ms\n",
      "626:\tlearn: 0.3204227\ttotal: 643ms\tremaining: 383ms\n",
      "627:\tlearn: 0.3204066\ttotal: 644ms\tremaining: 382ms\n",
      "628:\tlearn: 0.3203296\ttotal: 645ms\tremaining: 381ms\n",
      "629:\tlearn: 0.3202608\ttotal: 646ms\tremaining: 379ms\n",
      "630:\tlearn: 0.3201686\ttotal: 647ms\tremaining: 378ms\n",
      "631:\tlearn: 0.3200836\ttotal: 647ms\tremaining: 377ms\n",
      "632:\tlearn: 0.3199926\ttotal: 648ms\tremaining: 376ms\n",
      "633:\tlearn: 0.3199252\ttotal: 650ms\tremaining: 375ms\n",
      "634:\tlearn: 0.3197790\ttotal: 651ms\tremaining: 374ms\n",
      "635:\tlearn: 0.3197494\ttotal: 652ms\tremaining: 373ms\n",
      "636:\tlearn: 0.3197415\ttotal: 653ms\tremaining: 372ms\n",
      "637:\tlearn: 0.3196937\ttotal: 654ms\tremaining: 371ms\n",
      "638:\tlearn: 0.3196413\ttotal: 656ms\tremaining: 371ms\n",
      "639:\tlearn: 0.3195831\ttotal: 656ms\tremaining: 369ms\n",
      "640:\tlearn: 0.3194614\ttotal: 657ms\tremaining: 368ms\n",
      "641:\tlearn: 0.3194146\ttotal: 661ms\tremaining: 369ms\n",
      "642:\tlearn: 0.3193872\ttotal: 662ms\tremaining: 368ms\n",
      "643:\tlearn: 0.3193469\ttotal: 663ms\tremaining: 366ms\n",
      "644:\tlearn: 0.3192862\ttotal: 663ms\tremaining: 365ms\n",
      "645:\tlearn: 0.3192537\ttotal: 665ms\tremaining: 364ms\n",
      "646:\tlearn: 0.3191847\ttotal: 668ms\tremaining: 364ms\n",
      "647:\tlearn: 0.3191227\ttotal: 669ms\tremaining: 363ms\n",
      "648:\tlearn: 0.3190849\ttotal: 670ms\tremaining: 362ms\n",
      "649:\tlearn: 0.3190829\ttotal: 670ms\tremaining: 361ms\n",
      "650:\tlearn: 0.3190821\ttotal: 671ms\tremaining: 360ms\n",
      "651:\tlearn: 0.3190375\ttotal: 672ms\tremaining: 358ms\n",
      "652:\tlearn: 0.3189203\ttotal: 674ms\tremaining: 358ms\n",
      "653:\tlearn: 0.3188343\ttotal: 677ms\tremaining: 358ms\n",
      "654:\tlearn: 0.3188303\ttotal: 678ms\tremaining: 357ms\n",
      "655:\tlearn: 0.3187878\ttotal: 679ms\tremaining: 356ms\n",
      "656:\tlearn: 0.3187372\ttotal: 680ms\tremaining: 355ms\n",
      "657:\tlearn: 0.3186568\ttotal: 681ms\tremaining: 354ms\n",
      "658:\tlearn: 0.3186562\ttotal: 682ms\tremaining: 353ms\n",
      "659:\tlearn: 0.3186535\ttotal: 684ms\tremaining: 352ms\n",
      "660:\tlearn: 0.3186088\ttotal: 685ms\tremaining: 352ms\n",
      "661:\tlearn: 0.3185004\ttotal: 689ms\tremaining: 352ms\n",
      "662:\tlearn: 0.3184407\ttotal: 690ms\tremaining: 350ms\n",
      "663:\tlearn: 0.3184373\ttotal: 690ms\tremaining: 349ms\n",
      "664:\tlearn: 0.3183860\ttotal: 693ms\tremaining: 349ms\n",
      "665:\tlearn: 0.3183259\ttotal: 694ms\tremaining: 348ms\n",
      "666:\tlearn: 0.3183252\ttotal: 695ms\tremaining: 347ms\n",
      "667:\tlearn: 0.3182269\ttotal: 696ms\tremaining: 346ms\n",
      "668:\tlearn: 0.3181185\ttotal: 696ms\tremaining: 344ms\n",
      "669:\tlearn: 0.3180811\ttotal: 697ms\tremaining: 343ms\n",
      "670:\tlearn: 0.3180009\ttotal: 697ms\tremaining: 342ms\n",
      "671:\tlearn: 0.3178822\ttotal: 698ms\tremaining: 341ms\n",
      "672:\tlearn: 0.3177971\ttotal: 698ms\tremaining: 339ms\n",
      "673:\tlearn: 0.3177946\ttotal: 699ms\tremaining: 338ms\n",
      "674:\tlearn: 0.3177577\ttotal: 699ms\tremaining: 337ms\n",
      "675:\tlearn: 0.3177073\ttotal: 700ms\tremaining: 335ms\n",
      "676:\tlearn: 0.3176945\ttotal: 700ms\tremaining: 334ms\n",
      "677:\tlearn: 0.3176047\ttotal: 701ms\tremaining: 333ms\n",
      "678:\tlearn: 0.3175256\ttotal: 701ms\tremaining: 331ms\n",
      "679:\tlearn: 0.3174822\ttotal: 703ms\tremaining: 331ms\n",
      "680:\tlearn: 0.3174634\ttotal: 704ms\tremaining: 330ms\n",
      "681:\tlearn: 0.3174494\ttotal: 705ms\tremaining: 329ms\n",
      "682:\tlearn: 0.3174477\ttotal: 706ms\tremaining: 327ms\n",
      "683:\tlearn: 0.3174247\ttotal: 706ms\tremaining: 326ms\n",
      "684:\tlearn: 0.3173362\ttotal: 707ms\tremaining: 325ms\n",
      "685:\tlearn: 0.3173113\ttotal: 709ms\tremaining: 324ms\n",
      "686:\tlearn: 0.3172791\ttotal: 709ms\tremaining: 323ms\n",
      "687:\tlearn: 0.3172365\ttotal: 710ms\tremaining: 322ms\n",
      "688:\tlearn: 0.3171898\ttotal: 711ms\tremaining: 321ms\n",
      "689:\tlearn: 0.3171878\ttotal: 711ms\tremaining: 320ms\n",
      "690:\tlearn: 0.3171610\ttotal: 712ms\tremaining: 319ms\n",
      "691:\tlearn: 0.3171049\ttotal: 713ms\tremaining: 317ms\n",
      "692:\tlearn: 0.3170958\ttotal: 713ms\tremaining: 316ms\n",
      "693:\tlearn: 0.3170788\ttotal: 715ms\tremaining: 315ms\n",
      "694:\tlearn: 0.3169554\ttotal: 716ms\tremaining: 314ms\n",
      "695:\tlearn: 0.3168948\ttotal: 717ms\tremaining: 313ms\n",
      "696:\tlearn: 0.3168413\ttotal: 718ms\tremaining: 312ms\n",
      "697:\tlearn: 0.3167663\ttotal: 719ms\tremaining: 311ms\n",
      "698:\tlearn: 0.3167365\ttotal: 719ms\tremaining: 310ms\n",
      "699:\tlearn: 0.3167275\ttotal: 721ms\tremaining: 309ms\n",
      "700:\tlearn: 0.3166854\ttotal: 722ms\tremaining: 308ms\n",
      "701:\tlearn: 0.3166325\ttotal: 723ms\tremaining: 307ms\n",
      "702:\tlearn: 0.3164973\ttotal: 724ms\tremaining: 306ms\n",
      "703:\tlearn: 0.3164538\ttotal: 724ms\tremaining: 305ms\n",
      "704:\tlearn: 0.3163708\ttotal: 727ms\tremaining: 304ms\n",
      "705:\tlearn: 0.3162989\ttotal: 728ms\tremaining: 303ms\n",
      "706:\tlearn: 0.3162599\ttotal: 729ms\tremaining: 302ms\n",
      "707:\tlearn: 0.3162254\ttotal: 730ms\tremaining: 301ms\n",
      "708:\tlearn: 0.3161426\ttotal: 731ms\tremaining: 300ms\n",
      "709:\tlearn: 0.3160277\ttotal: 734ms\tremaining: 300ms\n",
      "710:\tlearn: 0.3159308\ttotal: 734ms\tremaining: 299ms\n",
      "711:\tlearn: 0.3159114\ttotal: 737ms\tremaining: 298ms\n",
      "712:\tlearn: 0.3157608\ttotal: 738ms\tremaining: 297ms\n",
      "713:\tlearn: 0.3157278\ttotal: 739ms\tremaining: 296ms\n",
      "714:\tlearn: 0.3156362\ttotal: 740ms\tremaining: 295ms\n",
      "715:\tlearn: 0.3155676\ttotal: 741ms\tremaining: 294ms\n",
      "716:\tlearn: 0.3155588\ttotal: 744ms\tremaining: 294ms\n",
      "717:\tlearn: 0.3153878\ttotal: 744ms\tremaining: 292ms\n",
      "718:\tlearn: 0.3153676\ttotal: 745ms\tremaining: 291ms\n",
      "719:\tlearn: 0.3152314\ttotal: 746ms\tremaining: 290ms\n",
      "720:\tlearn: 0.3152058\ttotal: 748ms\tremaining: 289ms\n",
      "721:\tlearn: 0.3151931\ttotal: 748ms\tremaining: 288ms\n",
      "722:\tlearn: 0.3151043\ttotal: 749ms\tremaining: 287ms\n",
      "723:\tlearn: 0.3149996\ttotal: 754ms\tremaining: 287ms\n",
      "724:\tlearn: 0.3149648\ttotal: 755ms\tremaining: 286ms\n",
      "725:\tlearn: 0.3148934\ttotal: 755ms\tremaining: 285ms\n",
      "726:\tlearn: 0.3148307\ttotal: 759ms\tremaining: 285ms\n",
      "727:\tlearn: 0.3147633\ttotal: 761ms\tremaining: 284ms\n",
      "728:\tlearn: 0.3146896\ttotal: 761ms\tremaining: 283ms\n",
      "729:\tlearn: 0.3146050\ttotal: 762ms\tremaining: 282ms\n",
      "730:\tlearn: 0.3145934\ttotal: 764ms\tremaining: 281ms\n",
      "731:\tlearn: 0.3145361\ttotal: 774ms\tremaining: 283ms\n",
      "732:\tlearn: 0.3144946\ttotal: 775ms\tremaining: 282ms\n",
      "733:\tlearn: 0.3144213\ttotal: 776ms\tremaining: 281ms\n",
      "734:\tlearn: 0.3143167\ttotal: 777ms\tremaining: 280ms\n",
      "735:\tlearn: 0.3142783\ttotal: 778ms\tremaining: 279ms\n",
      "736:\tlearn: 0.3142218\ttotal: 779ms\tremaining: 278ms\n",
      "737:\tlearn: 0.3141177\ttotal: 780ms\tremaining: 277ms\n",
      "738:\tlearn: 0.3141162\ttotal: 780ms\tremaining: 276ms\n",
      "739:\tlearn: 0.3140711\ttotal: 781ms\tremaining: 274ms\n",
      "740:\tlearn: 0.3140417\ttotal: 782ms\tremaining: 273ms\n",
      "741:\tlearn: 0.3139956\ttotal: 782ms\tremaining: 272ms\n",
      "742:\tlearn: 0.3139068\ttotal: 784ms\tremaining: 271ms\n",
      "743:\tlearn: 0.3138382\ttotal: 785ms\tremaining: 270ms\n",
      "744:\tlearn: 0.3137900\ttotal: 786ms\tremaining: 269ms\n",
      "745:\tlearn: 0.3137096\ttotal: 786ms\tremaining: 268ms\n",
      "746:\tlearn: 0.3136667\ttotal: 789ms\tremaining: 267ms\n",
      "747:\tlearn: 0.3136098\ttotal: 790ms\tremaining: 266ms\n",
      "748:\tlearn: 0.3135584\ttotal: 791ms\tremaining: 265ms\n",
      "749:\tlearn: 0.3134731\ttotal: 792ms\tremaining: 264ms\n",
      "750:\tlearn: 0.3134270\ttotal: 794ms\tremaining: 263ms\n",
      "751:\tlearn: 0.3134265\ttotal: 794ms\tremaining: 262ms\n",
      "752:\tlearn: 0.3133788\ttotal: 798ms\tremaining: 262ms\n",
      "753:\tlearn: 0.3133736\ttotal: 799ms\tremaining: 261ms\n",
      "754:\tlearn: 0.3133124\ttotal: 799ms\tremaining: 259ms\n",
      "755:\tlearn: 0.3132595\ttotal: 801ms\tremaining: 258ms\n",
      "756:\tlearn: 0.3131492\ttotal: 802ms\tremaining: 257ms\n",
      "757:\tlearn: 0.3130460\ttotal: 802ms\tremaining: 256ms\n",
      "758:\tlearn: 0.3129704\ttotal: 803ms\tremaining: 255ms\n",
      "759:\tlearn: 0.3129343\ttotal: 803ms\tremaining: 254ms\n",
      "760:\tlearn: 0.3128844\ttotal: 803ms\tremaining: 252ms\n",
      "761:\tlearn: 0.3127933\ttotal: 804ms\tremaining: 251ms\n",
      "762:\tlearn: 0.3127319\ttotal: 804ms\tremaining: 250ms\n",
      "763:\tlearn: 0.3126143\ttotal: 804ms\tremaining: 248ms\n",
      "764:\tlearn: 0.3125756\ttotal: 805ms\tremaining: 247ms\n",
      "765:\tlearn: 0.3124692\ttotal: 805ms\tremaining: 246ms\n",
      "766:\tlearn: 0.3124236\ttotal: 805ms\tremaining: 245ms\n",
      "767:\tlearn: 0.3123263\ttotal: 806ms\tremaining: 243ms\n",
      "768:\tlearn: 0.3122140\ttotal: 806ms\tremaining: 242ms\n",
      "769:\tlearn: 0.3122025\ttotal: 806ms\tremaining: 241ms\n",
      "770:\tlearn: 0.3121382\ttotal: 807ms\tremaining: 240ms\n",
      "771:\tlearn: 0.3120964\ttotal: 808ms\tremaining: 239ms\n",
      "772:\tlearn: 0.3120226\ttotal: 809ms\tremaining: 237ms\n",
      "773:\tlearn: 0.3119555\ttotal: 809ms\tremaining: 236ms\n",
      "774:\tlearn: 0.3119208\ttotal: 811ms\tremaining: 235ms\n",
      "775:\tlearn: 0.3119120\ttotal: 812ms\tremaining: 234ms\n",
      "776:\tlearn: 0.3118723\ttotal: 812ms\tremaining: 233ms\n",
      "777:\tlearn: 0.3117986\ttotal: 813ms\tremaining: 232ms\n",
      "778:\tlearn: 0.3117282\ttotal: 814ms\tremaining: 231ms\n",
      "779:\tlearn: 0.3116415\ttotal: 815ms\tremaining: 230ms\n",
      "780:\tlearn: 0.3116171\ttotal: 816ms\tremaining: 229ms\n",
      "781:\tlearn: 0.3115275\ttotal: 816ms\tremaining: 228ms\n",
      "782:\tlearn: 0.3114080\ttotal: 817ms\tremaining: 226ms\n",
      "783:\tlearn: 0.3113342\ttotal: 818ms\tremaining: 225ms\n",
      "784:\tlearn: 0.3113030\ttotal: 819ms\tremaining: 224ms\n",
      "785:\tlearn: 0.3112547\ttotal: 820ms\tremaining: 223ms\n",
      "786:\tlearn: 0.3112172\ttotal: 821ms\tremaining: 222ms\n",
      "787:\tlearn: 0.3111707\ttotal: 821ms\tremaining: 221ms\n",
      "788:\tlearn: 0.3111044\ttotal: 822ms\tremaining: 220ms\n",
      "789:\tlearn: 0.3110997\ttotal: 822ms\tremaining: 219ms\n",
      "790:\tlearn: 0.3110521\ttotal: 823ms\tremaining: 218ms\n",
      "791:\tlearn: 0.3110505\ttotal: 824ms\tremaining: 216ms\n",
      "792:\tlearn: 0.3110219\ttotal: 824ms\tremaining: 215ms\n",
      "793:\tlearn: 0.3109596\ttotal: 826ms\tremaining: 214ms\n",
      "794:\tlearn: 0.3108736\ttotal: 826ms\tremaining: 213ms\n",
      "795:\tlearn: 0.3108001\ttotal: 827ms\tremaining: 212ms\n",
      "796:\tlearn: 0.3107843\ttotal: 827ms\tremaining: 211ms\n",
      "797:\tlearn: 0.3107192\ttotal: 828ms\tremaining: 210ms\n",
      "798:\tlearn: 0.3106210\ttotal: 828ms\tremaining: 208ms\n",
      "799:\tlearn: 0.3105650\ttotal: 828ms\tremaining: 207ms\n",
      "800:\tlearn: 0.3104946\ttotal: 829ms\tremaining: 206ms\n",
      "801:\tlearn: 0.3104435\ttotal: 829ms\tremaining: 205ms\n",
      "802:\tlearn: 0.3103642\ttotal: 830ms\tremaining: 204ms\n",
      "803:\tlearn: 0.3103171\ttotal: 830ms\tremaining: 202ms\n",
      "804:\tlearn: 0.3102898\ttotal: 831ms\tremaining: 201ms\n",
      "805:\tlearn: 0.3102253\ttotal: 831ms\tremaining: 200ms\n",
      "806:\tlearn: 0.3101837\ttotal: 832ms\tremaining: 199ms\n",
      "807:\tlearn: 0.3101440\ttotal: 832ms\tremaining: 198ms\n",
      "808:\tlearn: 0.3101112\ttotal: 833ms\tremaining: 197ms\n",
      "809:\tlearn: 0.3100603\ttotal: 833ms\tremaining: 195ms\n",
      "810:\tlearn: 0.3099579\ttotal: 834ms\tremaining: 194ms\n",
      "811:\tlearn: 0.3098785\ttotal: 834ms\tremaining: 193ms\n",
      "812:\tlearn: 0.3097825\ttotal: 835ms\tremaining: 192ms\n",
      "813:\tlearn: 0.3097222\ttotal: 835ms\tremaining: 191ms\n",
      "814:\tlearn: 0.3096658\ttotal: 836ms\tremaining: 190ms\n",
      "815:\tlearn: 0.3095394\ttotal: 837ms\tremaining: 189ms\n",
      "816:\tlearn: 0.3094571\ttotal: 837ms\tremaining: 188ms\n",
      "817:\tlearn: 0.3094163\ttotal: 838ms\tremaining: 186ms\n",
      "818:\tlearn: 0.3093753\ttotal: 839ms\tremaining: 185ms\n",
      "819:\tlearn: 0.3092985\ttotal: 839ms\tremaining: 184ms\n",
      "820:\tlearn: 0.3092173\ttotal: 840ms\tremaining: 183ms\n",
      "821:\tlearn: 0.3091998\ttotal: 841ms\tremaining: 182ms\n",
      "822:\tlearn: 0.3091376\ttotal: 842ms\tremaining: 181ms\n",
      "823:\tlearn: 0.3091239\ttotal: 843ms\tremaining: 180ms\n",
      "824:\tlearn: 0.3090575\ttotal: 843ms\tremaining: 179ms\n",
      "825:\tlearn: 0.3090006\ttotal: 844ms\tremaining: 178ms\n",
      "826:\tlearn: 0.3089601\ttotal: 845ms\tremaining: 177ms\n",
      "827:\tlearn: 0.3088998\ttotal: 845ms\tremaining: 176ms\n",
      "828:\tlearn: 0.3088214\ttotal: 846ms\tremaining: 174ms\n",
      "829:\tlearn: 0.3087595\ttotal: 846ms\tremaining: 173ms\n",
      "830:\tlearn: 0.3087103\ttotal: 847ms\tremaining: 172ms\n",
      "831:\tlearn: 0.3086995\ttotal: 848ms\tremaining: 171ms\n",
      "832:\tlearn: 0.3085807\ttotal: 849ms\tremaining: 170ms\n",
      "833:\tlearn: 0.3085476\ttotal: 849ms\tremaining: 169ms\n",
      "834:\tlearn: 0.3084549\ttotal: 852ms\tremaining: 168ms\n",
      "835:\tlearn: 0.3083871\ttotal: 854ms\tremaining: 168ms\n",
      "836:\tlearn: 0.3083287\ttotal: 855ms\tremaining: 167ms\n",
      "837:\tlearn: 0.3082650\ttotal: 856ms\tremaining: 166ms\n",
      "838:\tlearn: 0.3081844\ttotal: 857ms\tremaining: 165ms\n",
      "839:\tlearn: 0.3081285\ttotal: 859ms\tremaining: 164ms\n",
      "840:\tlearn: 0.3080926\ttotal: 859ms\tremaining: 162ms\n",
      "841:\tlearn: 0.3080380\ttotal: 860ms\tremaining: 161ms\n",
      "842:\tlearn: 0.3079657\ttotal: 861ms\tremaining: 160ms\n",
      "843:\tlearn: 0.3079379\ttotal: 862ms\tremaining: 159ms\n",
      "844:\tlearn: 0.3078458\ttotal: 863ms\tremaining: 158ms\n",
      "845:\tlearn: 0.3078198\ttotal: 863ms\tremaining: 157ms\n",
      "846:\tlearn: 0.3077809\ttotal: 864ms\tremaining: 156ms\n",
      "847:\tlearn: 0.3077160\ttotal: 864ms\tremaining: 155ms\n",
      "848:\tlearn: 0.3076805\ttotal: 864ms\tremaining: 154ms\n",
      "849:\tlearn: 0.3076495\ttotal: 864ms\tremaining: 153ms\n",
      "850:\tlearn: 0.3076087\ttotal: 865ms\tremaining: 151ms\n",
      "851:\tlearn: 0.3075525\ttotal: 865ms\tremaining: 150ms\n",
      "852:\tlearn: 0.3075487\ttotal: 865ms\tremaining: 149ms\n",
      "853:\tlearn: 0.3074926\ttotal: 866ms\tremaining: 148ms\n",
      "854:\tlearn: 0.3074886\ttotal: 866ms\tremaining: 147ms\n",
      "855:\tlearn: 0.3074510\ttotal: 866ms\tremaining: 146ms\n",
      "856:\tlearn: 0.3074497\ttotal: 866ms\tremaining: 145ms\n",
      "857:\tlearn: 0.3074484\ttotal: 867ms\tremaining: 143ms\n",
      "858:\tlearn: 0.3074184\ttotal: 868ms\tremaining: 142ms\n",
      "859:\tlearn: 0.3073564\ttotal: 868ms\tremaining: 141ms\n",
      "860:\tlearn: 0.3073196\ttotal: 869ms\tremaining: 140ms\n",
      "861:\tlearn: 0.3072838\ttotal: 869ms\tremaining: 139ms\n",
      "862:\tlearn: 0.3072309\ttotal: 870ms\tremaining: 138ms\n",
      "863:\tlearn: 0.3070839\ttotal: 870ms\tremaining: 137ms\n",
      "864:\tlearn: 0.3070388\ttotal: 871ms\tremaining: 136ms\n",
      "865:\tlearn: 0.3069934\ttotal: 871ms\tremaining: 135ms\n",
      "866:\tlearn: 0.3069164\ttotal: 871ms\tremaining: 134ms\n",
      "867:\tlearn: 0.3068758\ttotal: 872ms\tremaining: 133ms\n",
      "868:\tlearn: 0.3068416\ttotal: 872ms\tremaining: 131ms\n",
      "869:\tlearn: 0.3068059\ttotal: 873ms\tremaining: 130ms\n",
      "870:\tlearn: 0.3067403\ttotal: 873ms\tremaining: 129ms\n",
      "871:\tlearn: 0.3066988\ttotal: 873ms\tremaining: 128ms\n",
      "872:\tlearn: 0.3066629\ttotal: 874ms\tremaining: 127ms\n",
      "873:\tlearn: 0.3066271\ttotal: 874ms\tremaining: 126ms\n",
      "874:\tlearn: 0.3065512\ttotal: 874ms\tremaining: 125ms\n",
      "875:\tlearn: 0.3064631\ttotal: 875ms\tremaining: 124ms\n",
      "876:\tlearn: 0.3064272\ttotal: 875ms\tremaining: 123ms\n",
      "877:\tlearn: 0.3063609\ttotal: 876ms\tremaining: 122ms\n",
      "878:\tlearn: 0.3063462\ttotal: 877ms\tremaining: 121ms\n",
      "879:\tlearn: 0.3062726\ttotal: 878ms\tremaining: 120ms\n",
      "880:\tlearn: 0.3062423\ttotal: 879ms\tremaining: 119ms\n",
      "881:\tlearn: 0.3061743\ttotal: 879ms\tremaining: 118ms\n"
     ]
    }
   ],
   "source": [
    "# Create a list which contains cross validation results for each classifier\n",
    "\n",
    "cv_results = []\n",
    "for classifier in classifiers:#each result has 10 subcompoents for each section of the data that was made test if cv equals 10\n",
    "    cv_results.append(cross_val_score(classifier, X_train, Y_train, scoring = 'accuracy', cv = 10))#try other cv's"
   ]
  },
  {
   "cell_type": "code",
   "execution_count": null,
   "metadata": {},
   "outputs": [],
   "source": [
    "# Mean and standard deviation of cross validation results for each classifier  \n",
    "\n",
    "cv_mean = []\n",
    "cv_std = []\n",
    "for cv_result in cv_results:\n",
    "    cv_mean.append(cv_result.mean())\n",
    "    cv_std.append(cv_result.std())"
   ]
  },
  {
   "cell_type": "code",
   "execution_count": null,
   "metadata": {},
   "outputs": [],
   "source": [
    "cv_res = pd.DataFrame({'Cross Validation Mean': cv_mean, 'Cross Validation Std': cv_std, 'Algorithm': ['Logistic Regression', 'Support Vector Machines', 'KNN', 'Gausian Naive Bayes', 'Perceptron', 'Linear SVC', 'Stochastic Gradient Descent', 'Decision Tree', 'Random Forest', 'CatBoost','MLP']})\n",
    "cv_res.sort_values(by = 'Cross Validation Mean', ascending = False, ignore_index = True)"
   ]
  },
  {
   "cell_type": "code",
   "execution_count": null,
   "metadata": {},
   "outputs": [],
   "source": [
    "sns.barplot('Cross Validation Mean', 'Algorithm', data = cv_res, order = cv_res.sort_values(by = 'Cross Validation Mean', ascending = False)['Algorithm'], palette = 'Set3', **{'xerr': cv_std})\n",
    "plt.ylabel('Algorithm')\n",
    "plt.title('Cross Validation Scores')"
   ]
  },
  {
   "cell_type": "markdown",
   "metadata": {},
   "source": [
    "As we can see, support vector machines has the highest cross validation mean and thus we will proceed with this model."
   ]
  },
  {
   "cell_type": "markdown",
   "metadata": {},
   "source": [
    "### 6.3.3 Hyperparameter tuning for SVM\n",
    "\n",
    "Hyperparameter tuning is the process of tuning the parameters of a model. Here I will tune the parameters of support vector classifier using GridSearchCV."
   ]
  },
  {
   "cell_type": "code",
   "execution_count": null,
   "metadata": {
    "scrolled": true
   },
   "outputs": [],
   "source": [
    "# param_grid = {'n_neighbors': [1,2,3,4,5,6],  \n",
    "#              # 'gamma': [1, 0.1, 0.01, 0.001, 0.0001], \n",
    "#              # 'kernel': ['rbf']}  \n",
    "# }\n",
    "# grid = GridSearchCV(KNeighborsClassifier(), param_grid, refit = True, verbose = 3) \n",
    "\n",
    "# grid.fit(X_train, Y_train) "
   ]
  },
  {
   "cell_type": "code",
   "execution_count": null,
   "metadata": {},
   "outputs": [],
   "source": [
    "param_grid = {'alpha': [0,1e-5,1e-4,1e-3,1e-2,1e-1,1],  \n",
    "             # 'gamma': [1, 0.1, 0.01, 0.001, 0.0001], \n",
    "             # 'kernel': ['rbf']}  \n",
    "}\n",
    "grid = GridSearchCV(MLPClassifier(), param_grid, refit = True, verbose = 3) \n",
    "\n",
    "grid.fit(X_train, Y_train) "
   ]
  },
  {
   "cell_type": "code",
   "execution_count": null,
   "metadata": {
    "scrolled": true
   },
   "outputs": [],
   "source": [
    "print(\"Best parameters: \", grid.best_params_) \n",
    "print(\"Best estimator: \", grid.best_estimator_)# what is this"
   ]
  },
  {
   "cell_type": "code",
   "execution_count": null,
   "metadata": {},
   "outputs": [],
   "source": [
    "# Training accuracy\n",
    "\n",
    "# #svc = KNeighborsClassifier(C = 100, gamma = 0.01, kernel = 'rbf')\n",
    "# knn = KNeighborsClassifier(n_neighbors=6)\n",
    "# knn.fit(X_train,Y_train)\n",
    "# #svc.fit(X_train, Y_train)\n",
    "# Y_pred = knn.predict(X_test)\n",
    "# acc_svc = round(knn.score(X_train, Y_train) * 100, 2)\n",
    "# acc_svc"
   ]
  },
  {
   "cell_type": "code",
   "execution_count": null,
   "metadata": {},
   "outputs": [],
   "source": [
    "#svc = KNeighborsClassifier(C = 100, gamma = 0.01, kernel = 'rbf')\n",
    "mlp = grid.best_estimator_\n",
    "trainedAndTunedlMLP=mlp.fit(X_train,Y_train)\n",
    "#svc.fit(X_train, Y_train)\n",
    "Y_pred = mlp.predict(X_test)\n",
    "acc_svc = round(mlp.score(X_train, Y_train) * 100, 2)\n",
    "acc_svc"
   ]
  },
  {
   "cell_type": "code",
   "execution_count": null,
   "metadata": {
    "scrolled": true
   },
   "outputs": [],
   "source": [
    "# Mean cross validation score\n",
    "\n",
    "cross_val_score(mlp, X_train, Y_train, scoring = 'accuracy', cv = 5).mean()"
   ]
  },
  {
   "cell_type": "markdown",
   "metadata": {},
   "source": [
    "Our mean cross validation score improved slightly."
   ]
  },
  {
   "cell_type": "code",
   "execution_count": null,
   "metadata": {},
   "outputs": [],
   "source": [
    "# Survival predictions by support vector classifier\n",
    "\n",
    "Y_pred"
   ]
  },
  {
   "cell_type": "code",
   "execution_count": null,
   "metadata": {},
   "outputs": [],
   "source": [
    "len(Y_pred)"
   ]
  },
  {
   "cell_type": "markdown",
   "metadata": {},
   "source": [
    "### 6.3.4 Ensembles"
   ]
  },
  {
   "cell_type": "code",
   "execution_count": null,
   "metadata": {},
   "outputs": [],
   "source": [
    "best_trained_MLP =trainedAndTunedlMLP #still not sure what this estimator is\n",
    "trained_knn = KNNtrained\n",
    "trained_lg = LGtrained\n",
    "\n",
    "\n",
    "voting_clf_soft = VotingClassifier(estimators = [('mlp',best_trained_MLP),('knn',trained_knn),('lg',trained_lg)], voting = 'soft') \n",
    "\n",
    "\n",
    "\n",
    "print('voting_clf_soft :',cross_val_score(voting_clf_soft,X_train,Y_train,cv=5))\n",
    "print('voting_clf_soft mean :',cross_val_score(voting_clf_soft,X_train,Y_train,cv=5).mean())\n",
    "\n",
    "params = {'weights' : [[1,1,1],[1,2,1],[1,1,2],[2,1,1],[2,2,1],[1,2,2],[2,1,2]]}\n",
    "\n",
    "vote_weight = GridSearchCV(voting_clf_soft, param_grid = params, cv = 5, verbose = True, n_jobs = -1)\n",
    "best_clf_weight = vote_weight.fit(X_train, Y_train)\n",
    "voting_clf_sub = best_clf_weight.best_estimator_.predict(X_test)\n",
    "\n",
    "voting_clf_soft.fit(X_train, Y_train)\n",
    "Y_pred =  voting_clf_soft.predict(X_test).astype(int)"
   ]
  },
  {
   "cell_type": "markdown",
   "metadata": {},
   "source": [
    "# 7. Preparing data for submission"
   ]
  },
  {
   "cell_type": "code",
   "execution_count": null,
   "metadata": {
    "scrolled": true
   },
   "outputs": [],
   "source": [
    "ss.head()"
   ]
  },
  {
   "cell_type": "code",
   "execution_count": null,
   "metadata": {
    "scrolled": true
   },
   "outputs": [],
   "source": [
    "ss.shape"
   ]
  },
  {
   "cell_type": "markdown",
   "metadata": {},
   "source": [
    "We want our submission dataframe to have 418 rows and 2 columns, PassengerId and Survived. "
   ]
  },
  {
   "cell_type": "code",
   "execution_count": null,
   "metadata": {
    "scrolled": true
   },
   "outputs": [],
   "source": [
    "# Create submission dataframe\n",
    "\n",
    "submit = pd.DataFrame({'PassengerId': test['PassengerId'], 'Survived': Y_pred})\n",
    "submit.head()"
   ]
  },
  {
   "cell_type": "code",
   "execution_count": null,
   "metadata": {
    "scrolled": true
   },
   "outputs": [],
   "source": [
    "submit.shape"
   ]
  },
  {
   "cell_type": "markdown",
   "metadata": {},
   "source": [
    "Our dataframe is ready for submission!"
   ]
  },
  {
   "cell_type": "code",
   "execution_count": null,
   "metadata": {},
   "outputs": [],
   "source": [
    "# Create and save csv file \n",
    "\n",
    "submit.to_csv(\"submission.csv\", index = False)"
   ]
  },
  {
   "cell_type": "markdown",
   "metadata": {},
   "source": [
    "# 8. Possible extensions to improve model accuracy\n",
    "\n",
    "1. Analyse ticket and cabin features\n",
    "    - Do these features help predict passenger survival?\n",
    "    - If yes, consider including them in the training set instead of dropping\n",
    "2. Come up with alternative features in feature engineering\n",
    "    - Is there any other features you can potentially create from existing features in the dataset\n",
    "3. Remove features that are less important\n",
    "    - Does removing features help reduce overfitting in the model?\n",
    "4. Ensemble modelling\n",
    "    - This is a more advanced technique whereby you combine prediction results from multiple machine learning models"
   ]
  },
  {
   "cell_type": "markdown",
   "metadata": {},
   "source": [
    "# 9. Conclusion\n",
    "\n",
    "You should achieve a submission score of 0.77511 if you follow exactly what I have done in this notebook. In other words, I have correctly predicted 77.5% of the test set. I highly encourage you to work through this project again and see if you can improve on this result.\n",
    "\n",
    "If you found any mistakes in the notebook or places where I can potentially improve on, feel free to reach out to me. Let's help each other get better - happy learning!\n",
    "\n",
    "My platforms: \n",
    "- [Facebook](https://www.facebook.com/chongjason914)\n",
    "- [Instagram](https://www.instagram.com/chongjason914)\n",
    "- [Twitter](https://www.twitter.com/chongjason914)\n",
    "- [LinkedIn](https://www.linkedin.com/in/chongjason914)\n",
    "- [YouTube](https://www.youtube.com/channel/UCQXiCnjatxiAKgWjoUlM-Xg?view_as=subscriber)\n",
    "- [Medium](https://www.medium.com/@chongjason)"
   ]
  },
  {
   "cell_type": "markdown",
   "metadata": {},
   "source": [
    "## References\n",
    "https://github.com/chongjason914/kaggle-titanic \n",
    "\n",
    "https://www.kaggle.com/code/ldfreeman3/a-data-science-framework-to-achieve-99-accuracy\n",
    "\n",
    "https://github.com/murilogustineli/Titanic-Classification\n",
    "\n",
    "https://www.kaggle.com/code/kenjee/titanic-project-example/notebook\n",
    "\n"
   ]
  }
 ],
 "metadata": {
  "interpreter": {
   "hash": "c36ee19e8b3149dddcbe35ab5f92ddf427ca8ae53f8aa17469b1495a8f0d9a75"
  },
  "kernelspec": {
   "display_name": "Python 3.9.7 ('base')",
   "language": "python",
   "name": "python3"
  },
  "language_info": {
   "codemirror_mode": {
    "name": "ipython",
    "version": 3
   },
   "file_extension": ".py",
   "mimetype": "text/x-python",
   "name": "python",
   "nbconvert_exporter": "python",
   "pygments_lexer": "ipython3",
   "version": "3.9.7"
  }
 },
 "nbformat": 4,
 "nbformat_minor": 4
}
